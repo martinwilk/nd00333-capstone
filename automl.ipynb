{
 "cells": [
  {
   "cell_type": "markdown",
   "metadata": {},
   "source": [
    "# Automated ML\n",
    "\n",
    "TODO: Import Dependencies. In the cell below, import all the dependencies that you will need to complete the project."
   ]
  },
  {
   "cell_type": "code",
   "execution_count": 1,
   "metadata": {
    "gather": {
     "logged": 1610640818878
    },
    "jupyter": {
     "outputs_hidden": false,
     "source_hidden": false
    },
    "nteract": {
     "transient": {
      "deleting": false
     }
    }
   },
   "outputs": [],
   "source": [
    "from azureml.core import Workspace, Experiment\n",
    "from azureml.core.compute import ComputeTarget, AmlCompute\n",
    "from azureml.core.compute_target import ComputeTargetException\n",
    "from azureml.data.dataset_factory import TabularDatasetFactory\n",
    "from train import clean_data\n",
    "from azureml.train.automl import AutoMLConfig\n",
    "from azureml.widgets import RunDetails\n",
    "from pprint import pprint\n",
    "from azureml.core.model import InferenceConfig\n",
    "from azureml.core.webservice import AciWebservice\n",
    "from azureml.core import Environment\n",
    "from azureml.core.conda_dependencies import CondaDependencies\n",
    "from azureml.core.model import Model\n",
    "import requests\n",
    "import json"
   ]
  },
  {
   "cell_type": "markdown",
   "metadata": {},
   "source": [
    "## Dataset\n",
    "\n",
    "### Overview\n",
    "TODO: In this markdown cell, give an overview of the dataset you are using. Also mention the task you will be performing.\n",
    "\n",
    "\n",
    "TODO: Get data. In the cell below, write code to access the data you will be using in this project. Remember that the dataset needs to be external."
   ]
  },
  {
   "cell_type": "code",
   "execution_count": 2,
   "metadata": {
    "gather": {
     "logged": 1610640874683
    },
    "jupyter": {
     "outputs_hidden": false,
     "source_hidden": false
    },
    "nteract": {
     "transient": {
      "deleting": false
     }
    }
   },
   "outputs": [
    {
     "name": "stderr",
     "output_type": "stream",
     "text": [
      "/anaconda/envs/azureml_py36/lib/python3.6/site-packages/pandas/core/indexing.py:376: SettingWithCopyWarning: \n",
      "A value is trying to be set on a copy of a slice from a DataFrame.\n",
      "Try using .loc[row_indexer,col_indexer] = value instead\n",
      "\n",
      "See the caveats in the documentation: http://pandas.pydata.org/pandas-docs/stable/user_guide/indexing.html#returning-a-view-versus-a-copy\n",
      "  self.obj[key] = _infer_fill_value(value)\n",
      "/anaconda/envs/azureml_py36/lib/python3.6/site-packages/pandas/core/indexing.py:494: SettingWithCopyWarning: \n",
      "A value is trying to be set on a copy of a slice from a DataFrame.\n",
      "Try using .loc[row_indexer,col_indexer] = value instead\n",
      "\n",
      "See the caveats in the documentation: http://pandas.pydata.org/pandas-docs/stable/user_guide/indexing.html#returning-a-view-versus-a-copy\n",
      "  self.obj[item] = s\n",
      "Method register_pandas_dataframe: This is an experimental method, and may change at any time.<br/>For more information, see https://aka.ms/azuremlexperimental.\n"
     ]
    },
    {
     "name": "stdout",
     "output_type": "stream",
     "text": [
      "Validating arguments.\n",
      "Arguments validated.\n",
      "Successfully obtained datastore reference and path.\n",
      "Uploading file to managed-dataset/477edf41-d631-47ed-980d-98f0f829424b/\n",
      "Successfully uploaded file to datastore.\n",
      "Creating and registering a new dataset.\n",
      "Successfully created and registered a new dataset.\n"
     ]
    }
   ],
   "source": [
    "ws = Workspace.from_config()\n",
    "\n",
    "# choose a name for experiment\n",
    "experiment_name = 'wine-quality-automl'\n",
    "\n",
    "experiment=Experiment(ws, experiment_name)\n",
    "\n",
    "# Try to load the dataset from the Workspace. Otherwise, create it from the file\n",
    "# NOTE: update the key to match the dataset name\n",
    "found = False\n",
    "key = \"wine-quality\"\n",
    "description_text = \"Wine Quality Dataset for Udacity Course 3\"\n",
    "\n",
    "if key in ws.datasets.keys(): \n",
    "    found = True\n",
    "    input_data = ws.datasets[key] \n",
    "\n",
    "if not found:\n",
    "    # Create AML Dataset and register it into Workspace\n",
    "    url_white = \"https://archive.ics.uci.edu/ml/machine-learning-databases/wine-quality/winequality-white.csv\"\n",
    "    url_red = \"https://archive.ics.uci.edu/ml/machine-learning-databases/wine-quality/winequality-red.csv\"\n",
    "    white_data = TabularDatasetFactory.from_delimited_files(url_white, separator=\";\")\n",
    "    red_data = TabularDatasetFactory.from_delimited_files(url_red, separator=\";\")\n",
    "    features, target = clean_data(white_data, red_data)\n",
    "    features.loc[:,\"quality\"]=target\n",
    "    ds = ws.get_default_datastore()\n",
    "    input_data = TabularDatasetFactory.register_pandas_dataframe(dataframe=features, target=ds, name=key,\n",
    "                                                             description=description_text)\n"
   ]
  },
  {
   "cell_type": "code",
   "execution_count": 4,
   "metadata": {
    "gather": {
     "logged": 1610640940795
    }
   },
   "outputs": [
    {
     "name": "stdout",
     "output_type": "stream",
     "text": [
      "Found existing cluster, use it.\n",
      "Succeeded\n",
      "AmlCompute wait for completion finished\n",
      "\n",
      "Minimum number of nodes requested have been provisioned\n"
     ]
    }
   ],
   "source": [
    "# NOTE: update the cluster name to match the existing cluster\n",
    "# Choose a name for your CPU cluster\n",
    "amlcompute_cluster_name = \"aml-compute\"\n",
    "\n",
    "# Verify that cluster does not exist already\n",
    "try:\n",
    "    compute_target = ComputeTarget(workspace=ws, name=amlcompute_cluster_name)\n",
    "    print('Found existing cluster, use it.')\n",
    "except ComputeTargetException:\n",
    "    compute_config = AmlCompute.provisioning_configuration(vm_size='STANDARD_D12_V2',# for GPU, use \"STANDARD_NC6\"\n",
    "                                                           vm_priority = 'lowpriority',\n",
    "                                                           min_nodes=1,\n",
    "                                                           max_nodes=6)\n",
    "    compute_target = ComputeTarget.create(ws, amlcompute_cluster_name, compute_config)\n",
    "\n",
    "compute_target.wait_for_completion(show_output=True, min_node_count = 1, timeout_in_minutes = 10)\n",
    "# For a more detailed view of current AmlCompute status, use get_status()."
   ]
  },
  {
   "cell_type": "markdown",
   "metadata": {},
   "source": [
    "## AutoML Configuration\n",
    "\n",
    "TODO: Explain why you chose the automl settings and cofiguration you used below."
   ]
  },
  {
   "cell_type": "code",
   "execution_count": 5,
   "metadata": {
    "gather": {
     "logged": 1610640951607
    },
    "jupyter": {
     "outputs_hidden": false,
     "source_hidden": false
    },
    "nteract": {
     "transient": {
      "deleting": false
     }
    }
   },
   "outputs": [],
   "source": [
    "automl_settings = {\n",
    "    \"n_cross_validations\": 3,\n",
    "    \"enable_early_stopping\": True,\n",
    "    \"primary_metric\": \"AUC_weighted\",\n",
    "    \"max_concurrent_iterations\": 5,\n",
    "    \n",
    "}\n",
    "automl_config = AutoMLConfig(\n",
    "    experiment_timeout_minutes=30,\n",
    "    task=\"classification\",\n",
    "    compute_target=compute_target,\n",
    "    training_data=input_data,\n",
    "    label_column_name=\"quality\",\n",
    "    **automl_settings)"
   ]
  },
  {
   "cell_type": "code",
   "execution_count": 6,
   "metadata": {
    "gather": {
     "logged": 1610640965361
    },
    "jupyter": {
     "outputs_hidden": false,
     "source_hidden": false
    },
    "nteract": {
     "transient": {
      "deleting": false
     }
    }
   },
   "outputs": [
    {
     "name": "stdout",
     "output_type": "stream",
     "text": [
      "Running on remote.\n"
     ]
    }
   ],
   "source": [
    "# TODO: Submit your experiment\n",
    "automl_run = experiment.submit(automl_config, tag={'type':'automl'})"
   ]
  },
  {
   "cell_type": "markdown",
   "metadata": {},
   "source": [
    "## Run Details\n",
    "\n",
    "OPTIONAL: Write about the different models trained and their performance. Why do you think some models did better than others?\n",
    "\n",
    "TODO: In the cell below, use the `RunDetails` widget to show the different experiments."
   ]
  },
  {
   "cell_type": "code",
   "execution_count": 7,
   "metadata": {
    "gather": {
     "logged": 1610642047250
    },
    "jupyter": {
     "outputs_hidden": false,
     "source_hidden": false
    },
    "nteract": {
     "transient": {
      "deleting": false
     }
    }
   },
   "outputs": [
    {
     "data": {
      "application/vnd.jupyter.widget-view+json": {
       "model_id": "dd0029ad6d0f481681112e901759df83",
       "version_major": 2,
       "version_minor": 0
      },
      "text/plain": [
       "_AutoMLWidget(widget_settings={'childWidgetDisplay': 'popup', 'send_telemetry': False, 'log_level': 'INFO', 's…"
      ]
     },
     "metadata": {},
     "output_type": "display_data"
    },
    {
     "data": {
      "application/aml.mini.widget.v1": "{\"status\": \"Completed\", \"workbench_run_details_uri\": \"https://ml.azure.com/experiments/wine-quality-automl/runs/AutoML_d0df9350-7860-45c3-94c4-6a4cc557bdce?wsid=/subscriptions/cdbe0b43-92a0-4715-838a-f2648cc7ad21/resourcegroups/aml-quickstarts-138710/workspaces/quick-starts-ws-138710\", \"run_id\": \"AutoML_d0df9350-7860-45c3-94c4-6a4cc557bdce\", \"run_properties\": {\"run_id\": \"AutoML_d0df9350-7860-45c3-94c4-6a4cc557bdce\", \"created_utc\": \"2021-02-12T16:50:08.693631Z\", \"properties\": {\"num_iterations\": \"1000\", \"training_type\": \"TrainFull\", \"acquisition_function\": \"EI\", \"primary_metric\": \"AUC_weighted\", \"train_split\": \"0\", \"acquisition_parameter\": \"0\", \"num_cross_validation\": \"3\", \"target\": \"aml-compute\", \"AMLSettingsJsonString\": \"{\\\"path\\\":null,\\\"name\\\":\\\"wine-quality-automl\\\",\\\"subscription_id\\\":\\\"cdbe0b43-92a0-4715-838a-f2648cc7ad21\\\",\\\"resource_group\\\":\\\"aml-quickstarts-138710\\\",\\\"workspace_name\\\":\\\"quick-starts-ws-138710\\\",\\\"region\\\":\\\"southcentralus\\\",\\\"compute_target\\\":\\\"aml-compute\\\",\\\"spark_service\\\":null,\\\"azure_service\\\":\\\"remote\\\",\\\"many_models\\\":false,\\\"pipeline_fetch_max_batch_size\\\":1,\\\"iterations\\\":1000,\\\"primary_metric\\\":\\\"AUC_weighted\\\",\\\"task_type\\\":\\\"classification\\\",\\\"data_script\\\":null,\\\"validation_size\\\":0.0,\\\"n_cross_validations\\\":3,\\\"y_min\\\":null,\\\"y_max\\\":null,\\\"num_classes\\\":null,\\\"featurization\\\":\\\"auto\\\",\\\"_ignore_package_version_incompatibilities\\\":false,\\\"is_timeseries\\\":false,\\\"max_cores_per_iteration\\\":1,\\\"max_concurrent_iterations\\\":5,\\\"iteration_timeout_minutes\\\":null,\\\"mem_in_mb\\\":null,\\\"enforce_time_on_windows\\\":false,\\\"experiment_timeout_minutes\\\":30,\\\"experiment_exit_score\\\":null,\\\"whitelist_models\\\":null,\\\"blacklist_algos\\\":[\\\"TensorFlowLinearClassifier\\\",\\\"TensorFlowDNN\\\"],\\\"supported_models\\\":[\\\"GradientBoosting\\\",\\\"BernoulliNaiveBayes\\\",\\\"ExtremeRandomTrees\\\",\\\"AveragedPerceptronClassifier\\\",\\\"MultinomialNaiveBayes\\\",\\\"LightGBM\\\",\\\"LinearSVM\\\",\\\"KNN\\\",\\\"RandomForest\\\",\\\"TensorFlowDNN\\\",\\\"SVM\\\",\\\"SGD\\\",\\\"XGBoostClassifier\\\",\\\"TensorFlowLinearClassifier\\\",\\\"LogisticRegression\\\",\\\"DecisionTree\\\"],\\\"auto_blacklist\\\":true,\\\"blacklist_samples_reached\\\":false,\\\"exclude_nan_labels\\\":true,\\\"verbosity\\\":20,\\\"_debug_log\\\":\\\"azureml_automl.log\\\",\\\"show_warnings\\\":false,\\\"model_explainability\\\":true,\\\"service_url\\\":null,\\\"sdk_url\\\":null,\\\"sdk_packages\\\":null,\\\"enable_onnx_compatible_models\\\":false,\\\"enable_split_onnx_featurizer_estimator_models\\\":false,\\\"vm_type\\\":\\\"STANDARD_D12_V2\\\",\\\"telemetry_verbosity\\\":20,\\\"send_telemetry\\\":true,\\\"enable_dnn\\\":false,\\\"scenario\\\":\\\"SDK-1.13.0\\\",\\\"environment_label\\\":null,\\\"force_text_dnn\\\":false,\\\"enable_feature_sweeping\\\":true,\\\"enable_early_stopping\\\":true,\\\"early_stopping_n_iters\\\":10,\\\"metrics\\\":null,\\\"enable_ensembling\\\":true,\\\"enable_stack_ensembling\\\":true,\\\"ensemble_iterations\\\":15,\\\"enable_tf\\\":false,\\\"enable_subsampling\\\":null,\\\"subsample_seed\\\":null,\\\"enable_nimbusml\\\":false,\\\"enable_streaming\\\":false,\\\"force_streaming\\\":false,\\\"track_child_runs\\\":true,\\\"allowed_private_models\\\":[],\\\"label_column_name\\\":\\\"quality\\\",\\\"weight_column_name\\\":null,\\\"cv_split_column_names\\\":null,\\\"enable_local_managed\\\":false,\\\"_local_managed_run_id\\\":null,\\\"cost_mode\\\":1,\\\"lag_length\\\":0,\\\"metric_operation\\\":\\\"maximize\\\",\\\"preprocess\\\":true}\", \"DataPrepJsonString\": \"{\\\\\\\"training_data\\\\\\\": \\\\\\\"{\\\\\\\\\\\\\\\"blocks\\\\\\\\\\\\\\\": [{\\\\\\\\\\\\\\\"id\\\\\\\\\\\\\\\": \\\\\\\\\\\\\\\"31903e17-8263-4e30-8df9-2904bffb3512\\\\\\\\\\\\\\\", \\\\\\\\\\\\\\\"type\\\\\\\\\\\\\\\": \\\\\\\\\\\\\\\"Microsoft.DPrep.GetDatastoreFilesBlock\\\\\\\\\\\\\\\", \\\\\\\\\\\\\\\"arguments\\\\\\\\\\\\\\\": {\\\\\\\\\\\\\\\"datastores\\\\\\\\\\\\\\\": [{\\\\\\\\\\\\\\\"datastoreName\\\\\\\\\\\\\\\": \\\\\\\\\\\\\\\"workspaceblobstore\\\\\\\\\\\\\\\", \\\\\\\\\\\\\\\"path\\\\\\\\\\\\\\\": \\\\\\\\\\\\\\\"managed-dataset/477edf41-d631-47ed-980d-98f0f829424b/\\\\\\\\\\\\\\\", \\\\\\\\\\\\\\\"resourceGroup\\\\\\\\\\\\\\\": \\\\\\\\\\\\\\\"aml-quickstarts-138710\\\\\\\\\\\\\\\", \\\\\\\\\\\\\\\"subscription\\\\\\\\\\\\\\\": \\\\\\\\\\\\\\\"cdbe0b43-92a0-4715-838a-f2648cc7ad21\\\\\\\\\\\\\\\", \\\\\\\\\\\\\\\"workspaceName\\\\\\\\\\\\\\\": \\\\\\\\\\\\\\\"quick-starts-ws-138710\\\\\\\\\\\\\\\"}]}, \\\\\\\\\\\\\\\"localData\\\\\\\\\\\\\\\": {}, \\\\\\\\\\\\\\\"isEnabled\\\\\\\\\\\\\\\": true, \\\\\\\\\\\\\\\"name\\\\\\\\\\\\\\\": null, \\\\\\\\\\\\\\\"annotation\\\\\\\\\\\\\\\": null}, {\\\\\\\\\\\\\\\"id\\\\\\\\\\\\\\\": \\\\\\\\\\\\\\\"945dae02-b063-4d52-bc59-4156c3bf73ed\\\\\\\\\\\\\\\", \\\\\\\\\\\\\\\"type\\\\\\\\\\\\\\\": \\\\\\\\\\\\\\\"Microsoft.DPrep.ReadParquetFileBlock\\\\\\\\\\\\\\\", \\\\\\\\\\\\\\\"arguments\\\\\\\\\\\\\\\": {\\\\\\\\\\\\\\\"preview\\\\\\\\\\\\\\\": false}, \\\\\\\\\\\\\\\"localData\\\\\\\\\\\\\\\": {}, \\\\\\\\\\\\\\\"isEnabled\\\\\\\\\\\\\\\": true, \\\\\\\\\\\\\\\"name\\\\\\\\\\\\\\\": null, \\\\\\\\\\\\\\\"annotation\\\\\\\\\\\\\\\": null}, {\\\\\\\\\\\\\\\"id\\\\\\\\\\\\\\\": \\\\\\\\\\\\\\\"0666c99f-c4fd-4bd5-b353-78ff5b604097\\\\\\\\\\\\\\\", \\\\\\\\\\\\\\\"type\\\\\\\\\\\\\\\": \\\\\\\\\\\\\\\"Microsoft.DPrep.DropColumnsBlock\\\\\\\\\\\\\\\", \\\\\\\\\\\\\\\"arguments\\\\\\\\\\\\\\\": {\\\\\\\\\\\\\\\"columns\\\\\\\\\\\\\\\": {\\\\\\\\\\\\\\\"type\\\\\\\\\\\\\\\": 0, \\\\\\\\\\\\\\\"details\\\\\\\\\\\\\\\": {\\\\\\\\\\\\\\\"selectedColumns\\\\\\\\\\\\\\\": [\\\\\\\\\\\\\\\"Path\\\\\\\\\\\\\\\"]}}}, \\\\\\\\\\\\\\\"localData\\\\\\\\\\\\\\\": {}, \\\\\\\\\\\\\\\"isEnabled\\\\\\\\\\\\\\\": true, \\\\\\\\\\\\\\\"name\\\\\\\\\\\\\\\": null, \\\\\\\\\\\\\\\"annotation\\\\\\\\\\\\\\\": null}], \\\\\\\\\\\\\\\"inspectors\\\\\\\\\\\\\\\": [], \\\\\\\\\\\\\\\"meta\\\\\\\\\\\\\\\": {\\\\\\\\\\\\\\\"savedDatasetId\\\\\\\\\\\\\\\": \\\\\\\\\\\\\\\"c4167f29-a3b2-4de3-bd5f-af307ad6f94b\\\\\\\\\\\\\\\", \\\\\\\\\\\\\\\"datasetType\\\\\\\\\\\\\\\": \\\\\\\\\\\\\\\"tabular\\\\\\\\\\\\\\\", \\\\\\\\\\\\\\\"subscriptionId\\\\\\\\\\\\\\\": \\\\\\\\\\\\\\\"cdbe0b43-92a0-4715-838a-f2648cc7ad21\\\\\\\\\\\\\\\", \\\\\\\\\\\\\\\"workspaceId\\\\\\\\\\\\\\\": \\\\\\\\\\\\\\\"6a8fbdb0-77d6-4632-8d30-e457d174ac25\\\\\\\\\\\\\\\", \\\\\\\\\\\\\\\"workspaceLocation\\\\\\\\\\\\\\\": \\\\\\\\\\\\\\\"southcentralus\\\\\\\\\\\\\\\"}}\\\\\\\", \\\\\\\"activities\\\\\\\": 0}\", \"EnableSubsampling\": null, \"runTemplate\": \"AutoML\", \"azureml.runsource\": \"automl\", \"display_task_type\": \"classification\", \"dependencies_versions\": \"{\\\"azureml-widgets\\\": \\\"1.20.0\\\", \\\"azureml-train\\\": \\\"1.20.0\\\", \\\"azureml-train-restclients-hyperdrive\\\": \\\"1.20.0\\\", \\\"azureml-train-core\\\": \\\"1.20.0\\\", \\\"azureml-train-automl\\\": \\\"1.20.0\\\", \\\"azureml-train-automl-runtime\\\": \\\"1.20.0\\\", \\\"azureml-train-automl-client\\\": \\\"1.20.0\\\", \\\"azureml-tensorboard\\\": \\\"1.20.0\\\", \\\"azureml-telemetry\\\": \\\"1.20.0\\\", \\\"azureml-sdk\\\": \\\"1.20.0\\\", \\\"azureml-samples\\\": \\\"0+unknown\\\", \\\"azureml-pipeline\\\": \\\"1.20.0\\\", \\\"azureml-pipeline-steps\\\": \\\"1.20.0\\\", \\\"azureml-pipeline-core\\\": \\\"1.20.0\\\", \\\"azureml-opendatasets\\\": \\\"1.20.0\\\", \\\"azureml-model-management-sdk\\\": \\\"1.0.1b6.post1\\\", \\\"azureml-mlflow\\\": \\\"1.20.0.post1\\\", \\\"azureml-interpret\\\": \\\"1.20.0\\\", \\\"azureml-explain-model\\\": \\\"1.20.0\\\", \\\"azureml-defaults\\\": \\\"1.20.0\\\", \\\"azureml-dataset-runtime\\\": \\\"1.20.0\\\", \\\"azureml-dataprep\\\": \\\"2.7.3\\\", \\\"azureml-dataprep-rslex\\\": \\\"1.5.0\\\", \\\"azureml-dataprep-native\\\": \\\"27.0.0\\\", \\\"azureml-datadrift\\\": \\\"1.20.0\\\", \\\"azureml-core\\\": \\\"1.20.0\\\", \\\"azureml-contrib-services\\\": \\\"1.20.0\\\", \\\"azureml-contrib-server\\\": \\\"1.20.0\\\", \\\"azureml-contrib-reinforcementlearning\\\": \\\"1.20.0\\\", \\\"azureml-contrib-pipeline-steps\\\": \\\"1.20.0\\\", \\\"azureml-contrib-notebook\\\": \\\"1.20.0\\\", \\\"azureml-contrib-interpret\\\": \\\"1.20.0\\\", \\\"azureml-contrib-gbdt\\\": \\\"1.20.0\\\", \\\"azureml-contrib-fairness\\\": \\\"1.20.0\\\", \\\"azureml-contrib-dataset\\\": \\\"1.20.0\\\", \\\"azureml-cli-common\\\": \\\"1.20.0\\\", \\\"azureml-automl-runtime\\\": \\\"1.20.0\\\", \\\"azureml-automl-core\\\": \\\"1.20.0\\\", \\\"azureml-accel-models\\\": \\\"1.20.0\\\"}\", \"_aml_system_scenario_identification\": \"Remote.Parent\", \"ClientType\": \"SDK\", \"environment_cpu_name\": \"AzureML-AutoML\", \"environment_cpu_label\": \"prod\", \"environment_gpu_name\": \"AzureML-AutoML-GPU\", \"environment_gpu_label\": \"prod\", \"root_attribution\": \"automl\", \"attribution\": \"AutoML\", \"Orchestrator\": \"AutoML\", \"CancelUri\": \"https://southcentralus.experiments.azureml.net/jasmine/v1.0/subscriptions/cdbe0b43-92a0-4715-838a-f2648cc7ad21/resourceGroups/aml-quickstarts-138710/providers/Microsoft.MachineLearningServices/workspaces/quick-starts-ws-138710/experimentids/f8c0d303-8694-46d6-9f8c-a1fce8428754/cancel/AutoML_d0df9350-7860-45c3-94c4-6a4cc557bdce\", \"ClientSdkVersion\": \"1.21.0\", \"snapshotId\": \"00000000-0000-0000-0000-000000000000\", \"SetupRunId\": \"AutoML_d0df9350-7860-45c3-94c4-6a4cc557bdce_setup\", \"SetupRunContainerId\": \"dcid.AutoML_d0df9350-7860-45c3-94c4-6a4cc557bdce_setup\", \"FeaturizationRunJsonPath\": \"featurizer_container.json\", \"FeaturizationRunId\": \"AutoML_d0df9350-7860-45c3-94c4-6a4cc557bdce_featurize\", \"ProblemInfoJsonString\": \"{\\\"dataset_num_categorical\\\": 0, \\\"is_sparse\\\": false, \\\"subsampling\\\": false, \\\"dataset_classes\\\": 3, \\\"dataset_features\\\": 12, \\\"dataset_samples\\\": 6491, \\\"single_frequency_class_detected\\\": false}\", \"ModelExplainRunId\": \"AutoML_d0df9350-7860-45c3-94c4-6a4cc557bdce_ModelExplain\"}, \"tags\": {\"model_explain_run\": \"best_run\", \"_aml_system_azureml.automlComponent\": \"AutoML\", \"pipeline_id\": \"\", \"score\": \"\", \"predicted_cost\": \"\", \"fit_time\": \"\", \"training_percent\": \"\", \"iteration\": \"\", \"run_preprocessor\": \"\", \"run_algorithm\": \"\", \"dynamic_whitelisting_iterations\": \"<25>;<30>;<35>;<40>;<45>;<50>;<55>;<59>;<64>;\", \"automl_best_child_run_id\": \"AutoML_d0df9350-7860-45c3-94c4-6a4cc557bdce_67\", \"model_explain_best_run_child_id\": \"AutoML_d0df9350-7860-45c3-94c4-6a4cc557bdce_67\"}, \"end_time_utc\": \"2021-02-12T17:25:31.325546Z\", \"status\": \"Completed\", \"log_files\": {}, \"log_groups\": [], \"run_duration\": \"0:35:22\"}, \"child_runs\": [{\"run_id\": \"AutoML_d0df9350-7860-45c3-94c4-6a4cc557bdce_1\", \"run_number\": 5, \"metric\": null, \"status\": \"Completed\", \"run_type\": \"azureml.scriptrun\", \"training_percent\": \"100\", \"start_time\": \"2021-02-12T16:56:23.585911Z\", \"end_time\": \"2021-02-12T16:57:31.10682Z\", \"created_time\": \"2021-02-12T16:55:19.72488Z\", \"created_time_dt\": \"2021-02-12T16:55:19.72488Z\", \"duration\": \"0:02:11\", \"iteration\": \"1\", \"goal\": \"AUC_weighted_max\", \"run_name\": \"MaxAbsScaler, XGBoostClassifier\", \"run_properties\": \"copy=True\", \"primary_metric\": 0.81587814, \"best_metric\": 0.85099912}, {\"run_id\": \"AutoML_d0df9350-7860-45c3-94c4-6a4cc557bdce_0\", \"run_number\": 6, \"metric\": null, \"status\": \"Completed\", \"run_type\": \"azureml.scriptrun\", \"training_percent\": \"100\", \"start_time\": \"2021-02-12T16:55:30.649358Z\", \"end_time\": \"2021-02-12T16:56:18.35116Z\", \"created_time\": \"2021-02-12T16:55:19.726721Z\", \"created_time_dt\": \"2021-02-12T16:55:19.726721Z\", \"duration\": \"0:00:58\", \"iteration\": \"0\", \"goal\": \"AUC_weighted_max\", \"run_name\": \"MaxAbsScaler, LightGBM\", \"run_properties\": \"copy=True\", \"primary_metric\": 0.85099912, \"best_metric\": 0.85099912}, {\"run_id\": \"AutoML_d0df9350-7860-45c3-94c4-6a4cc557bdce_2\", \"run_number\": 7, \"metric\": null, \"status\": \"Completed\", \"run_type\": \"azureml.scriptrun\", \"training_percent\": \"100\", \"start_time\": \"2021-02-12T16:57:32.822623Z\", \"end_time\": \"2021-02-12T16:59:42.227333Z\", \"created_time\": \"2021-02-12T16:55:19.745268Z\", \"created_time_dt\": \"2021-02-12T16:55:19.745268Z\", \"duration\": \"0:04:22\", \"iteration\": \"2\", \"goal\": \"AUC_weighted_max\", \"run_name\": \"MinMaxScaler, RandomForest\", \"run_properties\": \"copy=True, feature_range=(0, 1\", \"primary_metric\": 0.78025306, \"best_metric\": 0.85099912}, {\"run_id\": \"AutoML_d0df9350-7860-45c3-94c4-6a4cc557bdce_4\", \"run_number\": 8, \"metric\": null, \"status\": \"Completed\", \"run_type\": \"azureml.scriptrun\", \"training_percent\": \"100\", \"start_time\": \"2021-02-12T16:58:49.812669Z\", \"end_time\": \"2021-02-12T17:01:59.677589Z\", \"created_time\": \"2021-02-12T16:55:19.728299Z\", \"created_time_dt\": \"2021-02-12T16:55:19.728299Z\", \"duration\": \"0:06:39\", \"iteration\": \"4\", \"goal\": \"AUC_weighted_max\", \"run_name\": \"MinMaxScaler, RandomForest\", \"run_properties\": \"copy=True, feature_range=(0, 1\", \"primary_metric\": 0.79195725, \"best_metric\": 0.85099912}, {\"run_id\": \"AutoML_d0df9350-7860-45c3-94c4-6a4cc557bdce_3\", \"run_number\": 9, \"metric\": null, \"status\": \"Completed\", \"run_type\": \"azureml.scriptrun\", \"training_percent\": \"100\", \"start_time\": \"2021-02-12T16:58:54.444095Z\", \"end_time\": \"2021-02-12T17:01:43.883356Z\", \"created_time\": \"2021-02-12T16:55:19.742628Z\", \"created_time_dt\": \"2021-02-12T16:55:19.742628Z\", \"duration\": \"0:06:24\", \"iteration\": \"3\", \"goal\": \"AUC_weighted_max\", \"run_name\": \"RobustScaler, ExtremeRandomTrees\", \"run_properties\": \"copy=True, quantile_range=[10, 90], with_centering=False,\\n             with_scaling=False\", \"primary_metric\": 0.7622261, \"best_metric\": 0.85099912}, {\"run_id\": \"AutoML_d0df9350-7860-45c3-94c4-6a4cc557bdce_5\", \"run_number\": 10, \"metric\": null, \"status\": \"Completed\", \"run_type\": \"azureml.scriptrun\", \"training_percent\": \"100\", \"start_time\": \"2021-02-12T16:58:51.089537Z\", \"end_time\": \"2021-02-12T17:02:21.393975Z\", \"created_time\": \"2021-02-12T16:56:19.651157Z\", \"created_time_dt\": \"2021-02-12T16:56:19.651157Z\", \"duration\": \"0:06:01\", \"iteration\": \"5\", \"goal\": \"AUC_weighted_max\", \"run_name\": \"MinMaxScaler, RandomForest\", \"run_properties\": \"copy=True, feature_range=(0, 1\", \"primary_metric\": 0.76956608, \"best_metric\": 0.85099912}, {\"run_id\": \"AutoML_d0df9350-7860-45c3-94c4-6a4cc557bdce_6\", \"run_number\": 11, \"metric\": null, \"status\": \"Completed\", \"run_type\": \"azureml.scriptrun\", \"training_percent\": \"100\", \"start_time\": \"2021-02-12T16:58:53.901146Z\", \"end_time\": \"2021-02-12T17:02:19.536279Z\", \"created_time\": \"2021-02-12T16:57:32.395811Z\", \"created_time_dt\": \"2021-02-12T16:57:32.395811Z\", \"duration\": \"0:04:47\", \"iteration\": \"6\", \"goal\": \"AUC_weighted_max\", \"run_name\": \"StandardScalerWrapper, RandomForest\", \"run_properties\": \"<azureml.automl.runtime.shared.model_wrappers.StandardScalerWrapper object at 0x7f367c3983c8\", \"primary_metric\": 0.80679619, \"best_metric\": 0.85099912}, {\"run_id\": \"AutoML_d0df9350-7860-45c3-94c4-6a4cc557bdce_7\", \"run_number\": 12, \"metric\": null, \"status\": \"Completed\", \"run_type\": \"azureml.scriptrun\", \"training_percent\": \"100\", \"start_time\": \"2021-02-12T17:02:25.344179Z\", \"end_time\": \"2021-02-12T17:03:18.762287Z\", \"created_time\": \"2021-02-12T16:59:46.31282Z\", \"created_time_dt\": \"2021-02-12T16:59:46.31282Z\", \"duration\": \"0:03:32\", \"iteration\": \"7\", \"goal\": \"AUC_weighted_max\", \"run_name\": \"MinMaxScaler, ExtremeRandomTrees\", \"run_properties\": \"copy=True, feature_range=(0, 1\", \"primary_metric\": 0.75898486, \"best_metric\": 0.85099912}, {\"run_id\": \"AutoML_d0df9350-7860-45c3-94c4-6a4cc557bdce_8\", \"run_number\": 13, \"metric\": null, \"status\": \"Completed\", \"run_type\": \"azureml.scriptrun\", \"training_percent\": \"100\", \"start_time\": \"2021-02-12T17:02:40.502733Z\", \"end_time\": \"2021-02-12T17:03:31.700771Z\", \"created_time\": \"2021-02-12T17:01:47.649101Z\", \"created_time_dt\": \"2021-02-12T17:01:47.649101Z\", \"duration\": \"0:01:44\", \"iteration\": \"8\", \"goal\": \"AUC_weighted_max\", \"run_name\": \"MinMaxScaler, ExtremeRandomTrees\", \"run_properties\": \"copy=True, feature_range=(0, 1\", \"primary_metric\": 0.75700173, \"best_metric\": 0.85099912}, {\"run_id\": \"AutoML_d0df9350-7860-45c3-94c4-6a4cc557bdce_9\", \"run_number\": 14, \"metric\": null, \"status\": \"Completed\", \"run_type\": \"azureml.scriptrun\", \"training_percent\": \"100\", \"start_time\": \"2021-02-12T17:02:38.704347Z\", \"end_time\": \"2021-02-12T17:06:03.782041Z\", \"created_time\": \"2021-02-12T17:02:03.130132Z\", \"created_time_dt\": \"2021-02-12T17:02:03.130132Z\", \"duration\": \"0:04:00\", \"iteration\": \"9\", \"goal\": \"AUC_weighted_max\", \"run_name\": \"MinMaxScaler, ExtremeRandomTrees\", \"run_properties\": \"copy=True, feature_range=(0, 1\", \"primary_metric\": 0.76163141, \"best_metric\": 0.85099912}, {\"run_id\": \"AutoML_d0df9350-7860-45c3-94c4-6a4cc557bdce_10\", \"run_number\": 15, \"metric\": null, \"status\": \"Completed\", \"run_type\": \"azureml.scriptrun\", \"training_percent\": \"100\", \"start_time\": \"2021-02-12T17:03:25.403636Z\", \"end_time\": \"2021-02-12T17:04:18.934266Z\", \"created_time\": \"2021-02-12T17:02:23.754946Z\", \"created_time_dt\": \"2021-02-12T17:02:23.754946Z\", \"duration\": \"0:01:55\", \"iteration\": \"10\", \"goal\": \"AUC_weighted_max\", \"run_name\": \"RobustScaler, ExtremeRandomTrees\", \"run_properties\": \"copy=True, quantile_range=[10, 90], with_centering=True,\\n             with_scaling=False\", \"primary_metric\": 0.7579466, \"best_metric\": 0.85099912}, {\"run_id\": \"AutoML_d0df9350-7860-45c3-94c4-6a4cc557bdce_11\", \"run_number\": 16, \"metric\": null, \"status\": \"Completed\", \"run_type\": \"azureml.scriptrun\", \"training_percent\": \"100\", \"start_time\": \"2021-02-12T17:03:51.206047Z\", \"end_time\": \"2021-02-12T17:04:49.158022Z\", \"created_time\": \"2021-02-12T17:02:34.744761Z\", \"created_time_dt\": \"2021-02-12T17:02:34.744761Z\", \"duration\": \"0:02:14\", \"iteration\": \"11\", \"goal\": \"AUC_weighted_max\", \"run_name\": \"StandardScalerWrapper, RandomForest\", \"run_properties\": \"<azureml.automl.runtime.shared.model_wrappers.StandardScalerWrapper object at 0x7fe059e134e0\", \"primary_metric\": 0.73098944, \"best_metric\": 0.85099912}, {\"run_id\": \"AutoML_d0df9350-7860-45c3-94c4-6a4cc557bdce_12\", \"run_number\": 17, \"metric\": null, \"status\": \"Completed\", \"run_type\": \"azureml.scriptrun\", \"training_percent\": \"100\", \"start_time\": \"2021-02-12T17:03:54.975328Z\", \"end_time\": \"2021-02-12T17:04:52.725246Z\", \"created_time\": \"2021-02-12T17:03:23.582533Z\", \"created_time_dt\": \"2021-02-12T17:03:23.582533Z\", \"duration\": \"0:01:29\", \"iteration\": \"12\", \"goal\": \"AUC_weighted_max\", \"run_name\": \"StandardScalerWrapper, SGD\", \"run_properties\": \"<azureml.automl.runtime.shared.model_wrappers.StandardScalerWrapper object at 0x7f771438b588\", \"primary_metric\": 0.76410193, \"best_metric\": 0.85099912}, {\"run_id\": \"AutoML_d0df9350-7860-45c3-94c4-6a4cc557bdce_13\", \"run_number\": 18, \"metric\": null, \"status\": \"Completed\", \"run_type\": \"azureml.scriptrun\", \"training_percent\": \"100\", \"start_time\": \"2021-02-12T17:04:28.028142Z\", \"end_time\": \"2021-02-12T17:05:26.063284Z\", \"created_time\": \"2021-02-12T17:03:36.657996Z\", \"created_time_dt\": \"2021-02-12T17:03:36.657996Z\", \"duration\": \"0:01:49\", \"iteration\": \"13\", \"goal\": \"AUC_weighted_max\", \"run_name\": \"RobustScaler, RandomForest\", \"run_properties\": \"copy=True, quantile_range=[10, 90], with_centering=True,\\n             with_scaling=False\", \"primary_metric\": 0.73973854, \"best_metric\": 0.85099912}, {\"run_id\": \"AutoML_d0df9350-7860-45c3-94c4-6a4cc557bdce_14\", \"run_number\": 19, \"metric\": null, \"status\": \"Completed\", \"run_type\": \"azureml.scriptrun\", \"training_percent\": \"100\", \"start_time\": \"2021-02-12T17:04:39.750659Z\", \"end_time\": \"2021-02-12T17:05:38.29811Z\", \"created_time\": \"2021-02-12T17:04:23.35343Z\", \"created_time_dt\": \"2021-02-12T17:04:23.35343Z\", \"duration\": \"0:01:14\", \"iteration\": \"14\", \"goal\": \"AUC_weighted_max\", \"run_name\": \"MinMaxScaler, RandomForest\", \"run_properties\": \"copy=True, feature_range=(0, 1\", \"primary_metric\": 0.7682248, \"best_metric\": 0.85099912}, {\"run_id\": \"AutoML_d0df9350-7860-45c3-94c4-6a4cc557bdce_15\", \"run_number\": 20, \"metric\": null, \"status\": \"Completed\", \"run_type\": \"azureml.scriptrun\", \"training_percent\": \"100\", \"start_time\": \"2021-02-12T17:05:29.540968Z\", \"end_time\": \"2021-02-12T17:06:26.307056Z\", \"created_time\": \"2021-02-12T17:04:53.800508Z\", \"created_time_dt\": \"2021-02-12T17:04:53.800508Z\", \"duration\": \"0:01:32\", \"iteration\": \"15\", \"goal\": \"AUC_weighted_max\", \"run_name\": \"MinMaxScaler, ExtremeRandomTrees\", \"run_properties\": \"copy=True, feature_range=(0, 1\", \"primary_metric\": 0.6869108, \"best_metric\": 0.85099912}, {\"run_id\": \"AutoML_d0df9350-7860-45c3-94c4-6a4cc557bdce_16\", \"run_number\": 21, \"metric\": null, \"status\": \"Completed\", \"run_type\": \"azureml.scriptrun\", \"training_percent\": \"100\", \"start_time\": \"2021-02-12T17:05:43.92682Z\", \"end_time\": \"2021-02-12T17:06:35.443839Z\", \"created_time\": \"2021-02-12T17:05:00.701512Z\", \"created_time_dt\": \"2021-02-12T17:05:00.701512Z\", \"duration\": \"0:01:34\", \"iteration\": \"16\", \"goal\": \"AUC_weighted_max\", \"run_name\": \"MaxAbsScaler, RandomForest\", \"run_properties\": \"copy=True\", \"primary_metric\": 0.73605712, \"best_metric\": 0.85099912}, {\"run_id\": \"AutoML_d0df9350-7860-45c3-94c4-6a4cc557bdce_17\", \"run_number\": 22, \"metric\": null, \"status\": \"Completed\", \"run_type\": \"azureml.scriptrun\", \"training_percent\": \"100\", \"start_time\": \"2021-02-12T17:06:06.984506Z\", \"end_time\": \"2021-02-12T17:07:00.576986Z\", \"created_time\": \"2021-02-12T17:05:30.129721Z\", \"created_time_dt\": \"2021-02-12T17:05:30.129721Z\", \"duration\": \"0:01:30\", \"iteration\": \"17\", \"goal\": \"AUC_weighted_max\", \"run_name\": \"StandardScalerWrapper, XGBoostClassifier\", \"run_properties\": \"<azureml.automl.runtime.shared.model_wrappers.StandardScalerWrapper object at 0x7f6a3309a5f8\", \"primary_metric\": 0.80089023, \"best_metric\": 0.85099912}, {\"run_id\": \"AutoML_d0df9350-7860-45c3-94c4-6a4cc557bdce_18\", \"run_number\": 23, \"metric\": null, \"status\": \"Completed\", \"run_type\": \"azureml.scriptrun\", \"training_percent\": \"100\", \"start_time\": \"2021-02-12T17:06:32.866222Z\", \"end_time\": \"2021-02-12T17:07:26.924574Z\", \"created_time\": \"2021-02-12T17:05:41.631946Z\", \"created_time_dt\": \"2021-02-12T17:05:41.631946Z\", \"duration\": \"0:01:45\", \"iteration\": \"18\", \"goal\": \"AUC_weighted_max\", \"run_name\": \"MaxAbsScaler, RandomForest\", \"run_properties\": \"copy=True\", \"primary_metric\": 0.79512076, \"best_metric\": 0.85099912}, {\"run_id\": \"AutoML_d0df9350-7860-45c3-94c4-6a4cc557bdce_19\", \"run_number\": 24, \"metric\": null, \"status\": \"Completed\", \"run_type\": \"azureml.scriptrun\", \"training_percent\": \"100\", \"start_time\": \"2021-02-12T17:06:36.847095Z\", \"end_time\": \"2021-02-12T17:07:37.158994Z\", \"created_time\": \"2021-02-12T17:06:07.410161Z\", \"created_time_dt\": \"2021-02-12T17:06:07.410161Z\", \"duration\": \"0:01:29\", \"iteration\": \"19\", \"goal\": \"AUC_weighted_max\", \"run_name\": \"MaxAbsScaler, ExtremeRandomTrees\", \"run_properties\": \"copy=True\", \"primary_metric\": 0.72929137, \"best_metric\": 0.85099912}, {\"run_id\": \"AutoML_d0df9350-7860-45c3-94c4-6a4cc557bdce_20\", \"run_number\": 25, \"metric\": null, \"status\": \"Completed\", \"run_type\": \"azureml.scriptrun\", \"training_percent\": \"100\", \"start_time\": \"2021-02-12T17:06:45.350113Z\", \"end_time\": \"2021-02-12T17:07:38.643378Z\", \"created_time\": \"2021-02-12T17:06:30.03306Z\", \"created_time_dt\": \"2021-02-12T17:06:30.03306Z\", \"duration\": \"0:01:08\", \"iteration\": \"20\", \"goal\": \"AUC_weighted_max\", \"run_name\": \"MaxAbsScaler, ExtremeRandomTrees\", \"run_properties\": \"copy=True\", \"primary_metric\": 0.76046391, \"best_metric\": 0.85099912}, {\"run_id\": \"AutoML_d0df9350-7860-45c3-94c4-6a4cc557bdce_21\", \"run_number\": 26, \"metric\": null, \"status\": \"Completed\", \"run_type\": \"azureml.scriptrun\", \"training_percent\": \"100\", \"start_time\": \"2021-02-12T17:07:17.171339Z\", \"end_time\": \"2021-02-12T17:08:21.858126Z\", \"created_time\": \"2021-02-12T17:06:39.362705Z\", \"created_time_dt\": \"2021-02-12T17:06:39.362705Z\", \"duration\": \"0:01:42\", \"iteration\": \"21\", \"goal\": \"AUC_weighted_max\", \"run_name\": \"SparseNormalizer, XGBoostClassifier\", \"run_properties\": \"<azureml.automl.runtime.shared.model_wrappers.SparseNormalizer object at 0x7fec26541208\", \"primary_metric\": 0.81647641, \"best_metric\": 0.85099912}, {\"run_id\": \"AutoML_d0df9350-7860-45c3-94c4-6a4cc557bdce_22\", \"run_number\": 27, \"metric\": null, \"status\": \"Completed\", \"run_type\": \"azureml.scriptrun\", \"training_percent\": \"100\", \"start_time\": \"2021-02-12T17:07:28.446165Z\", \"end_time\": \"2021-02-12T17:08:31.413154Z\", \"created_time\": \"2021-02-12T17:07:04.293862Z\", \"created_time_dt\": \"2021-02-12T17:07:04.293862Z\", \"duration\": \"0:01:27\", \"iteration\": \"22\", \"goal\": \"AUC_weighted_max\", \"run_name\": \"MinMaxScaler, LightGBM\", \"run_properties\": \"copy=True, feature_range=(0, 1\", \"primary_metric\": 0.84121652, \"best_metric\": 0.85099912}, {\"run_id\": \"AutoML_d0df9350-7860-45c3-94c4-6a4cc557bdce_23\", \"run_number\": 28, \"metric\": null, \"status\": \"Completed\", \"run_type\": \"azureml.scriptrun\", \"training_percent\": \"100\", \"start_time\": \"2021-02-12T17:07:41.843643Z\", \"end_time\": \"2021-02-12T17:08:36.705519Z\", \"created_time\": \"2021-02-12T17:07:29.991157Z\", \"created_time_dt\": \"2021-02-12T17:07:29.991157Z\", \"duration\": \"0:01:06\", \"iteration\": \"23\", \"goal\": \"AUC_weighted_max\", \"run_name\": \"MaxAbsScaler, LightGBM\", \"run_properties\": \"copy=True\", \"primary_metric\": 0.81188769, \"best_metric\": 0.85099912}, {\"run_id\": \"AutoML_d0df9350-7860-45c3-94c4-6a4cc557bdce_24\", \"run_number\": 29, \"metric\": null, \"status\": \"Completed\", \"run_type\": \"azureml.scriptrun\", \"training_percent\": \"100\", \"start_time\": \"2021-02-12T17:08:24.234094Z\", \"end_time\": \"2021-02-12T17:09:27.646722Z\", \"created_time\": \"2021-02-12T17:07:40.082303Z\", \"created_time_dt\": \"2021-02-12T17:07:40.082303Z\", \"duration\": \"0:01:47\", \"iteration\": \"24\", \"goal\": \"AUC_weighted_max\", \"run_name\": \"MaxAbsScaler, LightGBM\", \"run_properties\": \"copy=True\", \"primary_metric\": 0.78595271, \"best_metric\": 0.85099912}, {\"run_id\": \"AutoML_d0df9350-7860-45c3-94c4-6a4cc557bdce_25\", \"run_number\": 30, \"metric\": null, \"status\": \"Completed\", \"run_type\": \"azureml.scriptrun\", \"training_percent\": \"100\", \"start_time\": \"2021-02-12T17:08:33.977957Z\", \"end_time\": \"2021-02-12T17:09:26.155812Z\", \"created_time\": \"2021-02-12T17:07:45.502036Z\", \"created_time_dt\": \"2021-02-12T17:07:45.502036Z\", \"duration\": \"0:01:40\", \"iteration\": \"25\", \"goal\": \"AUC_weighted_max\", \"run_name\": \"MaxAbsScaler, LightGBM\", \"run_properties\": \"copy=True\", \"primary_metric\": 0.79311838, \"best_metric\": 0.85099912}, {\"run_id\": \"AutoML_d0df9350-7860-45c3-94c4-6a4cc557bdce_26\", \"run_number\": 31, \"metric\": null, \"status\": \"Completed\", \"run_type\": \"azureml.scriptrun\", \"training_percent\": \"100\", \"start_time\": \"2021-02-12T17:08:53.40454Z\", \"end_time\": \"2021-02-12T17:09:54.242413Z\", \"created_time\": \"2021-02-12T17:08:24.534971Z\", \"created_time_dt\": \"2021-02-12T17:08:24.534971Z\", \"duration\": \"0:01:29\", \"iteration\": \"26\", \"goal\": \"AUC_weighted_max\", \"run_name\": \"StandardScalerWrapper, LightGBM\", \"run_properties\": \"<azureml.automl.runtime.shared.model_wrappers.StandardScalerWrapper object at 0x7fae70b5fc50\", \"primary_metric\": 0.83813915, \"best_metric\": 0.85099912}, {\"run_id\": \"AutoML_d0df9350-7860-45c3-94c4-6a4cc557bdce_27\", \"run_number\": 32, \"metric\": null, \"status\": \"Completed\", \"run_type\": \"azureml.scriptrun\", \"training_percent\": \"100\", \"start_time\": \"2021-02-12T17:09:07.40177Z\", \"end_time\": \"2021-02-12T17:10:19.83623Z\", \"created_time\": \"2021-02-12T17:08:33.768746Z\", \"created_time_dt\": \"2021-02-12T17:08:33.768746Z\", \"duration\": \"0:01:46\", \"iteration\": \"27\", \"goal\": \"AUC_weighted_max\", \"run_name\": \"TruncatedSVDWrapper, XGBoostClassifier\", \"run_properties\": \"n_components=0.95, random_state=None\", \"primary_metric\": 0.85358636, \"best_metric\": 0.85358636}, {\"run_id\": \"AutoML_d0df9350-7860-45c3-94c4-6a4cc557bdce_28\", \"run_number\": 33, \"metric\": null, \"status\": \"Completed\", \"run_type\": \"azureml.scriptrun\", \"training_percent\": \"100\", \"start_time\": \"2021-02-12T17:09:29.050204Z\", \"end_time\": \"2021-02-12T17:10:37.962785Z\", \"created_time\": \"2021-02-12T17:08:38.851158Z\", \"created_time_dt\": \"2021-02-12T17:08:38.851158Z\", \"duration\": \"0:01:59\", \"iteration\": \"28\", \"goal\": \"AUC_weighted_max\", \"run_name\": \"TruncatedSVDWrapper, XGBoostClassifier\", \"run_properties\": \"n_components=0.7521052631578947, random_state=None\", \"primary_metric\": 0.84718674, \"best_metric\": 0.85358636}, {\"run_id\": \"AutoML_d0df9350-7860-45c3-94c4-6a4cc557bdce_29\", \"run_number\": 34, \"metric\": null, \"status\": \"Completed\", \"run_type\": \"azureml.scriptrun\", \"training_percent\": \"100\", \"start_time\": \"2021-02-12T17:10:00.085263Z\", \"end_time\": \"2021-02-12T17:10:58.676004Z\", \"created_time\": \"2021-02-12T17:09:28.267387Z\", \"created_time_dt\": \"2021-02-12T17:09:28.267387Z\", \"duration\": \"0:01:30\", \"iteration\": \"29\", \"goal\": \"AUC_weighted_max\", \"run_name\": \"StandardScalerWrapper, XGBoostClassifier\", \"run_properties\": \"<azureml.automl.runtime.shared.model_wrappers.StandardScalerWrapper object at 0x7f0a1d856438\", \"primary_metric\": 0.83757525, \"best_metric\": 0.85358636}, {\"run_id\": \"AutoML_d0df9350-7860-45c3-94c4-6a4cc557bdce_30\", \"run_number\": 35, \"metric\": null, \"status\": \"Completed\", \"run_type\": \"azureml.scriptrun\", \"training_percent\": \"100\", \"start_time\": \"2021-02-12T17:10:03.314049Z\", \"end_time\": \"2021-02-12T17:11:01.013781Z\", \"created_time\": \"2021-02-12T17:09:33.267855Z\", \"created_time_dt\": \"2021-02-12T17:09:33.267855Z\", \"duration\": \"0:01:27\", \"iteration\": \"30\", \"goal\": \"AUC_weighted_max\", \"run_name\": \"StandardScalerWrapper, LightGBM\", \"run_properties\": \"<azureml.automl.runtime.shared.model_wrappers.StandardScalerWrapper object at 0x7fab777f6e80\", \"primary_metric\": 0.78999887, \"best_metric\": 0.85358636}, {\"run_id\": \"AutoML_d0df9350-7860-45c3-94c4-6a4cc557bdce_31\", \"run_number\": 36, \"metric\": null, \"status\": \"Completed\", \"run_type\": \"azureml.scriptrun\", \"training_percent\": \"100\", \"start_time\": \"2021-02-12T17:10:41.219735Z\", \"end_time\": \"2021-02-12T17:11:40.814074Z\", \"created_time\": \"2021-02-12T17:09:56.634437Z\", \"created_time_dt\": \"2021-02-12T17:09:56.634437Z\", \"duration\": \"0:01:44\", \"iteration\": \"31\", \"goal\": \"AUC_weighted_max\", \"run_name\": \"StandardScalerWrapper, XGBoostClassifier\", \"run_properties\": \"<azureml.automl.runtime.shared.model_wrappers.StandardScalerWrapper object at 0x7fbac9141f28\", \"primary_metric\": 0.85703151, \"best_metric\": 0.85703151}, {\"run_id\": \"AutoML_d0df9350-7860-45c3-94c4-6a4cc557bdce_32\", \"run_number\": 37, \"metric\": null, \"status\": \"Completed\", \"run_type\": \"azureml.scriptrun\", \"training_percent\": \"100\", \"start_time\": \"2021-02-12T17:10:52.911895Z\", \"end_time\": \"2021-02-12T17:11:51.580394Z\", \"created_time\": \"2021-02-12T17:10:22.216232Z\", \"created_time_dt\": \"2021-02-12T17:10:22.216232Z\", \"duration\": \"0:01:29\", \"iteration\": \"32\", \"goal\": \"AUC_weighted_max\", \"run_name\": \"SparseNormalizer, XGBoostClassifier\", \"run_properties\": \"<azureml.automl.runtime.shared.model_wrappers.SparseNormalizer object at 0x7f5b5eb8ca20\", \"primary_metric\": 0.83233371, \"best_metric\": 0.85703151}, {\"run_id\": \"AutoML_d0df9350-7860-45c3-94c4-6a4cc557bdce_33\", \"run_number\": 38, \"metric\": null, \"status\": \"Completed\", \"run_type\": \"azureml.scriptrun\", \"training_percent\": \"100\", \"start_time\": \"2021-02-12T17:11:00.081636Z\", \"end_time\": \"2021-02-12T17:12:13.46783Z\", \"created_time\": \"2021-02-12T17:10:40.894444Z\", \"created_time_dt\": \"2021-02-12T17:10:40.894444Z\", \"duration\": \"0:01:32\", \"iteration\": \"33\", \"goal\": \"AUC_weighted_max\", \"run_name\": \"StandardScalerWrapper, XGBoostClassifier\", \"run_properties\": \"<azureml.automl.runtime.shared.model_wrappers.StandardScalerWrapper object at 0x7f2468455278\", \"primary_metric\": 0.85234131, \"best_metric\": 0.85703151}, {\"run_id\": \"AutoML_d0df9350-7860-45c3-94c4-6a4cc557bdce_34\", \"run_number\": 39, \"metric\": null, \"status\": \"Completed\", \"run_type\": \"azureml.scriptrun\", \"training_percent\": \"100\", \"start_time\": \"2021-02-12T17:11:32.438513Z\", \"end_time\": \"2021-02-12T17:13:23.901383Z\", \"created_time\": \"2021-02-12T17:11:01.607585Z\", \"created_time_dt\": \"2021-02-12T17:11:01.607585Z\", \"duration\": \"0:02:22\", \"iteration\": \"34\", \"goal\": \"AUC_weighted_max\", \"run_name\": \"StandardScalerWrapper, XGBoostClassifier\", \"run_properties\": \"<azureml.automl.runtime.shared.model_wrappers.StandardScalerWrapper object at 0x7f4766437128\", \"primary_metric\": 0.86490889, \"best_metric\": 0.86490889}, {\"run_id\": \"AutoML_d0df9350-7860-45c3-94c4-6a4cc557bdce_35\", \"run_number\": 40, \"metric\": null, \"status\": \"Completed\", \"run_type\": \"azureml.scriptrun\", \"training_percent\": \"100\", \"start_time\": \"2021-02-12T17:11:35.183002Z\", \"end_time\": \"2021-02-12T17:13:19.898247Z\", \"created_time\": \"2021-02-12T17:11:07.689779Z\", \"created_time_dt\": \"2021-02-12T17:11:07.689779Z\", \"duration\": \"0:02:12\", \"iteration\": \"35\", \"goal\": \"AUC_weighted_max\", \"run_name\": \"StandardScalerWrapper, XGBoostClassifier\", \"run_properties\": \"<azureml.automl.runtime.shared.model_wrappers.StandardScalerWrapper object at 0x7efc95a0aa58\", \"primary_metric\": 0.5, \"best_metric\": 0.86490889}, {\"run_id\": \"AutoML_d0df9350-7860-45c3-94c4-6a4cc557bdce_36\", \"run_number\": 41, \"metric\": null, \"status\": \"Completed\", \"run_type\": \"azureml.scriptrun\", \"training_percent\": \"100\", \"start_time\": \"2021-02-12T17:11:57.637303Z\", \"end_time\": \"2021-02-12T17:13:03.283677Z\", \"created_time\": \"2021-02-12T17:11:43.174845Z\", \"created_time_dt\": \"2021-02-12T17:11:43.174845Z\", \"duration\": \"0:01:20\", \"iteration\": \"36\", \"goal\": \"AUC_weighted_max\", \"run_name\": \"StandardScalerWrapper, LogisticRegression\", \"run_properties\": \"<azureml.automl.runtime.shared.model_wrappers.StandardScalerWrapper object at 0x7ff1b4a7f748\", \"primary_metric\": 0.76508011, \"best_metric\": 0.86490889}, {\"run_id\": \"AutoML_d0df9350-7860-45c3-94c4-6a4cc557bdce_37\", \"run_number\": 42, \"metric\": null, \"status\": \"Completed\", \"run_type\": \"azureml.scriptrun\", \"training_percent\": \"100\", \"start_time\": \"2021-02-12T17:12:18.841544Z\", \"end_time\": \"2021-02-12T17:13:56.55216Z\", \"created_time\": \"2021-02-12T17:11:54.091274Z\", \"created_time_dt\": \"2021-02-12T17:11:54.091274Z\", \"duration\": \"0:02:02\", \"iteration\": \"37\", \"goal\": \"AUC_weighted_max\", \"run_name\": \"StandardScalerWrapper, XGBoostClassifier\", \"run_properties\": \"<azureml.automl.runtime.shared.model_wrappers.StandardScalerWrapper object at 0x7fb4a6f66080\", \"primary_metric\": 0.84801118, \"best_metric\": 0.86490889}, {\"run_id\": \"AutoML_d0df9350-7860-45c3-94c4-6a4cc557bdce_38\", \"run_number\": 43, \"metric\": null, \"status\": \"Completed\", \"run_type\": \"azureml.scriptrun\", \"training_percent\": \"100\", \"start_time\": \"2021-02-12T17:12:52.760716Z\", \"end_time\": \"2021-02-12T17:14:27.137015Z\", \"created_time\": \"2021-02-12T17:12:15.93672Z\", \"created_time_dt\": \"2021-02-12T17:12:15.93672Z\", \"duration\": \"0:02:11\", \"iteration\": \"38\", \"goal\": \"AUC_weighted_max\", \"run_name\": \"SparseNormalizer, XGBoostClassifier\", \"run_properties\": \"<azureml.automl.runtime.shared.model_wrappers.SparseNormalizer object at 0x7f7cf6931940\", \"primary_metric\": 0.84866848, \"best_metric\": 0.86490889}, {\"run_id\": \"AutoML_d0df9350-7860-45c3-94c4-6a4cc557bdce_39\", \"run_number\": 44, \"metric\": null, \"status\": \"Completed\", \"run_type\": \"azureml.scriptrun\", \"training_percent\": \"100\", \"start_time\": \"2021-02-12T17:13:16.91779Z\", \"end_time\": \"2021-02-12T17:14:17.277038Z\", \"created_time\": \"2021-02-12T17:13:06.44214Z\", \"created_time_dt\": \"2021-02-12T17:13:06.44214Z\", \"duration\": \"0:01:10\", \"iteration\": \"39\", \"goal\": \"AUC_weighted_max\", \"run_name\": \"TruncatedSVDWrapper, XGBoostClassifier\", \"run_properties\": \"n_components=0.7521052631578947, random_state=None\", \"primary_metric\": 0.83869664, \"best_metric\": 0.86490889}, {\"run_id\": \"AutoML_d0df9350-7860-45c3-94c4-6a4cc557bdce_40\", \"run_number\": 45, \"metric\": null, \"status\": \"Completed\", \"run_type\": \"azureml.scriptrun\", \"training_percent\": \"100\", \"start_time\": \"2021-02-12T17:14:22.955011Z\", \"end_time\": \"2021-02-12T17:15:21.019835Z\", \"created_time\": \"2021-02-12T17:13:31.220443Z\", \"created_time_dt\": \"2021-02-12T17:13:31.220443Z\", \"duration\": \"0:01:49\", \"iteration\": \"40\", \"goal\": \"AUC_weighted_max\", \"run_name\": \"StandardScalerWrapper, XGBoostClassifier\", \"run_properties\": \"<azureml.automl.runtime.shared.model_wrappers.StandardScalerWrapper object at 0x7f9bf45f1358\", \"primary_metric\": 0.83539991, \"best_metric\": 0.86490889}, {\"run_id\": \"AutoML_d0df9350-7860-45c3-94c4-6a4cc557bdce_41\", \"run_number\": 46, \"metric\": null, \"status\": \"Completed\", \"run_type\": \"azureml.scriptrun\", \"training_percent\": \"100\", \"start_time\": \"2021-02-12T17:14:29.869289Z\", \"end_time\": \"2021-02-12T17:15:25.639811Z\", \"created_time\": \"2021-02-12T17:13:36.216709Z\", \"created_time_dt\": \"2021-02-12T17:13:36.216709Z\", \"duration\": \"0:01:49\", \"iteration\": \"41\", \"goal\": \"AUC_weighted_max\", \"run_name\": \"StandardScalerWrapper, XGBoostClassifier\", \"run_properties\": \"<azureml.automl.runtime.shared.model_wrappers.StandardScalerWrapper object at 0x7f66fc924518\", \"primary_metric\": 0.84485664, \"best_metric\": 0.86490889}, {\"run_id\": \"AutoML_d0df9350-7860-45c3-94c4-6a4cc557bdce_42\", \"run_number\": 47, \"metric\": null, \"status\": \"Completed\", \"run_type\": \"azureml.scriptrun\", \"training_percent\": \"100\", \"start_time\": \"2021-02-12T17:14:30.419314Z\", \"end_time\": \"2021-02-12T17:15:39.810519Z\", \"created_time\": \"2021-02-12T17:13:59.010985Z\", \"created_time_dt\": \"2021-02-12T17:13:59.010985Z\", \"duration\": \"0:01:40\", \"iteration\": \"42\", \"goal\": \"AUC_weighted_max\", \"run_name\": \"StandardScalerWrapper, XGBoostClassifier\", \"run_properties\": \"<azureml.automl.runtime.shared.model_wrappers.StandardScalerWrapper object at 0x7fa6bbf94710\", \"primary_metric\": 0.85121678, \"best_metric\": 0.86490889}, {\"run_id\": \"AutoML_d0df9350-7860-45c3-94c4-6a4cc557bdce_43\", \"run_number\": 48, \"metric\": null, \"status\": \"Completed\", \"run_type\": \"azureml.scriptrun\", \"training_percent\": \"100\", \"start_time\": \"2021-02-12T17:14:35.28484Z\", \"end_time\": \"2021-02-12T17:15:31.789945Z\", \"created_time\": \"2021-02-12T17:14:19.455153Z\", \"created_time_dt\": \"2021-02-12T17:14:19.455153Z\", \"duration\": \"0:01:12\", \"iteration\": \"43\", \"goal\": \"AUC_weighted_max\", \"run_name\": \"StandardScalerWrapper, XGBoostClassifier\", \"run_properties\": \"<azureml.automl.runtime.shared.model_wrappers.StandardScalerWrapper object at 0x7f14777d71d0\", \"primary_metric\": 0.85377842, \"best_metric\": 0.86490889}, {\"run_id\": \"AutoML_d0df9350-7860-45c3-94c4-6a4cc557bdce_44\", \"run_number\": 49, \"metric\": null, \"status\": \"Completed\", \"run_type\": \"azureml.scriptrun\", \"training_percent\": \"100\", \"start_time\": \"2021-02-12T17:14:53.559305Z\", \"end_time\": \"2021-02-12T17:16:00.017039Z\", \"created_time\": \"2021-02-12T17:14:29.508715Z\", \"created_time_dt\": \"2021-02-12T17:14:29.508715Z\", \"duration\": \"0:01:30\", \"iteration\": \"44\", \"goal\": \"AUC_weighted_max\", \"run_name\": \"StandardScalerWrapper, XGBoostClassifier\", \"run_properties\": \"<azureml.automl.runtime.shared.model_wrappers.StandardScalerWrapper object at 0x7effbaca5a20\", \"primary_metric\": 0.81880101, \"best_metric\": 0.86490889}, {\"run_id\": \"AutoML_d0df9350-7860-45c3-94c4-6a4cc557bdce_45\", \"run_number\": 50, \"metric\": null, \"status\": \"Completed\", \"run_type\": \"azureml.scriptrun\", \"training_percent\": \"100\", \"start_time\": \"2021-02-12T17:15:42.685577Z\", \"end_time\": \"2021-02-12T17:16:49.176703Z\", \"created_time\": \"2021-02-12T17:15:24.477088Z\", \"created_time_dt\": \"2021-02-12T17:15:24.477088Z\", \"duration\": \"0:01:24\", \"iteration\": \"45\", \"goal\": \"AUC_weighted_max\", \"run_name\": \"StandardScalerWrapper, XGBoostClassifier\", \"run_properties\": \"<azureml.automl.runtime.shared.model_wrappers.StandardScalerWrapper object at 0x7f193a1546d8\", \"primary_metric\": 0.82924092, \"best_metric\": 0.86490889}, {\"run_id\": \"AutoML_d0df9350-7860-45c3-94c4-6a4cc557bdce_46\", \"run_number\": 51, \"metric\": null, \"status\": \"Completed\", \"run_type\": \"azureml.scriptrun\", \"training_percent\": \"100\", \"start_time\": \"2021-02-12T17:16:04.045155Z\", \"end_time\": \"2021-02-12T17:17:06.96897Z\", \"created_time\": \"2021-02-12T17:15:28.505067Z\", \"created_time_dt\": \"2021-02-12T17:15:28.505067Z\", \"duration\": \"0:01:38\", \"iteration\": \"46\", \"goal\": \"AUC_weighted_max\", \"run_name\": \"StandardScalerWrapper, LightGBM\", \"run_properties\": \"<azureml.automl.runtime.shared.model_wrappers.StandardScalerWrapper object at 0x7f9561c73128\", \"primary_metric\": 0.81061394, \"best_metric\": 0.86490889}, {\"run_id\": \"AutoML_d0df9350-7860-45c3-94c4-6a4cc557bdce_47\", \"run_number\": 52, \"metric\": null, \"status\": \"Completed\", \"run_type\": \"azureml.scriptrun\", \"training_percent\": \"100\", \"start_time\": \"2021-02-12T17:16:19.831714Z\", \"end_time\": \"2021-02-12T17:17:28.915796Z\", \"created_time\": \"2021-02-12T17:15:34.187317Z\", \"created_time_dt\": \"2021-02-12T17:15:34.187317Z\", \"duration\": \"0:01:54\", \"iteration\": \"47\", \"goal\": \"AUC_weighted_max\", \"run_name\": \"StandardScalerWrapper, LightGBM\", \"run_properties\": \"<azureml.automl.runtime.shared.model_wrappers.StandardScalerWrapper object at 0x7fefabd19e80\", \"primary_metric\": 0.86011807, \"best_metric\": 0.86490889}, {\"run_id\": \"AutoML_d0df9350-7860-45c3-94c4-6a4cc557bdce_48\", \"run_number\": 53, \"metric\": null, \"status\": \"Completed\", \"run_type\": \"azureml.scriptrun\", \"training_percent\": \"100\", \"start_time\": \"2021-02-12T17:16:24.983993Z\", \"end_time\": \"2021-02-12T17:17:30.332384Z\", \"created_time\": \"2021-02-12T17:15:42.657284Z\", \"created_time_dt\": \"2021-02-12T17:15:42.657284Z\", \"duration\": \"0:01:47\", \"iteration\": \"48\", \"goal\": \"AUC_weighted_max\", \"run_name\": \"SparseNormalizer, XGBoostClassifier\", \"run_properties\": \"<azureml.automl.runtime.shared.model_wrappers.SparseNormalizer object at 0x7f46369d67f0\", \"primary_metric\": 0.83968615, \"best_metric\": 0.86490889}, {\"run_id\": \"AutoML_d0df9350-7860-45c3-94c4-6a4cc557bdce_49\", \"run_number\": 54, \"metric\": null, \"status\": \"Completed\", \"run_type\": \"azureml.scriptrun\", \"training_percent\": \"100\", \"start_time\": \"2021-02-12T17:16:37.898044Z\", \"end_time\": \"2021-02-12T17:17:43.884231Z\", \"created_time\": \"2021-02-12T17:16:02.798176Z\", \"created_time_dt\": \"2021-02-12T17:16:02.798176Z\", \"duration\": \"0:01:41\", \"iteration\": \"49\", \"goal\": \"AUC_weighted_max\", \"run_name\": \"StandardScalerWrapper, XGBoostClassifier\", \"run_properties\": \"<azureml.automl.runtime.shared.model_wrappers.StandardScalerWrapper object at 0x7fc02e9bc358\", \"primary_metric\": 0.86728513, \"best_metric\": 0.86728513}, {\"run_id\": \"AutoML_d0df9350-7860-45c3-94c4-6a4cc557bdce_50\", \"run_number\": 55, \"metric\": null, \"status\": \"Completed\", \"run_type\": \"azureml.scriptrun\", \"training_percent\": \"100\", \"start_time\": \"2021-02-12T17:17:02.951272Z\", \"end_time\": \"2021-02-12T17:18:15.978157Z\", \"created_time\": \"2021-02-12T17:16:52.611914Z\", \"created_time_dt\": \"2021-02-12T17:16:52.611914Z\", \"duration\": \"0:01:23\", \"iteration\": \"50\", \"goal\": \"AUC_weighted_max\", \"run_name\": \"SparseNormalizer, XGBoostClassifier\", \"run_properties\": \"<azureml.automl.runtime.shared.model_wrappers.SparseNormalizer object at 0x7f1414a6ccc0\", \"primary_metric\": 0.83722853, \"best_metric\": 0.86728513}, {\"run_id\": \"AutoML_d0df9350-7860-45c3-94c4-6a4cc557bdce_51\", \"run_number\": 56, \"metric\": null, \"status\": \"Completed\", \"run_type\": \"azureml.scriptrun\", \"training_percent\": \"100\", \"start_time\": \"2021-02-12T17:17:31.53035Z\", \"end_time\": \"2021-02-12T17:18:30.446749Z\", \"created_time\": \"2021-02-12T17:17:09.387048Z\", \"created_time_dt\": \"2021-02-12T17:17:09.387048Z\", \"duration\": \"0:01:21\", \"iteration\": \"51\", \"goal\": \"AUC_weighted_max\", \"run_name\": \"StandardScalerWrapper, XGBoostClassifier\", \"run_properties\": \"<azureml.automl.runtime.shared.model_wrappers.StandardScalerWrapper object at 0x7fe9d1058550\", \"primary_metric\": 0.82025466, \"best_metric\": 0.86728513}, {\"run_id\": \"AutoML_d0df9350-7860-45c3-94c4-6a4cc557bdce_52\", \"run_number\": 57, \"metric\": null, \"status\": \"Completed\", \"run_type\": \"azureml.scriptrun\", \"training_percent\": \"100\", \"start_time\": \"2021-02-12T17:18:17.906783Z\", \"end_time\": \"2021-02-12T17:19:26.188184Z\", \"created_time\": \"2021-02-12T17:17:31.177444Z\", \"created_time_dt\": \"2021-02-12T17:17:31.177444Z\", \"duration\": \"0:01:55\", \"iteration\": \"52\", \"goal\": \"AUC_weighted_max\", \"run_name\": \"SparseNormalizer, XGBoostClassifier\", \"run_properties\": \"<azureml.automl.runtime.shared.model_wrappers.SparseNormalizer object at 0x7fde65274438\", \"primary_metric\": 0.85265477, \"best_metric\": 0.86728513}, {\"run_id\": \"AutoML_d0df9350-7860-45c3-94c4-6a4cc557bdce_53\", \"run_number\": 58, \"metric\": null, \"status\": \"Completed\", \"run_type\": \"azureml.scriptrun\", \"training_percent\": \"100\", \"start_time\": \"2021-02-12T17:18:24.804036Z\", \"end_time\": \"2021-02-12T17:19:33.140358Z\", \"created_time\": \"2021-02-12T17:17:35.401851Z\", \"created_time_dt\": \"2021-02-12T17:17:35.401851Z\", \"duration\": \"0:01:57\", \"iteration\": \"53\", \"goal\": \"AUC_weighted_max\", \"run_name\": \"SparseNormalizer, XGBoostClassifier\", \"run_properties\": \"<azureml.automl.runtime.shared.model_wrappers.SparseNormalizer object at 0x7fa513928f28\", \"primary_metric\": 0.84434238, \"best_metric\": 0.86728513}, {\"run_id\": \"AutoML_d0df9350-7860-45c3-94c4-6a4cc557bdce_54\", \"run_number\": 59, \"metric\": null, \"status\": \"Completed\", \"run_type\": \"azureml.scriptrun\", \"training_percent\": \"100\", \"start_time\": \"2021-02-12T17:18:27.719644Z\", \"end_time\": \"2021-02-12T17:19:29.667468Z\", \"created_time\": \"2021-02-12T17:17:46.073074Z\", \"created_time_dt\": \"2021-02-12T17:17:46.073074Z\", \"duration\": \"0:01:43\", \"iteration\": \"54\", \"goal\": \"AUC_weighted_max\", \"run_name\": \"StandardScalerWrapper, XGBoostClassifier\", \"run_properties\": \"<azureml.automl.runtime.shared.model_wrappers.StandardScalerWrapper object at 0x7f1e0c2c4eb8\", \"primary_metric\": 0.78780021, \"best_metric\": 0.86728513}, {\"run_id\": \"AutoML_d0df9350-7860-45c3-94c4-6a4cc557bdce_55\", \"run_number\": 60, \"metric\": null, \"status\": \"Completed\", \"run_type\": \"azureml.scriptrun\", \"training_percent\": \"100\", \"start_time\": \"2021-02-12T17:18:38.822826Z\", \"end_time\": \"2021-02-12T17:19:33.042014Z\", \"created_time\": \"2021-02-12T17:18:19.422089Z\", \"created_time_dt\": \"2021-02-12T17:18:19.422089Z\", \"duration\": \"0:01:13\", \"iteration\": \"55\", \"goal\": \"AUC_weighted_max\", \"run_name\": \"StandardScalerWrapper, XGBoostClassifier\", \"run_properties\": \"<azureml.automl.runtime.shared.model_wrappers.StandardScalerWrapper object at 0x7f5d5500cc18\", \"primary_metric\": 0.84151022, \"best_metric\": 0.86728513}, {\"run_id\": \"AutoML_d0df9350-7860-45c3-94c4-6a4cc557bdce_56\", \"run_number\": 61, \"metric\": null, \"status\": \"Completed\", \"run_type\": \"azureml.scriptrun\", \"training_percent\": \"100\", \"start_time\": \"2021-02-12T17:18:46.321878Z\", \"end_time\": \"2021-02-12T17:19:35.437686Z\", \"created_time\": \"2021-02-12T17:18:32.817132Z\", \"created_time_dt\": \"2021-02-12T17:18:32.817132Z\", \"duration\": \"0:01:02\", \"iteration\": \"56\", \"goal\": \"AUC_weighted_max\", \"run_name\": \"StandardScalerWrapper, LightGBM\", \"run_properties\": \"<azureml.automl.runtime.shared.model_wrappers.StandardScalerWrapper object at 0x7f6cdd8b1a90\", \"primary_metric\": 0.84063557, \"best_metric\": 0.86728513}, {\"run_id\": \"AutoML_d0df9350-7860-45c3-94c4-6a4cc557bdce_57\", \"run_number\": 62, \"metric\": null, \"status\": \"Completed\", \"run_type\": \"azureml.scriptrun\", \"training_percent\": \"100\", \"start_time\": \"2021-02-12T17:19:39.531271Z\", \"end_time\": \"2021-02-12T17:20:55.552112Z\", \"created_time\": \"2021-02-12T17:19:28.682788Z\", \"created_time_dt\": \"2021-02-12T17:19:28.682788Z\", \"duration\": \"0:01:26\", \"iteration\": \"57\", \"goal\": \"AUC_weighted_max\", \"run_name\": \"StandardScalerWrapper, XGBoostClassifier\", \"run_properties\": \"<azureml.automl.runtime.shared.model_wrappers.StandardScalerWrapper object at 0x7f9b35a78588\", \"primary_metric\": 0.84810753, \"best_metric\": 0.86728513}, {\"run_id\": \"AutoML_d0df9350-7860-45c3-94c4-6a4cc557bdce_58\", \"run_number\": 63, \"metric\": null, \"status\": \"Completed\", \"run_type\": \"azureml.scriptrun\", \"training_percent\": \"100\", \"start_time\": \"2021-02-12T17:19:44.953735Z\", \"end_time\": \"2021-02-12T17:20:43.136477Z\", \"created_time\": \"2021-02-12T17:19:32.912612Z\", \"created_time_dt\": \"2021-02-12T17:19:32.912612Z\", \"duration\": \"0:01:10\", \"iteration\": \"58\", \"goal\": \"AUC_weighted_max\", \"run_name\": \"StandardScalerWrapper, LightGBM\", \"run_properties\": \"<azureml.automl.runtime.shared.model_wrappers.StandardScalerWrapper object at 0x7f5600d14fd0\", \"primary_metric\": 0.80373131, \"best_metric\": 0.86728513}, {\"run_id\": \"AutoML_d0df9350-7860-45c3-94c4-6a4cc557bdce_59\", \"run_number\": 64, \"metric\": null, \"status\": \"Completed\", \"run_type\": \"azureml.scriptrun\", \"training_percent\": \"100\", \"start_time\": \"2021-02-12T17:20:24.599692Z\", \"end_time\": \"2021-02-12T17:21:16.820644Z\", \"created_time\": \"2021-02-12T17:19:39.261031Z\", \"created_time_dt\": \"2021-02-12T17:19:39.261031Z\", \"duration\": \"0:01:37\", \"iteration\": \"59\", \"goal\": \"AUC_weighted_max\", \"run_name\": \"StandardScalerWrapper, XGBoostClassifier\", \"run_properties\": \"<azureml.automl.runtime.shared.model_wrappers.StandardScalerWrapper object at 0x7fa1b45c60f0\", \"primary_metric\": 0.81802468, \"best_metric\": 0.86728513}, {\"run_id\": \"AutoML_d0df9350-7860-45c3-94c4-6a4cc557bdce_60\", \"run_number\": 65, \"metric\": null, \"status\": \"Completed\", \"run_type\": \"azureml.scriptrun\", \"training_percent\": \"100\", \"start_time\": \"2021-02-12T17:20:21.727769Z\", \"end_time\": \"2021-02-12T17:21:16.534106Z\", \"created_time\": \"2021-02-12T17:19:39.369372Z\", \"created_time_dt\": \"2021-02-12T17:19:39.369372Z\", \"duration\": \"0:01:37\", \"iteration\": \"60\", \"goal\": \"AUC_weighted_max\", \"run_name\": \"TruncatedSVDWrapper, XGBoostClassifier\", \"run_properties\": \"n_components=0.95, random_state=None\", \"primary_metric\": 0.83238315, \"best_metric\": 0.86728513}, {\"run_id\": \"AutoML_d0df9350-7860-45c3-94c4-6a4cc557bdce_61\", \"run_number\": 66, \"metric\": null, \"status\": \"Completed\", \"run_type\": \"azureml.scriptrun\", \"training_percent\": \"100\", \"start_time\": \"2021-02-12T17:20:30.563441Z\", \"end_time\": \"2021-02-12T17:21:43.551767Z\", \"created_time\": \"2021-02-12T17:19:39.522642Z\", \"created_time_dt\": \"2021-02-12T17:19:39.522642Z\", \"duration\": \"0:02:04\", \"iteration\": \"61\", \"goal\": \"AUC_weighted_max\", \"run_name\": \"StandardScalerWrapper, XGBoostClassifier\", \"run_properties\": \"<azureml.automl.runtime.shared.model_wrappers.StandardScalerWrapper object at 0x7f3997380a58\", \"primary_metric\": 0.82386387, \"best_metric\": 0.86728513}, {\"run_id\": \"AutoML_d0df9350-7860-45c3-94c4-6a4cc557bdce_62\", \"run_number\": 67, \"metric\": null, \"status\": \"Completed\", \"run_type\": \"azureml.scriptrun\", \"training_percent\": \"100\", \"start_time\": \"2021-02-12T17:20:57.55514Z\", \"end_time\": \"2021-02-12T17:21:54.663235Z\", \"created_time\": \"2021-02-12T17:20:45.374249Z\", \"created_time_dt\": \"2021-02-12T17:20:45.374249Z\", \"duration\": \"0:01:09\", \"iteration\": \"62\", \"goal\": \"AUC_weighted_max\", \"run_name\": \"MinMaxScaler, LogisticRegression\", \"run_properties\": \"copy=True, feature_range=(0, 1\", \"primary_metric\": 0.76448568, \"best_metric\": 0.86728513}, {\"run_id\": \"AutoML_d0df9350-7860-45c3-94c4-6a4cc557bdce_63\", \"run_number\": 68, \"metric\": null, \"status\": \"Completed\", \"run_type\": \"azureml.scriptrun\", \"training_percent\": \"100\", \"start_time\": \"2021-02-12T17:21:11.059277Z\", \"end_time\": \"2021-02-12T17:22:06.604134Z\", \"created_time\": \"2021-02-12T17:20:57.970467Z\", \"created_time_dt\": \"2021-02-12T17:20:57.970467Z\", \"duration\": \"0:01:08\", \"iteration\": \"63\", \"goal\": \"AUC_weighted_max\", \"run_name\": \"StandardScalerWrapper, XGBoostClassifier\", \"run_properties\": \"<azureml.automl.runtime.shared.model_wrappers.StandardScalerWrapper object at 0x7f0818dbb208\", \"primary_metric\": 0.85470662, \"best_metric\": 0.86728513}, {\"run_id\": \"AutoML_d0df9350-7860-45c3-94c4-6a4cc557bdce_64\", \"run_number\": 69, \"metric\": null, \"status\": \"Canceled\", \"run_type\": \"azureml.scriptrun\", \"training_percent\": \"100\", \"start_time\": \"2021-02-12T17:22:09.273311Z\", \"end_time\": \"2021-02-12T17:22:29.270189Z\", \"created_time\": \"2021-02-12T17:21:20.195074Z\", \"created_time_dt\": \"2021-02-12T17:21:20.195074Z\", \"duration\": \"0:01:09\", \"iteration\": \"64\", \"goal\": null, \"run_name\": \"Canceled\", \"run_properties\": null}, {\"run_id\": \"AutoML_d0df9350-7860-45c3-94c4-6a4cc557bdce_65\", \"run_number\": 70, \"metric\": null, \"status\": \"Canceled\", \"run_type\": \"azureml.scriptrun\", \"training_percent\": \"100\", \"start_time\": \"2021-02-12T17:22:01.809728Z\", \"end_time\": \"2021-02-12T17:22:26.57294Z\", \"created_time\": \"2021-02-12T17:21:20.368031Z\", \"created_time_dt\": \"2021-02-12T17:21:20.368031Z\", \"duration\": \"0:01:06\", \"iteration\": \"65\", \"goal\": null, \"run_name\": \"SparseNormalizer, XGBoostClassifier\", \"run_properties\": null}, {\"run_id\": \"AutoML_d0df9350-7860-45c3-94c4-6a4cc557bdce_66\", \"run_number\": 71, \"metric\": null, \"status\": \"Canceled\", \"run_type\": \"azureml.scriptrun\", \"training_percent\": \"100\", \"start_time\": \"2021-02-12T17:21:45.824622Z\", \"end_time\": \"2021-02-12T17:22:33.94326Z\", \"created_time\": \"2021-02-12T17:21:45.824622Z\", \"created_time_dt\": \"2021-02-12T17:21:45.824622Z\", \"duration\": \"0:00:48\", \"iteration\": \"66\", \"goal\": null, \"run_name\": \"Canceled\", \"run_properties\": null}, {\"run_id\": \"AutoML_d0df9350-7860-45c3-94c4-6a4cc557bdce_67\", \"run_number\": 72, \"metric\": null, \"status\": \"Completed\", \"run_type\": \"azureml.scriptrun\", \"training_percent\": \"100\", \"start_time\": \"2021-02-12T17:22:49.617435Z\", \"end_time\": \"2021-02-12T17:24:53.995662Z\", \"created_time\": \"2021-02-12T17:22:36.329408Z\", \"created_time_dt\": \"2021-02-12T17:22:36.329408Z\", \"duration\": \"0:02:17\", \"iteration\": \"67\", \"goal\": \"AUC_weighted_max\", \"run_name\": \"VotingEnsemble\", \"run_properties\": \"classification_labels=None,\\n                              estimators=[('49',\\n                                           Pipeline(memory=None,\\n                                                    steps=[('standardscalerwrapper',\\n                                                            <azureml.automl.runtime.shared.model_wrappers.StandardScalerWrapper object at 0x7ff273987908>\", \"primary_metric\": 0.87556061, \"best_metric\": 0.87556061}, {\"run_id\": \"AutoML_d0df9350-7860-45c3-94c4-6a4cc557bdce_68\", \"run_number\": 73, \"metric\": null, \"status\": \"Completed\", \"run_type\": \"azureml.scriptrun\", \"training_percent\": \"100\", \"start_time\": \"2021-02-12T17:22:47.052942Z\", \"end_time\": \"2021-02-12T17:25:11.955551Z\", \"created_time\": \"2021-02-12T17:22:36.491869Z\", \"created_time_dt\": \"2021-02-12T17:22:36.491869Z\", \"duration\": \"0:02:35\", \"iteration\": \"68\", \"goal\": \"AUC_weighted_max\", \"run_name\": \"StackEnsemble\", \"run_properties\": \"base_learners=[('49',\\n                                        Pipeline(memory=None,\\n                                                 steps=[('standardscalerwrapper',\\n                                                         <azureml.automl.runtime.shared.model_wrappers.StandardScalerWrapper object at 0x7f1d53b45470>\", \"primary_metric\": 0.87420285, \"best_metric\": 0.87556061}], \"children_metrics\": {\"categories\": [0], \"series\": {\"f1_score_weighted\": [{\"categories\": [\"0\", \"1\", \"2\", \"3\", \"4\", \"5\", \"6\", \"7\", \"8\", \"9\", \"10\", \"11\", \"12\", \"13\", \"14\", \"15\", \"16\", \"17\", \"18\", \"19\", \"20\", \"21\", \"22\", \"23\", \"24\", \"25\", \"26\", \"27\", \"28\", \"29\", \"30\", \"31\", \"32\", \"33\", \"34\", \"35\", \"36\", \"37\", \"38\", \"39\", \"40\", \"41\", \"42\", \"43\", \"44\", \"45\", \"46\", \"47\", \"48\", \"49\", \"50\", \"51\", \"52\", \"53\", \"54\", \"55\", \"56\", \"57\", \"58\", \"59\", \"60\", \"61\", \"62\", \"63\", \"67\", \"68\"], \"mode\": \"markers\", \"name\": \"f1_score_weighted\", \"stepped\": false, \"type\": \"scatter\", \"data\": [0.8179750173117911, 0.7735690336400697, 0.7191310051262357, 0.6640791280427096, 0.6826835822083585, 0.6891863829762256, 0.7488181843895397, 0.6957795205381944, 0.6640791280427096, 0.6640791280427096, 0.6790169502660742, 0.5209841948593211, 0.7370357062318332, 0.5582928124908028, 0.6640791280427096, 0.5022219054168301, 0.5532573536425321, 0.7532611674836645, 0.7381089050530928, 0.535357521599466, 0.6101220993133534, 0.7523557267848652, 0.8077082336452365, 0.773333988474722, 0.7462948307468708, 0.7451304103489589, 0.8058197381965501, 0.8225099257538133, 0.8101490544398507, 0.7933512620020856, 0.6640791280427096, 0.8111372640333259, 0.7805339145196114, 0.8127746023823148, 0.8280348436086271, 0.6640791280427096, 0.7395436527336817, 0.8188033589614646, 0.8109236687410317, 0.8039734295801758, 0.7960794209127804, 0.8007151646711076, 0.8142431825470132, 0.8080980504245847, 0.7775956746465252, 0.7852869609133187, 0.771705932557955, 0.8274063084202291, 0.7946714788243195, 0.8220490330648467, 0.7998246957333545, 0.7764559637340037, 0.8147496158653788, 0.7988771832656347, 0.7319394735027945, 0.796754848350928, 0.8012980235427344, 0.8150724869298696, 0.7618052943866443, 0.7749341688042085, 0.7906376324946865, 0.7930262047861542, 0.7395714944241084, 0.817008682317773, 0.8268540228635527, 0.8277626930864818]}, {\"categories\": [\"0\", \"1\", \"2\", \"3\", \"4\", \"5\", \"6\", \"7\", \"8\", \"9\", \"10\", \"11\", \"12\", \"13\", \"14\", \"15\", \"16\", \"17\", \"18\", \"19\", \"20\", \"21\", \"22\", \"23\", \"24\", \"25\", \"26\", \"27\", \"28\", \"29\", \"30\", \"31\", \"32\", \"33\", \"34\", \"35\", \"36\", \"37\", \"38\", \"39\", \"40\", \"41\", \"42\", \"43\", \"44\", \"45\", \"46\", \"47\", \"48\", \"49\", \"50\", \"51\", \"52\", \"53\", \"54\", \"55\", \"56\", \"57\", \"58\", \"59\", \"60\", \"61\", \"62\", \"63\", \"67\", \"68\"], \"mode\": \"lines\", \"name\": \"f1_score_weighted_max\", \"stepped\": true, \"type\": \"scatter\", \"data\": [0.8179750173117911, 0.8179750173117911, 0.8179750173117911, 0.8179750173117911, 0.8179750173117911, 0.8179750173117911, 0.8179750173117911, 0.8179750173117911, 0.8179750173117911, 0.8179750173117911, 0.8179750173117911, 0.8179750173117911, 0.8179750173117911, 0.8179750173117911, 0.8179750173117911, 0.8179750173117911, 0.8179750173117911, 0.8179750173117911, 0.8179750173117911, 0.8179750173117911, 0.8179750173117911, 0.8179750173117911, 0.8179750173117911, 0.8179750173117911, 0.8179750173117911, 0.8179750173117911, 0.8179750173117911, 0.8225099257538133, 0.8225099257538133, 0.8225099257538133, 0.8225099257538133, 0.8225099257538133, 0.8225099257538133, 0.8225099257538133, 0.8280348436086271, 0.8280348436086271, 0.8280348436086271, 0.8280348436086271, 0.8280348436086271, 0.8280348436086271, 0.8280348436086271, 0.8280348436086271, 0.8280348436086271, 0.8280348436086271, 0.8280348436086271, 0.8280348436086271, 0.8280348436086271, 0.8280348436086271, 0.8280348436086271, 0.8280348436086271, 0.8280348436086271, 0.8280348436086271, 0.8280348436086271, 0.8280348436086271, 0.8280348436086271, 0.8280348436086271, 0.8280348436086271, 0.8280348436086271, 0.8280348436086271, 0.8280348436086271, 0.8280348436086271, 0.8280348436086271, 0.8280348436086271, 0.8280348436086271, 0.8280348436086271, 0.8280348436086271]}], \"recall_score_weighted\": [{\"categories\": [\"0\", \"1\", \"2\", \"3\", \"4\", \"5\", \"6\", \"7\", \"8\", \"9\", \"10\", \"11\", \"12\", \"13\", \"14\", \"15\", \"16\", \"17\", \"18\", \"19\", \"20\", \"21\", \"22\", \"23\", \"24\", \"25\", \"26\", \"27\", \"28\", \"29\", \"30\", \"31\", \"32\", \"33\", \"34\", \"35\", \"36\", \"37\", \"38\", \"39\", \"40\", \"41\", \"42\", \"43\", \"44\", \"45\", \"46\", \"47\", \"48\", \"49\", \"50\", \"51\", \"52\", \"53\", \"54\", \"55\", \"56\", \"57\", \"58\", \"59\", \"60\", \"61\", \"62\", \"63\", \"67\", \"68\"], \"mode\": \"markers\", \"name\": \"recall_score_weighted\", \"stepped\": false, \"type\": \"scatter\", \"data\": [0.8353110154565568, 0.8041915238898532, 0.780927498804318, 0.765675041140289, 0.6498259958769982, 0.7716830757810245, 0.7935609216678076, 0.7730703944026988, 0.765675041140289, 0.765675041140289, 0.7699880417564318, 0.46818439224178326, 0.7793874975110731, 0.507931594175156, 0.765675041140289, 0.45216695451338235, 0.5011576536889244, 0.799723775398093, 0.7863200314252842, 0.47820027579731833, 0.5657092380707405, 0.7983363143485535, 0.8249901226275433, 0.8063480954118573, 0.7809287806551054, 0.7894015295043596, 0.8232948037472202, 0.8390091549783238, 0.829458155975034, 0.8200604805687087, 0.765675041140289, 0.83392497868567, 0.8089667029288011, 0.8326923367256803, 0.8431685471417718, 0.765675041140289, 0.7789256039439985, 0.8333087645265741, 0.8297646607410978, 0.8279159470498773, 0.8199059463348896, 0.8242200863739546, 0.8320759089247863, 0.829457586263573, 0.8060406648646693, 0.8148219836840335, 0.8017259551141431, 0.8436300134252507, 0.8200589138621908, 0.8416269791420089, 0.8202131632402795, 0.8057320948945592, 0.8339238392627478, 0.8222157702399254, 0.7857040309079862, 0.82206322999622, 0.8234492667671068, 0.8293016989650336, 0.7955640983789145, 0.8057328782478183, 0.8205207362153327, 0.8129725578534867, 0.780157889834325, 0.8362357283718301, 0.847019298121177, 0.8448621568877118]}, {\"categories\": [\"0\", \"1\", \"2\", \"3\", \"4\", \"5\", \"6\", \"7\", \"8\", \"9\", \"10\", \"11\", \"12\", \"13\", \"14\", \"15\", \"16\", \"17\", \"18\", \"19\", \"20\", \"21\", \"22\", \"23\", \"24\", \"25\", \"26\", \"27\", \"28\", \"29\", \"30\", \"31\", \"32\", \"33\", \"34\", \"35\", \"36\", \"37\", \"38\", \"39\", \"40\", \"41\", \"42\", \"43\", \"44\", \"45\", \"46\", \"47\", \"48\", \"49\", \"50\", \"51\", \"52\", \"53\", \"54\", \"55\", \"56\", \"57\", \"58\", \"59\", \"60\", \"61\", \"62\", \"63\", \"67\", \"68\"], \"mode\": \"lines\", \"name\": \"recall_score_weighted_max\", \"stepped\": true, \"type\": \"scatter\", \"data\": [0.8353110154565568, 0.8353110154565568, 0.8353110154565568, 0.8353110154565568, 0.8353110154565568, 0.8353110154565568, 0.8353110154565568, 0.8353110154565568, 0.8353110154565568, 0.8353110154565568, 0.8353110154565568, 0.8353110154565568, 0.8353110154565568, 0.8353110154565568, 0.8353110154565568, 0.8353110154565568, 0.8353110154565568, 0.8353110154565568, 0.8353110154565568, 0.8353110154565568, 0.8353110154565568, 0.8353110154565568, 0.8353110154565568, 0.8353110154565568, 0.8353110154565568, 0.8353110154565568, 0.8353110154565568, 0.8390091549783238, 0.8390091549783238, 0.8390091549783238, 0.8390091549783238, 0.8390091549783238, 0.8390091549783238, 0.8390091549783238, 0.8431685471417718, 0.8431685471417718, 0.8431685471417718, 0.8431685471417718, 0.8431685471417718, 0.8431685471417718, 0.8431685471417718, 0.8431685471417718, 0.8431685471417718, 0.8431685471417718, 0.8431685471417718, 0.8431685471417718, 0.8431685471417718, 0.8436300134252507, 0.8436300134252507, 0.8436300134252507, 0.8436300134252507, 0.8436300134252507, 0.8436300134252507, 0.8436300134252507, 0.8436300134252507, 0.8436300134252507, 0.8436300134252507, 0.8436300134252507, 0.8436300134252507, 0.8436300134252507, 0.8436300134252507, 0.8436300134252507, 0.8436300134252507, 0.8436300134252507, 0.847019298121177, 0.847019298121177]}], \"average_precision_score_macro\": [{\"categories\": [\"0\", \"1\", \"2\", \"3\", \"4\", \"5\", \"6\", \"7\", \"8\", \"9\", \"10\", \"11\", \"12\", \"13\", \"14\", \"15\", \"16\", \"17\", \"18\", \"19\", \"20\", \"21\", \"22\", \"23\", \"24\", \"25\", \"26\", \"27\", \"28\", \"29\", \"30\", \"31\", \"32\", \"33\", \"34\", \"35\", \"36\", \"37\", \"38\", \"39\", \"40\", \"41\", \"42\", \"43\", \"44\", \"45\", \"46\", \"47\", \"48\", \"49\", \"50\", \"51\", \"52\", \"53\", \"54\", \"55\", \"56\", \"57\", \"58\", \"59\", \"60\", \"61\", \"62\", \"63\", \"67\", \"68\"], \"mode\": \"markers\", \"name\": \"average_precision_score_macro\", \"stepped\": false, \"type\": \"scatter\", \"data\": [0.6425410818023468, 0.5851207735818518, 0.5252983644242125, 0.5266597693665346, 0.5564067093787775, 0.4999257050231869, 0.5564510385918102, 0.4979612184664892, 0.5025928008379501, 0.5128697667899775, 0.5150629520070117, 0.47859105099890625, 0.5382637980420096, 0.5085644173079445, 0.5204800403909098, 0.4585188019938291, 0.49859945649061177, 0.5596748336022149, 0.5372207264586756, 0.48232208111768493, 0.5235552224768832, 0.5968013504345976, 0.6201655308386137, 0.5777469895750381, 0.5362027751441705, 0.5473074994744235, 0.6164517637492163, 0.657579239773704, 0.6390294900974228, 0.61770600996927, 0.5466950164364636, 0.646322643448236, 0.6151663488863967, 0.6422073956397539, 0.6707510689505659, 0.3333333333333333, 0.5412193643209234, 0.6358163068641268, 0.6495812248380309, 0.6297665370764116, 0.6158336967451756, 0.622043459668678, 0.6422152743559391, 0.645059582485125, 0.5897562799425963, 0.605938940652654, 0.5802272068616158, 0.6626732706822985, 0.6293493434865952, 0.6710613015398114, 0.6222497631045417, 0.5904560691870864, 0.6509639315284947, 0.6323290698666192, 0.5467381420134937, 0.6196038241689209, 0.6200128670887151, 0.6366216857346073, 0.5688485164564571, 0.5881696647240363, 0.6150484723938, 0.5980396210005531, 0.5401159440496209, 0.6473475122963448, 0.6913852931869716, 0.6878713969535286]}, {\"categories\": [\"0\", \"1\", \"2\", \"3\", \"4\", \"5\", \"6\", \"7\", \"8\", \"9\", \"10\", \"11\", \"12\", \"13\", \"14\", \"15\", \"16\", \"17\", \"18\", \"19\", \"20\", \"21\", \"22\", \"23\", \"24\", \"25\", \"26\", \"27\", \"28\", \"29\", \"30\", \"31\", \"32\", \"33\", \"34\", \"35\", \"36\", \"37\", \"38\", \"39\", \"40\", \"41\", \"42\", \"43\", \"44\", \"45\", \"46\", \"47\", \"48\", \"49\", \"50\", \"51\", \"52\", \"53\", \"54\", \"55\", \"56\", \"57\", \"58\", \"59\", \"60\", \"61\", \"62\", \"63\", \"67\", \"68\"], \"mode\": \"lines\", \"name\": \"average_precision_score_macro_max\", \"stepped\": true, \"type\": \"scatter\", \"data\": [0.6425410818023468, 0.6425410818023468, 0.6425410818023468, 0.6425410818023468, 0.6425410818023468, 0.6425410818023468, 0.6425410818023468, 0.6425410818023468, 0.6425410818023468, 0.6425410818023468, 0.6425410818023468, 0.6425410818023468, 0.6425410818023468, 0.6425410818023468, 0.6425410818023468, 0.6425410818023468, 0.6425410818023468, 0.6425410818023468, 0.6425410818023468, 0.6425410818023468, 0.6425410818023468, 0.6425410818023468, 0.6425410818023468, 0.6425410818023468, 0.6425410818023468, 0.6425410818023468, 0.6425410818023468, 0.657579239773704, 0.657579239773704, 0.657579239773704, 0.657579239773704, 0.657579239773704, 0.657579239773704, 0.657579239773704, 0.6707510689505659, 0.6707510689505659, 0.6707510689505659, 0.6707510689505659, 0.6707510689505659, 0.6707510689505659, 0.6707510689505659, 0.6707510689505659, 0.6707510689505659, 0.6707510689505659, 0.6707510689505659, 0.6707510689505659, 0.6707510689505659, 0.6707510689505659, 0.6707510689505659, 0.6710613015398114, 0.6710613015398114, 0.6710613015398114, 0.6710613015398114, 0.6710613015398114, 0.6710613015398114, 0.6710613015398114, 0.6710613015398114, 0.6710613015398114, 0.6710613015398114, 0.6710613015398114, 0.6710613015398114, 0.6710613015398114, 0.6710613015398114, 0.6710613015398114, 0.6913852931869716, 0.6913852931869716]}], \"AUC_macro\": [{\"categories\": [\"0\", \"1\", \"2\", \"3\", \"4\", \"5\", \"6\", \"7\", \"8\", \"9\", \"10\", \"11\", \"12\", \"13\", \"14\", \"15\", \"16\", \"17\", \"18\", \"19\", \"20\", \"21\", \"22\", \"23\", \"24\", \"25\", \"26\", \"27\", \"28\", \"29\", \"30\", \"31\", \"32\", \"33\", \"34\", \"35\", \"36\", \"37\", \"38\", \"39\", \"40\", \"41\", \"42\", \"43\", \"44\", \"45\", \"46\", \"47\", \"48\", \"49\", \"50\", \"51\", \"52\", \"53\", \"54\", \"55\", \"56\", \"57\", \"58\", \"59\", \"60\", \"61\", \"62\", \"63\", \"67\", \"68\"], \"mode\": \"markers\", \"name\": \"AUC_macro\", \"stepped\": false, \"type\": \"scatter\", \"data\": [0.8528276163614606, 0.8270322518723088, 0.7912565007908374, 0.7800542054414756, 0.8166579425969983, 0.7591644370843184, 0.8168772036352872, 0.7498191180060007, 0.7712098468452933, 0.7753950794815694, 0.7704444544648843, 0.7464738003617089, 0.7760572925988618, 0.7632029433596036, 0.7823713688657016, 0.7115961634121404, 0.7653915923098987, 0.7815918298677195, 0.7967598875859047, 0.7386328967050632, 0.7829756072822791, 0.809741742640974, 0.8478111712044291, 0.820791139678998, 0.7939478601761477, 0.8031728109091701, 0.8469272210530664, 0.8535728507197753, 0.8530422902405236, 0.8419625542458086, 0.7693386018646357, 0.8593146328455052, 0.8413001654226985, 0.855546560839513, 0.8653077505790764, 0.5, 0.7766823618796423, 0.8527920047777289, 0.8560383400236131, 0.8412945661431491, 0.8453159415200268, 0.8457132664786524, 0.85736021148045, 0.859306889986923, 0.8305516476587703, 0.8346951432680375, 0.8214815762789741, 0.8575516293933423, 0.8486777502528913, 0.8667521774851283, 0.8472326153144222, 0.8326232075269119, 0.8575193177068243, 0.8522458393809703, 0.7777834269330114, 0.8469184489989517, 0.8430441549671465, 0.8495341964738361, 0.8150099040758674, 0.8294274299850999, 0.8254071750774985, 0.8341742769763622, 0.7768586443072337, 0.8570074426467543, 0.878910760189441, 0.8800732582119926]}, {\"categories\": [\"0\", \"1\", \"2\", \"3\", \"4\", \"5\", \"6\", \"7\", \"8\", \"9\", \"10\", \"11\", \"12\", \"13\", \"14\", \"15\", \"16\", \"17\", \"18\", \"19\", \"20\", \"21\", \"22\", \"23\", \"24\", \"25\", \"26\", \"27\", \"28\", \"29\", \"30\", \"31\", \"32\", \"33\", \"34\", \"35\", \"36\", \"37\", \"38\", \"39\", \"40\", \"41\", \"42\", \"43\", \"44\", \"45\", \"46\", \"47\", \"48\", \"49\", \"50\", \"51\", \"52\", \"53\", \"54\", \"55\", \"56\", \"57\", \"58\", \"59\", \"60\", \"61\", \"62\", \"63\", \"67\", \"68\"], \"mode\": \"lines\", \"name\": \"AUC_macro_max\", \"stepped\": true, \"type\": \"scatter\", \"data\": [0.8528276163614606, 0.8528276163614606, 0.8528276163614606, 0.8528276163614606, 0.8528276163614606, 0.8528276163614606, 0.8528276163614606, 0.8528276163614606, 0.8528276163614606, 0.8528276163614606, 0.8528276163614606, 0.8528276163614606, 0.8528276163614606, 0.8528276163614606, 0.8528276163614606, 0.8528276163614606, 0.8528276163614606, 0.8528276163614606, 0.8528276163614606, 0.8528276163614606, 0.8528276163614606, 0.8528276163614606, 0.8528276163614606, 0.8528276163614606, 0.8528276163614606, 0.8528276163614606, 0.8528276163614606, 0.8535728507197753, 0.8535728507197753, 0.8535728507197753, 0.8535728507197753, 0.8593146328455052, 0.8593146328455052, 0.8593146328455052, 0.8653077505790764, 0.8653077505790764, 0.8653077505790764, 0.8653077505790764, 0.8653077505790764, 0.8653077505790764, 0.8653077505790764, 0.8653077505790764, 0.8653077505790764, 0.8653077505790764, 0.8653077505790764, 0.8653077505790764, 0.8653077505790764, 0.8653077505790764, 0.8653077505790764, 0.8667521774851283, 0.8667521774851283, 0.8667521774851283, 0.8667521774851283, 0.8667521774851283, 0.8667521774851283, 0.8667521774851283, 0.8667521774851283, 0.8667521774851283, 0.8667521774851283, 0.8667521774851283, 0.8667521774851283, 0.8667521774851283, 0.8667521774851283, 0.8667521774851283, 0.878910760189441, 0.8800732582119926]}], \"recall_score_macro\": [{\"categories\": [\"0\", \"1\", \"2\", \"3\", \"4\", \"5\", \"6\", \"7\", \"8\", \"9\", \"10\", \"11\", \"12\", \"13\", \"14\", \"15\", \"16\", \"17\", \"18\", \"19\", \"20\", \"21\", \"22\", \"23\", \"24\", \"25\", \"26\", \"27\", \"28\", \"29\", \"30\", \"31\", \"32\", \"33\", \"34\", \"35\", \"36\", \"37\", \"38\", \"39\", \"40\", \"41\", \"42\", \"43\", \"44\", \"45\", \"46\", \"47\", \"48\", \"49\", \"50\", \"51\", \"52\", \"53\", \"54\", \"55\", \"56\", \"57\", \"58\", \"59\", \"60\", \"61\", \"62\", \"63\", \"67\", \"68\"], \"mode\": \"markers\", \"name\": \"recall_score_macro\", \"stepped\": false, \"type\": \"scatter\", \"data\": [0.536187640352255, 0.4587746183338653, 0.3801901923291125, 0.3333333333333333, 0.6360371921429827, 0.3534949401130845, 0.41396150884574573, 0.3587614784111384, 0.3333333333333333, 0.3333333333333333, 0.34492273033363796, 0.5724214147824553, 0.4080665660081661, 0.6071477293945561, 0.3333333333333333, 0.5462164881333225, 0.601132595846178, 0.4157733762556426, 0.4027064203543292, 0.565668242447967, 0.6166005142610143, 0.42253075504207643, 0.5239422378894639, 0.4497267532666809, 0.424186258467617, 0.41149292312624164, 0.522668491375836, 0.5455709062102304, 0.5212554472041915, 0.47858591433158565, 0.3333333333333333, 0.50554535478767, 0.4737396892422138, 0.5209905209676763, 0.5575456006804647, 0.3333333333333333, 0.4197981033942722, 0.5525970345909346, 0.5248250334650896, 0.5014645951112149, 0.49315417704706627, 0.49545461919087036, 0.5268062467934028, 0.5122176840763715, 0.4660577394618873, 0.46680122993145995, 0.4614596234004161, 0.5484219751814957, 0.48532693837374147, 0.5338463603931205, 0.5098673202446822, 0.46532551572463204, 0.5265203604927138, 0.5003423944743013, 0.3945317778412257, 0.48628189124681453, 0.5001495219710034, 0.549289304408637, 0.44035256279453416, 0.4564995157352292, 0.47412768277336464, 0.5079257568764066, 0.4179505795247301, 0.5277647495323727, 0.533520290284219, 0.5463554404065459]}, {\"categories\": [\"0\", \"1\", \"2\", \"3\", \"4\", \"5\", \"6\", \"7\", \"8\", \"9\", \"10\", \"11\", \"12\", \"13\", \"14\", \"15\", \"16\", \"17\", \"18\", \"19\", \"20\", \"21\", \"22\", \"23\", \"24\", \"25\", \"26\", \"27\", \"28\", \"29\", \"30\", \"31\", \"32\", \"33\", \"34\", \"35\", \"36\", \"37\", \"38\", \"39\", \"40\", \"41\", \"42\", \"43\", \"44\", \"45\", \"46\", \"47\", \"48\", \"49\", \"50\", \"51\", \"52\", \"53\", \"54\", \"55\", \"56\", \"57\", \"58\", \"59\", \"60\", \"61\", \"62\", \"63\", \"67\", \"68\"], \"mode\": \"lines\", \"name\": \"recall_score_macro_max\", \"stepped\": true, \"type\": \"scatter\", \"data\": [0.536187640352255, 0.536187640352255, 0.536187640352255, 0.536187640352255, 0.6360371921429827, 0.6360371921429827, 0.6360371921429827, 0.6360371921429827, 0.6360371921429827, 0.6360371921429827, 0.6360371921429827, 0.6360371921429827, 0.6360371921429827, 0.6360371921429827, 0.6360371921429827, 0.6360371921429827, 0.6360371921429827, 0.6360371921429827, 0.6360371921429827, 0.6360371921429827, 0.6360371921429827, 0.6360371921429827, 0.6360371921429827, 0.6360371921429827, 0.6360371921429827, 0.6360371921429827, 0.6360371921429827, 0.6360371921429827, 0.6360371921429827, 0.6360371921429827, 0.6360371921429827, 0.6360371921429827, 0.6360371921429827, 0.6360371921429827, 0.6360371921429827, 0.6360371921429827, 0.6360371921429827, 0.6360371921429827, 0.6360371921429827, 0.6360371921429827, 0.6360371921429827, 0.6360371921429827, 0.6360371921429827, 0.6360371921429827, 0.6360371921429827, 0.6360371921429827, 0.6360371921429827, 0.6360371921429827, 0.6360371921429827, 0.6360371921429827, 0.6360371921429827, 0.6360371921429827, 0.6360371921429827, 0.6360371921429827, 0.6360371921429827, 0.6360371921429827, 0.6360371921429827, 0.6360371921429827, 0.6360371921429827, 0.6360371921429827, 0.6360371921429827, 0.6360371921429827, 0.6360371921429827, 0.6360371921429827, 0.6360371921429827, 0.6360371921429827]}], \"matthews_correlation\": [{\"categories\": [\"0\", \"1\", \"2\", \"3\", \"4\", \"5\", \"6\", \"7\", \"8\", \"9\", \"10\", \"11\", \"12\", \"13\", \"14\", \"15\", \"16\", \"17\", \"18\", \"19\", \"20\", \"21\", \"22\", \"23\", \"24\", \"25\", \"26\", \"27\", \"28\", \"29\", \"30\", \"31\", \"32\", \"33\", \"34\", \"35\", \"36\", \"37\", \"38\", \"39\", \"40\", \"41\", \"42\", \"43\", \"44\", \"45\", \"46\", \"47\", \"48\", \"49\", \"50\", \"51\", \"52\", \"53\", \"54\", \"55\", \"56\", \"57\", \"58\", \"59\", \"60\", \"61\", \"62\", \"63\", \"67\", \"68\"], \"mode\": \"markers\", \"name\": \"matthews_correlation\", \"stepped\": false, \"type\": \"scatter\", \"data\": [0.5069864313382312, 0.3799284866009524, 0.2318865624931469, 0.0, 0.3641558825230317, 0.148563315810509, 0.31453579990418906, 0.15061993083132422, 0.0, 0.0, 0.09474843022916057, 0.23552758749532718, 0.26692373971935907, 0.27221452244061844, 0.0, 0.21172228397768791, 0.26732916645469923, 0.3362448585542022, 0.2800871731284046, 0.24149854494887477, 0.30414872036642865, 0.3316271477213297, 0.4752347987643435, 0.3840365491748272, 0.29257344722111195, 0.30037312981423037, 0.4690084927801646, 0.5191587614895697, 0.48476335035678747, 0.44284639171038753, 0.0, 0.49446748224414, 0.3984596814306234, 0.4930463943599785, 0.5347245289994743, 0.0, 0.2706120004407783, 0.505574283796676, 0.4855852588663951, 0.46971841104502743, 0.44516150469723303, 0.46155177040565426, 0.49683018307554017, 0.4794876262299475, 0.38953405128854784, 0.4195203255639938, 0.3714303032486896, 0.5351795386277819, 0.4429018819675665, 0.5215898024946355, 0.4516173449363981, 0.38711812272930324, 0.4976184653244557, 0.4523804074421236, 0.26776876166034713, 0.4508708601846813, 0.4612352758338892, 0.49420403004227015, 0.34364358765211794, 0.3851400039418602, 0.4366485425271436, 0.42944841448081245, 0.27170334067827023, 0.5064288137216413, 0.5387461048091455, 0.5378077181091913]}, {\"categories\": [\"0\", \"1\", \"2\", \"3\", \"4\", \"5\", \"6\", \"7\", \"8\", \"9\", \"10\", \"11\", \"12\", \"13\", \"14\", \"15\", \"16\", \"17\", \"18\", \"19\", \"20\", \"21\", \"22\", \"23\", \"24\", \"25\", \"26\", \"27\", \"28\", \"29\", \"30\", \"31\", \"32\", \"33\", \"34\", \"35\", \"36\", \"37\", \"38\", \"39\", \"40\", \"41\", \"42\", \"43\", \"44\", \"45\", \"46\", \"47\", \"48\", \"49\", \"50\", \"51\", \"52\", \"53\", \"54\", \"55\", \"56\", \"57\", \"58\", \"59\", \"60\", \"61\", \"62\", \"63\", \"67\", \"68\"], \"mode\": \"lines\", \"name\": \"matthews_correlation_max\", \"stepped\": true, \"type\": \"scatter\", \"data\": [0.5069864313382312, 0.5069864313382312, 0.5069864313382312, 0.5069864313382312, 0.5069864313382312, 0.5069864313382312, 0.5069864313382312, 0.5069864313382312, 0.5069864313382312, 0.5069864313382312, 0.5069864313382312, 0.5069864313382312, 0.5069864313382312, 0.5069864313382312, 0.5069864313382312, 0.5069864313382312, 0.5069864313382312, 0.5069864313382312, 0.5069864313382312, 0.5069864313382312, 0.5069864313382312, 0.5069864313382312, 0.5069864313382312, 0.5069864313382312, 0.5069864313382312, 0.5069864313382312, 0.5069864313382312, 0.5191587614895697, 0.5191587614895697, 0.5191587614895697, 0.5191587614895697, 0.5191587614895697, 0.5191587614895697, 0.5191587614895697, 0.5347245289994743, 0.5347245289994743, 0.5347245289994743, 0.5347245289994743, 0.5347245289994743, 0.5347245289994743, 0.5347245289994743, 0.5347245289994743, 0.5347245289994743, 0.5347245289994743, 0.5347245289994743, 0.5347245289994743, 0.5347245289994743, 0.5351795386277819, 0.5351795386277819, 0.5351795386277819, 0.5351795386277819, 0.5351795386277819, 0.5351795386277819, 0.5351795386277819, 0.5351795386277819, 0.5351795386277819, 0.5351795386277819, 0.5351795386277819, 0.5351795386277819, 0.5351795386277819, 0.5351795386277819, 0.5351795386277819, 0.5351795386277819, 0.5351795386277819, 0.5387461048091455, 0.5387461048091455]}], \"precision_score_weighted\": [{\"categories\": [\"0\", \"1\", \"2\", \"3\", \"4\", \"5\", \"6\", \"7\", \"8\", \"9\", \"10\", \"11\", \"12\", \"13\", \"14\", \"15\", \"16\", \"17\", \"18\", \"19\", \"20\", \"21\", \"22\", \"23\", \"24\", \"25\", \"26\", \"27\", \"28\", \"29\", \"30\", \"31\", \"32\", \"33\", \"34\", \"35\", \"36\", \"37\", \"38\", \"39\", \"40\", \"41\", \"42\", \"43\", \"44\", \"45\", \"46\", \"47\", \"48\", \"49\", \"50\", \"51\", \"52\", \"53\", \"54\", \"55\", \"56\", \"57\", \"58\", \"59\", \"60\", \"61\", \"62\", \"63\", \"67\", \"68\"], \"mode\": \"markers\", \"name\": \"precision_score_weighted\", \"stepped\": false, \"type\": \"scatter\", \"data\": [0.8235961260738399, 0.7832888507161044, 0.7328704758215641, 0.5863073382968215, 0.7805770300453608, 0.7383431393991913, 0.748688256138561, 0.7124171573049877, 0.5863073382968215, 0.5863073382968215, 0.6841376261838805, 0.7442962564797485, 0.739787693132536, 0.7589583680874629, 0.5863073382968215, 0.7386634714976165, 0.758427993262092, 0.7596207542365274, 0.7370799481390851, 0.7506292702634392, 0.7667948451108212, 0.7844935132920444, 0.8103611551705349, 0.7765115481455384, 0.7398951105476849, 0.7426111959796181, 0.8056956662741874, 0.8256384649616063, 0.8147246614298348, 0.7996549913306715, 0.5863073382968215, 0.8137002855608819, 0.7938798038213487, 0.8216932217335762, 0.8329856541311568, 0.5863073382968215, 0.7496567701875575, 0.82013716915676, 0.816118929388637, 0.8130464691170897, 0.8017795940184475, 0.8059754294832362, 0.8167709804007687, 0.814693755409109, 0.7839528343254267, 0.7987868255738783, 0.7781440145412422, 0.8325354646501434, 0.7990107681264974, 0.831888242100787, 0.8035728899181985, 0.7839684475267551, 0.8220971048666103, 0.8075343347945111, 0.7390859616055577, 0.8028340473256605, 0.8052995061497934, 0.8157460744976818, 0.7627425482999427, 0.7811107403189906, 0.8079650423995349, 0.7940933276474494, 0.7508569326038458, 0.8242837654321796, 0.8393487687998996, 0.8364324388832233]}, {\"categories\": [\"0\", \"1\", \"2\", \"3\", \"4\", \"5\", \"6\", \"7\", \"8\", \"9\", \"10\", \"11\", \"12\", \"13\", \"14\", \"15\", \"16\", \"17\", \"18\", \"19\", \"20\", \"21\", \"22\", \"23\", \"24\", \"25\", \"26\", \"27\", \"28\", \"29\", \"30\", \"31\", \"32\", \"33\", \"34\", \"35\", \"36\", \"37\", \"38\", \"39\", \"40\", \"41\", \"42\", \"43\", \"44\", \"45\", \"46\", \"47\", \"48\", \"49\", \"50\", \"51\", \"52\", \"53\", \"54\", \"55\", \"56\", \"57\", \"58\", \"59\", \"60\", \"61\", \"62\", \"63\", \"67\", \"68\"], \"mode\": \"lines\", \"name\": \"precision_score_weighted_max\", \"stepped\": true, \"type\": \"scatter\", \"data\": [0.8235961260738399, 0.8235961260738399, 0.8235961260738399, 0.8235961260738399, 0.8235961260738399, 0.8235961260738399, 0.8235961260738399, 0.8235961260738399, 0.8235961260738399, 0.8235961260738399, 0.8235961260738399, 0.8235961260738399, 0.8235961260738399, 0.8235961260738399, 0.8235961260738399, 0.8235961260738399, 0.8235961260738399, 0.8235961260738399, 0.8235961260738399, 0.8235961260738399, 0.8235961260738399, 0.8235961260738399, 0.8235961260738399, 0.8235961260738399, 0.8235961260738399, 0.8235961260738399, 0.8235961260738399, 0.8256384649616063, 0.8256384649616063, 0.8256384649616063, 0.8256384649616063, 0.8256384649616063, 0.8256384649616063, 0.8256384649616063, 0.8329856541311568, 0.8329856541311568, 0.8329856541311568, 0.8329856541311568, 0.8329856541311568, 0.8329856541311568, 0.8329856541311568, 0.8329856541311568, 0.8329856541311568, 0.8329856541311568, 0.8329856541311568, 0.8329856541311568, 0.8329856541311568, 0.8329856541311568, 0.8329856541311568, 0.8329856541311568, 0.8329856541311568, 0.8329856541311568, 0.8329856541311568, 0.8329856541311568, 0.8329856541311568, 0.8329856541311568, 0.8329856541311568, 0.8329856541311568, 0.8329856541311568, 0.8329856541311568, 0.8329856541311568, 0.8329856541311568, 0.8329856541311568, 0.8329856541311568, 0.8393487687998996, 0.8393487687998996]}], \"AUC_weighted\": [{\"categories\": [\"0\", \"1\", \"2\", \"3\", \"4\", \"5\", \"6\", \"7\", \"8\", \"9\", \"10\", \"11\", \"12\", \"13\", \"14\", \"15\", \"16\", \"17\", \"18\", \"19\", \"20\", \"21\", \"22\", \"23\", \"24\", \"25\", \"26\", \"27\", \"28\", \"29\", \"30\", \"31\", \"32\", \"33\", \"34\", \"35\", \"36\", \"37\", \"38\", \"39\", \"40\", \"41\", \"42\", \"43\", \"44\", \"45\", \"46\", \"47\", \"48\", \"49\", \"50\", \"51\", \"52\", \"53\", \"54\", \"55\", \"56\", \"57\", \"58\", \"59\", \"60\", \"61\", \"62\", \"63\", \"67\", \"68\"], \"mode\": \"markers\", \"name\": \"AUC_weighted\", \"stepped\": false, \"type\": \"scatter\", \"data\": [0.8509991226746418, 0.815878141228842, 0.7802530579223389, 0.7622261011496935, 0.7919572519912906, 0.7695660783297299, 0.8067961914493663, 0.7589848602313051, 0.7570017309271325, 0.7616314130464549, 0.7579466010787983, 0.7309894353752541, 0.7641019343030234, 0.7397385400562251, 0.7682247984273295, 0.6869108046033491, 0.7360571160761361, 0.8008902333820019, 0.7951207627411123, 0.729291374656791, 0.7604639126784806, 0.816476414489668, 0.8412165194702528, 0.8118876888835281, 0.7859527059412824, 0.7931183793966889, 0.8381391526154398, 0.8535863552470692, 0.8471867421904928, 0.8375752537154962, 0.7899988692406296, 0.8570315053575616, 0.8323337075853058, 0.8523413087348123, 0.8649088897823748, 0.5, 0.7650801138767402, 0.8480111848823623, 0.8486684791004149, 0.8386966377118698, 0.835399911511158, 0.8448566389305988, 0.8512167801222089, 0.853778424141311, 0.8188010125912925, 0.8292409189820719, 0.8106139401409392, 0.8601180724822227, 0.8396861478692915, 0.8672851279750815, 0.8372285308555206, 0.8202546605478552, 0.8526547689974571, 0.8443423763935171, 0.7878002090935291, 0.841510222970732, 0.8406355736947857, 0.848107533215495, 0.8037313128871578, 0.8180246831337857, 0.8323831528216766, 0.8238638736652052, 0.7644856761724382, 0.8547066173015637, 0.875560614701676, 0.8742028537646463]}, {\"categories\": [\"0\", \"1\", \"2\", \"3\", \"4\", \"5\", \"6\", \"7\", \"8\", \"9\", \"10\", \"11\", \"12\", \"13\", \"14\", \"15\", \"16\", \"17\", \"18\", \"19\", \"20\", \"21\", \"22\", \"23\", \"24\", \"25\", \"26\", \"27\", \"28\", \"29\", \"30\", \"31\", \"32\", \"33\", \"34\", \"35\", \"36\", \"37\", \"38\", \"39\", \"40\", \"41\", \"42\", \"43\", \"44\", \"45\", \"46\", \"47\", \"48\", \"49\", \"50\", \"51\", \"52\", \"53\", \"54\", \"55\", \"56\", \"57\", \"58\", \"59\", \"60\", \"61\", \"62\", \"63\", \"67\", \"68\"], \"mode\": \"lines\", \"name\": \"AUC_weighted_max\", \"stepped\": true, \"type\": \"scatter\", \"data\": [0.8509991226746418, 0.8509991226746418, 0.8509991226746418, 0.8509991226746418, 0.8509991226746418, 0.8509991226746418, 0.8509991226746418, 0.8509991226746418, 0.8509991226746418, 0.8509991226746418, 0.8509991226746418, 0.8509991226746418, 0.8509991226746418, 0.8509991226746418, 0.8509991226746418, 0.8509991226746418, 0.8509991226746418, 0.8509991226746418, 0.8509991226746418, 0.8509991226746418, 0.8509991226746418, 0.8509991226746418, 0.8509991226746418, 0.8509991226746418, 0.8509991226746418, 0.8509991226746418, 0.8509991226746418, 0.8535863552470692, 0.8535863552470692, 0.8535863552470692, 0.8535863552470692, 0.8570315053575616, 0.8570315053575616, 0.8570315053575616, 0.8649088897823748, 0.8649088897823748, 0.8649088897823748, 0.8649088897823748, 0.8649088897823748, 0.8649088897823748, 0.8649088897823748, 0.8649088897823748, 0.8649088897823748, 0.8649088897823748, 0.8649088897823748, 0.8649088897823748, 0.8649088897823748, 0.8649088897823748, 0.8649088897823748, 0.8672851279750815, 0.8672851279750815, 0.8672851279750815, 0.8672851279750815, 0.8672851279750815, 0.8672851279750815, 0.8672851279750815, 0.8672851279750815, 0.8672851279750815, 0.8672851279750815, 0.8672851279750815, 0.8672851279750815, 0.8672851279750815, 0.8672851279750815, 0.8672851279750815, 0.875560614701676, 0.875560614701676]}], \"balanced_accuracy\": [{\"categories\": [\"0\", \"1\", \"2\", \"3\", \"4\", \"5\", \"6\", \"7\", \"8\", \"9\", \"10\", \"11\", \"12\", \"13\", \"14\", \"15\", \"16\", \"17\", \"18\", \"19\", \"20\", \"21\", \"22\", \"23\", \"24\", \"25\", \"26\", \"27\", \"28\", \"29\", \"30\", \"31\", \"32\", \"33\", \"34\", \"35\", \"36\", \"37\", \"38\", \"39\", \"40\", \"41\", \"42\", \"43\", \"44\", \"45\", \"46\", \"47\", \"48\", \"49\", \"50\", \"51\", \"52\", \"53\", \"54\", \"55\", \"56\", \"57\", \"58\", \"59\", \"60\", \"61\", \"62\", \"63\", \"67\", \"68\"], \"mode\": \"markers\", \"name\": \"balanced_accuracy\", \"stepped\": false, \"type\": \"scatter\", \"data\": [0.536187640352255, 0.4587746183338653, 0.3801901923291125, 0.3333333333333333, 0.6360371921429827, 0.3534949401130845, 0.41396150884574573, 0.3587614784111384, 0.3333333333333333, 0.3333333333333333, 0.34492273033363796, 0.5724214147824553, 0.4080665660081661, 0.6071477293945561, 0.3333333333333333, 0.5462164881333225, 0.601132595846178, 0.4157733762556426, 0.4027064203543292, 0.565668242447967, 0.6166005142610143, 0.42253075504207643, 0.5239422378894639, 0.4497267532666809, 0.424186258467617, 0.41149292312624164, 0.522668491375836, 0.5455709062102304, 0.5212554472041915, 0.47858591433158565, 0.3333333333333333, 0.50554535478767, 0.4737396892422138, 0.5209905209676763, 0.5575456006804647, 0.3333333333333333, 0.4197981033942722, 0.5525970345909346, 0.5248250334650896, 0.5014645951112149, 0.49315417704706627, 0.49545461919087036, 0.5268062467934028, 0.5122176840763715, 0.4660577394618873, 0.46680122993145995, 0.4614596234004161, 0.5484219751814957, 0.48532693837374147, 0.5338463603931205, 0.5098673202446822, 0.46532551572463204, 0.5265203604927138, 0.5003423944743013, 0.3945317778412257, 0.48628189124681453, 0.5001495219710034, 0.549289304408637, 0.44035256279453416, 0.4564995157352292, 0.47412768277336464, 0.5079257568764066, 0.4179505795247301, 0.5277647495323727, 0.533520290284219, 0.5463554404065459]}, {\"categories\": [\"0\", \"1\", \"2\", \"3\", \"4\", \"5\", \"6\", \"7\", \"8\", \"9\", \"10\", \"11\", \"12\", \"13\", \"14\", \"15\", \"16\", \"17\", \"18\", \"19\", \"20\", \"21\", \"22\", \"23\", \"24\", \"25\", \"26\", \"27\", \"28\", \"29\", \"30\", \"31\", \"32\", \"33\", \"34\", \"35\", \"36\", \"37\", \"38\", \"39\", \"40\", \"41\", \"42\", \"43\", \"44\", \"45\", \"46\", \"47\", \"48\", \"49\", \"50\", \"51\", \"52\", \"53\", \"54\", \"55\", \"56\", \"57\", \"58\", \"59\", \"60\", \"61\", \"62\", \"63\", \"67\", \"68\"], \"mode\": \"lines\", \"name\": \"balanced_accuracy_max\", \"stepped\": true, \"type\": \"scatter\", \"data\": [0.536187640352255, 0.536187640352255, 0.536187640352255, 0.536187640352255, 0.6360371921429827, 0.6360371921429827, 0.6360371921429827, 0.6360371921429827, 0.6360371921429827, 0.6360371921429827, 0.6360371921429827, 0.6360371921429827, 0.6360371921429827, 0.6360371921429827, 0.6360371921429827, 0.6360371921429827, 0.6360371921429827, 0.6360371921429827, 0.6360371921429827, 0.6360371921429827, 0.6360371921429827, 0.6360371921429827, 0.6360371921429827, 0.6360371921429827, 0.6360371921429827, 0.6360371921429827, 0.6360371921429827, 0.6360371921429827, 0.6360371921429827, 0.6360371921429827, 0.6360371921429827, 0.6360371921429827, 0.6360371921429827, 0.6360371921429827, 0.6360371921429827, 0.6360371921429827, 0.6360371921429827, 0.6360371921429827, 0.6360371921429827, 0.6360371921429827, 0.6360371921429827, 0.6360371921429827, 0.6360371921429827, 0.6360371921429827, 0.6360371921429827, 0.6360371921429827, 0.6360371921429827, 0.6360371921429827, 0.6360371921429827, 0.6360371921429827, 0.6360371921429827, 0.6360371921429827, 0.6360371921429827, 0.6360371921429827, 0.6360371921429827, 0.6360371921429827, 0.6360371921429827, 0.6360371921429827, 0.6360371921429827, 0.6360371921429827, 0.6360371921429827, 0.6360371921429827, 0.6360371921429827, 0.6360371921429827, 0.6360371921429827, 0.6360371921429827]}], \"average_precision_score_micro\": [{\"categories\": [\"0\", \"1\", \"2\", \"3\", \"4\", \"5\", \"6\", \"7\", \"8\", \"9\", \"10\", \"11\", \"12\", \"13\", \"14\", \"15\", \"16\", \"17\", \"18\", \"19\", \"20\", \"21\", \"22\", \"23\", \"24\", \"25\", \"26\", \"27\", \"28\", \"29\", \"30\", \"31\", \"32\", \"33\", \"34\", \"35\", \"36\", \"37\", \"38\", \"39\", \"40\", \"41\", \"42\", \"43\", \"44\", \"45\", \"46\", \"47\", \"48\", \"49\", \"50\", \"51\", \"52\", \"53\", \"54\", \"55\", \"56\", \"57\", \"58\", \"59\", \"60\", \"61\", \"62\", \"63\", \"67\", \"68\"], \"mode\": \"markers\", \"name\": \"average_precision_score_micro\", \"stepped\": false, \"type\": \"scatter\", \"data\": [0.8952923881292026, 0.8757010703630862, 0.8542957214764119, 0.8446834552676571, 0.6765446531186398, 0.849566877951796, 0.8698724727666419, 0.8449033351148897, 0.8408481954240834, 0.8444496921466315, 0.8419328445252724, 0.4581804703372094, 0.8415435249046984, 0.5106510805494894, 0.8475557759801046, 0.4716863098791249, 0.4930917828188015, 0.8653477923722722, 0.8626000923516135, 0.47542407434771167, 0.5469456069722737, 0.8749643415883767, 0.8904968559665046, 0.8733640580432883, 0.857971804910498, 0.8611161707180299, 0.8872268021454635, 0.8986433753795741, 0.8959762880900648, 0.8886954418259517, 0.850975661588333, 0.9011225232393629, 0.8856435049622374, 0.8969985232838692, 0.9075389403783879, 0.6934251298931186, 0.8415668076552718, 0.8932817152158591, 0.896639001647546, 0.8904742510029564, 0.88729112861846, 0.8922334467383514, 0.8964683229959335, 0.8986405035400797, 0.8778901044688873, 0.8834419499016098, 0.8717526216896886, 0.9025874993601067, 0.8891339968404757, 0.90757838924729, 0.8887116837779226, 0.8783489477559527, 0.8997598337320984, 0.8933098312798174, 0.8555967397149957, 0.8911752215577429, 0.8901618943273669, 0.891970865002825, 0.8676135814561468, 0.8773929018383799, 0.8848551631360078, 0.8789503699369711, 0.8417230052790368, 0.8985198805262707, 0.9132321357893293, 0.9073637944553318]}, {\"categories\": [\"0\", \"1\", \"2\", \"3\", \"4\", \"5\", \"6\", \"7\", \"8\", \"9\", \"10\", \"11\", \"12\", \"13\", \"14\", \"15\", \"16\", \"17\", \"18\", \"19\", \"20\", \"21\", \"22\", \"23\", \"24\", \"25\", \"26\", \"27\", \"28\", \"29\", \"30\", \"31\", \"32\", \"33\", \"34\", \"35\", \"36\", \"37\", \"38\", \"39\", \"40\", \"41\", \"42\", \"43\", \"44\", \"45\", \"46\", \"47\", \"48\", \"49\", \"50\", \"51\", \"52\", \"53\", \"54\", \"55\", \"56\", \"57\", \"58\", \"59\", \"60\", \"61\", \"62\", \"63\", \"67\", \"68\"], \"mode\": \"lines\", \"name\": \"average_precision_score_micro_max\", \"stepped\": true, \"type\": \"scatter\", \"data\": [0.8952923881292026, 0.8952923881292026, 0.8952923881292026, 0.8952923881292026, 0.8952923881292026, 0.8952923881292026, 0.8952923881292026, 0.8952923881292026, 0.8952923881292026, 0.8952923881292026, 0.8952923881292026, 0.8952923881292026, 0.8952923881292026, 0.8952923881292026, 0.8952923881292026, 0.8952923881292026, 0.8952923881292026, 0.8952923881292026, 0.8952923881292026, 0.8952923881292026, 0.8952923881292026, 0.8952923881292026, 0.8952923881292026, 0.8952923881292026, 0.8952923881292026, 0.8952923881292026, 0.8952923881292026, 0.8986433753795741, 0.8986433753795741, 0.8986433753795741, 0.8986433753795741, 0.9011225232393629, 0.9011225232393629, 0.9011225232393629, 0.9075389403783879, 0.9075389403783879, 0.9075389403783879, 0.9075389403783879, 0.9075389403783879, 0.9075389403783879, 0.9075389403783879, 0.9075389403783879, 0.9075389403783879, 0.9075389403783879, 0.9075389403783879, 0.9075389403783879, 0.9075389403783879, 0.9075389403783879, 0.9075389403783879, 0.90757838924729, 0.90757838924729, 0.90757838924729, 0.90757838924729, 0.90757838924729, 0.90757838924729, 0.90757838924729, 0.90757838924729, 0.90757838924729, 0.90757838924729, 0.90757838924729, 0.90757838924729, 0.90757838924729, 0.90757838924729, 0.90757838924729, 0.9132321357893293, 0.9132321357893293]}], \"f1_score_macro\": [{\"categories\": [\"0\", \"1\", \"2\", \"3\", \"4\", \"5\", \"6\", \"7\", \"8\", \"9\", \"10\", \"11\", \"12\", \"13\", \"14\", \"15\", \"16\", \"17\", \"18\", \"19\", \"20\", \"21\", \"22\", \"23\", \"24\", \"25\", \"26\", \"27\", \"28\", \"29\", \"30\", \"31\", \"32\", \"33\", \"34\", \"35\", \"36\", \"37\", \"38\", \"39\", \"40\", \"41\", \"42\", \"43\", \"44\", \"45\", \"46\", \"47\", \"48\", \"49\", \"50\", \"51\", \"52\", \"53\", \"54\", \"55\", \"56\", \"57\", \"58\", \"59\", \"60\", \"61\", \"62\", \"63\", \"67\", \"68\"], \"mode\": \"markers\", \"name\": \"f1_score_macro\", \"stepped\": false, \"type\": \"scatter\", \"data\": [0.5730574682926842, 0.482635271718578, 0.3774543143151163, 0.28909031807928937, 0.5143046030559956, 0.33016982108077847, 0.4229872704078308, 0.3401839761606755, 0.28909031807928937, 0.28909031807928937, 0.3131174129795849, 0.3957670105166877, 0.4157317232669948, 0.425024133237895, 0.28909031807928937, 0.37739283086140674, 0.420819864965267, 0.4261848451881672, 0.40830281351649317, 0.4011708372003864, 0.4577756754893334, 0.44213541329712197, 0.5555282543537808, 0.46676051856882156, 0.4355366285673507, 0.41919111621308613, 0.5562206721489455, 0.5854244666199868, 0.5549399249080883, 0.49873661603747516, 0.28909031807928937, 0.5313976221100383, 0.5063107901886302, 0.5564356596102025, 0.5991362591006291, 0.28909031807928937, 0.4373424312957069, 0.592782975339616, 0.5618384901838929, 0.5343036774666119, 0.523139256873472, 0.522461038092287, 0.5580878964028445, 0.5468864670470172, 0.49214062323310914, 0.48775336272373365, 0.4884874101517422, 0.5854218184162471, 0.5114501432286146, 0.5737900105064838, 0.5445363445978755, 0.4926259274903157, 0.5639924169218093, 0.535903983087786, 0.39770827191808195, 0.5094649319776504, 0.5270132734583544, 0.5877529900961168, 0.4568530424026856, 0.47698171393245464, 0.5025947440253421, 0.5431590411540236, 0.4346065029402075, 0.563841148720725, 0.5728364290234013, 0.5842577162828374]}, {\"categories\": [\"0\", \"1\", \"2\", \"3\", \"4\", \"5\", \"6\", \"7\", \"8\", \"9\", \"10\", \"11\", \"12\", \"13\", \"14\", \"15\", \"16\", \"17\", \"18\", \"19\", \"20\", \"21\", \"22\", \"23\", \"24\", \"25\", \"26\", \"27\", \"28\", \"29\", \"30\", \"31\", \"32\", \"33\", \"34\", \"35\", \"36\", \"37\", \"38\", \"39\", \"40\", \"41\", \"42\", \"43\", \"44\", \"45\", \"46\", \"47\", \"48\", \"49\", \"50\", \"51\", \"52\", \"53\", \"54\", \"55\", \"56\", \"57\", \"58\", \"59\", \"60\", \"61\", \"62\", \"63\", \"67\", \"68\"], \"mode\": \"lines\", \"name\": \"f1_score_macro_max\", \"stepped\": true, \"type\": \"scatter\", \"data\": [0.5730574682926842, 0.5730574682926842, 0.5730574682926842, 0.5730574682926842, 0.5730574682926842, 0.5730574682926842, 0.5730574682926842, 0.5730574682926842, 0.5730574682926842, 0.5730574682926842, 0.5730574682926842, 0.5730574682926842, 0.5730574682926842, 0.5730574682926842, 0.5730574682926842, 0.5730574682926842, 0.5730574682926842, 0.5730574682926842, 0.5730574682926842, 0.5730574682926842, 0.5730574682926842, 0.5730574682926842, 0.5730574682926842, 0.5730574682926842, 0.5730574682926842, 0.5730574682926842, 0.5730574682926842, 0.5854244666199868, 0.5854244666199868, 0.5854244666199868, 0.5854244666199868, 0.5854244666199868, 0.5854244666199868, 0.5854244666199868, 0.5991362591006291, 0.5991362591006291, 0.5991362591006291, 0.5991362591006291, 0.5991362591006291, 0.5991362591006291, 0.5991362591006291, 0.5991362591006291, 0.5991362591006291, 0.5991362591006291, 0.5991362591006291, 0.5991362591006291, 0.5991362591006291, 0.5991362591006291, 0.5991362591006291, 0.5991362591006291, 0.5991362591006291, 0.5991362591006291, 0.5991362591006291, 0.5991362591006291, 0.5991362591006291, 0.5991362591006291, 0.5991362591006291, 0.5991362591006291, 0.5991362591006291, 0.5991362591006291, 0.5991362591006291, 0.5991362591006291, 0.5991362591006291, 0.5991362591006291, 0.5991362591006291, 0.5991362591006291]}], \"precision_score_macro\": [{\"categories\": [\"0\", \"1\", \"2\", \"3\", \"4\", \"5\", \"6\", \"7\", \"8\", \"9\", \"10\", \"11\", \"12\", \"13\", \"14\", \"15\", \"16\", \"17\", \"18\", \"19\", \"20\", \"21\", \"22\", \"23\", \"24\", \"25\", \"26\", \"27\", \"28\", \"29\", \"30\", \"31\", \"32\", \"33\", \"34\", \"35\", \"36\", \"37\", \"38\", \"39\", \"40\", \"41\", \"42\", \"43\", \"44\", \"45\", \"46\", \"47\", \"48\", \"49\", \"50\", \"51\", \"52\", \"53\", \"54\", \"55\", \"56\", \"57\", \"58\", \"59\", \"60\", \"61\", \"62\", \"63\", \"67\", \"68\"], \"mode\": \"markers\", \"name\": \"precision_score_macro\", \"stepped\": false, \"type\": \"scatter\", \"data\": [0.7433950409467078, 0.6869336929512228, 0.4828265045430314, 0.2552250137134297, 0.4999090868279379, 0.5037694837175115, 0.49323309628245315, 0.4574713880390926, 0.2552250137134297, 0.2552250137134297, 0.41642127124003087, 0.44488043870695515, 0.5699796009274744, 0.46029418717250037, 0.2552250137134297, 0.4312118271139734, 0.45930040513135834, 0.5106135140117903, 0.478569868267257, 0.44913940784524126, 0.47047834679530703, 0.7334269474174565, 0.7036335823718242, 0.5932872693923601, 0.5235638454298754, 0.4837194634497224, 0.6723642505359345, 0.7232788123567008, 0.7199026876452366, 0.6857872071293042, 0.2552250137134297, 0.6764795421026131, 0.725914766707509, 0.7557260910758371, 0.7595839970656719, 0.2552250137134297, 0.6673162070785997, 0.7186607546391818, 0.7349933106052409, 0.731923581523933, 0.6898289917916517, 0.6897246945590133, 0.7049936006879087, 0.7209436734470208, 0.6683663383363402, 0.7260027727593624, 0.6597105560477384, 0.7495214126110668, 0.6644496493316042, 0.7790644376822127, 0.7046140406049187, 0.6755244335972258, 0.7525572508745961, 0.7233881628777036, 0.4865329680081349, 0.6976206955323643, 0.689620146707291, 0.7102537279994046, 0.5856476563809436, 0.6497527331473566, 0.747282303586577, 0.6744709868313765, 0.6698065616332721, 0.7483087311328278, 0.7921455382817544, 0.772793769358214]}, {\"categories\": [\"0\", \"1\", \"2\", \"3\", \"4\", \"5\", \"6\", \"7\", \"8\", \"9\", \"10\", \"11\", \"12\", \"13\", \"14\", \"15\", \"16\", \"17\", \"18\", \"19\", \"20\", \"21\", \"22\", \"23\", \"24\", \"25\", \"26\", \"27\", \"28\", \"29\", \"30\", \"31\", \"32\", \"33\", \"34\", \"35\", \"36\", \"37\", \"38\", \"39\", \"40\", \"41\", \"42\", \"43\", \"44\", \"45\", \"46\", \"47\", \"48\", \"49\", \"50\", \"51\", \"52\", \"53\", \"54\", \"55\", \"56\", \"57\", \"58\", \"59\", \"60\", \"61\", \"62\", \"63\", \"67\", \"68\"], \"mode\": \"lines\", \"name\": \"precision_score_macro_max\", \"stepped\": true, \"type\": \"scatter\", \"data\": [0.7433950409467078, 0.7433950409467078, 0.7433950409467078, 0.7433950409467078, 0.7433950409467078, 0.7433950409467078, 0.7433950409467078, 0.7433950409467078, 0.7433950409467078, 0.7433950409467078, 0.7433950409467078, 0.7433950409467078, 0.7433950409467078, 0.7433950409467078, 0.7433950409467078, 0.7433950409467078, 0.7433950409467078, 0.7433950409467078, 0.7433950409467078, 0.7433950409467078, 0.7433950409467078, 0.7433950409467078, 0.7433950409467078, 0.7433950409467078, 0.7433950409467078, 0.7433950409467078, 0.7433950409467078, 0.7433950409467078, 0.7433950409467078, 0.7433950409467078, 0.7433950409467078, 0.7433950409467078, 0.7433950409467078, 0.7557260910758371, 0.7595839970656719, 0.7595839970656719, 0.7595839970656719, 0.7595839970656719, 0.7595839970656719, 0.7595839970656719, 0.7595839970656719, 0.7595839970656719, 0.7595839970656719, 0.7595839970656719, 0.7595839970656719, 0.7595839970656719, 0.7595839970656719, 0.7595839970656719, 0.7595839970656719, 0.7790644376822127, 0.7790644376822127, 0.7790644376822127, 0.7790644376822127, 0.7790644376822127, 0.7790644376822127, 0.7790644376822127, 0.7790644376822127, 0.7790644376822127, 0.7790644376822127, 0.7790644376822127, 0.7790644376822127, 0.7790644376822127, 0.7790644376822127, 0.7790644376822127, 0.7921455382817544, 0.7921455382817544]}], \"accuracy\": [{\"categories\": [\"0\", \"1\", \"2\", \"3\", \"4\", \"5\", \"6\", \"7\", \"8\", \"9\", \"10\", \"11\", \"12\", \"13\", \"14\", \"15\", \"16\", \"17\", \"18\", \"19\", \"20\", \"21\", \"22\", \"23\", \"24\", \"25\", \"26\", \"27\", \"28\", \"29\", \"30\", \"31\", \"32\", \"33\", \"34\", \"35\", \"36\", \"37\", \"38\", \"39\", \"40\", \"41\", \"42\", \"43\", \"44\", \"45\", \"46\", \"47\", \"48\", \"49\", \"50\", \"51\", \"52\", \"53\", \"54\", \"55\", \"56\", \"57\", \"58\", \"59\", \"60\", \"61\", \"62\", \"63\", \"67\", \"68\"], \"mode\": \"markers\", \"name\": \"accuracy\", \"stepped\": false, \"type\": \"scatter\", \"data\": [0.8353110154565568, 0.8041915238898532, 0.780927498804318, 0.765675041140289, 0.6498259958769982, 0.7716830757810245, 0.7935609216678076, 0.7730703944026988, 0.765675041140289, 0.765675041140289, 0.7699880417564318, 0.46818439224178326, 0.7793874975110731, 0.507931594175156, 0.765675041140289, 0.45216695451338235, 0.5011576536889244, 0.799723775398093, 0.7863200314252842, 0.47820027579731833, 0.5657092380707405, 0.7983363143485535, 0.8249901226275433, 0.8063480954118573, 0.7809287806551054, 0.7894015295043596, 0.8232948037472202, 0.8390091549783238, 0.829458155975034, 0.8200604805687087, 0.765675041140289, 0.83392497868567, 0.8089667029288011, 0.8326923367256803, 0.8431685471417718, 0.765675041140289, 0.7789256039439985, 0.8333087645265741, 0.8297646607410978, 0.8279159470498773, 0.8199059463348896, 0.8242200863739546, 0.8320759089247863, 0.829457586263573, 0.8060406648646693, 0.8148219836840335, 0.8017259551141431, 0.8436300134252507, 0.8200589138621908, 0.8416269791420089, 0.8202131632402795, 0.8057320948945592, 0.8339238392627478, 0.8222157702399254, 0.7857040309079862, 0.82206322999622, 0.8234492667671068, 0.8293016989650336, 0.7955640983789145, 0.8057328782478183, 0.8205207362153327, 0.8129725578534867, 0.780157889834325, 0.8362357283718301, 0.847019298121177, 0.8448621568877118]}, {\"categories\": [\"0\", \"1\", \"2\", \"3\", \"4\", \"5\", \"6\", \"7\", \"8\", \"9\", \"10\", \"11\", \"12\", \"13\", \"14\", \"15\", \"16\", \"17\", \"18\", \"19\", \"20\", \"21\", \"22\", \"23\", \"24\", \"25\", \"26\", \"27\", \"28\", \"29\", \"30\", \"31\", \"32\", \"33\", \"34\", \"35\", \"36\", \"37\", \"38\", \"39\", \"40\", \"41\", \"42\", \"43\", \"44\", \"45\", \"46\", \"47\", \"48\", \"49\", \"50\", \"51\", \"52\", \"53\", \"54\", \"55\", \"56\", \"57\", \"58\", \"59\", \"60\", \"61\", \"62\", \"63\", \"67\", \"68\"], \"mode\": \"lines\", \"name\": \"accuracy_max\", \"stepped\": true, \"type\": \"scatter\", \"data\": [0.8353110154565568, 0.8353110154565568, 0.8353110154565568, 0.8353110154565568, 0.8353110154565568, 0.8353110154565568, 0.8353110154565568, 0.8353110154565568, 0.8353110154565568, 0.8353110154565568, 0.8353110154565568, 0.8353110154565568, 0.8353110154565568, 0.8353110154565568, 0.8353110154565568, 0.8353110154565568, 0.8353110154565568, 0.8353110154565568, 0.8353110154565568, 0.8353110154565568, 0.8353110154565568, 0.8353110154565568, 0.8353110154565568, 0.8353110154565568, 0.8353110154565568, 0.8353110154565568, 0.8353110154565568, 0.8390091549783238, 0.8390091549783238, 0.8390091549783238, 0.8390091549783238, 0.8390091549783238, 0.8390091549783238, 0.8390091549783238, 0.8431685471417718, 0.8431685471417718, 0.8431685471417718, 0.8431685471417718, 0.8431685471417718, 0.8431685471417718, 0.8431685471417718, 0.8431685471417718, 0.8431685471417718, 0.8431685471417718, 0.8431685471417718, 0.8431685471417718, 0.8431685471417718, 0.8436300134252507, 0.8436300134252507, 0.8436300134252507, 0.8436300134252507, 0.8436300134252507, 0.8436300134252507, 0.8436300134252507, 0.8436300134252507, 0.8436300134252507, 0.8436300134252507, 0.8436300134252507, 0.8436300134252507, 0.8436300134252507, 0.8436300134252507, 0.8436300134252507, 0.8436300134252507, 0.8436300134252507, 0.847019298121177, 0.847019298121177]}], \"norm_macro_recall\": [{\"categories\": [\"0\", \"1\", \"2\", \"3\", \"4\", \"5\", \"6\", \"7\", \"8\", \"9\", \"10\", \"11\", \"12\", \"13\", \"14\", \"15\", \"16\", \"17\", \"18\", \"19\", \"20\", \"21\", \"22\", \"23\", \"24\", \"25\", \"26\", \"27\", \"28\", \"29\", \"30\", \"31\", \"32\", \"33\", \"34\", \"35\", \"36\", \"37\", \"38\", \"39\", \"40\", \"41\", \"42\", \"43\", \"44\", \"45\", \"46\", \"47\", \"48\", \"49\", \"50\", \"51\", \"52\", \"53\", \"54\", \"55\", \"56\", \"57\", \"58\", \"59\", \"60\", \"61\", \"62\", \"63\", \"67\", \"68\"], \"mode\": \"markers\", \"name\": \"norm_macro_recall\", \"stepped\": false, \"type\": \"scatter\", \"data\": [0.30428146052838245, 0.18816192750079788, 0.07028528849366882, 0.0, 0.45405578821447407, 0.030242410169626862, 0.12094226326861857, 0.03814221761670774, 0.0, 0.0, 0.017384095500456994, 0.358632122173683, 0.11209984901224913, 0.41072159409183406, 0.0, 0.31932473219998364, 0.40169889376926693, 0.12366006438346393, 0.1040596305314938, 0.34850236367195037, 0.4249007713915213, 0.13379613256311465, 0.2859133568341959, 0.17459012990002132, 0.13627938770142542, 0.11723938468936242, 0.2840027370637542, 0.3183563593153457, 0.2818831708062873, 0.21787887149737847, 0.0, 0.25831803218150506, 0.21060953386332074, 0.2814857814515145, 0.336318401020697, 0.0, 0.12969715509140842, 0.32889555188640185, 0.2872375501976344, 0.2521968926668224, 0.2397312655705995, 0.2431819287863055, 0.29020937019010434, 0.2683265261145572, 0.19908660919283092, 0.20020184489718995, 0.19218943510062422, 0.3226329627722435, 0.22799040756061217, 0.3007695405896808, 0.26480098036702343, 0.19798827358694795, 0.2897805407390707, 0.2505135917114519, 0.0917976667618385, 0.22942283687022189, 0.2502242829565051, 0.3239339566129556, 0.16052884419180125, 0.1847492736028438, 0.2111915241600469, 0.26188863531460993, 0.1269258692870951, 0.29164712429855916, 0.30028043542632843, 0.3195331606098188]}, {\"categories\": [\"0\", \"1\", \"2\", \"3\", \"4\", \"5\", \"6\", \"7\", \"8\", \"9\", \"10\", \"11\", \"12\", \"13\", \"14\", \"15\", \"16\", \"17\", \"18\", \"19\", \"20\", \"21\", \"22\", \"23\", \"24\", \"25\", \"26\", \"27\", \"28\", \"29\", \"30\", \"31\", \"32\", \"33\", \"34\", \"35\", \"36\", \"37\", \"38\", \"39\", \"40\", \"41\", \"42\", \"43\", \"44\", \"45\", \"46\", \"47\", \"48\", \"49\", \"50\", \"51\", \"52\", \"53\", \"54\", \"55\", \"56\", \"57\", \"58\", \"59\", \"60\", \"61\", \"62\", \"63\", \"67\", \"68\"], \"mode\": \"lines\", \"name\": \"norm_macro_recall_max\", \"stepped\": true, \"type\": \"scatter\", \"data\": [0.30428146052838245, 0.30428146052838245, 0.30428146052838245, 0.30428146052838245, 0.45405578821447407, 0.45405578821447407, 0.45405578821447407, 0.45405578821447407, 0.45405578821447407, 0.45405578821447407, 0.45405578821447407, 0.45405578821447407, 0.45405578821447407, 0.45405578821447407, 0.45405578821447407, 0.45405578821447407, 0.45405578821447407, 0.45405578821447407, 0.45405578821447407, 0.45405578821447407, 0.45405578821447407, 0.45405578821447407, 0.45405578821447407, 0.45405578821447407, 0.45405578821447407, 0.45405578821447407, 0.45405578821447407, 0.45405578821447407, 0.45405578821447407, 0.45405578821447407, 0.45405578821447407, 0.45405578821447407, 0.45405578821447407, 0.45405578821447407, 0.45405578821447407, 0.45405578821447407, 0.45405578821447407, 0.45405578821447407, 0.45405578821447407, 0.45405578821447407, 0.45405578821447407, 0.45405578821447407, 0.45405578821447407, 0.45405578821447407, 0.45405578821447407, 0.45405578821447407, 0.45405578821447407, 0.45405578821447407, 0.45405578821447407, 0.45405578821447407, 0.45405578821447407, 0.45405578821447407, 0.45405578821447407, 0.45405578821447407, 0.45405578821447407, 0.45405578821447407, 0.45405578821447407, 0.45405578821447407, 0.45405578821447407, 0.45405578821447407, 0.45405578821447407, 0.45405578821447407, 0.45405578821447407, 0.45405578821447407, 0.45405578821447407, 0.45405578821447407]}], \"weighted_accuracy\": [{\"categories\": [\"0\", \"1\", \"2\", \"3\", \"4\", \"5\", \"6\", \"7\", \"8\", \"9\", \"10\", \"11\", \"12\", \"13\", \"14\", \"15\", \"16\", \"17\", \"18\", \"19\", \"20\", \"21\", \"22\", \"23\", \"24\", \"25\", \"26\", \"27\", \"28\", \"29\", \"30\", \"31\", \"32\", \"33\", \"34\", \"35\", \"36\", \"37\", \"38\", \"39\", \"40\", \"41\", \"42\", \"43\", \"44\", \"45\", \"46\", \"47\", \"48\", \"49\", \"50\", \"51\", \"52\", \"53\", \"54\", \"55\", \"56\", \"57\", \"58\", \"59\", \"60\", \"61\", \"62\", \"63\", \"67\", \"68\"], \"mode\": \"markers\", \"name\": \"weighted_accuracy\", \"stepped\": false, \"type\": \"scatter\", \"data\": [0.9183345307620895, 0.9129678208300476, 0.9257059381460556, 0.9360164956255463, 0.6330123217050039, 0.9308774573822864, 0.920856961426483, 0.9288891952296151, 0.9360164956255463, 0.9360164956255463, 0.9343911524989643, 0.41764468956943707, 0.9047240247528442, 0.45887035494282397, 0.9360164956255463, 0.40351520729726936, 0.4521627865698425, 0.9289668377708827, 0.9178726965657491, 0.4332373790278292, 0.5292245583530915, 0.9279298567328365, 0.9095496716091116, 0.9175495300801622, 0.8968610510487715, 0.9163068717333958, 0.9093846959462731, 0.921368904027461, 0.9166923583460688, 0.9195906915090312, 0.9360164956255463, 0.9255600023717981, 0.9156139337319679, 0.9214518859698747, 0.9214382924838432, 0.9360164956255463, 0.901715873697993, 0.9125079005777089, 0.9170609765209156, 0.9239891990178393, 0.91687539001626, 0.9190723821523141, 0.9158416004152196, 0.9216541650353879, 0.9120965583304721, 0.9200282672229632, 0.9104582621108022, 0.9230149685252952, 0.9190593132035726, 0.928515156428892, 0.9118368813105873, 0.9130597437746054, 0.9213232503007913, 0.9190752535535984, 0.9228315462871072, 0.9193929460121462, 0.9156827119518871, 0.9085357054259657, 0.909069868470661, 0.9141981035207908, 0.9271095633507249, 0.9055809929725204, 0.9042412742665755, 0.9226799612718845, 0.934378174798769, 0.9260355474549563]}, {\"categories\": [\"0\", \"1\", \"2\", \"3\", \"4\", \"5\", \"6\", \"7\", \"8\", \"9\", \"10\", \"11\", \"12\", \"13\", \"14\", \"15\", \"16\", \"17\", \"18\", \"19\", \"20\", \"21\", \"22\", \"23\", \"24\", \"25\", \"26\", \"27\", \"28\", \"29\", \"30\", \"31\", \"32\", \"33\", \"34\", \"35\", \"36\", \"37\", \"38\", \"39\", \"40\", \"41\", \"42\", \"43\", \"44\", \"45\", \"46\", \"47\", \"48\", \"49\", \"50\", \"51\", \"52\", \"53\", \"54\", \"55\", \"56\", \"57\", \"58\", \"59\", \"60\", \"61\", \"62\", \"63\", \"67\", \"68\"], \"mode\": \"lines\", \"name\": \"weighted_accuracy_max\", \"stepped\": true, \"type\": \"scatter\", \"data\": [0.9183345307620895, 0.9183345307620895, 0.9257059381460556, 0.9360164956255463, 0.9360164956255463, 0.9360164956255463, 0.9360164956255463, 0.9360164956255463, 0.9360164956255463, 0.9360164956255463, 0.9360164956255463, 0.9360164956255463, 0.9360164956255463, 0.9360164956255463, 0.9360164956255463, 0.9360164956255463, 0.9360164956255463, 0.9360164956255463, 0.9360164956255463, 0.9360164956255463, 0.9360164956255463, 0.9360164956255463, 0.9360164956255463, 0.9360164956255463, 0.9360164956255463, 0.9360164956255463, 0.9360164956255463, 0.9360164956255463, 0.9360164956255463, 0.9360164956255463, 0.9360164956255463, 0.9360164956255463, 0.9360164956255463, 0.9360164956255463, 0.9360164956255463, 0.9360164956255463, 0.9360164956255463, 0.9360164956255463, 0.9360164956255463, 0.9360164956255463, 0.9360164956255463, 0.9360164956255463, 0.9360164956255463, 0.9360164956255463, 0.9360164956255463, 0.9360164956255463, 0.9360164956255463, 0.9360164956255463, 0.9360164956255463, 0.9360164956255463, 0.9360164956255463, 0.9360164956255463, 0.9360164956255463, 0.9360164956255463, 0.9360164956255463, 0.9360164956255463, 0.9360164956255463, 0.9360164956255463, 0.9360164956255463, 0.9360164956255463, 0.9360164956255463, 0.9360164956255463, 0.9360164956255463, 0.9360164956255463, 0.9360164956255463, 0.9360164956255463]}], \"f1_score_micro\": [{\"categories\": [\"0\", \"1\", \"2\", \"3\", \"4\", \"5\", \"6\", \"7\", \"8\", \"9\", \"10\", \"11\", \"12\", \"13\", \"14\", \"15\", \"16\", \"17\", \"18\", \"19\", \"20\", \"21\", \"22\", \"23\", \"24\", \"25\", \"26\", \"27\", \"28\", \"29\", \"30\", \"31\", \"32\", \"33\", \"34\", \"35\", \"36\", \"37\", \"38\", \"39\", \"40\", \"41\", \"42\", \"43\", \"44\", \"45\", \"46\", \"47\", \"48\", \"49\", \"50\", \"51\", \"52\", \"53\", \"54\", \"55\", \"56\", \"57\", \"58\", \"59\", \"60\", \"61\", \"62\", \"63\", \"67\", \"68\"], \"mode\": \"markers\", \"name\": \"f1_score_micro\", \"stepped\": false, \"type\": \"scatter\", \"data\": [0.8353110154565567, 0.8041915238898532, 0.780927498804318, 0.765675041140289, 0.6498259958769982, 0.7716830757810246, 0.7935609216678076, 0.7730703944026988, 0.765675041140289, 0.765675041140289, 0.7699880417564318, 0.46818439224178326, 0.7793874975110731, 0.507931594175156, 0.765675041140289, 0.45216695451338235, 0.5011576536889244, 0.799723775398093, 0.7863200314252842, 0.47820027579731833, 0.5657092380707405, 0.7983363143485535, 0.8249901226275433, 0.8063480954118573, 0.7809287806551054, 0.7894015295043596, 0.8232948037472202, 0.8390091549783238, 0.829458155975034, 0.8200604805687087, 0.765675041140289, 0.83392497868567, 0.8089667029288011, 0.8326923367256803, 0.8431685471417719, 0.765675041140289, 0.7789256039439985, 0.8333087645265741, 0.8297646607410978, 0.8279159470498773, 0.8199059463348896, 0.8242200863739546, 0.8320759089247863, 0.829457586263573, 0.8060406648646694, 0.8148219836840335, 0.8017259551141431, 0.8436300134252507, 0.8200589138621908, 0.8416269791420089, 0.8202131632402795, 0.8057320948945592, 0.8339238392627478, 0.8222157702399254, 0.7857040309079862, 0.82206322999622, 0.8234492667671068, 0.8293016989650336, 0.7955640983789145, 0.8057328782478184, 0.8205207362153327, 0.8129725578534867, 0.780157889834325, 0.8362357283718301, 0.847019298121177, 0.8448621568877118]}, {\"categories\": [\"0\", \"1\", \"2\", \"3\", \"4\", \"5\", \"6\", \"7\", \"8\", \"9\", \"10\", \"11\", \"12\", \"13\", \"14\", \"15\", \"16\", \"17\", \"18\", \"19\", \"20\", \"21\", \"22\", \"23\", \"24\", \"25\", \"26\", \"27\", \"28\", \"29\", \"30\", \"31\", \"32\", \"33\", \"34\", \"35\", \"36\", \"37\", \"38\", \"39\", \"40\", \"41\", \"42\", \"43\", \"44\", \"45\", \"46\", \"47\", \"48\", \"49\", \"50\", \"51\", \"52\", \"53\", \"54\", \"55\", \"56\", \"57\", \"58\", \"59\", \"60\", \"61\", \"62\", \"63\", \"67\", \"68\"], \"mode\": \"lines\", \"name\": \"f1_score_micro_max\", \"stepped\": true, \"type\": \"scatter\", \"data\": [0.8353110154565567, 0.8353110154565567, 0.8353110154565567, 0.8353110154565567, 0.8353110154565567, 0.8353110154565567, 0.8353110154565567, 0.8353110154565567, 0.8353110154565567, 0.8353110154565567, 0.8353110154565567, 0.8353110154565567, 0.8353110154565567, 0.8353110154565567, 0.8353110154565567, 0.8353110154565567, 0.8353110154565567, 0.8353110154565567, 0.8353110154565567, 0.8353110154565567, 0.8353110154565567, 0.8353110154565567, 0.8353110154565567, 0.8353110154565567, 0.8353110154565567, 0.8353110154565567, 0.8353110154565567, 0.8390091549783238, 0.8390091549783238, 0.8390091549783238, 0.8390091549783238, 0.8390091549783238, 0.8390091549783238, 0.8390091549783238, 0.8431685471417719, 0.8431685471417719, 0.8431685471417719, 0.8431685471417719, 0.8431685471417719, 0.8431685471417719, 0.8431685471417719, 0.8431685471417719, 0.8431685471417719, 0.8431685471417719, 0.8431685471417719, 0.8431685471417719, 0.8431685471417719, 0.8436300134252507, 0.8436300134252507, 0.8436300134252507, 0.8436300134252507, 0.8436300134252507, 0.8436300134252507, 0.8436300134252507, 0.8436300134252507, 0.8436300134252507, 0.8436300134252507, 0.8436300134252507, 0.8436300134252507, 0.8436300134252507, 0.8436300134252507, 0.8436300134252507, 0.8436300134252507, 0.8436300134252507, 0.847019298121177, 0.847019298121177]}], \"recall_score_micro\": [{\"categories\": [\"0\", \"1\", \"2\", \"3\", \"4\", \"5\", \"6\", \"7\", \"8\", \"9\", \"10\", \"11\", \"12\", \"13\", \"14\", \"15\", \"16\", \"17\", \"18\", \"19\", \"20\", \"21\", \"22\", \"23\", \"24\", \"25\", \"26\", \"27\", \"28\", \"29\", \"30\", \"31\", \"32\", \"33\", \"34\", \"35\", \"36\", \"37\", \"38\", \"39\", \"40\", \"41\", \"42\", \"43\", \"44\", \"45\", \"46\", \"47\", \"48\", \"49\", \"50\", \"51\", \"52\", \"53\", \"54\", \"55\", \"56\", \"57\", \"58\", \"59\", \"60\", \"61\", \"62\", \"63\", \"67\", \"68\"], \"mode\": \"markers\", \"name\": \"recall_score_micro\", \"stepped\": false, \"type\": \"scatter\", \"data\": [0.8353110154565568, 0.8041915238898532, 0.780927498804318, 0.765675041140289, 0.6498259958769982, 0.7716830757810245, 0.7935609216678076, 0.7730703944026988, 0.765675041140289, 0.765675041140289, 0.7699880417564318, 0.46818439224178326, 0.7793874975110731, 0.507931594175156, 0.765675041140289, 0.45216695451338235, 0.5011576536889244, 0.799723775398093, 0.7863200314252842, 0.47820027579731833, 0.5657092380707405, 0.7983363143485535, 0.8249901226275433, 0.8063480954118573, 0.7809287806551054, 0.7894015295043596, 0.8232948037472202, 0.8390091549783238, 0.829458155975034, 0.8200604805687087, 0.765675041140289, 0.83392497868567, 0.8089667029288011, 0.8326923367256803, 0.8431685471417718, 0.765675041140289, 0.7789256039439985, 0.8333087645265741, 0.8297646607410978, 0.8279159470498773, 0.8199059463348896, 0.8242200863739546, 0.8320759089247863, 0.829457586263573, 0.8060406648646693, 0.8148219836840335, 0.8017259551141431, 0.8436300134252507, 0.8200589138621908, 0.8416269791420089, 0.8202131632402795, 0.8057320948945592, 0.8339238392627478, 0.8222157702399254, 0.7857040309079862, 0.82206322999622, 0.8234492667671068, 0.8293016989650336, 0.7955640983789145, 0.8057328782478183, 0.8205207362153327, 0.8129725578534867, 0.780157889834325, 0.8362357283718301, 0.847019298121177, 0.8448621568877118]}, {\"categories\": [\"0\", \"1\", \"2\", \"3\", \"4\", \"5\", \"6\", \"7\", \"8\", \"9\", \"10\", \"11\", \"12\", \"13\", \"14\", \"15\", \"16\", \"17\", \"18\", \"19\", \"20\", \"21\", \"22\", \"23\", \"24\", \"25\", \"26\", \"27\", \"28\", \"29\", \"30\", \"31\", \"32\", \"33\", \"34\", \"35\", \"36\", \"37\", \"38\", \"39\", \"40\", \"41\", \"42\", \"43\", \"44\", \"45\", \"46\", \"47\", \"48\", \"49\", \"50\", \"51\", \"52\", \"53\", \"54\", \"55\", \"56\", \"57\", \"58\", \"59\", \"60\", \"61\", \"62\", \"63\", \"67\", \"68\"], \"mode\": \"lines\", \"name\": \"recall_score_micro_max\", \"stepped\": true, \"type\": \"scatter\", \"data\": [0.8353110154565568, 0.8353110154565568, 0.8353110154565568, 0.8353110154565568, 0.8353110154565568, 0.8353110154565568, 0.8353110154565568, 0.8353110154565568, 0.8353110154565568, 0.8353110154565568, 0.8353110154565568, 0.8353110154565568, 0.8353110154565568, 0.8353110154565568, 0.8353110154565568, 0.8353110154565568, 0.8353110154565568, 0.8353110154565568, 0.8353110154565568, 0.8353110154565568, 0.8353110154565568, 0.8353110154565568, 0.8353110154565568, 0.8353110154565568, 0.8353110154565568, 0.8353110154565568, 0.8353110154565568, 0.8390091549783238, 0.8390091549783238, 0.8390091549783238, 0.8390091549783238, 0.8390091549783238, 0.8390091549783238, 0.8390091549783238, 0.8431685471417718, 0.8431685471417718, 0.8431685471417718, 0.8431685471417718, 0.8431685471417718, 0.8431685471417718, 0.8431685471417718, 0.8431685471417718, 0.8431685471417718, 0.8431685471417718, 0.8431685471417718, 0.8431685471417718, 0.8431685471417718, 0.8436300134252507, 0.8436300134252507, 0.8436300134252507, 0.8436300134252507, 0.8436300134252507, 0.8436300134252507, 0.8436300134252507, 0.8436300134252507, 0.8436300134252507, 0.8436300134252507, 0.8436300134252507, 0.8436300134252507, 0.8436300134252507, 0.8436300134252507, 0.8436300134252507, 0.8436300134252507, 0.8436300134252507, 0.847019298121177, 0.847019298121177]}], \"AUC_micro\": [{\"categories\": [\"0\", \"1\", \"2\", \"3\", \"4\", \"5\", \"6\", \"7\", \"8\", \"9\", \"10\", \"11\", \"12\", \"13\", \"14\", \"15\", \"16\", \"17\", \"18\", \"19\", \"20\", \"21\", \"22\", \"23\", \"24\", \"25\", \"26\", \"27\", \"28\", \"29\", \"30\", \"31\", \"32\", \"33\", \"34\", \"35\", \"36\", \"37\", \"38\", \"39\", \"40\", \"41\", \"42\", \"43\", \"44\", \"45\", \"46\", \"47\", \"48\", \"49\", \"50\", \"51\", \"52\", \"53\", \"54\", \"55\", \"56\", \"57\", \"58\", \"59\", \"60\", \"61\", \"62\", \"63\", \"67\", \"68\"], \"mode\": \"markers\", \"name\": \"AUC_micro\", \"stepped\": false, \"type\": \"scatter\", \"data\": [0.9461803344083554, 0.934968444613657, 0.9229653670623966, 0.9156639811536533, 0.8393136513777065, 0.9182331510381804, 0.9313827486077414, 0.9151572614395133, 0.9144657505776569, 0.9152620422276662, 0.91492711086307, 0.6956194618044957, 0.9208700336369927, 0.7376499213623434, 0.9170369937062355, 0.6909552614048521, 0.7235813010595386, 0.9287451883778778, 0.9271577363697773, 0.7064481904002354, 0.7600927266105776, 0.9332255199713094, 0.9434864248974123, 0.9338592157043933, 0.9257440863771279, 0.9275764616945223, 0.9422891478180078, 0.9474716599960985, 0.9453425265453242, 0.9418872564886477, 0.9194771970540773, 0.9481642429264592, 0.9394366792183452, 0.9469755330963507, 0.9518749060459344, 0.863888027200304, 0.9212931554762145, 0.9456228006841457, 0.9464806296215102, 0.9422366509733383, 0.9417103993589615, 0.9440179492276473, 0.946865881962629, 0.9471280623294605, 0.9360438599689811, 0.9390519991726111, 0.9338678736128353, 0.9501393837116433, 0.9427201361149814, 0.9517984588603392, 0.9420502096849157, 0.9363856960821941, 0.9471298842715817, 0.943524082847966, 0.9240517740762547, 0.9430414764710431, 0.943268627865896, 0.9453260240354755, 0.9315156181480732, 0.935857839627866, 0.9389303613190134, 0.9378539120942868, 0.9211138342404875, 0.9477636546336662, 0.9544198275179577, 0.9514699247524353]}, {\"categories\": [\"0\", \"1\", \"2\", \"3\", \"4\", \"5\", \"6\", \"7\", \"8\", \"9\", \"10\", \"11\", \"12\", \"13\", \"14\", \"15\", \"16\", \"17\", \"18\", \"19\", \"20\", \"21\", \"22\", \"23\", \"24\", \"25\", \"26\", \"27\", \"28\", \"29\", \"30\", \"31\", \"32\", \"33\", \"34\", \"35\", \"36\", \"37\", \"38\", \"39\", \"40\", \"41\", \"42\", \"43\", \"44\", \"45\", \"46\", \"47\", \"48\", \"49\", \"50\", \"51\", \"52\", \"53\", \"54\", \"55\", \"56\", \"57\", \"58\", \"59\", \"60\", \"61\", \"62\", \"63\", \"67\", \"68\"], \"mode\": \"lines\", \"name\": \"AUC_micro_max\", \"stepped\": true, \"type\": \"scatter\", \"data\": [0.9461803344083554, 0.9461803344083554, 0.9461803344083554, 0.9461803344083554, 0.9461803344083554, 0.9461803344083554, 0.9461803344083554, 0.9461803344083554, 0.9461803344083554, 0.9461803344083554, 0.9461803344083554, 0.9461803344083554, 0.9461803344083554, 0.9461803344083554, 0.9461803344083554, 0.9461803344083554, 0.9461803344083554, 0.9461803344083554, 0.9461803344083554, 0.9461803344083554, 0.9461803344083554, 0.9461803344083554, 0.9461803344083554, 0.9461803344083554, 0.9461803344083554, 0.9461803344083554, 0.9461803344083554, 0.9474716599960985, 0.9474716599960985, 0.9474716599960985, 0.9474716599960985, 0.9481642429264592, 0.9481642429264592, 0.9481642429264592, 0.9518749060459344, 0.9518749060459344, 0.9518749060459344, 0.9518749060459344, 0.9518749060459344, 0.9518749060459344, 0.9518749060459344, 0.9518749060459344, 0.9518749060459344, 0.9518749060459344, 0.9518749060459344, 0.9518749060459344, 0.9518749060459344, 0.9518749060459344, 0.9518749060459344, 0.9518749060459344, 0.9518749060459344, 0.9518749060459344, 0.9518749060459344, 0.9518749060459344, 0.9518749060459344, 0.9518749060459344, 0.9518749060459344, 0.9518749060459344, 0.9518749060459344, 0.9518749060459344, 0.9518749060459344, 0.9518749060459344, 0.9518749060459344, 0.9518749060459344, 0.9544198275179577, 0.9544198275179577]}], \"log_loss\": [{\"categories\": [\"0\", \"1\", \"2\", \"3\", \"4\", \"5\", \"6\", \"7\", \"8\", \"9\", \"10\", \"11\", \"12\", \"13\", \"14\", \"15\", \"16\", \"17\", \"18\", \"19\", \"20\", \"21\", \"22\", \"23\", \"24\", \"25\", \"26\", \"27\", \"28\", \"29\", \"30\", \"31\", \"32\", \"33\", \"34\", \"35\", \"36\", \"37\", \"38\", \"39\", \"40\", \"41\", \"42\", \"43\", \"44\", \"45\", \"46\", \"47\", \"48\", \"49\", \"50\", \"51\", \"52\", \"53\", \"54\", \"55\", \"56\", \"57\", \"58\", \"59\", \"60\", \"61\", \"62\", \"63\", \"67\", \"68\"], \"mode\": \"markers\", \"name\": \"log_loss\", \"stepped\": false, \"type\": \"scatter\", \"data\": [0.4447593770038257, 0.4790528690992572, 0.5271543774806254, 0.5777715927024456, 0.7720626032398158, 0.543887075795196, 0.49906170556590856, 0.5537408508691636, 0.5810980700739027, 0.5800807163436082, 0.560903116067271, 0.9755295957398459, 0.531460041033222, 0.9255040017467963, 0.5607150860848398, 1.0764845361498638, 0.97616141886577, 0.6721845445683643, 0.511509363195307, 1.0072857899058518, 0.9777353953975053, 0.5232115685191896, 0.44603011477136195, 0.48265252462427316, 0.5119718276516795, 0.5086877250318346, 0.4531796184730772, 0.47496056061841485, 0.4498311910615902, 0.45563735261488864, 0.6256361272576942, 0.4283698425974744, 0.4625868308901753, 0.4332023641559732, 0.4745530024768976, 0.7586918572932673, 0.5302666748777466, 0.44646149698046816, 0.47363226854576834, 0.4538053039216201, 0.4526841972926652, 0.4452215762703387, 0.4341473758575114, 0.43252837782225656, 0.47451762228452843, 0.46685537143182215, 0.48163705968351866, 0.48468712487647453, 0.4503177379338326, 0.42552527221884784, 0.45778997138107586, 0.47358381897850127, 0.4417933449891989, 0.44783082294717586, 0.5255875957429627, 0.45139133550147453, 0.446204843869303, 0.46708948944714873, 0.490483514072724, 0.47600617187216177, 0.49930988450697883, 0.4690360623514762, 0.5307952185513665, 0.43085089430389845, 0.40536570458978716, 0.4269759822459431]}, {\"categories\": [\"0\", \"1\", \"2\", \"3\", \"4\", \"5\", \"6\", \"7\", \"8\", \"9\", \"10\", \"11\", \"12\", \"13\", \"14\", \"15\", \"16\", \"17\", \"18\", \"19\", \"20\", \"21\", \"22\", \"23\", \"24\", \"25\", \"26\", \"27\", \"28\", \"29\", \"30\", \"31\", \"32\", \"33\", \"34\", \"35\", \"36\", \"37\", \"38\", \"39\", \"40\", \"41\", \"42\", \"43\", \"44\", \"45\", \"46\", \"47\", \"48\", \"49\", \"50\", \"51\", \"52\", \"53\", \"54\", \"55\", \"56\", \"57\", \"58\", \"59\", \"60\", \"61\", \"62\", \"63\", \"67\", \"68\"], \"mode\": \"lines\", \"name\": \"log_loss_min\", \"stepped\": true, \"type\": \"scatter\", \"data\": [0.4447593770038257, 0.4447593770038257, 0.4447593770038257, 0.4447593770038257, 0.4447593770038257, 0.4447593770038257, 0.4447593770038257, 0.4447593770038257, 0.4447593770038257, 0.4447593770038257, 0.4447593770038257, 0.4447593770038257, 0.4447593770038257, 0.4447593770038257, 0.4447593770038257, 0.4447593770038257, 0.4447593770038257, 0.4447593770038257, 0.4447593770038257, 0.4447593770038257, 0.4447593770038257, 0.4447593770038257, 0.4447593770038257, 0.4447593770038257, 0.4447593770038257, 0.4447593770038257, 0.4447593770038257, 0.4447593770038257, 0.4447593770038257, 0.4447593770038257, 0.4447593770038257, 0.4283698425974744, 0.4283698425974744, 0.4283698425974744, 0.4283698425974744, 0.4283698425974744, 0.4283698425974744, 0.4283698425974744, 0.4283698425974744, 0.4283698425974744, 0.4283698425974744, 0.4283698425974744, 0.4283698425974744, 0.4283698425974744, 0.4283698425974744, 0.4283698425974744, 0.4283698425974744, 0.4283698425974744, 0.4283698425974744, 0.42552527221884784, 0.42552527221884784, 0.42552527221884784, 0.42552527221884784, 0.42552527221884784, 0.42552527221884784, 0.42552527221884784, 0.42552527221884784, 0.42552527221884784, 0.42552527221884784, 0.42552527221884784, 0.42552527221884784, 0.42552527221884784, 0.42552527221884784, 0.42552527221884784, 0.40536570458978716, 0.40536570458978716]}], \"average_precision_score_weighted\": [{\"categories\": [\"0\", \"1\", \"2\", \"3\", \"4\", \"5\", \"6\", \"7\", \"8\", \"9\", \"10\", \"11\", \"12\", \"13\", \"14\", \"15\", \"16\", \"17\", \"18\", \"19\", \"20\", \"21\", \"22\", \"23\", \"24\", \"25\", \"26\", \"27\", \"28\", \"29\", \"30\", \"31\", \"32\", \"33\", \"34\", \"35\", \"36\", \"37\", \"38\", \"39\", \"40\", \"41\", \"42\", \"43\", \"44\", \"45\", \"46\", \"47\", \"48\", \"49\", \"50\", \"51\", \"52\", \"53\", \"54\", \"55\", \"56\", \"57\", \"58\", \"59\", \"60\", \"61\", \"62\", \"63\", \"67\", \"68\"], \"mode\": \"markers\", \"name\": \"average_precision_score_weighted\", \"stepped\": false, \"type\": \"scatter\", \"data\": [0.8652937617572968, 0.8334950810836678, 0.8041360706022435, 0.7941834666741697, 0.8167275742707858, 0.795055227263469, 0.8258162059142609, 0.7872194491906853, 0.7837888394395064, 0.7907560180751235, 0.788724063993723, 0.7620322845469492, 0.789735308845119, 0.7789143703169931, 0.7963898195680984, 0.7406642862494701, 0.7770166785600408, 0.8236903748279989, 0.8146798069511499, 0.7677753343076027, 0.7947046511080896, 0.8382781126705247, 0.8569268921481846, 0.8306935623843316, 0.8071794312977332, 0.8131642414487139, 0.8528265605555753, 0.870425099388985, 0.8647139011360027, 0.8543614446479632, 0.8150908100321891, 0.8723066839224277, 0.8509760015886284, 0.8665530770368743, 0.8813855599372592, 0.6263518341386188, 0.7904901147240437, 0.8609902461260687, 0.8675007206599054, 0.8584414514395854, 0.8521075489879646, 0.8590929661153525, 0.8657509631046009, 0.8683213481139055, 0.836397258362863, 0.8468434980284195, 0.8286160871846976, 0.8761466446248963, 0.8570677131388882, 0.8817818108795233, 0.8544500663792789, 0.8374624828342241, 0.8709201114469242, 0.8613010843960726, 0.8100105787143894, 0.8573166391899214, 0.8565470882706933, 0.8603960389754207, 0.8219971328487944, 0.8359286421484668, 0.8519404345610607, 0.8403602865253527, 0.7903462963419948, 0.8690715088154141, 0.8904449546920761, 0.889045209423287]}, {\"categories\": [\"0\", \"1\", \"2\", \"3\", \"4\", \"5\", \"6\", \"7\", \"8\", \"9\", \"10\", \"11\", \"12\", \"13\", \"14\", \"15\", \"16\", \"17\", \"18\", \"19\", \"20\", \"21\", \"22\", \"23\", \"24\", \"25\", \"26\", \"27\", \"28\", \"29\", \"30\", \"31\", \"32\", \"33\", \"34\", \"35\", \"36\", \"37\", \"38\", \"39\", \"40\", \"41\", \"42\", \"43\", \"44\", \"45\", \"46\", \"47\", \"48\", \"49\", \"50\", \"51\", \"52\", \"53\", \"54\", \"55\", \"56\", \"57\", \"58\", \"59\", \"60\", \"61\", \"62\", \"63\", \"67\", \"68\"], \"mode\": \"lines\", \"name\": \"average_precision_score_weighted_max\", \"stepped\": true, \"type\": \"scatter\", \"data\": [0.8652937617572968, 0.8652937617572968, 0.8652937617572968, 0.8652937617572968, 0.8652937617572968, 0.8652937617572968, 0.8652937617572968, 0.8652937617572968, 0.8652937617572968, 0.8652937617572968, 0.8652937617572968, 0.8652937617572968, 0.8652937617572968, 0.8652937617572968, 0.8652937617572968, 0.8652937617572968, 0.8652937617572968, 0.8652937617572968, 0.8652937617572968, 0.8652937617572968, 0.8652937617572968, 0.8652937617572968, 0.8652937617572968, 0.8652937617572968, 0.8652937617572968, 0.8652937617572968, 0.8652937617572968, 0.870425099388985, 0.870425099388985, 0.870425099388985, 0.870425099388985, 0.8723066839224277, 0.8723066839224277, 0.8723066839224277, 0.8813855599372592, 0.8813855599372592, 0.8813855599372592, 0.8813855599372592, 0.8813855599372592, 0.8813855599372592, 0.8813855599372592, 0.8813855599372592, 0.8813855599372592, 0.8813855599372592, 0.8813855599372592, 0.8813855599372592, 0.8813855599372592, 0.8813855599372592, 0.8813855599372592, 0.8817818108795233, 0.8817818108795233, 0.8817818108795233, 0.8817818108795233, 0.8817818108795233, 0.8817818108795233, 0.8817818108795233, 0.8817818108795233, 0.8817818108795233, 0.8817818108795233, 0.8817818108795233, 0.8817818108795233, 0.8817818108795233, 0.8817818108795233, 0.8817818108795233, 0.8904449546920761, 0.8904449546920761]}], \"precision_score_micro\": [{\"categories\": [\"0\", \"1\", \"2\", \"3\", \"4\", \"5\", \"6\", \"7\", \"8\", \"9\", \"10\", \"11\", \"12\", \"13\", \"14\", \"15\", \"16\", \"17\", \"18\", \"19\", \"20\", \"21\", \"22\", \"23\", \"24\", \"25\", \"26\", \"27\", \"28\", \"29\", \"30\", \"31\", \"32\", \"33\", \"34\", \"35\", \"36\", \"37\", \"38\", \"39\", \"40\", \"41\", \"42\", \"43\", \"44\", \"45\", \"46\", \"47\", \"48\", \"49\", \"50\", \"51\", \"52\", \"53\", \"54\", \"55\", \"56\", \"57\", \"58\", \"59\", \"60\", \"61\", \"62\", \"63\", \"67\", \"68\"], \"mode\": \"markers\", \"name\": \"precision_score_micro\", \"stepped\": false, \"type\": \"scatter\", \"data\": [0.8353110154565568, 0.8041915238898532, 0.780927498804318, 0.765675041140289, 0.6498259958769982, 0.7716830757810245, 0.7935609216678076, 0.7730703944026988, 0.765675041140289, 0.765675041140289, 0.7699880417564318, 0.46818439224178326, 0.7793874975110731, 0.507931594175156, 0.765675041140289, 0.45216695451338235, 0.5011576536889244, 0.799723775398093, 0.7863200314252842, 0.47820027579731833, 0.5657092380707405, 0.7983363143485535, 0.8249901226275433, 0.8063480954118573, 0.7809287806551054, 0.7894015295043596, 0.8232948037472202, 0.8390091549783238, 0.829458155975034, 0.8200604805687087, 0.765675041140289, 0.83392497868567, 0.8089667029288011, 0.8326923367256803, 0.8431685471417718, 0.765675041140289, 0.7789256039439985, 0.8333087645265741, 0.8297646607410978, 0.8279159470498773, 0.8199059463348896, 0.8242200863739546, 0.8320759089247863, 0.829457586263573, 0.8060406648646693, 0.8148219836840335, 0.8017259551141431, 0.8436300134252507, 0.8200589138621908, 0.8416269791420089, 0.8202131632402795, 0.8057320948945592, 0.8339238392627478, 0.8222157702399254, 0.7857040309079862, 0.82206322999622, 0.8234492667671068, 0.8293016989650336, 0.7955640983789145, 0.8057328782478183, 0.8205207362153327, 0.8129725578534867, 0.780157889834325, 0.8362357283718301, 0.847019298121177, 0.8448621568877118]}, {\"categories\": [\"0\", \"1\", \"2\", \"3\", \"4\", \"5\", \"6\", \"7\", \"8\", \"9\", \"10\", \"11\", \"12\", \"13\", \"14\", \"15\", \"16\", \"17\", \"18\", \"19\", \"20\", \"21\", \"22\", \"23\", \"24\", \"25\", \"26\", \"27\", \"28\", \"29\", \"30\", \"31\", \"32\", \"33\", \"34\", \"35\", \"36\", \"37\", \"38\", \"39\", \"40\", \"41\", \"42\", \"43\", \"44\", \"45\", \"46\", \"47\", \"48\", \"49\", \"50\", \"51\", \"52\", \"53\", \"54\", \"55\", \"56\", \"57\", \"58\", \"59\", \"60\", \"61\", \"62\", \"63\", \"67\", \"68\"], \"mode\": \"lines\", \"name\": \"precision_score_micro_max\", \"stepped\": true, \"type\": \"scatter\", \"data\": [0.8353110154565568, 0.8353110154565568, 0.8353110154565568, 0.8353110154565568, 0.8353110154565568, 0.8353110154565568, 0.8353110154565568, 0.8353110154565568, 0.8353110154565568, 0.8353110154565568, 0.8353110154565568, 0.8353110154565568, 0.8353110154565568, 0.8353110154565568, 0.8353110154565568, 0.8353110154565568, 0.8353110154565568, 0.8353110154565568, 0.8353110154565568, 0.8353110154565568, 0.8353110154565568, 0.8353110154565568, 0.8353110154565568, 0.8353110154565568, 0.8353110154565568, 0.8353110154565568, 0.8353110154565568, 0.8390091549783238, 0.8390091549783238, 0.8390091549783238, 0.8390091549783238, 0.8390091549783238, 0.8390091549783238, 0.8390091549783238, 0.8431685471417718, 0.8431685471417718, 0.8431685471417718, 0.8431685471417718, 0.8431685471417718, 0.8431685471417718, 0.8431685471417718, 0.8431685471417718, 0.8431685471417718, 0.8431685471417718, 0.8431685471417718, 0.8431685471417718, 0.8431685471417718, 0.8436300134252507, 0.8436300134252507, 0.8436300134252507, 0.8436300134252507, 0.8436300134252507, 0.8436300134252507, 0.8436300134252507, 0.8436300134252507, 0.8436300134252507, 0.8436300134252507, 0.8436300134252507, 0.8436300134252507, 0.8436300134252507, 0.8436300134252507, 0.8436300134252507, 0.8436300134252507, 0.8436300134252507, 0.847019298121177, 0.847019298121177]}]}, \"metricName\": null, \"primaryMetricName\": \"AUC_weighted\", \"showLegend\": false}, \"run_metrics\": [{\"name\": \"experiment_status\", \"run_id\": \"AutoML_d0df9350-7860-45c3-94c4-6a4cc557bdce\", \"categories\": [0, 1, 2, 3, 4, 5, 6, 7, 8, 9, 10, 11, 12, 13, 14], \"series\": [{\"data\": [\"DatasetEvaluation\", \"FeaturesGeneration\", \"DatasetFeaturization\", \"DatasetFeaturizationCompleted\", \"DatasetBalancing\", \"DatasetCrossValidationSplit\", \"ModelSelection\", \"BestRunExplainModel\", \"ModelExplanationDataSetSetup\", \"PickSurrogateModel\", \"EngineeredFeatureExplanations\", \"EngineeredFeatureExplanations\", \"RawFeaturesExplanations\", \"RawFeaturesExplanations\", \"BestRunExplainModel\"]}]}, {\"name\": \"experiment_status_description\", \"run_id\": \"AutoML_d0df9350-7860-45c3-94c4-6a4cc557bdce\", \"categories\": [0, 1, 2, 3, 4, 5, 6, 7, 8, 9, 10, 11, 12, 13, 14], \"series\": [{\"data\": [\"Gathering dataset statistics.\", \"Generating features for the dataset.\", \"Beginning to fit featurizers and featurize the dataset.\", \"Completed fit featurizers and featurizing the dataset.\", \"Performing class balancing sweeping\", \"Generating individually featurized CV splits.\", \"Beginning model selection.\", \"Best run model explanations started\", \"Model explanations data setup completed\", \"Choosing LightGBM as the surrogate model for explanations\", \"Computation of engineered features started\", \"Computation of engineered features completed\", \"Computation of raw features started\", \"Computation of raw features completed\", \"Best run model explanations completed\"]}]}, {\"name\": \"f1_score_macro\", \"run_id\": \"AutoML_d0df9350-7860-45c3-94c4-6a4cc557bdce\", \"categories\": [0], \"series\": [{\"data\": [0.5728364290234013]}]}, {\"name\": \"AUC_macro\", \"run_id\": \"AutoML_d0df9350-7860-45c3-94c4-6a4cc557bdce\", \"categories\": [0], \"series\": [{\"data\": [0.878910760189441]}]}, {\"name\": \"weighted_accuracy\", \"run_id\": \"AutoML_d0df9350-7860-45c3-94c4-6a4cc557bdce\", \"categories\": [0], \"series\": [{\"data\": [0.934378174798769]}]}, {\"name\": \"average_precision_score_micro\", \"run_id\": \"AutoML_d0df9350-7860-45c3-94c4-6a4cc557bdce\", \"categories\": [0], \"series\": [{\"data\": [0.9132321357893293]}]}, {\"name\": \"precision_score_micro\", \"run_id\": \"AutoML_d0df9350-7860-45c3-94c4-6a4cc557bdce\", \"categories\": [0], \"series\": [{\"data\": [0.847019298121177]}]}, {\"name\": \"recall_score_micro\", \"run_id\": \"AutoML_d0df9350-7860-45c3-94c4-6a4cc557bdce\", \"categories\": [0], \"series\": [{\"data\": [0.847019298121177]}]}, {\"name\": \"average_precision_score_macro\", \"run_id\": \"AutoML_d0df9350-7860-45c3-94c4-6a4cc557bdce\", \"categories\": [0], \"series\": [{\"data\": [0.6913852931869716]}]}, {\"name\": \"accuracy\", \"run_id\": \"AutoML_d0df9350-7860-45c3-94c4-6a4cc557bdce\", \"categories\": [0], \"series\": [{\"data\": [0.847019298121177]}]}, {\"name\": \"recall_score_macro\", \"run_id\": \"AutoML_d0df9350-7860-45c3-94c4-6a4cc557bdce\", \"categories\": [0], \"series\": [{\"data\": [0.533520290284219]}]}, {\"name\": \"AUC_weighted\", \"run_id\": \"AutoML_d0df9350-7860-45c3-94c4-6a4cc557bdce\", \"categories\": [0], \"series\": [{\"data\": [0.875560614701676]}]}, {\"name\": \"norm_macro_recall\", \"run_id\": \"AutoML_d0df9350-7860-45c3-94c4-6a4cc557bdce\", \"categories\": [0], \"series\": [{\"data\": [0.30028043542632843]}]}, {\"name\": \"precision_score_weighted\", \"run_id\": \"AutoML_d0df9350-7860-45c3-94c4-6a4cc557bdce\", \"categories\": [0], \"series\": [{\"data\": [0.8393487687998996]}]}, {\"name\": \"precision_score_macro\", \"run_id\": \"AutoML_d0df9350-7860-45c3-94c4-6a4cc557bdce\", \"categories\": [0], \"series\": [{\"data\": [0.7921455382817544]}]}, {\"name\": \"balanced_accuracy\", \"run_id\": \"AutoML_d0df9350-7860-45c3-94c4-6a4cc557bdce\", \"categories\": [0], \"series\": [{\"data\": [0.533520290284219]}]}, {\"name\": \"AUC_micro\", \"run_id\": \"AutoML_d0df9350-7860-45c3-94c4-6a4cc557bdce\", \"categories\": [0], \"series\": [{\"data\": [0.9544198275179577]}]}, {\"name\": \"matthews_correlation\", \"run_id\": \"AutoML_d0df9350-7860-45c3-94c4-6a4cc557bdce\", \"categories\": [0], \"series\": [{\"data\": [0.5387461048091455]}]}, {\"name\": \"average_precision_score_weighted\", \"run_id\": \"AutoML_d0df9350-7860-45c3-94c4-6a4cc557bdce\", \"categories\": [0], \"series\": [{\"data\": [0.8904449546920761]}]}, {\"name\": \"f1_score_weighted\", \"run_id\": \"AutoML_d0df9350-7860-45c3-94c4-6a4cc557bdce\", \"categories\": [0], \"series\": [{\"data\": [0.8268540228635527]}]}, {\"name\": \"f1_score_micro\", \"run_id\": \"AutoML_d0df9350-7860-45c3-94c4-6a4cc557bdce\", \"categories\": [0], \"series\": [{\"data\": [0.847019298121177]}]}, {\"name\": \"log_loss\", \"run_id\": \"AutoML_d0df9350-7860-45c3-94c4-6a4cc557bdce\", \"categories\": [0], \"series\": [{\"data\": [0.40536570458978716]}]}, {\"name\": \"recall_score_weighted\", \"run_id\": \"AutoML_d0df9350-7860-45c3-94c4-6a4cc557bdce\", \"categories\": [0], \"series\": [{\"data\": [0.847019298121177]}]}], \"run_logs\": \"\\nRun is completed.\", \"graph\": {}, \"widget_settings\": {\"childWidgetDisplay\": \"popup\", \"send_telemetry\": false, \"log_level\": \"INFO\", \"sdk_version\": \"1.20.0\"}, \"loading\": false}"
     },
     "metadata": {},
     "output_type": "display_data"
    },
    {
     "name": "stdout",
     "output_type": "stream",
     "text": [
      "\n",
      "Current status: FeaturesGeneration. Generating features for the dataset.\n",
      "Current status: DatasetCrossValidationSplit. Generating individually featurized CV splits.\n",
      "Current status: ModelSelection. Beginning model selection.\n",
      "\n",
      "****************************************************************************************************\n",
      "DATA GUARDRAILS: \n",
      "\n",
      "TYPE:         Class balancing detection\n",
      "STATUS:       ALERTED\n",
      "DESCRIPTION:  To decrease model bias, please cancel the current run and fix balancing problem.\n",
      "              Learn more about imbalanced data: https://aka.ms/AutomatedMLImbalancedData\n",
      "DETAILS:      Imbalanced data can lead to a falsely perceived positive effect of a model's accuracy because the input data has bias towards one class.\n",
      "+---------------------------------+---------------------------------+--------------------------------------+\n",
      "|Size of the smallest class       |Name/Label of the smallest class |Number of samples in the training data|\n",
      "+=================================+=================================+======================================+\n",
      "|246                              |BAD                              |6491                                  |\n",
      "+---------------------------------+---------------------------------+--------------------------------------+\n",
      "\n",
      "****************************************************************************************************\n",
      "\n",
      "TYPE:         Missing feature values imputation\n",
      "STATUS:       PASSED\n",
      "DESCRIPTION:  No feature missing values were detected in the training data.\n",
      "              Learn more about missing value imputation: https://aka.ms/AutomatedMLFeaturization\n",
      "\n",
      "****************************************************************************************************\n",
      "\n",
      "TYPE:         High cardinality feature detection\n",
      "STATUS:       PASSED\n",
      "DESCRIPTION:  Your inputs were analyzed, and no high cardinality features were detected.\n",
      "              Learn more about high cardinality feature handling: https://aka.ms/AutomatedMLFeaturization\n",
      "\n",
      "****************************************************************************************************\n",
      "\n",
      "****************************************************************************************************\n",
      "ITERATION: The iteration being evaluated.\n",
      "PIPELINE: A summary description of the pipeline being evaluated.\n",
      "DURATION: Time taken for the current iteration.\n",
      "METRIC: The result of computing score on the fitted pipeline.\n",
      "BEST: The best observed score thus far.\n",
      "****************************************************************************************************\n",
      "\n",
      " ITERATION   PIPELINE                                       DURATION      METRIC      BEST\n",
      "         0   MaxAbsScaler LightGBM                          0:00:48       0.8510    0.8510\n",
      "         1   MaxAbsScaler XGBoostClassifier                 0:01:08       0.8159    0.8510\n",
      "         2   MinMaxScaler RandomForest                      0:02:09       0.7803    0.8510\n",
      "         3   RobustScaler ExtremeRandomTrees                0:02:49       0.7622    0.8510\n",
      "         4   MinMaxScaler RandomForest                      0:03:10       0.7920    0.8510\n",
      "         5   MinMaxScaler RandomForest                      0:03:30       0.7696    0.8510\n",
      "         6   StandardScalerWrapper RandomForest             0:03:26       0.8068    0.8510\n",
      "         7   MinMaxScaler ExtremeRandomTrees                0:00:53       0.7590    0.8510\n",
      "         8   MinMaxScaler ExtremeRandomTrees                0:00:51       0.7570    0.8510\n",
      "        10   RobustScaler ExtremeRandomTrees                0:00:54       0.7579    0.8510\n",
      "        11   StandardScalerWrapper RandomForest             0:00:58       0.7310    0.8510\n",
      "        12   StandardScalerWrapper SGD                      0:00:58       0.7641    0.8510\n",
      "        13   RobustScaler RandomForest                      0:00:58       0.7397    0.8510\n",
      "        14   MinMaxScaler RandomForest                      0:00:59       0.7682    0.8510\n",
      "         9   MinMaxScaler ExtremeRandomTrees                0:03:25       0.7616    0.8510\n",
      "        15   MinMaxScaler ExtremeRandomTrees                0:00:57       0.6869    0.8510\n",
      "        16   MaxAbsScaler RandomForest                      0:00:52       0.7361    0.8510\n",
      "        17   StandardScalerWrapper XGBoostClassifier        0:00:54       0.8009    0.8510\n",
      "        18   MaxAbsScaler RandomForest                      0:00:54       0.7951    0.8510\n",
      "        19   MaxAbsScaler ExtremeRandomTrees                0:01:00       0.7293    0.8510\n",
      "        20   MaxAbsScaler ExtremeRandomTrees                0:00:53       0.7605    0.8510\n",
      "        21   SparseNormalizer XGBoostClassifier             0:01:05       0.8165    0.8510\n",
      "        22   MinMaxScaler LightGBM                          0:01:03       0.8412    0.8510\n",
      "        23   MaxAbsScaler LightGBM                          0:00:55       0.8119    0.8510\n",
      "        24   MaxAbsScaler LightGBM                          0:01:03       0.7860    0.8510\n",
      "        25   MaxAbsScaler LightGBM                          0:00:52       0.7931    0.8510\n",
      "        26   StandardScalerWrapper LightGBM                 0:01:01       0.8381    0.8510\n",
      "        27   TruncatedSVDWrapper XGBoostClassifier          0:01:12       0.8536    0.8536\n",
      "        28   TruncatedSVDWrapper XGBoostClassifier          0:01:09       0.8472    0.8536\n",
      "        29   StandardScalerWrapper XGBoostClassifier        0:00:59       0.8376    0.8536\n",
      "        30   StandardScalerWrapper LightGBM                 0:00:58       0.7900    0.8536\n",
      "        31   StandardScalerWrapper XGBoostClassifier        0:01:00       0.8570    0.8570\n",
      "        32   SparseNormalizer XGBoostClassifier             0:00:59       0.8323    0.8570\n",
      "        33   StandardScalerWrapper XGBoostClassifier        0:01:13       0.8523    0.8570\n",
      "        36   StandardScalerWrapper LogisticRegression       0:01:06       0.7651    0.8570\n",
      "        34   StandardScalerWrapper XGBoostClassifier        0:01:51       0.8649    0.8649\n",
      "        35   StandardScalerWrapper XGBoostClassifier        0:01:45       0.5000    0.8649\n",
      "        37   StandardScalerWrapper XGBoostClassifier        0:01:38       0.8480    0.8649\n",
      "        38   SparseNormalizer XGBoostClassifier             0:01:34       0.8487    0.8649\n",
      "        39   TruncatedSVDWrapper XGBoostClassifier          0:01:00       0.8387    0.8649\n",
      "        40   StandardScalerWrapper XGBoostClassifier        0:00:58       0.8354    0.8649\n",
      "        41   StandardScalerWrapper XGBoostClassifier        0:00:56       0.8449    0.8649\n",
      "        42   StandardScalerWrapper XGBoostClassifier        0:01:09       0.8512    0.8649\n",
      "        43   StandardScalerWrapper XGBoostClassifier        0:00:57       0.8538    0.8649\n",
      "        44   StandardScalerWrapper XGBoostClassifier        0:01:06       0.8188    0.8649\n",
      "        45   StandardScalerWrapper XGBoostClassifier        0:01:06       0.8292    0.8649\n",
      "        46   StandardScalerWrapper LightGBM                 0:01:03       0.8106    0.8649\n",
      "        47   StandardScalerWrapper LightGBM                 0:01:09       0.8601    0.8649\n",
      "        48   SparseNormalizer XGBoostClassifier             0:01:05       0.8397    0.8649\n",
      "        49   StandardScalerWrapper XGBoostClassifier        0:01:06       0.8673    0.8673\n",
      "        50   SparseNormalizer XGBoostClassifier             0:01:13       0.8372    0.8673\n",
      "        51   StandardScalerWrapper XGBoostClassifier        0:00:59       0.8203    0.8673\n",
      "        52   SparseNormalizer XGBoostClassifier             0:01:08       0.8527    0.8673\n",
      "        53   SparseNormalizer XGBoostClassifier             0:01:08       0.8443    0.8673\n",
      "        54   StandardScalerWrapper XGBoostClassifier        0:01:02       0.7878    0.8673\n",
      "        55   StandardScalerWrapper XGBoostClassifier        0:00:54       0.8415    0.8673\n",
      "        56   StandardScalerWrapper LightGBM                 0:00:49       0.8406    0.8673\n",
      "        58   StandardScalerWrapper LightGBM                 0:00:58       0.8037    0.8673\n",
      "        57   StandardScalerWrapper XGBoostClassifier        0:01:16       0.8481    0.8673\n",
      "        59   StandardScalerWrapper XGBoostClassifier        0:00:52       0.8180    0.8673\n",
      "        60   TruncatedSVDWrapper XGBoostClassifier          0:00:55       0.8324    0.8673\n"
     ]
    },
    {
     "name": "stdout",
     "output_type": "stream",
     "text": [
      "        61   StandardScalerWrapper XGBoostClassifier        0:01:13       0.8239    0.8673\n",
      "        62   MinMaxScaler LogisticRegression                0:00:57       0.7645    0.8673\n",
      "        63   StandardScalerWrapper XGBoostClassifier        0:00:56       0.8547    0.8673\n",
      "        65   SparseNormalizer XGBoostClassifier             0:00:25          nan    0.8673\n",
      "        64                                                  0:00:20          nan    0.8673\n",
      "        66                                                  0:00:48          nan    0.8673\n",
      "        67    VotingEnsemble                                0:02:04       0.8756    0.8756\n",
      "        68    StackEnsemble                                 0:02:25       0.8742    0.8756\n"
     ]
    },
    {
     "data": {
      "text/plain": [
       "{'runId': 'AutoML_d0df9350-7860-45c3-94c4-6a4cc557bdce',\n",
       " 'target': 'aml-compute',\n",
       " 'status': 'Completed',\n",
       " 'startTimeUtc': '2021-02-12T16:50:25.415885Z',\n",
       " 'endTimeUtc': '2021-02-12T17:25:31.325546Z',\n",
       " 'properties': {'num_iterations': '1000',\n",
       "  'training_type': 'TrainFull',\n",
       "  'acquisition_function': 'EI',\n",
       "  'primary_metric': 'AUC_weighted',\n",
       "  'train_split': '0',\n",
       "  'acquisition_parameter': '0',\n",
       "  'num_cross_validation': '3',\n",
       "  'target': 'aml-compute',\n",
       "  'AMLSettingsJsonString': '{\"path\":null,\"name\":\"wine-quality-automl\",\"subscription_id\":\"cdbe0b43-92a0-4715-838a-f2648cc7ad21\",\"resource_group\":\"aml-quickstarts-138710\",\"workspace_name\":\"quick-starts-ws-138710\",\"region\":\"southcentralus\",\"compute_target\":\"aml-compute\",\"spark_service\":null,\"azure_service\":\"remote\",\"many_models\":false,\"pipeline_fetch_max_batch_size\":1,\"iterations\":1000,\"primary_metric\":\"AUC_weighted\",\"task_type\":\"classification\",\"data_script\":null,\"validation_size\":0.0,\"n_cross_validations\":3,\"y_min\":null,\"y_max\":null,\"num_classes\":null,\"featurization\":\"auto\",\"_ignore_package_version_incompatibilities\":false,\"is_timeseries\":false,\"max_cores_per_iteration\":1,\"max_concurrent_iterations\":5,\"iteration_timeout_minutes\":null,\"mem_in_mb\":null,\"enforce_time_on_windows\":false,\"experiment_timeout_minutes\":30,\"experiment_exit_score\":null,\"whitelist_models\":null,\"blacklist_algos\":[\"TensorFlowLinearClassifier\",\"TensorFlowDNN\"],\"supported_models\":[\"GradientBoosting\",\"BernoulliNaiveBayes\",\"ExtremeRandomTrees\",\"AveragedPerceptronClassifier\",\"MultinomialNaiveBayes\",\"LightGBM\",\"LinearSVM\",\"KNN\",\"RandomForest\",\"TensorFlowDNN\",\"SVM\",\"SGD\",\"XGBoostClassifier\",\"TensorFlowLinearClassifier\",\"LogisticRegression\",\"DecisionTree\"],\"auto_blacklist\":true,\"blacklist_samples_reached\":false,\"exclude_nan_labels\":true,\"verbosity\":20,\"_debug_log\":\"azureml_automl.log\",\"show_warnings\":false,\"model_explainability\":true,\"service_url\":null,\"sdk_url\":null,\"sdk_packages\":null,\"enable_onnx_compatible_models\":false,\"enable_split_onnx_featurizer_estimator_models\":false,\"vm_type\":\"STANDARD_D12_V2\",\"telemetry_verbosity\":20,\"send_telemetry\":true,\"enable_dnn\":false,\"scenario\":\"SDK-1.13.0\",\"environment_label\":null,\"force_text_dnn\":false,\"enable_feature_sweeping\":true,\"enable_early_stopping\":true,\"early_stopping_n_iters\":10,\"metrics\":null,\"enable_ensembling\":true,\"enable_stack_ensembling\":true,\"ensemble_iterations\":15,\"enable_tf\":false,\"enable_subsampling\":null,\"subsample_seed\":null,\"enable_nimbusml\":false,\"enable_streaming\":false,\"force_streaming\":false,\"track_child_runs\":true,\"allowed_private_models\":[],\"label_column_name\":\"quality\",\"weight_column_name\":null,\"cv_split_column_names\":null,\"enable_local_managed\":false,\"_local_managed_run_id\":null,\"cost_mode\":1,\"lag_length\":0,\"metric_operation\":\"maximize\",\"preprocess\":true}',\n",
       "  'DataPrepJsonString': '{\\\\\"training_data\\\\\": \\\\\"{\\\\\\\\\\\\\"blocks\\\\\\\\\\\\\": [{\\\\\\\\\\\\\"id\\\\\\\\\\\\\": \\\\\\\\\\\\\"31903e17-8263-4e30-8df9-2904bffb3512\\\\\\\\\\\\\", \\\\\\\\\\\\\"type\\\\\\\\\\\\\": \\\\\\\\\\\\\"Microsoft.DPrep.GetDatastoreFilesBlock\\\\\\\\\\\\\", \\\\\\\\\\\\\"arguments\\\\\\\\\\\\\": {\\\\\\\\\\\\\"datastores\\\\\\\\\\\\\": [{\\\\\\\\\\\\\"datastoreName\\\\\\\\\\\\\": \\\\\\\\\\\\\"workspaceblobstore\\\\\\\\\\\\\", \\\\\\\\\\\\\"path\\\\\\\\\\\\\": \\\\\\\\\\\\\"managed-dataset/477edf41-d631-47ed-980d-98f0f829424b/\\\\\\\\\\\\\", \\\\\\\\\\\\\"resourceGroup\\\\\\\\\\\\\": \\\\\\\\\\\\\"aml-quickstarts-138710\\\\\\\\\\\\\", \\\\\\\\\\\\\"subscription\\\\\\\\\\\\\": \\\\\\\\\\\\\"cdbe0b43-92a0-4715-838a-f2648cc7ad21\\\\\\\\\\\\\", \\\\\\\\\\\\\"workspaceName\\\\\\\\\\\\\": \\\\\\\\\\\\\"quick-starts-ws-138710\\\\\\\\\\\\\"}]}, \\\\\\\\\\\\\"localData\\\\\\\\\\\\\": {}, \\\\\\\\\\\\\"isEnabled\\\\\\\\\\\\\": true, \\\\\\\\\\\\\"name\\\\\\\\\\\\\": null, \\\\\\\\\\\\\"annotation\\\\\\\\\\\\\": null}, {\\\\\\\\\\\\\"id\\\\\\\\\\\\\": \\\\\\\\\\\\\"945dae02-b063-4d52-bc59-4156c3bf73ed\\\\\\\\\\\\\", \\\\\\\\\\\\\"type\\\\\\\\\\\\\": \\\\\\\\\\\\\"Microsoft.DPrep.ReadParquetFileBlock\\\\\\\\\\\\\", \\\\\\\\\\\\\"arguments\\\\\\\\\\\\\": {\\\\\\\\\\\\\"preview\\\\\\\\\\\\\": false}, \\\\\\\\\\\\\"localData\\\\\\\\\\\\\": {}, \\\\\\\\\\\\\"isEnabled\\\\\\\\\\\\\": true, \\\\\\\\\\\\\"name\\\\\\\\\\\\\": null, \\\\\\\\\\\\\"annotation\\\\\\\\\\\\\": null}, {\\\\\\\\\\\\\"id\\\\\\\\\\\\\": \\\\\\\\\\\\\"0666c99f-c4fd-4bd5-b353-78ff5b604097\\\\\\\\\\\\\", \\\\\\\\\\\\\"type\\\\\\\\\\\\\": \\\\\\\\\\\\\"Microsoft.DPrep.DropColumnsBlock\\\\\\\\\\\\\", \\\\\\\\\\\\\"arguments\\\\\\\\\\\\\": {\\\\\\\\\\\\\"columns\\\\\\\\\\\\\": {\\\\\\\\\\\\\"type\\\\\\\\\\\\\": 0, \\\\\\\\\\\\\"details\\\\\\\\\\\\\": {\\\\\\\\\\\\\"selectedColumns\\\\\\\\\\\\\": [\\\\\\\\\\\\\"Path\\\\\\\\\\\\\"]}}}, \\\\\\\\\\\\\"localData\\\\\\\\\\\\\": {}, \\\\\\\\\\\\\"isEnabled\\\\\\\\\\\\\": true, \\\\\\\\\\\\\"name\\\\\\\\\\\\\": null, \\\\\\\\\\\\\"annotation\\\\\\\\\\\\\": null}], \\\\\\\\\\\\\"inspectors\\\\\\\\\\\\\": [], \\\\\\\\\\\\\"meta\\\\\\\\\\\\\": {\\\\\\\\\\\\\"savedDatasetId\\\\\\\\\\\\\": \\\\\\\\\\\\\"c4167f29-a3b2-4de3-bd5f-af307ad6f94b\\\\\\\\\\\\\", \\\\\\\\\\\\\"datasetType\\\\\\\\\\\\\": \\\\\\\\\\\\\"tabular\\\\\\\\\\\\\", \\\\\\\\\\\\\"subscriptionId\\\\\\\\\\\\\": \\\\\\\\\\\\\"cdbe0b43-92a0-4715-838a-f2648cc7ad21\\\\\\\\\\\\\", \\\\\\\\\\\\\"workspaceId\\\\\\\\\\\\\": \\\\\\\\\\\\\"6a8fbdb0-77d6-4632-8d30-e457d174ac25\\\\\\\\\\\\\", \\\\\\\\\\\\\"workspaceLocation\\\\\\\\\\\\\": \\\\\\\\\\\\\"southcentralus\\\\\\\\\\\\\"}}\\\\\", \\\\\"activities\\\\\": 0}',\n",
       "  'EnableSubsampling': None,\n",
       "  'runTemplate': 'AutoML',\n",
       "  'azureml.runsource': 'automl',\n",
       "  'display_task_type': 'classification',\n",
       "  'dependencies_versions': '{\"azureml-widgets\": \"1.20.0\", \"azureml-train\": \"1.20.0\", \"azureml-train-restclients-hyperdrive\": \"1.20.0\", \"azureml-train-core\": \"1.20.0\", \"azureml-train-automl\": \"1.20.0\", \"azureml-train-automl-runtime\": \"1.20.0\", \"azureml-train-automl-client\": \"1.20.0\", \"azureml-tensorboard\": \"1.20.0\", \"azureml-telemetry\": \"1.20.0\", \"azureml-sdk\": \"1.20.0\", \"azureml-samples\": \"0+unknown\", \"azureml-pipeline\": \"1.20.0\", \"azureml-pipeline-steps\": \"1.20.0\", \"azureml-pipeline-core\": \"1.20.0\", \"azureml-opendatasets\": \"1.20.0\", \"azureml-model-management-sdk\": \"1.0.1b6.post1\", \"azureml-mlflow\": \"1.20.0.post1\", \"azureml-interpret\": \"1.20.0\", \"azureml-explain-model\": \"1.20.0\", \"azureml-defaults\": \"1.20.0\", \"azureml-dataset-runtime\": \"1.20.0\", \"azureml-dataprep\": \"2.7.3\", \"azureml-dataprep-rslex\": \"1.5.0\", \"azureml-dataprep-native\": \"27.0.0\", \"azureml-datadrift\": \"1.20.0\", \"azureml-core\": \"1.20.0\", \"azureml-contrib-services\": \"1.20.0\", \"azureml-contrib-server\": \"1.20.0\", \"azureml-contrib-reinforcementlearning\": \"1.20.0\", \"azureml-contrib-pipeline-steps\": \"1.20.0\", \"azureml-contrib-notebook\": \"1.20.0\", \"azureml-contrib-interpret\": \"1.20.0\", \"azureml-contrib-gbdt\": \"1.20.0\", \"azureml-contrib-fairness\": \"1.20.0\", \"azureml-contrib-dataset\": \"1.20.0\", \"azureml-cli-common\": \"1.20.0\", \"azureml-automl-runtime\": \"1.20.0\", \"azureml-automl-core\": \"1.20.0\", \"azureml-accel-models\": \"1.20.0\"}',\n",
       "  '_aml_system_scenario_identification': 'Remote.Parent',\n",
       "  'ClientType': 'SDK',\n",
       "  'environment_cpu_name': 'AzureML-AutoML',\n",
       "  'environment_cpu_label': 'prod',\n",
       "  'environment_gpu_name': 'AzureML-AutoML-GPU',\n",
       "  'environment_gpu_label': 'prod',\n",
       "  'root_attribution': 'automl',\n",
       "  'attribution': 'AutoML',\n",
       "  'Orchestrator': 'AutoML',\n",
       "  'CancelUri': 'https://southcentralus.experiments.azureml.net/jasmine/v1.0/subscriptions/cdbe0b43-92a0-4715-838a-f2648cc7ad21/resourceGroups/aml-quickstarts-138710/providers/Microsoft.MachineLearningServices/workspaces/quick-starts-ws-138710/experimentids/f8c0d303-8694-46d6-9f8c-a1fce8428754/cancel/AutoML_d0df9350-7860-45c3-94c4-6a4cc557bdce',\n",
       "  'ClientSdkVersion': '1.21.0',\n",
       "  'snapshotId': '00000000-0000-0000-0000-000000000000',\n",
       "  'SetupRunId': 'AutoML_d0df9350-7860-45c3-94c4-6a4cc557bdce_setup',\n",
       "  'SetupRunContainerId': 'dcid.AutoML_d0df9350-7860-45c3-94c4-6a4cc557bdce_setup',\n",
       "  'FeaturizationRunJsonPath': 'featurizer_container.json',\n",
       "  'FeaturizationRunId': 'AutoML_d0df9350-7860-45c3-94c4-6a4cc557bdce_featurize',\n",
       "  'ProblemInfoJsonString': '{\"dataset_num_categorical\": 0, \"is_sparse\": false, \"subsampling\": false, \"dataset_classes\": 3, \"dataset_features\": 12, \"dataset_samples\": 6491, \"single_frequency_class_detected\": false}',\n",
       "  'ModelExplainRunId': 'AutoML_d0df9350-7860-45c3-94c4-6a4cc557bdce_ModelExplain'},\n",
       " 'inputDatasets': [{'dataset': {'id': 'c4167f29-a3b2-4de3-bd5f-af307ad6f94b'}, 'consumptionDetails': {'type': 'RunInput', 'inputName': 'training_data', 'mechanism': 'Direct'}}],\n",
       " 'outputDatasets': [],\n",
       " 'logFiles': {},\n",
       " 'submittedBy': 'ODL_User 138710'}"
      ]
     },
     "execution_count": 7,
     "metadata": {},
     "output_type": "execute_result"
    }
   ],
   "source": [
    "RunDetails(automl_run).show()\n",
    "automl_run.wait_for_completion(show_output=True)"
   ]
  },
  {
   "cell_type": "markdown",
   "metadata": {},
   "source": [
    "## Best Model\n",
    "\n",
    "TODO: In the cell below, get the best model from the automl experiments and display all the properties of the model.\n",
    "\n"
   ]
  },
  {
   "cell_type": "code",
   "execution_count": 8,
   "metadata": {
    "gather": {
     "logged": 1610642100636
    },
    "jupyter": {
     "outputs_hidden": false,
     "source_hidden": false
    },
    "nteract": {
     "transient": {
      "deleting": false
     }
    }
   },
   "outputs": [
    {
     "name": "stderr",
     "output_type": "stream",
     "text": [
      "WARNING:root:The version of the SDK does not match the version the model was trained on.\n",
      "WARNING:root:The consistency in the result may not be guaranteed.\n",
      "WARNING:root:Package:azureml-automl-core, training version:1.21.0, current version:1.20.0\n",
      "Package:azureml-automl-runtime, training version:1.21.0, current version:1.20.0\n",
      "Package:azureml-core, training version:1.21.0.post1, current version:1.20.0\n",
      "Package:azureml-dataprep, training version:2.8.2, current version:2.7.3\n",
      "Package:azureml-dataprep-native, training version:28.0.0, current version:27.0.0\n",
      "Package:azureml-dataprep-rslex, training version:1.6.0, current version:1.5.0\n",
      "Package:azureml-dataset-runtime, training version:1.21.0, current version:1.20.0\n",
      "Package:azureml-defaults, training version:1.21.0, current version:1.20.0\n",
      "Package:azureml-interpret, training version:1.21.0, current version:1.20.0\n",
      "Package:azureml-pipeline-core, training version:1.21.0, current version:1.20.0\n",
      "Package:azureml-telemetry, training version:1.21.0, current version:1.20.0\n",
      "Package:azureml-train-automl-client, training version:1.21.0, current version:1.20.0\n",
      "Package:azureml-train-automl-runtime, training version:1.21.0, current version:1.20.0\n",
      "WARNING:root:Please ensure the version of your local conda dependencies match the version on which your model was trained in order to properly retrieve your model.\n"
     ]
    },
    {
     "name": "stdout",
     "output_type": "stream",
     "text": [
      "datatransformer\n",
      "{'enable_dnn': None,\n",
      " 'enable_feature_sweeping': None,\n",
      " 'feature_sweeping_config': None,\n",
      " 'feature_sweeping_timeout': None,\n",
      " 'featurization_config': None,\n",
      " 'force_text_dnn': None,\n",
      " 'is_cross_validation': None,\n",
      " 'is_onnx_compatible': None,\n",
      " 'logger': None,\n",
      " 'observer': None,\n",
      " 'task': None,\n",
      " 'working_dir': None}\n",
      "\n",
      "prefittedsoftvotingclassifier\n",
      "{'estimators': ['49', '34', '47', '31', '63', '27', '52', '38', '28'],\n",
      " 'weights': [0.26666666666666666,\n",
      "             0.06666666666666667,\n",
      "             0.06666666666666667,\n",
      "             0.06666666666666667,\n",
      "             0.06666666666666667,\n",
      "             0.2,\n",
      "             0.13333333333333333,\n",
      "             0.06666666666666667,\n",
      "             0.06666666666666667]}\n",
      "\n",
      "49 - standardscalerwrapper\n",
      "{'class_name': 'StandardScaler',\n",
      " 'copy': True,\n",
      " 'module_name': 'sklearn.preprocessing._data',\n",
      " 'with_mean': False,\n",
      " 'with_std': False}\n",
      "\n",
      "49 - xgboostclassifier\n",
      "{'base_score': 0.5,\n",
      " 'booster': 'gbtree',\n",
      " 'colsample_bylevel': 1,\n",
      " 'colsample_bynode': 1,\n",
      " 'colsample_bytree': 0.5,\n",
      " 'eta': 0.05,\n",
      " 'gamma': 0,\n",
      " 'learning_rate': 0.1,\n",
      " 'max_delta_step': 0,\n",
      " 'max_depth': 10,\n",
      " 'max_leaves': 255,\n",
      " 'min_child_weight': 1,\n",
      " 'missing': nan,\n",
      " 'n_estimators': 100,\n",
      " 'n_jobs': 1,\n",
      " 'nthread': None,\n",
      " 'objective': 'multi:softprob',\n",
      " 'random_state': 0,\n",
      " 'reg_alpha': 0.20833333333333334,\n",
      " 'reg_lambda': 0.10416666666666667,\n",
      " 'scale_pos_weight': 1,\n",
      " 'seed': None,\n",
      " 'silent': None,\n",
      " 'subsample': 0.5,\n",
      " 'tree_method': 'auto',\n",
      " 'verbose': -10,\n",
      " 'verbosity': 0}\n",
      "\n",
      "34 - standardscalerwrapper\n",
      "{'class_name': 'StandardScaler',\n",
      " 'copy': True,\n",
      " 'module_name': 'sklearn.preprocessing._data',\n",
      " 'with_mean': False,\n",
      " 'with_std': False}\n",
      "\n",
      "34 - xgboostclassifier\n",
      "{'base_score': 0.5,\n",
      " 'booster': 'gbtree',\n",
      " 'colsample_bylevel': 1,\n",
      " 'colsample_bynode': 1,\n",
      " 'colsample_bytree': 0.7,\n",
      " 'eta': 0.4,\n",
      " 'gamma': 0.1,\n",
      " 'learning_rate': 0.1,\n",
      " 'max_delta_step': 0,\n",
      " 'max_depth': 10,\n",
      " 'max_leaves': 0,\n",
      " 'min_child_weight': 1,\n",
      " 'missing': nan,\n",
      " 'n_estimators': 600,\n",
      " 'n_jobs': 1,\n",
      " 'nthread': None,\n",
      " 'objective': 'multi:softprob',\n",
      " 'random_state': 0,\n",
      " 'reg_alpha': 0,\n",
      " 'reg_lambda': 2.3958333333333335,\n",
      " 'scale_pos_weight': 1,\n",
      " 'seed': None,\n",
      " 'silent': None,\n",
      " 'subsample': 1,\n",
      " 'tree_method': 'auto',\n",
      " 'verbose': -10,\n",
      " 'verbosity': 0}\n",
      "\n",
      "47 - standardscalerwrapper\n",
      "{'class_name': 'StandardScaler',\n",
      " 'copy': True,\n",
      " 'module_name': 'sklearn.preprocessing._data',\n",
      " 'with_mean': True,\n",
      " 'with_std': False}\n",
      "\n",
      "47 - lightgbmclassifier\n",
      "{'boosting_type': 'gbdt',\n",
      " 'class_weight': None,\n",
      " 'colsample_bytree': 0.6933333333333332,\n",
      " 'importance_type': 'split',\n",
      " 'learning_rate': 0.07368684210526316,\n",
      " 'max_bin': 110,\n",
      " 'max_depth': 8,\n",
      " 'min_child_samples': 23,\n",
      " 'min_child_weight': 1,\n",
      " 'min_split_gain': 0,\n",
      " 'n_estimators': 800,\n",
      " 'n_jobs': 1,\n",
      " 'num_leaves': 95,\n",
      " 'objective': None,\n",
      " 'random_state': None,\n",
      " 'reg_alpha': 0.5789473684210527,\n",
      " 'reg_lambda': 0.9473684210526315,\n",
      " 'silent': True,\n",
      " 'subsample': 0.14894736842105263,\n",
      " 'subsample_for_bin': 200000,\n",
      " 'subsample_freq': 0,\n",
      " 'verbose': -10}\n",
      "\n",
      "31 - standardscalerwrapper\n",
      "{'class_name': 'StandardScaler',\n",
      " 'copy': True,\n",
      " 'module_name': 'sklearn.preprocessing._data',\n",
      " 'with_mean': False,\n",
      " 'with_std': False}\n",
      "\n",
      "31 - xgboostclassifier\n",
      "{'base_score': 0.5,\n",
      " 'booster': 'gbtree',\n",
      " 'colsample_bylevel': 1,\n",
      " 'colsample_bynode': 1,\n",
      " 'colsample_bytree': 0.9,\n",
      " 'eta': 0.3,\n",
      " 'gamma': 1,\n",
      " 'learning_rate': 0.1,\n",
      " 'max_delta_step': 0,\n",
      " 'max_depth': 10,\n",
      " 'max_leaves': 31,\n",
      " 'min_child_weight': 1,\n",
      " 'missing': nan,\n",
      " 'n_estimators': 50,\n",
      " 'n_jobs': 1,\n",
      " 'nthread': None,\n",
      " 'objective': 'multi:softprob',\n",
      " 'random_state': 0,\n",
      " 'reg_alpha': 0,\n",
      " 'reg_lambda': 1.5625,\n",
      " 'scale_pos_weight': 1,\n",
      " 'seed': None,\n",
      " 'silent': None,\n",
      " 'subsample': 0.8,\n",
      " 'tree_method': 'auto',\n",
      " 'verbose': -10,\n",
      " 'verbosity': 0}\n",
      "\n",
      "63 - standardscalerwrapper\n",
      "{'class_name': 'StandardScaler',\n",
      " 'copy': True,\n",
      " 'module_name': 'sklearn.preprocessing._data',\n",
      " 'with_mean': False,\n",
      " 'with_std': False}\n",
      "\n",
      "63 - xgboostclassifier\n",
      "{'base_score': 0.5,\n",
      " 'booster': 'gbtree',\n",
      " 'colsample_bylevel': 1,\n",
      " 'colsample_bynode': 1,\n",
      " 'colsample_bytree': 0.9,\n",
      " 'eta': 0.5,\n",
      " 'gamma': 0.1,\n",
      " 'learning_rate': 0.1,\n",
      " 'max_delta_step': 0,\n",
      " 'max_depth': 7,\n",
      " 'max_leaves': 31,\n",
      " 'min_child_weight': 1,\n",
      " 'missing': nan,\n",
      " 'n_estimators': 100,\n",
      " 'n_jobs': 1,\n",
      " 'nthread': None,\n",
      " 'objective': 'multi:softprob',\n",
      " 'random_state': 0,\n",
      " 'reg_alpha': 0,\n",
      " 'reg_lambda': 1.5625,\n",
      " 'scale_pos_weight': 1,\n",
      " 'seed': None,\n",
      " 'silent': None,\n",
      " 'subsample': 1,\n",
      " 'tree_method': 'auto',\n",
      " 'verbose': -10,\n",
      " 'verbosity': 0}\n",
      "\n",
      "27 - truncatedsvdwrapper\n",
      "{'n_components': 0.95, 'random_state': None}\n",
      "\n",
      "27 - xgboostclassifier\n",
      "{'base_score': 0.5,\n",
      " 'booster': 'gbtree',\n",
      " 'colsample_bylevel': 1,\n",
      " 'colsample_bynode': 1,\n",
      " 'colsample_bytree': 0.7,\n",
      " 'eta': 0.3,\n",
      " 'gamma': 0,\n",
      " 'learning_rate': 0.1,\n",
      " 'max_delta_step': 0,\n",
      " 'max_depth': 5,\n",
      " 'max_leaves': 0,\n",
      " 'min_child_weight': 1,\n",
      " 'missing': nan,\n",
      " 'n_estimators': 400,\n",
      " 'n_jobs': 1,\n",
      " 'nthread': None,\n",
      " 'objective': 'multi:softprob',\n",
      " 'random_state': 0,\n",
      " 'reg_alpha': 0,\n",
      " 'reg_lambda': 0.10416666666666667,\n",
      " 'scale_pos_weight': 1,\n",
      " 'seed': None,\n",
      " 'silent': None,\n",
      " 'subsample': 0.6,\n",
      " 'tree_method': 'auto',\n",
      " 'verbose': -10,\n",
      " 'verbosity': 0}\n",
      "\n",
      "52 - sparsenormalizer\n",
      "{'copy': True, 'norm': 'max'}\n",
      "\n",
      "52 - xgboostclassifier\n",
      "{'base_score': 0.5,\n",
      " 'booster': 'gbtree',\n",
      " 'colsample_bylevel': 1,\n",
      " 'colsample_bynode': 1,\n",
      " 'colsample_bytree': 1,\n",
      " 'eta': 0.2,\n",
      " 'gamma': 0,\n",
      " 'learning_rate': 0.1,\n",
      " 'max_delta_step': 0,\n",
      " 'max_depth': 9,\n",
      " 'max_leaves': 255,\n",
      " 'min_child_weight': 1,\n",
      " 'missing': nan,\n",
      " 'n_estimators': 100,\n",
      " 'n_jobs': 1,\n",
      " 'nthread': None,\n",
      " 'objective': 'multi:softprob',\n",
      " 'random_state': 0,\n",
      " 'reg_alpha': 0.625,\n",
      " 'reg_lambda': 0.8333333333333334,\n",
      " 'scale_pos_weight': 1,\n",
      " 'seed': None,\n",
      " 'silent': None,\n",
      " 'subsample': 0.9,\n",
      " 'tree_method': 'auto',\n",
      " 'verbose': -10,\n",
      " 'verbosity': 0}\n",
      "\n",
      "38 - sparsenormalizer\n",
      "{'copy': True, 'norm': 'max'}\n",
      "\n",
      "38 - xgboostclassifier\n",
      "{'base_score': 0.5,\n",
      " 'booster': 'gbtree',\n",
      " 'colsample_bylevel': 1,\n",
      " 'colsample_bynode': 1,\n",
      " 'colsample_bytree': 0.5,\n",
      " 'eta': 0.2,\n",
      " 'gamma': 0,\n",
      " 'learning_rate': 0.1,\n",
      " 'max_delta_step': 0,\n",
      " 'max_depth': 8,\n",
      " 'max_leaves': 0,\n",
      " 'min_child_weight': 1,\n",
      " 'missing': nan,\n",
      " 'n_estimators': 400,\n",
      " 'n_jobs': 1,\n",
      " 'nthread': None,\n",
      " 'objective': 'multi:softprob',\n",
      " 'random_state': 0,\n",
      " 'reg_alpha': 1.0416666666666667,\n",
      " 'reg_lambda': 0.3125,\n",
      " 'scale_pos_weight': 1,\n",
      " 'seed': None,\n",
      " 'silent': None,\n",
      " 'subsample': 0.8,\n",
      " 'tree_method': 'auto',\n",
      " 'verbose': -10,\n",
      " 'verbosity': 0}\n",
      "\n",
      "28 - truncatedsvdwrapper\n",
      "{'n_components': 0.7521052631578947, 'random_state': None}\n",
      "\n",
      "28 - xgboostclassifier\n",
      "{'base_score': 0.5,\n",
      " 'booster': 'gbtree',\n",
      " 'colsample_bylevel': 1,\n",
      " 'colsample_bynode': 1,\n",
      " 'colsample_bytree': 0.8,\n",
      " 'eta': 0.1,\n",
      " 'gamma': 0,\n",
      " 'learning_rate': 0.1,\n",
      " 'max_delta_step': 0,\n",
      " 'max_depth': 9,\n",
      " 'max_leaves': 7,\n",
      " 'min_child_weight': 1,\n",
      " 'missing': nan,\n",
      " 'n_estimators': 200,\n",
      " 'n_jobs': 1,\n",
      " 'nthread': None,\n",
      " 'objective': 'multi:softprob',\n",
      " 'random_state': 0,\n",
      " 'reg_alpha': 1.875,\n",
      " 'reg_lambda': 0,\n",
      " 'scale_pos_weight': 1,\n",
      " 'seed': None,\n",
      " 'silent': None,\n",
      " 'subsample': 0.5,\n",
      " 'tree_method': 'auto',\n",
      " 'verbose': -10,\n",
      " 'verbosity': 0}\n",
      "\n"
     ]
    }
   ],
   "source": [
    "assert (automl_run.get_status() == \"Completed\")\n",
    "best_ml_run, best_model = automl_run.get_output()\n",
    "\n",
    "\n",
    "def print_model(model, prefix=\"\"):\n",
    "    for step in model.steps:\n",
    "        print(prefix + step[0])\n",
    "        if hasattr(step[1], 'estimators') and hasattr(step[1], 'weights'):\n",
    "            pprint({'estimators':\n",
    "                       list(e[0] for e in step[1].estimators),\n",
    "                   'weights': step[1].weights})\n",
    "            print()\n",
    "            for estimator in step[1].estimators:\n",
    "                print_model(estimator[1], estimator[0] + ' - ')\n",
    "        else:\n",
    "            pprint(step[1].get_params())\n",
    "            print()\n",
    "            \n",
    "print_model(best_model)\n"
   ]
  },
  {
   "cell_type": "code",
   "execution_count": 16,
   "metadata": {
    "gather": {
     "logged": 1610642118696
    },
    "jupyter": {
     "outputs_hidden": false,
     "source_hidden": false
    },
    "nteract": {
     "transient": {
      "deleting": false
     }
    }
   },
   "outputs": [],
   "source": [
    "best_ml_run.download_file(\"./outputs/model.pkl\")\n",
    "best_ml_run.download_file(\"outputs/conda_env_v_1_0_0.yml\", \"conda_env.yml\")"
   ]
  },
  {
   "cell_type": "markdown",
   "metadata": {},
   "source": [
    "## Model Deployment\n",
    "\n",
    "Remember you have to deploy only one of the two models you trained.. Perform the steps in the rest of this notebook only if you wish to deploy this model.\n",
    "\n",
    "TODO: In the cell below, register the model, create an inference config and deploy the model as a web service."
   ]
  },
  {
   "cell_type": "code",
   "execution_count": 10,
   "metadata": {
    "gather": {
     "logged": 1610630222657
    },
    "jupyter": {
     "outputs_hidden": false,
     "source_hidden": false
    },
    "nteract": {
     "transient": {
      "deleting": false
     }
    }
   },
   "outputs": [
    {
     "name": "stdout",
     "output_type": "stream",
     "text": [
      "Tips: You can try get_logs(): https://aka.ms/debugimage#dockerlog or local deployment: https://aka.ms/debugimage#debug-locally to debug if deployment takes longer than 10 minutes.\n",
      "Running..........................................\n",
      "Succeeded\n",
      "ACI service creation operation finished, operation \"Succeeded\"\n",
      "http://b4cb163d-6032-4d56-b881-e4486c9570e5.southcentralus.azurecontainer.io/score\n"
     ]
    }
   ],
   "source": [
    "registered_model = best_ml_run.register_model(model_name=\"wine-quality-model\", model_path=\"./outputs/model.pkl\")\n",
    "\n",
    "service_name = 'wine-quality-classification'\n",
    "inference_config = InferenceConfig(entry_script='score.py', environment=best_ml_run.get_environment())\n",
    "aci_config = AciWebservice.deploy_configuration(cpu_cores=1, memory_gb=1, auth_enabled=True, enable_app_insights=True)\n",
    "service = Model.deploy(workspace=ws,\n",
    "                       name=service_name,\n",
    "                       models=[registered_model],\n",
    "                       inference_config=inference_config,\n",
    "                       deployment_config=aci_config,\n",
    "                       overwrite=True)\n",
    "service.wait_for_deployment(show_output=True)\n",
    "print(service.scoring_uri)\n",
    "primary_key, _ = service.get_keys()"
   ]
  },
  {
   "cell_type": "markdown",
   "metadata": {
    "collapsed": true,
    "gather": {
     "logged": 1598431657736
    },
    "jupyter": {
     "outputs_hidden": false,
     "source_hidden": false
    },
    "nteract": {
     "transient": {
      "deleting": false
     }
    }
   },
   "source": [
    "TODO: In the cell below, send a request to the web service you deployed to test it."
   ]
  },
  {
   "cell_type": "code",
   "execution_count": 13,
   "metadata": {
    "gather": {
     "logged": 1610645925189
    },
    "jupyter": {
     "outputs_hidden": false,
     "source_hidden": false
    },
    "nteract": {
     "transient": {
      "deleting": false
     }
    }
   },
   "outputs": [
    {
     "name": "stdout",
     "output_type": "stream",
     "text": [
      "{\"result\": [\"MEDIUM\", \"MEDIUM\"]}\n"
     ]
    }
   ],
   "source": [
    "data = {\"data\":\n",
    "         [{\n",
    "             \"fixed acidity\":7.90000,\n",
    "             \"volatile acidity\":0.52000,\n",
    "             \"citric acid\":0.26000, \n",
    "             \"residual sugar\":2.2000,\n",
    "             \"chlorides\":0.07900,\n",
    "             \"free sulfur dioxide\":14.0000,\n",
    "             \"total sulfur dioxide\":38.0000,\n",
    "             \"density\":0.99675,\n",
    "             \"pH\":3.31000,\n",
    "             \"sulphates\":0.62000,\n",
    "             \"alcohol\":10.20000,\n",
    "             \"is_red_wine\": 1\n",
    "         },\n",
    "         {\n",
    "             \"fixed acidity\":6.80,\n",
    "             \"volatile acidity\":0.26000,\n",
    "             \"citric acid\":0.32000, \n",
    "             \"residual sugar\":5.2000,\n",
    "             \"chlorides\":0.04300,\n",
    "             \"free sulfur dioxide\":34.0000,\n",
    "             \"total sulfur dioxide\":134.00000,\n",
    "             \"density\":0.99374,\n",
    "             \"pH\":3.18000,\n",
    "             \"sulphates\":0.47000,\n",
    "             \"alcohol\":10.40000,\n",
    "             \"is_red_wine\": 0\n",
    "         }]\n",
    "     }\n",
    "header = {'Content-Type': 'application/json'}\n",
    "header[\"Authorization\"] = f\"Bearer {primary_key}\"\n",
    "json_data = json.dumps(data)\n",
    "\n",
    "resp = requests.post(service.scoring_uri, json_data, headers=header)\n",
    "print(resp.json())"
   ]
  },
  {
   "cell_type": "markdown",
   "metadata": {
    "collapsed": true,
    "gather": {
     "logged": 1598432765711
    },
    "jupyter": {
     "outputs_hidden": false,
     "source_hidden": false
    },
    "nteract": {
     "transient": {
      "deleting": false
     }
    }
   },
   "source": [
    "TODO: In the cell below, print the logs of the web service and delete the service"
   ]
  },
  {
   "cell_type": "code",
   "execution_count": 12,
   "metadata": {
    "gather": {
     "logged": 1610631077599
    },
    "jupyter": {
     "outputs_hidden": false,
     "source_hidden": false
    },
    "nteract": {
     "transient": {
      "deleting": false
     }
    }
   },
   "outputs": [
    {
     "name": "stdout",
     "output_type": "stream",
     "text": [
      "2021-02-12T17:43:53,427041452+00:00 - rsyslog/run \n",
      "2021-02-12T17:43:53,429665614+00:00 - nginx/run \n",
      "2021-02-12T17:43:53,431376320+00:00 - gunicorn/run \n",
      "2021-02-12T17:43:53,437663709+00:00 - iot-server/run \n",
      "/usr/sbin/nginx: /azureml-envs/azureml_20a8278aa8b20dd48cc50f56a6d2586c/lib/libcrypto.so.1.0.0: no version information available (required by /usr/sbin/nginx)\n",
      "/usr/sbin/nginx: /azureml-envs/azureml_20a8278aa8b20dd48cc50f56a6d2586c/lib/libcrypto.so.1.0.0: no version information available (required by /usr/sbin/nginx)\n",
      "/usr/sbin/nginx: /azureml-envs/azureml_20a8278aa8b20dd48cc50f56a6d2586c/lib/libssl.so.1.0.0: no version information available (required by /usr/sbin/nginx)\n",
      "/usr/sbin/nginx: /azureml-envs/azureml_20a8278aa8b20dd48cc50f56a6d2586c/lib/libssl.so.1.0.0: no version information available (required by /usr/sbin/nginx)\n",
      "/usr/sbin/nginx: /azureml-envs/azureml_20a8278aa8b20dd48cc50f56a6d2586c/lib/libssl.so.1.0.0: no version information available (required by /usr/sbin/nginx)\n",
      "rsyslogd: /azureml-envs/azureml_20a8278aa8b20dd48cc50f56a6d2586c/lib/libuuid.so.1: no version information available (required by rsyslogd)\n",
      "EdgeHubConnectionString and IOTEDGE_IOTHUBHOSTNAME are not set. Exiting...\n",
      "2021-02-12T17:43:53,593641260+00:00 - iot-server/finish 1 0\n",
      "2021-02-12T17:43:53,595250559+00:00 - Exit code 1 is normal. Not restarting iot-server.\n",
      "Starting gunicorn 19.9.0\n",
      "Listening at: http://127.0.0.1:31311 (12)\n",
      "Using worker: sync\n",
      "worker timeout is set to 300\n",
      "Booting worker with pid: 42\n",
      "SPARK_HOME not set. Skipping PySpark Initialization.\n",
      "Generating new fontManager, this may take some time...\n",
      "Initializing logger\n",
      "2021-02-12 17:43:56,473 | root | INFO | Starting up app insights client\n",
      "2021-02-12 17:43:56,474 | root | INFO | Starting up request id generator\n",
      "2021-02-12 17:43:56,474 | root | INFO | Starting up app insight hooks\n",
      "2021-02-12 17:43:56,474 | root | INFO | Invoking user's init function\n",
      "2021-02-12 17:43:58,320 | root | INFO | Users's init has completed successfully\n",
      "2021-02-12 17:43:58,323 | root | INFO | Skipping middleware: dbg_model_info as it's not enabled.\n",
      "2021-02-12 17:43:58,323 | root | INFO | Skipping middleware: dbg_resource_usage as it's not enabled.\n",
      "2021-02-12 17:43:58,324 | root | INFO | Scoring timeout is found from os.environ: 60000 ms\n",
      "2021-02-12 17:44:00,622 | root | INFO | 200\n",
      "127.0.0.1 - - [12/Feb/2021:17:44:00 +0000] \"GET /swagger.json HTTP/1.0\" 200 2902 \"-\" \"Go-http-client/1.1\"\n",
      "2021-02-12 17:44:05,813 | root | INFO | 200\n",
      "127.0.0.1 - - [12/Feb/2021:17:44:05 +0000] \"GET /swagger.json HTTP/1.0\" 200 2902 \"-\" \"Go-http-client/1.1\"\n",
      "2021-02-12 17:45:15,788 | root | INFO | Validation Request Content-Type\n",
      "2021-02-12 17:45:15,788 | root | INFO | Scoring Timer is set to 60.0 seconds\n",
      "2021-02-12 17:45:15,836 | root | INFO | 200\n",
      "127.0.0.1 - - [12/Feb/2021:17:45:15 +0000] \"POST /score HTTP/1.0\" 200 40 \"-\" \"python-requests/2.25.1\"\n",
      "\n"
     ]
    }
   ],
   "source": [
    "print(service.get_logs())\n",
    "#service.delete()"
   ]
  },
  {
   "cell_type": "code",
   "execution_count": null,
   "metadata": {},
   "outputs": [],
   "source": []
  }
 ],
 "metadata": {
  "kernel_info": {
   "name": "python3"
  },
  "kernelspec": {
   "display_name": "Python 3",
   "language": "python",
   "name": "python3"
  },
  "language_info": {
   "codemirror_mode": {
    "name": "ipython",
    "version": 3
   },
   "file_extension": ".py",
   "mimetype": "text/x-python",
   "name": "python",
   "nbconvert_exporter": "python",
   "pygments_lexer": "ipython3",
   "version": "3.6.9"
  },
  "nteract": {
   "version": "nteract-front-end@1.0.0"
  },
  "varInspector": {
   "cols": {
    "lenName": 16,
    "lenType": 16,
    "lenVar": 40
   },
   "kernels_config": {
    "python": {
     "delete_cmd_postfix": "",
     "delete_cmd_prefix": "del ",
     "library": "var_list.py",
     "varRefreshCmd": "print(var_dic_list())"
    },
    "r": {
     "delete_cmd_postfix": ") ",
     "delete_cmd_prefix": "rm(",
     "library": "var_list.r",
     "varRefreshCmd": "cat(var_dic_list()) "
    }
   },
   "types_to_exclude": [
    "module",
    "function",
    "builtin_function_or_method",
    "instance",
    "_Feature"
   ],
   "window_display": false
  }
 },
 "nbformat": 4,
 "nbformat_minor": 2
}
