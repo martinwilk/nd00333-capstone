{
 "cells": [
  {
   "cell_type": "markdown",
   "metadata": {},
   "source": [
    "# Automated ML\n",
    "\n",
    "TODO: Import Dependencies. In the cell below, import all the dependencies that you will need to complete the project."
   ]
  },
  {
   "cell_type": "code",
   "execution_count": 1,
   "metadata": {
    "gather": {
     "logged": 1610557257455
    },
    "jupyter": {
     "outputs_hidden": false,
     "source_hidden": false
    },
    "nteract": {
     "transient": {
      "deleting": false
     }
    }
   },
   "outputs": [
    {
     "name": "stderr",
     "output_type": "stream",
     "text": [
      "/mnt/batch/tasks/shared/LS_root/mounts/clusters/notebook134576/code/Users/odl_user_134576/nd00333-capstone-master/train.py:24: SettingWithCopyWarning: \n",
      "A value is trying to be set on a copy of a slice from a DataFrame.\n",
      "Try using .loc[row_indexer,col_indexer] = value instead\n",
      "\n",
      "See the caveats in the documentation: http://pandas.pydata.org/pandas-docs/stable/user_guide/indexing.html#returning-a-view-versus-a-copy\n",
      "  x_red[\"wine_type\"] = \"RED\"\n"
     ]
    }
   ],
   "source": [
    "from azureml.core import Workspace, Experiment\n",
    "from azureml.core.compute import ComputeTarget, AmlCompute\n",
    "from azureml.core.compute_target import ComputeTargetException\n",
    "from azureml.data.dataset_factory import TabularDatasetFactory\n",
    "from train import clean_data\n",
    "from azureml.train.automl import AutoMLConfig\n",
    "from azureml.automl.runtime.onnx_convert import OnnxConverter\n",
    "from azureml.widgets import RunDetails\n",
    "from pprint import pprint\n",
    "from azureml.core.model import InferenceConfig\n",
    "from azureml.core.webservice import AciWebservice\n",
    "from azureml.core import Environment\n",
    "from azureml.core.conda_dependencies import CondaDependencies\n",
    "from azureml.core.model import Model\n",
    "import requests"
   ]
  },
  {
   "cell_type": "markdown",
   "metadata": {},
   "source": [
    "## Dataset\n",
    "\n",
    "### Overview\n",
    "TODO: In this markdown cell, give an overview of the dataset you are using. Also mention the task you will be performing.\n",
    "\n",
    "\n",
    "TODO: Get data. In the cell below, write code to access the data you will be using in this project. Remember that the dataset needs to be external."
   ]
  },
  {
   "cell_type": "code",
   "execution_count": 2,
   "metadata": {
    "gather": {
     "logged": 1610557302864
    },
    "jupyter": {
     "outputs_hidden": false,
     "source_hidden": false
    },
    "nteract": {
     "transient": {
      "deleting": false
     }
    }
   },
   "outputs": [
    {
     "name": "stdout",
     "output_type": "stream",
     "text": [
      "Performing interactive authentication. Please follow the instructions on the terminal.\n",
      "To sign in, use a web browser to open the page https://microsoft.com/devicelogin and enter the code A47KBR6Z4 to authenticate.\n",
      "You have logged in. Now let us find all the subscriptions to which you have access...\n",
      "Interactive authentication successfully completed.\n",
      "Validating arguments.\n",
      "Arguments validated.\n",
      "Successfully obtained datastore reference and path.\n",
      "Uploading file to managed-dataset/fc284e72-2f53-4fd5-adb7-e121d48c0c99/\n",
      "Successfully uploaded file to datastore.\n",
      "Creating and registering a new dataset.\n",
      "Successfully created and registered a new dataset.\n"
     ]
    },
    {
     "name": "stderr",
     "output_type": "stream",
     "text": [
      "Method register_pandas_dataframe: This is an experimental method, and may change at any time.<br/>For more information, see https://aka.ms/azuremlexperimental.\n"
     ]
    },
    {
     "data": {
      "text/html": [
       "<div>\n",
       "<style scoped>\n",
       "    .dataframe tbody tr th:only-of-type {\n",
       "        vertical-align: middle;\n",
       "    }\n",
       "\n",
       "    .dataframe tbody tr th {\n",
       "        vertical-align: top;\n",
       "    }\n",
       "\n",
       "    .dataframe thead th {\n",
       "        text-align: right;\n",
       "    }\n",
       "</style>\n",
       "<table border=\"1\" class=\"dataframe\">\n",
       "  <thead>\n",
       "    <tr style=\"text-align: right;\">\n",
       "      <th></th>\n",
       "      <th>fixed acidity</th>\n",
       "      <th>volatile acidity</th>\n",
       "      <th>citric acid</th>\n",
       "      <th>residual sugar</th>\n",
       "      <th>chlorides</th>\n",
       "      <th>free sulfur dioxide</th>\n",
       "      <th>total sulfur dioxide</th>\n",
       "      <th>density</th>\n",
       "      <th>pH</th>\n",
       "      <th>sulphates</th>\n",
       "      <th>alcohol</th>\n",
       "      <th>is_red_wine</th>\n",
       "    </tr>\n",
       "  </thead>\n",
       "  <tbody>\n",
       "    <tr>\n",
       "      <th>count</th>\n",
       "      <td>6491.00</td>\n",
       "      <td>6491.00</td>\n",
       "      <td>6491.00</td>\n",
       "      <td>6491.00</td>\n",
       "      <td>6491.00</td>\n",
       "      <td>6491.00</td>\n",
       "      <td>6491.00</td>\n",
       "      <td>6491.00</td>\n",
       "      <td>6491.00</td>\n",
       "      <td>6491.00</td>\n",
       "      <td>6491.00</td>\n",
       "      <td>6491.00</td>\n",
       "    </tr>\n",
       "    <tr>\n",
       "      <th>mean</th>\n",
       "      <td>7.22</td>\n",
       "      <td>0.34</td>\n",
       "      <td>0.32</td>\n",
       "      <td>5.44</td>\n",
       "      <td>0.06</td>\n",
       "      <td>30.52</td>\n",
       "      <td>115.71</td>\n",
       "      <td>0.99</td>\n",
       "      <td>3.22</td>\n",
       "      <td>0.53</td>\n",
       "      <td>10.49</td>\n",
       "      <td>0.25</td>\n",
       "    </tr>\n",
       "    <tr>\n",
       "      <th>std</th>\n",
       "      <td>1.30</td>\n",
       "      <td>0.16</td>\n",
       "      <td>0.15</td>\n",
       "      <td>4.76</td>\n",
       "      <td>0.03</td>\n",
       "      <td>17.75</td>\n",
       "      <td>56.46</td>\n",
       "      <td>0.00</td>\n",
       "      <td>0.16</td>\n",
       "      <td>0.15</td>\n",
       "      <td>1.19</td>\n",
       "      <td>0.43</td>\n",
       "    </tr>\n",
       "    <tr>\n",
       "      <th>min</th>\n",
       "      <td>3.80</td>\n",
       "      <td>0.08</td>\n",
       "      <td>0.00</td>\n",
       "      <td>0.60</td>\n",
       "      <td>0.01</td>\n",
       "      <td>1.00</td>\n",
       "      <td>6.00</td>\n",
       "      <td>0.99</td>\n",
       "      <td>2.72</td>\n",
       "      <td>0.22</td>\n",
       "      <td>8.00</td>\n",
       "      <td>0.00</td>\n",
       "    </tr>\n",
       "    <tr>\n",
       "      <th>25%</th>\n",
       "      <td>6.40</td>\n",
       "      <td>0.23</td>\n",
       "      <td>0.25</td>\n",
       "      <td>1.80</td>\n",
       "      <td>0.04</td>\n",
       "      <td>17.00</td>\n",
       "      <td>77.00</td>\n",
       "      <td>0.99</td>\n",
       "      <td>3.11</td>\n",
       "      <td>0.43</td>\n",
       "      <td>9.50</td>\n",
       "      <td>0.00</td>\n",
       "    </tr>\n",
       "    <tr>\n",
       "      <th>50%</th>\n",
       "      <td>7.00</td>\n",
       "      <td>0.29</td>\n",
       "      <td>0.31</td>\n",
       "      <td>3.00</td>\n",
       "      <td>0.05</td>\n",
       "      <td>29.00</td>\n",
       "      <td>118.00</td>\n",
       "      <td>0.99</td>\n",
       "      <td>3.21</td>\n",
       "      <td>0.51</td>\n",
       "      <td>10.30</td>\n",
       "      <td>0.00</td>\n",
       "    </tr>\n",
       "    <tr>\n",
       "      <th>75%</th>\n",
       "      <td>7.70</td>\n",
       "      <td>0.40</td>\n",
       "      <td>0.39</td>\n",
       "      <td>8.10</td>\n",
       "      <td>0.07</td>\n",
       "      <td>41.00</td>\n",
       "      <td>156.00</td>\n",
       "      <td>1.00</td>\n",
       "      <td>3.32</td>\n",
       "      <td>0.60</td>\n",
       "      <td>11.30</td>\n",
       "      <td>0.00</td>\n",
       "    </tr>\n",
       "    <tr>\n",
       "      <th>max</th>\n",
       "      <td>15.90</td>\n",
       "      <td>1.58</td>\n",
       "      <td>1.66</td>\n",
       "      <td>65.80</td>\n",
       "      <td>0.61</td>\n",
       "      <td>289.00</td>\n",
       "      <td>440.00</td>\n",
       "      <td>1.04</td>\n",
       "      <td>4.01</td>\n",
       "      <td>2.00</td>\n",
       "      <td>14.90</td>\n",
       "      <td>1.00</td>\n",
       "    </tr>\n",
       "  </tbody>\n",
       "</table>\n",
       "</div>"
      ],
      "text/plain": [
       "       fixed acidity  volatile acidity  citric acid  residual sugar  \\\n",
       "count        6491.00           6491.00      6491.00         6491.00   \n",
       "mean            7.22              0.34         0.32            5.44   \n",
       "std             1.30              0.16         0.15            4.76   \n",
       "min             3.80              0.08         0.00            0.60   \n",
       "25%             6.40              0.23         0.25            1.80   \n",
       "50%             7.00              0.29         0.31            3.00   \n",
       "75%             7.70              0.40         0.39            8.10   \n",
       "max            15.90              1.58         1.66           65.80   \n",
       "\n",
       "       chlorides  free sulfur dioxide  total sulfur dioxide  density      pH  \\\n",
       "count    6491.00              6491.00               6491.00  6491.00 6491.00   \n",
       "mean        0.06                30.52                115.71     0.99    3.22   \n",
       "std         0.03                17.75                 56.46     0.00    0.16   \n",
       "min         0.01                 1.00                  6.00     0.99    2.72   \n",
       "25%         0.04                17.00                 77.00     0.99    3.11   \n",
       "50%         0.05                29.00                118.00     0.99    3.21   \n",
       "75%         0.07                41.00                156.00     1.00    3.32   \n",
       "max         0.61               289.00                440.00     1.04    4.01   \n",
       "\n",
       "       sulphates  alcohol  is_red_wine  \n",
       "count    6491.00  6491.00      6491.00  \n",
       "mean        0.53    10.49         0.25  \n",
       "std         0.15     1.19         0.43  \n",
       "min         0.22     8.00         0.00  \n",
       "25%         0.43     9.50         0.00  \n",
       "50%         0.51    10.30         0.00  \n",
       "75%         0.60    11.30         0.00  \n",
       "max         2.00    14.90         1.00  "
      ]
     },
     "execution_count": 2,
     "metadata": {},
     "output_type": "execute_result"
    }
   ],
   "source": [
    "ws = Workspace.from_config()\n",
    "\n",
    "# choose a name for experiment\n",
    "experiment_name = 'wine-quality-automl'\n",
    "\n",
    "experiment=Experiment(ws, experiment_name)\n",
    "\n",
    "# Try to load the dataset from the Workspace. Otherwise, create it from the file\n",
    "# NOTE: update the key to match the dataset name\n",
    "found = False\n",
    "key = \"wine-quality\"\n",
    "description_text = \"Wine Quality Dataset for Udacity Course 3\"\n",
    "\n",
    "if key in ws.datasets.keys(): \n",
    "    found = True\n",
    "    input_data = ws.datasets[key] \n",
    "\n",
    "if not found:\n",
    "    # Create AML Dataset and register it into Workspace\n",
    "    url_white = \"https://archive.ics.uci.edu/ml/machine-learning-databases/wine-quality/winequality-white.csv\"\n",
    "    url_red = \"https://archive.ics.uci.edu/ml/machine-learning-databases/wine-quality/winequality-red.csv\"\n",
    "    white_data = TabularDatasetFactory.from_delimited_files(url_white, separator=\";\")\n",
    "    red_data = TabularDatasetFactory.from_delimited_files(url_red, separator=\";\")\n",
    "    features, target = clean_data(white_data, red_data, numeric_target=False)\n",
    "    features[\"quality\"]=target\n",
    "    ds = ws.get_default_datastore()\n",
    "    input_data = TabularDatasetFactory.register_pandas_dataframe(dataframe=features, target=ds, name=key,\n",
    "                                                             description=description_text)\n",
    "\n",
    "\n",
    "df = input_data.to_pandas_dataframe()\n",
    "df.describe()\n"
   ]
  },
  {
   "cell_type": "code",
   "execution_count": 3,
   "metadata": {
    "gather": {
     "logged": 1610557321256
    }
   },
   "outputs": [
    {
     "name": "stdout",
     "output_type": "stream",
     "text": [
      "Found existing cluster, use it.\n",
      "Succeeded\n",
      "AmlCompute wait for completion finished\n",
      "\n",
      "Minimum number of nodes requested have been provisioned\n"
     ]
    }
   ],
   "source": [
    "# NOTE: update the cluster name to match the existing cluster\n",
    "# Choose a name for your CPU cluster\n",
    "amlcompute_cluster_name = \"aml-compute\"\n",
    "\n",
    "# Verify that cluster does not exist already\n",
    "try:\n",
    "    compute_target = ComputeTarget(workspace=ws, name=amlcompute_cluster_name)\n",
    "    print('Found existing cluster, use it.')\n",
    "except ComputeTargetException:\n",
    "    compute_config = AmlCompute.provisioning_configuration(vm_size='STANDARD_D12_V2',# for GPU, use \"STANDARD_NC6\"\n",
    "                                                           #vm_priority = 'lowpriority', # optional\n",
    "                                                           max_nodes=4)\n",
    "    compute_target = ComputeTarget.create(ws, amlcompute_cluster_name, compute_config)\n",
    "\n",
    "compute_target.wait_for_completion(show_output=True, min_node_count = 1, timeout_in_minutes = 10)\n",
    "# For a more detailed view of current AmlCompute status, use get_status()."
   ]
  },
  {
   "cell_type": "markdown",
   "metadata": {},
   "source": [
    "## AutoML Configuration\n",
    "\n",
    "TODO: Explain why you chose the automl settings and cofiguration you used below."
   ]
  },
  {
   "cell_type": "code",
   "execution_count": 10,
   "metadata": {
    "gather": {
     "logged": 1610558922803
    },
    "jupyter": {
     "outputs_hidden": false,
     "source_hidden": false
    },
    "nteract": {
     "transient": {
      "deleting": false
     }
    }
   },
   "outputs": [],
   "source": [
    "automl_settings = {\n",
    "    \"n_cross_validations\": 3,\n",
    "    \"enable_early_stopping\": True,\n",
    "    \"primary_metric\": \"AUC_weighted\",\n",
    "    \"max_concurrent_iterations\": 4,\n",
    "    \n",
    "}\n",
    "automl_config = AutoMLConfig(\n",
    "    experiment_timeout_hours=1.0,\n",
    "    task=\"classification\",\n",
    "    compute_target=compute_target,\n",
    "    training_data=input_data,\n",
    "    label_column_name=\"quality\",\n",
    "    **automl_settings)"
   ]
  },
  {
   "cell_type": "code",
   "execution_count": 11,
   "metadata": {
    "gather": {
     "logged": 1610560385328
    },
    "jupyter": {
     "outputs_hidden": false,
     "source_hidden": false
    },
    "nteract": {
     "transient": {
      "deleting": false
     }
    }
   },
   "outputs": [
    {
     "name": "stdout",
     "output_type": "stream",
     "text": [
      "Running on remote.\n",
      "No run_configuration provided, running on aml-compute with default configuration\n",
      "Running on remote compute: aml-compute\n",
      "Parent Run ID: AutoML_cfdf3dde-5e87-4512-886c-70b176ccd8df\n",
      "\n",
      "Current status: FeaturesGeneration. Generating features for the dataset.\n",
      "Current status: DatasetCrossValidationSplit. Generating individually featurized CV splits.\n",
      "Current status: ModelSelection. Beginning model selection.\n",
      "\n",
      "****************************************************************************************************\n",
      "DATA GUARDRAILS: \n",
      "\n",
      "TYPE:         Class balancing detection\n",
      "STATUS:       ALERTED\n",
      "DESCRIPTION:  To decrease model bias, please cancel the current run and fix balancing problem.\n",
      "              Learn more about imbalanced data: https://aka.ms/AutomatedMLImbalancedData\n",
      "DETAILS:      Imbalanced data can lead to a falsely perceived positive effect of a model's accuracy because the input data has bias towards one class.\n",
      "+---------------------------------+---------------------------------+--------------------------------------+\n",
      "|Size of the smallest class       |Name/Label of the smallest class |Number of samples in the training data|\n",
      "+=================================+=================================+======================================+\n",
      "|246                              |BAD                              |6491                                  |\n",
      "+---------------------------------+---------------------------------+--------------------------------------+\n",
      "\n",
      "****************************************************************************************************\n",
      "\n",
      "TYPE:         Missing feature values imputation\n",
      "STATUS:       PASSED\n",
      "DESCRIPTION:  No feature missing values were detected in the training data.\n",
      "              Learn more about missing value imputation: https://aka.ms/AutomatedMLFeaturization\n",
      "\n",
      "****************************************************************************************************\n",
      "\n",
      "TYPE:         High cardinality feature detection\n",
      "STATUS:       PASSED\n",
      "DESCRIPTION:  Your inputs were analyzed, and no high cardinality features were detected.\n",
      "              Learn more about high cardinality feature handling: https://aka.ms/AutomatedMLFeaturization\n",
      "\n",
      "****************************************************************************************************\n",
      "\n",
      "****************************************************************************************************\n",
      "ITERATION: The iteration being evaluated.\n",
      "PIPELINE: A summary description of the pipeline being evaluated.\n",
      "DURATION: Time taken for the current iteration.\n",
      "METRIC: The result of computing score on the fitted pipeline.\n",
      "BEST: The best observed score thus far.\n",
      "****************************************************************************************************\n",
      "\n",
      " ITERATION   PIPELINE                                       DURATION      METRIC      BEST\n",
      "         3   RobustScaler ExtremeRandomTrees                0:00:36       0.7647    0.7647\n",
      "         0   MaxAbsScaler LightGBM                          0:00:48       0.8510    0.8510\n",
      "         1   MaxAbsScaler XGBoostClassifier                 0:00:51       0.8159    0.8510\n",
      "         2   MinMaxScaler RandomForest                      0:00:57       0.7796    0.8510\n",
      "         4   MinMaxScaler RandomForest                      0:00:44       0.7937    0.8510\n",
      "         5   MinMaxScaler RandomForest                      0:00:43       0.7695    0.8510\n",
      "         6   StandardScalerWrapper RandomForest             0:00:46       0.8082    0.8510\n",
      "         9   MinMaxScaler ExtremeRandomTrees                0:00:40       0.7579    0.8510\n",
      "         7   MinMaxScaler ExtremeRandomTrees                0:01:55       0.7572    0.8510\n",
      "         8   MinMaxScaler ExtremeRandomTrees                0:01:50       0.7624    0.8510\n",
      "        10   RobustScaler ExtremeRandomTrees                0:00:46       0.7580    0.8510\n",
      "        11   StandardScalerWrapper RandomForest             0:00:37       0.7229    0.8510\n",
      "        12   StandardScalerWrapper SGD                      0:00:37       0.7646    0.8510\n",
      "        13   RobustScaler RandomForest                      0:00:46       0.7390    0.8510\n",
      "        14   MinMaxScaler RandomForest                      0:00:42       0.7685    0.8510\n",
      "        15   MinMaxScaler ExtremeRandomTrees                0:00:52       0.7146    0.8510\n",
      "        16   MaxAbsScaler RandomForest                      0:00:37       0.7426    0.8510\n",
      "        17   StandardScalerWrapper XGBoostClassifier        0:00:42       0.8009    0.8510\n",
      "        18   MaxAbsScaler RandomForest                      0:00:43       0.7969    0.8510\n",
      "        20   MaxAbsScaler ExtremeRandomTrees                0:00:44       0.7557    0.8510\n",
      "        21   MinMaxScaler LightGBM                          0:00:51       0.8412    0.8510\n",
      "        22   MaxAbsScaler LightGBM                          0:00:46       0.8119    0.8510\n",
      "        19   MaxAbsScaler ExtremeRandomTrees                0:01:50       0.7296    0.8510\n",
      "        23   MaxAbsScaler LightGBM                          0:00:40       0.8133    0.8510\n",
      "        24   SparseNormalizer XGBoostClassifier             0:00:37       0.8179    0.8510\n",
      "        25   RobustScaler LightGBM                          0:00:39       0.7852    0.8510\n",
      "        26   RobustScaler LightGBM                          0:00:43       0.8170    0.8510\n",
      "        27   StandardScalerWrapper LightGBM                 0:00:42       0.7890    0.8510\n",
      "        28   StandardScalerWrapper XGBoostClassifier        0:00:46       0.8570    0.8570\n",
      "        30   RobustScaler LightGBM                          0:00:38       0.7765    0.8570\n",
      "        31   StandardScalerWrapper XGBoostClassifier        0:00:48       0.8467    0.8570\n",
      "        29   StandardScalerWrapper XGBoostClassifier        0:01:53       0.8376    0.8570\n",
      "        34   StandardScalerWrapper XGBoostClassifier        0:00:40       0.8407    0.8570\n",
      "        32   StandardScalerWrapper XGBoostClassifier        0:01:35       0.8649    0.8649\n",
      "        33   StandardScalerWrapper XGBoostClassifier        0:01:18       0.8648    0.8649\n",
      "        36   StandardScalerWrapper XGBoostClassifier        0:00:45       0.8367    0.8649\n",
      "        37   StandardScalerWrapper XGBoostClassifier        0:00:54       0.8638    0.8649\n",
      "        35   StandardScalerWrapper XGBoostClassifier        0:01:43       0.8666    0.8666\n",
      "        38   StandardScalerWrapper XGBoostClassifier        0:01:04       0.8566    0.8666\n",
      "        39   StandardScalerWrapper XGBoostClassifier        0:00:51       0.8607    0.8666\n",
      "        40   StandardScalerWrapper XGBoostClassifier        0:00:42       0.5000    0.8666\n",
      "        41   StandardScalerWrapper XGBoostClassifier        0:00:49       0.8587    0.8666\n",
      "        42   StandardScalerWrapper XGBoostClassifier        0:00:53       0.8472    0.8666\n",
      "        43   StandardScalerWrapper XGBoostClassifier        0:00:50       0.8603    0.8666\n",
      "        44   StandardScalerWrapper XGBoostClassifier        0:00:37       0.8228    0.8666\n",
      "        45   StandardScalerWrapper XGBoostClassifier        0:00:46       0.8449    0.8666\n",
      "        47   SparseNormalizer XGBoostClassifier             0:00:42       0.8477    0.8666\n",
      "        46   StandardScalerWrapper XGBoostClassifier        0:00:54       0.7996    0.8666\n",
      "        48   StandardScalerWrapper LogisticRegression       0:00:39       0.7652    0.8666\n",
      "        49   StandardScalerWrapper XGBoostClassifier        0:00:43       0.8203    0.8666\n",
      "        50   StandardScalerWrapper XGBoostClassifier        0:00:42       0.8310    0.8666\n",
      "        51   StandardScalerWrapper XGBoostClassifier        0:00:43       0.8557    0.8666\n",
      "        52   StandardScalerWrapper XGBoostClassifier        0:00:39       0.8466    0.8666\n",
      "        53                                                  0:00:19          nan    0.8666\n",
      "        54    VotingEnsemble                                0:01:52       0.8728    0.8728\n",
      "        55    StackEnsemble                                 0:02:15       0.8694    0.8728\n"
     ]
    }
   ],
   "source": [
    "# TODO: Submit your experiment\n",
    "automl_run = experiment.submit(automl_config, tag={'type':'automl'}, show_output=True)"
   ]
  },
  {
   "cell_type": "markdown",
   "metadata": {},
   "source": [
    "## Run Details\n",
    "\n",
    "OPTIONAL: Write about the different models trained and their performance. Why do you think some models did better than others?\n",
    "\n",
    "TODO: In the cell below, use the `RunDetails` widget to show the different experiments."
   ]
  },
  {
   "cell_type": "code",
   "execution_count": 12,
   "metadata": {
    "gather": {
     "logged": 1610560385537
    },
    "jupyter": {
     "outputs_hidden": false,
     "source_hidden": false
    },
    "nteract": {
     "transient": {
      "deleting": false
     }
    }
   },
   "outputs": [
    {
     "data": {
      "application/vnd.jupyter.widget-view+json": {
       "model_id": "3e1b5578d3124897a3300df5a3c3cef2",
       "version_major": 2,
       "version_minor": 0
      },
      "text/plain": [
       "_AutoMLWidget(widget_settings={'childWidgetDisplay': 'popup', 'send_telemetry': False, 'log_level': 'INFO', 's…"
      ]
     },
     "metadata": {},
     "output_type": "display_data"
    },
    {
     "data": {
      "application/aml.mini.widget.v1": "{\"status\": \"Completed\", \"workbench_run_details_uri\": \"https://ml.azure.com/experiments/wine-quality-automl/runs/AutoML_cfdf3dde-5e87-4512-886c-70b176ccd8df?wsid=/subscriptions/976ee174-3882-4721-b90a-b5fef6b72f24/resourcegroups/aml-quickstarts-134576/workspaces/quick-starts-ws-134576\", \"run_id\": \"AutoML_cfdf3dde-5e87-4512-886c-70b176ccd8df\", \"run_properties\": {\"run_id\": \"AutoML_cfdf3dde-5e87-4512-886c-70b176ccd8df\", \"created_utc\": \"2021-01-13T17:28:49.799157Z\", \"properties\": {\"num_iterations\": \"1000\", \"training_type\": \"TrainFull\", \"acquisition_function\": \"EI\", \"primary_metric\": \"AUC_weighted\", \"train_split\": \"0\", \"acquisition_parameter\": \"0\", \"num_cross_validation\": \"3\", \"target\": \"aml-compute\", \"AMLSettingsJsonString\": \"{\\\"path\\\":null,\\\"name\\\":\\\"wine-quality-automl\\\",\\\"subscription_id\\\":\\\"976ee174-3882-4721-b90a-b5fef6b72f24\\\",\\\"resource_group\\\":\\\"aml-quickstarts-134576\\\",\\\"workspace_name\\\":\\\"quick-starts-ws-134576\\\",\\\"region\\\":\\\"southcentralus\\\",\\\"compute_target\\\":\\\"aml-compute\\\",\\\"spark_service\\\":null,\\\"azure_service\\\":\\\"remote\\\",\\\"many_models\\\":false,\\\"pipeline_fetch_max_batch_size\\\":1,\\\"iterations\\\":1000,\\\"primary_metric\\\":\\\"AUC_weighted\\\",\\\"task_type\\\":\\\"classification\\\",\\\"data_script\\\":null,\\\"validation_size\\\":0.0,\\\"n_cross_validations\\\":3,\\\"y_min\\\":null,\\\"y_max\\\":null,\\\"num_classes\\\":null,\\\"featurization\\\":\\\"auto\\\",\\\"_ignore_package_version_incompatibilities\\\":false,\\\"is_timeseries\\\":false,\\\"max_cores_per_iteration\\\":1,\\\"max_concurrent_iterations\\\":4,\\\"iteration_timeout_minutes\\\":null,\\\"mem_in_mb\\\":null,\\\"enforce_time_on_windows\\\":false,\\\"experiment_timeout_minutes\\\":60,\\\"experiment_exit_score\\\":null,\\\"whitelist_models\\\":null,\\\"blacklist_algos\\\":[\\\"TensorFlowLinearClassifier\\\",\\\"TensorFlowDNN\\\"],\\\"supported_models\\\":[\\\"RandomForest\\\",\\\"TensorFlowDNN\\\",\\\"SGD\\\",\\\"BernoulliNaiveBayes\\\",\\\"KNN\\\",\\\"ExtremeRandomTrees\\\",\\\"LightGBM\\\",\\\"SVM\\\",\\\"LogisticRegression\\\",\\\"GradientBoosting\\\",\\\"AveragedPerceptronClassifier\\\",\\\"MultinomialNaiveBayes\\\",\\\"XGBoostClassifier\\\",\\\"TensorFlowLinearClassifier\\\",\\\"DecisionTree\\\",\\\"LinearSVM\\\"],\\\"auto_blacklist\\\":true,\\\"blacklist_samples_reached\\\":false,\\\"exclude_nan_labels\\\":true,\\\"verbosity\\\":20,\\\"_debug_log\\\":\\\"azureml_automl.log\\\",\\\"show_warnings\\\":false,\\\"model_explainability\\\":true,\\\"service_url\\\":null,\\\"sdk_url\\\":null,\\\"sdk_packages\\\":null,\\\"enable_onnx_compatible_models\\\":false,\\\"enable_split_onnx_featurizer_estimator_models\\\":false,\\\"vm_type\\\":\\\"STANDARD_DS12_V2\\\",\\\"telemetry_verbosity\\\":20,\\\"send_telemetry\\\":true,\\\"enable_dnn\\\":false,\\\"scenario\\\":\\\"SDK-1.13.0\\\",\\\"environment_label\\\":null,\\\"force_text_dnn\\\":false,\\\"enable_feature_sweeping\\\":true,\\\"enable_early_stopping\\\":true,\\\"early_stopping_n_iters\\\":10,\\\"metrics\\\":null,\\\"enable_ensembling\\\":true,\\\"enable_stack_ensembling\\\":true,\\\"ensemble_iterations\\\":15,\\\"enable_tf\\\":false,\\\"enable_subsampling\\\":null,\\\"subsample_seed\\\":null,\\\"enable_nimbusml\\\":false,\\\"enable_streaming\\\":false,\\\"force_streaming\\\":false,\\\"track_child_runs\\\":true,\\\"allowed_private_models\\\":[],\\\"label_column_name\\\":\\\"quality\\\",\\\"weight_column_name\\\":null,\\\"cv_split_column_names\\\":null,\\\"enable_local_managed\\\":false,\\\"_local_managed_run_id\\\":null,\\\"cost_mode\\\":1,\\\"lag_length\\\":0,\\\"metric_operation\\\":\\\"maximize\\\",\\\"preprocess\\\":true}\", \"DataPrepJsonString\": \"{\\\\\\\"training_data\\\\\\\": \\\\\\\"{\\\\\\\\\\\\\\\"blocks\\\\\\\\\\\\\\\": [{\\\\\\\\\\\\\\\"id\\\\\\\\\\\\\\\": \\\\\\\\\\\\\\\"9603de9c-cb59-497b-9d45-f6f4a6ac299a\\\\\\\\\\\\\\\", \\\\\\\\\\\\\\\"type\\\\\\\\\\\\\\\": \\\\\\\\\\\\\\\"Microsoft.DPrep.GetDatastoreFilesBlock\\\\\\\\\\\\\\\", \\\\\\\\\\\\\\\"arguments\\\\\\\\\\\\\\\": {\\\\\\\\\\\\\\\"datastores\\\\\\\\\\\\\\\": [{\\\\\\\\\\\\\\\"datastoreName\\\\\\\\\\\\\\\": \\\\\\\\\\\\\\\"workspaceblobstore\\\\\\\\\\\\\\\", \\\\\\\\\\\\\\\"path\\\\\\\\\\\\\\\": \\\\\\\\\\\\\\\"managed-dataset/fc284e72-2f53-4fd5-adb7-e121d48c0c99/\\\\\\\\\\\\\\\", \\\\\\\\\\\\\\\"resourceGroup\\\\\\\\\\\\\\\": \\\\\\\\\\\\\\\"aml-quickstarts-134576\\\\\\\\\\\\\\\", \\\\\\\\\\\\\\\"subscription\\\\\\\\\\\\\\\": \\\\\\\\\\\\\\\"976ee174-3882-4721-b90a-b5fef6b72f24\\\\\\\\\\\\\\\", \\\\\\\\\\\\\\\"workspaceName\\\\\\\\\\\\\\\": \\\\\\\\\\\\\\\"quick-starts-ws-134576\\\\\\\\\\\\\\\"}]}, \\\\\\\\\\\\\\\"localData\\\\\\\\\\\\\\\": {}, \\\\\\\\\\\\\\\"isEnabled\\\\\\\\\\\\\\\": true, \\\\\\\\\\\\\\\"name\\\\\\\\\\\\\\\": null, \\\\\\\\\\\\\\\"annotation\\\\\\\\\\\\\\\": null}, {\\\\\\\\\\\\\\\"id\\\\\\\\\\\\\\\": \\\\\\\\\\\\\\\"976dad1d-309f-4d55-a996-6801058b5a01\\\\\\\\\\\\\\\", \\\\\\\\\\\\\\\"type\\\\\\\\\\\\\\\": \\\\\\\\\\\\\\\"Microsoft.DPrep.ReadParquetFileBlock\\\\\\\\\\\\\\\", \\\\\\\\\\\\\\\"arguments\\\\\\\\\\\\\\\": {\\\\\\\\\\\\\\\"preview\\\\\\\\\\\\\\\": false}, \\\\\\\\\\\\\\\"localData\\\\\\\\\\\\\\\": {}, \\\\\\\\\\\\\\\"isEnabled\\\\\\\\\\\\\\\": true, \\\\\\\\\\\\\\\"name\\\\\\\\\\\\\\\": null, \\\\\\\\\\\\\\\"annotation\\\\\\\\\\\\\\\": null}, {\\\\\\\\\\\\\\\"id\\\\\\\\\\\\\\\": \\\\\\\\\\\\\\\"634e6ace-ad90-48a4-a23c-f9361d281905\\\\\\\\\\\\\\\", \\\\\\\\\\\\\\\"type\\\\\\\\\\\\\\\": \\\\\\\\\\\\\\\"Microsoft.DPrep.DropColumnsBlock\\\\\\\\\\\\\\\", \\\\\\\\\\\\\\\"arguments\\\\\\\\\\\\\\\": {\\\\\\\\\\\\\\\"columns\\\\\\\\\\\\\\\": {\\\\\\\\\\\\\\\"type\\\\\\\\\\\\\\\": 0, \\\\\\\\\\\\\\\"details\\\\\\\\\\\\\\\": {\\\\\\\\\\\\\\\"selectedColumns\\\\\\\\\\\\\\\": [\\\\\\\\\\\\\\\"Path\\\\\\\\\\\\\\\"]}}}, \\\\\\\\\\\\\\\"localData\\\\\\\\\\\\\\\": {}, \\\\\\\\\\\\\\\"isEnabled\\\\\\\\\\\\\\\": true, \\\\\\\\\\\\\\\"name\\\\\\\\\\\\\\\": null, \\\\\\\\\\\\\\\"annotation\\\\\\\\\\\\\\\": null}], \\\\\\\\\\\\\\\"inspectors\\\\\\\\\\\\\\\": [], \\\\\\\\\\\\\\\"meta\\\\\\\\\\\\\\\": {\\\\\\\\\\\\\\\"savedDatasetId\\\\\\\\\\\\\\\": \\\\\\\\\\\\\\\"d25ee456-7d90-4c7e-8b2b-615ada63aa0f\\\\\\\\\\\\\\\", \\\\\\\\\\\\\\\"datasetType\\\\\\\\\\\\\\\": \\\\\\\\\\\\\\\"tabular\\\\\\\\\\\\\\\", \\\\\\\\\\\\\\\"subscriptionId\\\\\\\\\\\\\\\": \\\\\\\\\\\\\\\"976ee174-3882-4721-b90a-b5fef6b72f24\\\\\\\\\\\\\\\", \\\\\\\\\\\\\\\"workspaceId\\\\\\\\\\\\\\\": \\\\\\\\\\\\\\\"5cf918df-75f8-4fc0-b11d-3ee0c6437e77\\\\\\\\\\\\\\\", \\\\\\\\\\\\\\\"workspaceLocation\\\\\\\\\\\\\\\": \\\\\\\\\\\\\\\"southcentralus\\\\\\\\\\\\\\\"}}\\\\\\\", \\\\\\\"activities\\\\\\\": 0}\", \"EnableSubsampling\": null, \"runTemplate\": \"AutoML\", \"azureml.runsource\": \"automl\", \"display_task_type\": \"classification\", \"dependencies_versions\": \"{\\\"azureml-widgets\\\": \\\"1.19.0\\\", \\\"azureml-train\\\": \\\"1.19.0\\\", \\\"azureml-train-restclients-hyperdrive\\\": \\\"1.19.0\\\", \\\"azureml-train-core\\\": \\\"1.19.0\\\", \\\"azureml-train-automl\\\": \\\"1.19.0\\\", \\\"azureml-train-automl-runtime\\\": \\\"1.19.0\\\", \\\"azureml-train-automl-client\\\": \\\"1.19.0\\\", \\\"azureml-tensorboard\\\": \\\"1.19.0\\\", \\\"azureml-telemetry\\\": \\\"1.19.0\\\", \\\"azureml-sdk\\\": \\\"1.19.0\\\", \\\"azureml-samples\\\": \\\"0+unknown\\\", \\\"azureml-pipeline\\\": \\\"1.19.0\\\", \\\"azureml-pipeline-steps\\\": \\\"1.19.0\\\", \\\"azureml-pipeline-core\\\": \\\"1.19.0\\\", \\\"azureml-opendatasets\\\": \\\"1.19.0\\\", \\\"azureml-model-management-sdk\\\": \\\"1.0.1b6.post1\\\", \\\"azureml-mlflow\\\": \\\"1.19.0\\\", \\\"azureml-interpret\\\": \\\"1.19.0\\\", \\\"azureml-explain-model\\\": \\\"1.19.0\\\", \\\"azureml-defaults\\\": \\\"1.19.0\\\", \\\"azureml-dataset-runtime\\\": \\\"1.19.0\\\", \\\"azureml-dataprep\\\": \\\"2.6.1\\\", \\\"azureml-dataprep-rslex\\\": \\\"1.4.0\\\", \\\"azureml-dataprep-native\\\": \\\"26.0.0\\\", \\\"azureml-datadrift\\\": \\\"1.19.0\\\", \\\"azureml-core\\\": \\\"1.19.0\\\", \\\"azureml-contrib-services\\\": \\\"1.19.0\\\", \\\"azureml-contrib-server\\\": \\\"1.19.0\\\", \\\"azureml-contrib-reinforcementlearning\\\": \\\"1.19.0\\\", \\\"azureml-contrib-pipeline-steps\\\": \\\"1.19.0\\\", \\\"azureml-contrib-notebook\\\": \\\"1.19.0\\\", \\\"azureml-contrib-interpret\\\": \\\"1.19.0\\\", \\\"azureml-contrib-gbdt\\\": \\\"1.19.0\\\", \\\"azureml-contrib-fairness\\\": \\\"1.19.0\\\", \\\"azureml-contrib-dataset\\\": \\\"1.19.0\\\", \\\"azureml-cli-common\\\": \\\"1.19.0\\\", \\\"azureml-automl-runtime\\\": \\\"1.19.0\\\", \\\"azureml-automl-core\\\": \\\"1.19.0\\\", \\\"azureml-accel-models\\\": \\\"1.19.0\\\"}\", \"_aml_system_scenario_identification\": \"Remote.Parent\", \"ClientType\": \"SDK\", \"environment_cpu_name\": \"AzureML-AutoML\", \"environment_cpu_label\": \"prod\", \"environment_gpu_name\": \"AzureML-AutoML-GPU\", \"environment_gpu_label\": \"prod\", \"root_attribution\": \"automl\", \"attribution\": \"AutoML\", \"Orchestrator\": \"AutoML\", \"CancelUri\": \"https://southcentralus.experiments.azureml.net/jasmine/v1.0/subscriptions/976ee174-3882-4721-b90a-b5fef6b72f24/resourceGroups/aml-quickstarts-134576/providers/Microsoft.MachineLearningServices/workspaces/quick-starts-ws-134576/experimentids/4829bab3-f857-42de-9df5-4f5bcf460178/cancel/AutoML_cfdf3dde-5e87-4512-886c-70b176ccd8df\", \"ClientSdkVersion\": \"1.19.0\", \"snapshotId\": \"00000000-0000-0000-0000-000000000000\", \"SetupRunId\": \"AutoML_cfdf3dde-5e87-4512-886c-70b176ccd8df_setup\", \"SetupRunContainerId\": \"dcid.AutoML_cfdf3dde-5e87-4512-886c-70b176ccd8df_setup\", \"FeaturizationRunJsonPath\": \"featurizer_container.json\", \"FeaturizationRunId\": \"AutoML_cfdf3dde-5e87-4512-886c-70b176ccd8df_featurize\", \"ProblemInfoJsonString\": \"{\\\"dataset_num_categorical\\\": 0, \\\"is_sparse\\\": false, \\\"subsampling\\\": false, \\\"dataset_classes\\\": 3, \\\"dataset_features\\\": 12, \\\"dataset_samples\\\": 6491, \\\"single_frequency_class_detected\\\": false}\", \"ModelExplainRunId\": \"AutoML_cfdf3dde-5e87-4512-886c-70b176ccd8df_ModelExplain\"}, \"tags\": {\"model_explain_run\": \"best_run\", \"_aml_system_azureml.automlComponent\": \"AutoML\", \"pipeline_id\": \"\", \"score\": \"\", \"predicted_cost\": \"\", \"fit_time\": \"\", \"training_percent\": \"\", \"iteration\": \"\", \"run_preprocessor\": \"\", \"run_algorithm\": \"\", \"dynamic_whitelisting_iterations\": \"<25>;<30>;<35>;<40>;<45>;<50>;\", \"automl_best_child_run_id\": \"AutoML_cfdf3dde-5e87-4512-886c-70b176ccd8df_54\", \"model_explain_best_run_child_id\": \"AutoML_cfdf3dde-5e87-4512-886c-70b176ccd8df_54\"}, \"end_time_utc\": \"2021-01-13T17:52:55.678034Z\", \"status\": \"Completed\", \"log_files\": {}, \"log_groups\": [], \"run_duration\": \"0:24:05\"}, \"child_runs\": [{\"run_id\": \"AutoML_cfdf3dde-5e87-4512-886c-70b176ccd8df_1\", \"run_number\": 61, \"metric\": null, \"status\": \"Completed\", \"run_type\": \"azureml.scriptrun\", \"training_percent\": \"100\", \"start_time\": \"2021-01-13T17:32:57.450533Z\", \"end_time\": \"2021-01-13T17:33:48.826338Z\", \"created_time\": \"2021-01-13T17:31:17.4294Z\", \"created_time_dt\": \"2021-01-13T17:31:17.4294Z\", \"duration\": \"0:02:31\", \"iteration\": \"1\", \"goal\": \"AUC_weighted_max\", \"run_name\": \"MaxAbsScaler, XGBoostClassifier\", \"run_properties\": \"copy=True\", \"primary_metric\": 0.81587814, \"best_metric\": 0.85099912}, {\"run_id\": \"AutoML_cfdf3dde-5e87-4512-886c-70b176ccd8df_3\", \"run_number\": 62, \"metric\": null, \"status\": \"Completed\", \"run_type\": \"azureml.scriptrun\", \"training_percent\": \"100\", \"start_time\": \"2021-01-13T17:31:28.454232Z\", \"end_time\": \"2021-01-13T17:32:04.80076Z\", \"created_time\": \"2021-01-13T17:31:17.47999Z\", \"created_time_dt\": \"2021-01-13T17:31:17.47999Z\", \"duration\": \"0:00:47\", \"iteration\": \"3\", \"goal\": \"AUC_weighted_max\", \"run_name\": \"RobustScaler, ExtremeRandomTrees\", \"run_properties\": \"copy=True, quantile_range=[10, 90], with_centering=False,\\n             with_scaling=False\", \"primary_metric\": 0.7647463, \"best_metric\": 0.85099912}, {\"run_id\": \"AutoML_cfdf3dde-5e87-4512-886c-70b176ccd8df_2\", \"run_number\": 63, \"metric\": null, \"status\": \"Completed\", \"run_type\": \"azureml.scriptrun\", \"training_percent\": \"100\", \"start_time\": \"2021-01-13T17:33:49.097119Z\", \"end_time\": \"2021-01-13T17:34:46.293085Z\", \"created_time\": \"2021-01-13T17:31:17.48416Z\", \"created_time_dt\": \"2021-01-13T17:31:17.48416Z\", \"duration\": \"0:03:28\", \"iteration\": \"2\", \"goal\": \"AUC_weighted_max\", \"run_name\": \"MinMaxScaler, RandomForest\", \"run_properties\": \"copy=True, feature_range=(0, 1\", \"primary_metric\": 0.77956408, \"best_metric\": 0.85099912}, {\"run_id\": \"AutoML_cfdf3dde-5e87-4512-886c-70b176ccd8df_0\", \"run_number\": 64, \"metric\": null, \"status\": \"Completed\", \"run_type\": \"azureml.scriptrun\", \"training_percent\": \"100\", \"start_time\": \"2021-01-13T17:32:10.567065Z\", \"end_time\": \"2021-01-13T17:32:58.404007Z\", \"created_time\": \"2021-01-13T17:31:17.429903Z\", \"created_time_dt\": \"2021-01-13T17:31:17.429903Z\", \"duration\": \"0:01:40\", \"iteration\": \"0\", \"goal\": \"AUC_weighted_max\", \"run_name\": \"MaxAbsScaler, LightGBM\", \"run_properties\": \"copy=True\", \"primary_metric\": 0.85099912, \"best_metric\": 0.85099912}, {\"run_id\": \"AutoML_cfdf3dde-5e87-4512-886c-70b176ccd8df_4\", \"run_number\": 65, \"metric\": null, \"status\": \"Completed\", \"run_type\": \"azureml.scriptrun\", \"training_percent\": \"100\", \"start_time\": \"2021-01-13T17:34:47.010808Z\", \"end_time\": \"2021-01-13T17:35:30.562813Z\", \"created_time\": \"2021-01-13T17:32:08.473888Z\", \"created_time_dt\": \"2021-01-13T17:32:08.473888Z\", \"duration\": \"0:03:22\", \"iteration\": \"4\", \"goal\": \"AUC_weighted_max\", \"run_name\": \"MinMaxScaler, RandomForest\", \"run_properties\": \"copy=True, feature_range=(0, 1\", \"primary_metric\": 0.79366917, \"best_metric\": 0.85099912}, {\"run_id\": \"AutoML_cfdf3dde-5e87-4512-886c-70b176ccd8df_5\", \"run_number\": 66, \"metric\": null, \"status\": \"Completed\", \"run_type\": \"azureml.scriptrun\", \"training_percent\": \"100\", \"start_time\": \"2021-01-13T17:35:33.576229Z\", \"end_time\": \"2021-01-13T17:36:16.188934Z\", \"created_time\": \"2021-01-13T17:33:02.38194Z\", \"created_time_dt\": \"2021-01-13T17:33:02.38194Z\", \"duration\": \"0:03:13\", \"iteration\": \"5\", \"goal\": \"AUC_weighted_max\", \"run_name\": \"MinMaxScaler, RandomForest\", \"run_properties\": \"copy=True, feature_range=(0, 1\", \"primary_metric\": 0.76951462, \"best_metric\": 0.85099912}, {\"run_id\": \"AutoML_cfdf3dde-5e87-4512-886c-70b176ccd8df_6\", \"run_number\": 67, \"metric\": null, \"status\": \"Completed\", \"run_type\": \"azureml.scriptrun\", \"training_percent\": \"100\", \"start_time\": \"2021-01-13T17:36:18.884696Z\", \"end_time\": \"2021-01-13T17:37:05.113661Z\", \"created_time\": \"2021-01-13T17:33:52.596721Z\", \"created_time_dt\": \"2021-01-13T17:33:52.596721Z\", \"duration\": \"0:03:12\", \"iteration\": \"6\", \"goal\": \"AUC_weighted_max\", \"run_name\": \"StandardScalerWrapper, RandomForest\", \"run_properties\": \"<azureml.automl.runtime.shared.model_wrappers.StandardScalerWrapper object at 0x7f0c30d76710\", \"primary_metric\": 0.80816775, \"best_metric\": 0.85099912}, {\"run_id\": \"AutoML_cfdf3dde-5e87-4512-886c-70b176ccd8df_7\", \"run_number\": 68, \"metric\": null, \"status\": \"Completed\", \"run_type\": \"azureml.scriptrun\", \"training_percent\": \"100\", \"start_time\": \"2021-01-13T17:36:33.509038Z\", \"end_time\": \"2021-01-13T17:38:28.973751Z\", \"created_time\": \"2021-01-13T17:34:49.704751Z\", \"created_time_dt\": \"2021-01-13T17:34:49.704751Z\", \"duration\": \"0:03:39\", \"iteration\": \"7\", \"goal\": \"AUC_weighted_max\", \"run_name\": \"MinMaxScaler, ExtremeRandomTrees\", \"run_properties\": \"copy=True, feature_range=(0, 1\", \"primary_metric\": 0.75719745, \"best_metric\": 0.85099912}, {\"run_id\": \"AutoML_cfdf3dde-5e87-4512-886c-70b176ccd8df_8\", \"run_number\": 69, \"metric\": null, \"status\": \"Completed\", \"run_type\": \"azureml.scriptrun\", \"training_percent\": \"100\", \"start_time\": \"2021-01-13T17:36:35.269321Z\", \"end_time\": \"2021-01-13T17:38:25.500315Z\", \"created_time\": \"2021-01-13T17:35:33.854049Z\", \"created_time_dt\": \"2021-01-13T17:35:33.854049Z\", \"duration\": \"0:02:51\", \"iteration\": \"8\", \"goal\": \"AUC_weighted_max\", \"run_name\": \"MinMaxScaler, ExtremeRandomTrees\", \"run_properties\": \"copy=True, feature_range=(0, 1\", \"primary_metric\": 0.7623761, \"best_metric\": 0.85099912}, {\"run_id\": \"AutoML_cfdf3dde-5e87-4512-886c-70b176ccd8df_9\", \"run_number\": 70, \"metric\": null, \"status\": \"Completed\", \"run_type\": \"azureml.scriptrun\", \"training_percent\": \"100\", \"start_time\": \"2021-01-13T17:37:10.435965Z\", \"end_time\": \"2021-01-13T17:37:49.998469Z\", \"created_time\": \"2021-01-13T17:36:19.549971Z\", \"created_time_dt\": \"2021-01-13T17:36:19.549971Z\", \"duration\": \"0:01:30\", \"iteration\": \"9\", \"goal\": \"AUC_weighted_max\", \"run_name\": \"MinMaxScaler, ExtremeRandomTrees\", \"run_properties\": \"copy=True, feature_range=(0, 1\", \"primary_metric\": 0.75786132, \"best_metric\": 0.85099912}, {\"run_id\": \"AutoML_cfdf3dde-5e87-4512-886c-70b176ccd8df_10\", \"run_number\": 71, \"metric\": null, \"status\": \"Completed\", \"run_type\": \"azureml.scriptrun\", \"training_percent\": \"100\", \"start_time\": \"2021-01-13T17:37:52.179611Z\", \"end_time\": \"2021-01-13T17:38:38.289439Z\", \"created_time\": \"2021-01-13T17:37:08.846774Z\", \"created_time_dt\": \"2021-01-13T17:37:08.846774Z\", \"duration\": \"0:01:29\", \"iteration\": \"10\", \"goal\": \"AUC_weighted_max\", \"run_name\": \"RobustScaler, ExtremeRandomTrees\", \"run_properties\": \"copy=True, quantile_range=[10, 90], with_centering=True,\\n             with_scaling=False\", \"primary_metric\": 0.75795353, \"best_metric\": 0.85099912}, {\"run_id\": \"AutoML_cfdf3dde-5e87-4512-886c-70b176ccd8df_11\", \"run_number\": 72, \"metric\": null, \"status\": \"Completed\", \"run_type\": \"azureml.scriptrun\", \"training_percent\": \"100\", \"start_time\": \"2021-01-13T17:38:31.612551Z\", \"end_time\": \"2021-01-13T17:39:08.355312Z\", \"created_time\": \"2021-01-13T17:37:54.136868Z\", \"created_time_dt\": \"2021-01-13T17:37:54.136868Z\", \"duration\": \"0:01:14\", \"iteration\": \"11\", \"goal\": \"AUC_weighted_max\", \"run_name\": \"StandardScalerWrapper, RandomForest\", \"run_properties\": \"<azureml.automl.runtime.shared.model_wrappers.StandardScalerWrapper object at 0x7fed7ddb9eb8\", \"primary_metric\": 0.72291896, \"best_metric\": 0.85099912}, {\"run_id\": \"AutoML_cfdf3dde-5e87-4512-886c-70b176ccd8df_12\", \"run_number\": 73, \"metric\": null, \"status\": \"Completed\", \"run_type\": \"azureml.scriptrun\", \"training_percent\": \"100\", \"start_time\": \"2021-01-13T17:38:42.366977Z\", \"end_time\": \"2021-01-13T17:39:19.803075Z\", \"created_time\": \"2021-01-13T17:38:28.729622Z\", \"created_time_dt\": \"2021-01-13T17:38:28.729622Z\", \"duration\": \"0:00:51\", \"iteration\": \"12\", \"goal\": \"AUC_weighted_max\", \"run_name\": \"StandardScalerWrapper, SGD\", \"run_properties\": \"<azureml.automl.runtime.shared.model_wrappers.StandardScalerWrapper object at 0x7fe80d5f29e8\", \"primary_metric\": 0.76461097, \"best_metric\": 0.85099912}, {\"run_id\": \"AutoML_cfdf3dde-5e87-4512-886c-70b176ccd8df_13\", \"run_number\": 74, \"metric\": null, \"status\": \"Completed\", \"run_type\": \"azureml.scriptrun\", \"training_percent\": \"100\", \"start_time\": \"2021-01-13T17:38:46.705696Z\", \"end_time\": \"2021-01-13T17:39:32.773814Z\", \"created_time\": \"2021-01-13T17:38:34.722456Z\", \"created_time_dt\": \"2021-01-13T17:38:34.722456Z\", \"duration\": \"0:00:58\", \"iteration\": \"13\", \"goal\": \"AUC_weighted_max\", \"run_name\": \"RobustScaler, RandomForest\", \"run_properties\": \"copy=True, quantile_range=[10, 90], with_centering=True,\\n             with_scaling=False\", \"primary_metric\": 0.73904687, \"best_metric\": 0.85099912}, {\"run_id\": \"AutoML_cfdf3dde-5e87-4512-886c-70b176ccd8df_14\", \"run_number\": 75, \"metric\": null, \"status\": \"Completed\", \"run_type\": \"azureml.scriptrun\", \"training_percent\": \"100\", \"start_time\": \"2021-01-13T17:39:10.983615Z\", \"end_time\": \"2021-01-13T17:39:52.559854Z\", \"created_time\": \"2021-01-13T17:38:41.146259Z\", \"created_time_dt\": \"2021-01-13T17:38:41.146259Z\", \"duration\": \"0:01:11\", \"iteration\": \"14\", \"goal\": \"AUC_weighted_max\", \"run_name\": \"MinMaxScaler, RandomForest\", \"run_properties\": \"copy=True, feature_range=(0, 1\", \"primary_metric\": 0.76853768, \"best_metric\": 0.85099912}, {\"run_id\": \"AutoML_cfdf3dde-5e87-4512-886c-70b176ccd8df_15\", \"run_number\": 76, \"metric\": null, \"status\": \"Completed\", \"run_type\": \"azureml.scriptrun\", \"training_percent\": \"100\", \"start_time\": \"2021-01-13T17:39:24.620992Z\", \"end_time\": \"2021-01-13T17:40:16.579119Z\", \"created_time\": \"2021-01-13T17:39:10.944954Z\", \"created_time_dt\": \"2021-01-13T17:39:10.944954Z\", \"duration\": \"0:01:05\", \"iteration\": \"15\", \"goal\": \"AUC_weighted_max\", \"run_name\": \"MinMaxScaler, ExtremeRandomTrees\", \"run_properties\": \"copy=True, feature_range=(0, 1\", \"primary_metric\": 0.71459763, \"best_metric\": 0.85099912}, {\"run_id\": \"AutoML_cfdf3dde-5e87-4512-886c-70b176ccd8df_16\", \"run_number\": 77, \"metric\": null, \"status\": \"Completed\", \"run_type\": \"azureml.scriptrun\", \"training_percent\": \"100\", \"start_time\": \"2021-01-13T17:39:37.103011Z\", \"end_time\": \"2021-01-13T17:40:14.104934Z\", \"created_time\": \"2021-01-13T17:39:22.745157Z\", \"created_time_dt\": \"2021-01-13T17:39:22.745157Z\", \"duration\": \"0:00:51\", \"iteration\": \"16\", \"goal\": \"AUC_weighted_max\", \"run_name\": \"MaxAbsScaler, RandomForest\", \"run_properties\": \"copy=True\", \"primary_metric\": 0.74259572, \"best_metric\": 0.85099912}, {\"run_id\": \"AutoML_cfdf3dde-5e87-4512-886c-70b176ccd8df_17\", \"run_number\": 78, \"metric\": null, \"status\": \"Completed\", \"run_type\": \"azureml.scriptrun\", \"training_percent\": \"100\", \"start_time\": \"2021-01-13T17:39:54.448303Z\", \"end_time\": \"2021-01-13T17:40:36.717486Z\", \"created_time\": \"2021-01-13T17:39:35.855947Z\", \"created_time_dt\": \"2021-01-13T17:39:35.855947Z\", \"duration\": \"0:01:00\", \"iteration\": \"17\", \"goal\": \"AUC_weighted_max\", \"run_name\": \"StandardScalerWrapper, XGBoostClassifier\", \"run_properties\": \"<azureml.automl.runtime.shared.model_wrappers.StandardScalerWrapper object at 0x7f5e00789cf8\", \"primary_metric\": 0.80089023, \"best_metric\": 0.85099912}, {\"run_id\": \"AutoML_cfdf3dde-5e87-4512-886c-70b176ccd8df_18\", \"run_number\": 79, \"metric\": null, \"status\": \"Completed\", \"run_type\": \"azureml.scriptrun\", \"training_percent\": \"100\", \"start_time\": \"2021-01-13T17:40:17.576371Z\", \"end_time\": \"2021-01-13T17:41:00.507029Z\", \"created_time\": \"2021-01-13T17:39:55.814057Z\", \"created_time_dt\": \"2021-01-13T17:39:55.814057Z\", \"duration\": \"0:01:04\", \"iteration\": \"18\", \"goal\": \"AUC_weighted_max\", \"run_name\": \"MaxAbsScaler, RandomForest\", \"run_properties\": \"copy=True\", \"primary_metric\": 0.7969389, \"best_metric\": 0.85099912}, {\"run_id\": \"AutoML_cfdf3dde-5e87-4512-886c-70b176ccd8df_19\", \"run_number\": 80, \"metric\": null, \"status\": \"Completed\", \"run_type\": \"azureml.scriptrun\", \"training_percent\": \"100\", \"start_time\": \"2021-01-13T17:40:30.805509Z\", \"end_time\": \"2021-01-13T17:42:20.854816Z\", \"created_time\": \"2021-01-13T17:40:17.388432Z\", \"created_time_dt\": \"2021-01-13T17:40:17.388432Z\", \"duration\": \"0:02:03\", \"iteration\": \"19\", \"goal\": \"AUC_weighted_max\", \"run_name\": \"MaxAbsScaler, ExtremeRandomTrees\", \"run_properties\": \"copy=True\", \"primary_metric\": 0.72961301, \"best_metric\": 0.85099912}, {\"run_id\": \"AutoML_cfdf3dde-5e87-4512-886c-70b176ccd8df_20\", \"run_number\": 81, \"metric\": null, \"status\": \"Completed\", \"run_type\": \"azureml.scriptrun\", \"training_percent\": \"100\", \"start_time\": \"2021-01-13T17:40:34.658228Z\", \"end_time\": \"2021-01-13T17:41:18.550088Z\", \"created_time\": \"2021-01-13T17:40:22.982296Z\", \"created_time_dt\": \"2021-01-13T17:40:22.982296Z\", \"duration\": \"0:00:55\", \"iteration\": \"20\", \"goal\": \"AUC_weighted_max\", \"run_name\": \"MaxAbsScaler, ExtremeRandomTrees\", \"run_properties\": \"copy=True\", \"primary_metric\": 0.7556984, \"best_metric\": 0.85099912}, {\"run_id\": \"AutoML_cfdf3dde-5e87-4512-886c-70b176ccd8df_21\", \"run_number\": 82, \"metric\": null, \"status\": \"Completed\", \"run_type\": \"azureml.scriptrun\", \"training_percent\": \"100\", \"start_time\": \"2021-01-13T17:40:50.769078Z\", \"end_time\": \"2021-01-13T17:41:41.339869Z\", \"created_time\": \"2021-01-13T17:40:39.679117Z\", \"created_time_dt\": \"2021-01-13T17:40:39.679117Z\", \"duration\": \"0:01:01\", \"iteration\": \"21\", \"goal\": \"AUC_weighted_max\", \"run_name\": \"MinMaxScaler, LightGBM\", \"run_properties\": \"copy=True, feature_range=(0, 1\", \"primary_metric\": 0.84121652, \"best_metric\": 0.85099912}, {\"run_id\": \"AutoML_cfdf3dde-5e87-4512-886c-70b176ccd8df_22\", \"run_number\": 83, \"metric\": null, \"status\": \"Completed\", \"run_type\": \"azureml.scriptrun\", \"training_percent\": \"100\", \"start_time\": \"2021-01-13T17:41:14.861763Z\", \"end_time\": \"2021-01-13T17:42:01.332866Z\", \"created_time\": \"2021-01-13T17:41:03.42371Z\", \"created_time_dt\": \"2021-01-13T17:41:03.42371Z\", \"duration\": \"0:00:57\", \"iteration\": \"22\", \"goal\": \"AUC_weighted_max\", \"run_name\": \"MaxAbsScaler, LightGBM\", \"run_properties\": \"copy=True\", \"primary_metric\": 0.81188769, \"best_metric\": 0.85099912}, {\"run_id\": \"AutoML_cfdf3dde-5e87-4512-886c-70b176ccd8df_23\", \"run_number\": 84, \"metric\": null, \"status\": \"Completed\", \"run_type\": \"azureml.scriptrun\", \"training_percent\": \"100\", \"start_time\": \"2021-01-13T17:41:31.606115Z\", \"end_time\": \"2021-01-13T17:42:11.958092Z\", \"created_time\": \"2021-01-13T17:41:20.495968Z\", \"created_time_dt\": \"2021-01-13T17:41:20.495968Z\", \"duration\": \"0:00:51\", \"iteration\": \"23\", \"goal\": \"AUC_weighted_max\", \"run_name\": \"MaxAbsScaler, LightGBM\", \"run_properties\": \"copy=True\", \"primary_metric\": 0.81328761, \"best_metric\": 0.85099912}, {\"run_id\": \"AutoML_cfdf3dde-5e87-4512-886c-70b176ccd8df_24\", \"run_number\": 85, \"metric\": null, \"status\": \"Completed\", \"run_type\": \"azureml.scriptrun\", \"training_percent\": \"100\", \"start_time\": \"2021-01-13T17:41:56.773529Z\", \"end_time\": \"2021-01-13T17:42:34.029094Z\", \"created_time\": \"2021-01-13T17:41:43.463865Z\", \"created_time_dt\": \"2021-01-13T17:41:43.463865Z\", \"duration\": \"0:00:50\", \"iteration\": \"24\", \"goal\": \"AUC_weighted_max\", \"run_name\": \"SparseNormalizer, XGBoostClassifier\", \"run_properties\": \"<azureml.automl.runtime.shared.model_wrappers.SparseNormalizer object at 0x7f759c8c6278\", \"primary_metric\": 0.81787288, \"best_metric\": 0.85099912}, {\"run_id\": \"AutoML_cfdf3dde-5e87-4512-886c-70b176ccd8df_25\", \"run_number\": 86, \"metric\": null, \"status\": \"Completed\", \"run_type\": \"azureml.scriptrun\", \"training_percent\": \"100\", \"start_time\": \"2021-01-13T17:42:14.189776Z\", \"end_time\": \"2021-01-13T17:42:53.408737Z\", \"created_time\": \"2021-01-13T17:42:03.752662Z\", \"created_time_dt\": \"2021-01-13T17:42:03.752662Z\", \"duration\": \"0:00:49\", \"iteration\": \"25\", \"goal\": \"AUC_weighted_max\", \"run_name\": \"RobustScaler, LightGBM\", \"run_properties\": \"copy=True, quantile_range=[25, 75], with_centering=False,\\n             with_scaling=False\", \"primary_metric\": 0.78522125, \"best_metric\": 0.85099912}, {\"run_id\": \"AutoML_cfdf3dde-5e87-4512-886c-70b176ccd8df_26\", \"run_number\": 87, \"metric\": null, \"status\": \"Completed\", \"run_type\": \"azureml.scriptrun\", \"training_percent\": \"100\", \"start_time\": \"2021-01-13T17:42:25.89555Z\", \"end_time\": \"2021-01-13T17:43:08.672285Z\", \"created_time\": \"2021-01-13T17:42:13.590871Z\", \"created_time_dt\": \"2021-01-13T17:42:13.590871Z\", \"duration\": \"0:00:55\", \"iteration\": \"26\", \"goal\": \"AUC_weighted_max\", \"run_name\": \"RobustScaler, LightGBM\", \"run_properties\": \"copy=True, quantile_range=[10, 90], with_centering=True,\\n             with_scaling=False\", \"primary_metric\": 0.8169666, \"best_metric\": 0.85099912}, {\"run_id\": \"AutoML_cfdf3dde-5e87-4512-886c-70b176ccd8df_27\", \"run_number\": 88, \"metric\": null, \"status\": \"Completed\", \"run_type\": \"azureml.scriptrun\", \"training_percent\": \"100\", \"start_time\": \"2021-01-13T17:42:33.444025Z\", \"end_time\": \"2021-01-13T17:43:15.87977Z\", \"created_time\": \"2021-01-13T17:42:22.421007Z\", \"created_time_dt\": \"2021-01-13T17:42:22.421007Z\", \"duration\": \"0:00:53\", \"iteration\": \"27\", \"goal\": \"AUC_weighted_max\", \"run_name\": \"StandardScalerWrapper, LightGBM\", \"run_properties\": \"<azureml.automl.runtime.shared.model_wrappers.StandardScalerWrapper object at 0x7f87a55d1c18\", \"primary_metric\": 0.78895037, \"best_metric\": 0.85099912}, {\"run_id\": \"AutoML_cfdf3dde-5e87-4512-886c-70b176ccd8df_28\", \"run_number\": 89, \"metric\": null, \"status\": \"Completed\", \"run_type\": \"azureml.scriptrun\", \"training_percent\": \"100\", \"start_time\": \"2021-01-13T17:42:47.492979Z\", \"end_time\": \"2021-01-13T17:43:33.820697Z\", \"created_time\": \"2021-01-13T17:42:35.591056Z\", \"created_time_dt\": \"2021-01-13T17:42:35.591056Z\", \"duration\": \"0:00:58\", \"iteration\": \"28\", \"goal\": \"AUC_weighted_max\", \"run_name\": \"StandardScalerWrapper, XGBoostClassifier\", \"run_properties\": \"<azureml.automl.runtime.shared.model_wrappers.StandardScalerWrapper object at 0x7f98450995c0\", \"primary_metric\": 0.85703151, \"best_metric\": 0.85703151}, {\"run_id\": \"AutoML_cfdf3dde-5e87-4512-886c-70b176ccd8df_29\", \"run_number\": 90, \"metric\": null, \"status\": \"Completed\", \"run_type\": \"azureml.scriptrun\", \"training_percent\": \"100\", \"start_time\": \"2021-01-13T17:43:07.246995Z\", \"end_time\": \"2021-01-13T17:45:00.458259Z\", \"created_time\": \"2021-01-13T17:42:55.204812Z\", \"created_time_dt\": \"2021-01-13T17:42:55.204812Z\", \"duration\": \"0:02:05\", \"iteration\": \"29\", \"goal\": \"AUC_weighted_max\", \"run_name\": \"StandardScalerWrapper, XGBoostClassifier\", \"run_properties\": \"<azureml.automl.runtime.shared.model_wrappers.StandardScalerWrapper object at 0x7f6a91aaa438\", \"primary_metric\": 0.83757525, \"best_metric\": 0.85703151}, {\"run_id\": \"AutoML_cfdf3dde-5e87-4512-886c-70b176ccd8df_30\", \"run_number\": 91, \"metric\": null, \"status\": \"Completed\", \"run_type\": \"azureml.scriptrun\", \"training_percent\": \"100\", \"start_time\": \"2021-01-13T17:43:25.202877Z\", \"end_time\": \"2021-01-13T17:44:03.018154Z\", \"created_time\": \"2021-01-13T17:43:11.13884Z\", \"created_time_dt\": \"2021-01-13T17:43:11.13884Z\", \"duration\": \"0:00:51\", \"iteration\": \"30\", \"goal\": \"AUC_weighted_max\", \"run_name\": \"RobustScaler, LightGBM\", \"run_properties\": \"copy=True, quantile_range=[25, 75], with_centering=False,\\n             with_scaling=True\", \"primary_metric\": 0.77652912, \"best_metric\": 0.85703151}, {\"run_id\": \"AutoML_cfdf3dde-5e87-4512-886c-70b176ccd8df_31\", \"run_number\": 92, \"metric\": null, \"status\": \"Completed\", \"run_type\": \"azureml.scriptrun\", \"training_percent\": \"100\", \"start_time\": \"2021-01-13T17:43:27.937517Z\", \"end_time\": \"2021-01-13T17:44:15.6043Z\", \"created_time\": \"2021-01-13T17:43:17.479179Z\", \"created_time_dt\": \"2021-01-13T17:43:17.479179Z\", \"duration\": \"0:00:58\", \"iteration\": \"31\", \"goal\": \"AUC_weighted_max\", \"run_name\": \"StandardScalerWrapper, XGBoostClassifier\", \"run_properties\": \"<azureml.automl.runtime.shared.model_wrappers.StandardScalerWrapper object at 0x7fecacace1d0\", \"primary_metric\": 0.84668914, \"best_metric\": 0.85703151}, {\"run_id\": \"AutoML_cfdf3dde-5e87-4512-886c-70b176ccd8df_32\", \"run_number\": 93, \"metric\": null, \"status\": \"Completed\", \"run_type\": \"azureml.scriptrun\", \"training_percent\": \"100\", \"start_time\": \"2021-01-13T17:43:49.190559Z\", \"end_time\": \"2021-01-13T17:45:24.162522Z\", \"created_time\": \"2021-01-13T17:43:36.042062Z\", \"created_time_dt\": \"2021-01-13T17:43:36.042062Z\", \"duration\": \"0:01:48\", \"iteration\": \"32\", \"goal\": \"AUC_weighted_max\", \"run_name\": \"StandardScalerWrapper, XGBoostClassifier\", \"run_properties\": \"<azureml.automl.runtime.shared.model_wrappers.StandardScalerWrapper object at 0x7f257ffdc5c0\", \"primary_metric\": 0.86490889, \"best_metric\": 0.86490889}, {\"run_id\": \"AutoML_cfdf3dde-5e87-4512-886c-70b176ccd8df_33\", \"run_number\": 94, \"metric\": null, \"status\": \"Completed\", \"run_type\": \"azureml.scriptrun\", \"training_percent\": \"100\", \"start_time\": \"2021-01-13T17:44:18.327495Z\", \"end_time\": \"2021-01-13T17:45:36.13102Z\", \"created_time\": \"2021-01-13T17:44:05.505085Z\", \"created_time_dt\": \"2021-01-13T17:44:05.505085Z\", \"duration\": \"0:01:30\", \"iteration\": \"33\", \"goal\": \"AUC_weighted_max\", \"run_name\": \"StandardScalerWrapper, XGBoostClassifier\", \"run_properties\": \"<azureml.automl.runtime.shared.model_wrappers.StandardScalerWrapper object at 0x7f8df0de34e0\", \"primary_metric\": 0.86478051, \"best_metric\": 0.86490889}, {\"run_id\": \"AutoML_cfdf3dde-5e87-4512-886c-70b176ccd8df_34\", \"run_number\": 95, \"metric\": null, \"status\": \"Completed\", \"run_type\": \"azureml.scriptrun\", \"training_percent\": \"100\", \"start_time\": \"2021-01-13T17:44:29.205776Z\", \"end_time\": \"2021-01-13T17:45:09.225762Z\", \"created_time\": \"2021-01-13T17:44:17.298493Z\", \"created_time_dt\": \"2021-01-13T17:44:17.298493Z\", \"duration\": \"0:00:51\", \"iteration\": \"34\", \"goal\": \"AUC_weighted_max\", \"run_name\": \"StandardScalerWrapper, XGBoostClassifier\", \"run_properties\": \"<azureml.automl.runtime.shared.model_wrappers.StandardScalerWrapper object at 0x7f91ebb0c2e8\", \"primary_metric\": 0.84071101, \"best_metric\": 0.86490889}, {\"run_id\": \"AutoML_cfdf3dde-5e87-4512-886c-70b176ccd8df_35\", \"run_number\": 96, \"metric\": null, \"status\": \"Completed\", \"run_type\": \"azureml.scriptrun\", \"training_percent\": \"100\", \"start_time\": \"2021-01-13T17:45:17.5637Z\", \"end_time\": \"2021-01-13T17:47:00.267378Z\", \"created_time\": \"2021-01-13T17:45:03.225861Z\", \"created_time_dt\": \"2021-01-13T17:45:03.225861Z\", \"duration\": \"0:01:57\", \"iteration\": \"35\", \"goal\": \"AUC_weighted_max\", \"run_name\": \"StandardScalerWrapper, XGBoostClassifier\", \"run_properties\": \"<azureml.automl.runtime.shared.model_wrappers.StandardScalerWrapper object at 0x7f53ce626860\", \"primary_metric\": 0.86662427, \"best_metric\": 0.86662427}, {\"run_id\": \"AutoML_cfdf3dde-5e87-4512-886c-70b176ccd8df_36\", \"run_number\": 97, \"metric\": null, \"status\": \"Completed\", \"run_type\": \"azureml.scriptrun\", \"training_percent\": \"100\", \"start_time\": \"2021-01-13T17:45:21.127016Z\", \"end_time\": \"2021-01-13T17:46:05.698559Z\", \"created_time\": \"2021-01-13T17:45:11.04135Z\", \"created_time_dt\": \"2021-01-13T17:45:11.04135Z\", \"duration\": \"0:00:54\", \"iteration\": \"36\", \"goal\": \"AUC_weighted_max\", \"run_name\": \"StandardScalerWrapper, XGBoostClassifier\", \"run_properties\": \"<azureml.automl.runtime.shared.model_wrappers.StandardScalerWrapper object at 0x7fbe2eaa7908\", \"primary_metric\": 0.83674712, \"best_metric\": 0.86662427}, {\"run_id\": \"AutoML_cfdf3dde-5e87-4512-886c-70b176ccd8df_37\", \"run_number\": 98, \"metric\": null, \"status\": \"Completed\", \"run_type\": \"azureml.scriptrun\", \"training_percent\": \"100\", \"start_time\": \"2021-01-13T17:45:39.3036Z\", \"end_time\": \"2021-01-13T17:46:33.752732Z\", \"created_time\": \"2021-01-13T17:45:25.926093Z\", \"created_time_dt\": \"2021-01-13T17:45:25.926093Z\", \"duration\": \"0:01:07\", \"iteration\": \"37\", \"goal\": \"AUC_weighted_max\", \"run_name\": \"StandardScalerWrapper, XGBoostClassifier\", \"run_properties\": \"<azureml.automl.runtime.shared.model_wrappers.StandardScalerWrapper object at 0x7f135819e438\", \"primary_metric\": 0.86383876, \"best_metric\": 0.86662427}, {\"run_id\": \"AutoML_cfdf3dde-5e87-4512-886c-70b176ccd8df_38\", \"run_number\": 99, \"metric\": null, \"status\": \"Completed\", \"run_type\": \"azureml.scriptrun\", \"training_percent\": \"100\", \"start_time\": \"2021-01-13T17:45:50.792186Z\", \"end_time\": \"2021-01-13T17:46:54.928115Z\", \"created_time\": \"2021-01-13T17:45:37.883763Z\", \"created_time_dt\": \"2021-01-13T17:45:37.883763Z\", \"duration\": \"0:01:17\", \"iteration\": \"38\", \"goal\": \"AUC_weighted_max\", \"run_name\": \"StandardScalerWrapper, XGBoostClassifier\", \"run_properties\": \"<azureml.automl.runtime.shared.model_wrappers.StandardScalerWrapper object at 0x7f09bb70dcf8\", \"primary_metric\": 0.85657188, \"best_metric\": 0.86662427}, {\"run_id\": \"AutoML_cfdf3dde-5e87-4512-886c-70b176ccd8df_39\", \"run_number\": 100, \"metric\": null, \"status\": \"Completed\", \"run_type\": \"azureml.scriptrun\", \"training_percent\": \"100\", \"start_time\": \"2021-01-13T17:46:23.041726Z\", \"end_time\": \"2021-01-13T17:47:13.560969Z\", \"created_time\": \"2021-01-13T17:46:07.622245Z\", \"created_time_dt\": \"2021-01-13T17:46:07.622245Z\", \"duration\": \"0:01:05\", \"iteration\": \"39\", \"goal\": \"AUC_weighted_max\", \"run_name\": \"StandardScalerWrapper, XGBoostClassifier\", \"run_properties\": \"<azureml.automl.runtime.shared.model_wrappers.StandardScalerWrapper object at 0x7fc748e3ea20\", \"primary_metric\": 0.86065885, \"best_metric\": 0.86662427}, {\"run_id\": \"AutoML_cfdf3dde-5e87-4512-886c-70b176ccd8df_40\", \"run_number\": 101, \"metric\": null, \"status\": \"Completed\", \"run_type\": \"azureml.scriptrun\", \"training_percent\": \"100\", \"start_time\": \"2021-01-13T17:46:47.433396Z\", \"end_time\": \"2021-01-13T17:47:29.634809Z\", \"created_time\": \"2021-01-13T17:46:36.836511Z\", \"created_time_dt\": \"2021-01-13T17:46:36.836511Z\", \"duration\": \"0:00:52\", \"iteration\": \"40\", \"goal\": \"AUC_weighted_max\", \"run_name\": \"StandardScalerWrapper, XGBoostClassifier\", \"run_properties\": \"<azureml.automl.runtime.shared.model_wrappers.StandardScalerWrapper object at 0x7fb3e0037ef0\", \"primary_metric\": 0.5, \"best_metric\": 0.86662427}, {\"run_id\": \"AutoML_cfdf3dde-5e87-4512-886c-70b176ccd8df_41\", \"run_number\": 102, \"metric\": null, \"status\": \"Completed\", \"run_type\": \"azureml.scriptrun\", \"training_percent\": \"100\", \"start_time\": \"2021-01-13T17:47:08.8418Z\", \"end_time\": \"2021-01-13T17:47:57.3705Z\", \"created_time\": \"2021-01-13T17:46:56.790543Z\", \"created_time_dt\": \"2021-01-13T17:46:56.790543Z\", \"duration\": \"0:01:00\", \"iteration\": \"41\", \"goal\": \"AUC_weighted_max\", \"run_name\": \"StandardScalerWrapper, XGBoostClassifier\", \"run_properties\": \"<azureml.automl.runtime.shared.model_wrappers.StandardScalerWrapper object at 0x7f9dd55ee828\", \"primary_metric\": 0.85873351, \"best_metric\": 0.86662427}, {\"run_id\": \"AutoML_cfdf3dde-5e87-4512-886c-70b176ccd8df_42\", \"run_number\": 103, \"metric\": null, \"status\": \"Completed\", \"run_type\": \"azureml.scriptrun\", \"training_percent\": \"100\", \"start_time\": \"2021-01-13T17:47:13.013607Z\", \"end_time\": \"2021-01-13T17:48:06.322456Z\", \"created_time\": \"2021-01-13T17:47:01.93995Z\", \"created_time_dt\": \"2021-01-13T17:47:01.93995Z\", \"duration\": \"0:01:04\", \"iteration\": \"42\", \"goal\": \"AUC_weighted_max\", \"run_name\": \"StandardScalerWrapper, XGBoostClassifier\", \"run_properties\": \"<azureml.automl.runtime.shared.model_wrappers.StandardScalerWrapper object at 0x7f51053db7f0\", \"primary_metric\": 0.84721623, \"best_metric\": 0.86662427}, {\"run_id\": \"AutoML_cfdf3dde-5e87-4512-886c-70b176ccd8df_43\", \"run_number\": 104, \"metric\": null, \"status\": \"Completed\", \"run_type\": \"azureml.scriptrun\", \"training_percent\": \"100\", \"start_time\": \"2021-01-13T17:47:25.418499Z\", \"end_time\": \"2021-01-13T17:48:15.788629Z\", \"created_time\": \"2021-01-13T17:47:15.29045Z\", \"created_time_dt\": \"2021-01-13T17:47:15.29045Z\", \"duration\": \"0:01:00\", \"iteration\": \"43\", \"goal\": \"AUC_weighted_max\", \"run_name\": \"StandardScalerWrapper, XGBoostClassifier\", \"run_properties\": \"<azureml.automl.runtime.shared.model_wrappers.StandardScalerWrapper object at 0x7f0ede5972e8\", \"primary_metric\": 0.86029801, \"best_metric\": 0.86662427}, {\"run_id\": \"AutoML_cfdf3dde-5e87-4512-886c-70b176ccd8df_44\", \"run_number\": 105, \"metric\": null, \"status\": \"Completed\", \"run_type\": \"azureml.scriptrun\", \"training_percent\": \"100\", \"start_time\": \"2021-01-13T17:47:43.71886Z\", \"end_time\": \"2021-01-13T17:48:20.868446Z\", \"created_time\": \"2021-01-13T17:47:31.56448Z\", \"created_time_dt\": \"2021-01-13T17:47:31.56448Z\", \"duration\": \"0:00:49\", \"iteration\": \"44\", \"goal\": \"AUC_weighted_max\", \"run_name\": \"StandardScalerWrapper, XGBoostClassifier\", \"run_properties\": \"<azureml.automl.runtime.shared.model_wrappers.StandardScalerWrapper object at 0x7fb4843f65c0\", \"primary_metric\": 0.82277363, \"best_metric\": 0.86662427}, {\"run_id\": \"AutoML_cfdf3dde-5e87-4512-886c-70b176ccd8df_45\", \"run_number\": 106, \"metric\": null, \"status\": \"Completed\", \"run_type\": \"azureml.scriptrun\", \"training_percent\": \"100\", \"start_time\": \"2021-01-13T17:48:13.54711Z\", \"end_time\": \"2021-01-13T17:48:59.284614Z\", \"created_time\": \"2021-01-13T17:48:00.349726Z\", \"created_time_dt\": \"2021-01-13T17:48:00.349726Z\", \"duration\": \"0:00:58\", \"iteration\": \"45\", \"goal\": \"AUC_weighted_max\", \"run_name\": \"StandardScalerWrapper, XGBoostClassifier\", \"run_properties\": \"<azureml.automl.runtime.shared.model_wrappers.StandardScalerWrapper object at 0x7f92794ae908\", \"primary_metric\": 0.84485664, \"best_metric\": 0.86662427}, {\"run_id\": \"AutoML_cfdf3dde-5e87-4512-886c-70b176ccd8df_46\", \"run_number\": 107, \"metric\": null, \"status\": \"Completed\", \"run_type\": \"azureml.scriptrun\", \"training_percent\": \"100\", \"start_time\": \"2021-01-13T17:48:21.230224Z\", \"end_time\": \"2021-01-13T17:49:14.849916Z\", \"created_time\": \"2021-01-13T17:48:08.36311Z\", \"created_time_dt\": \"2021-01-13T17:48:08.36311Z\", \"duration\": \"0:01:06\", \"iteration\": \"46\", \"goal\": \"AUC_weighted_max\", \"run_name\": \"StandardScalerWrapper, XGBoostClassifier\", \"run_properties\": \"<azureml.automl.runtime.shared.model_wrappers.StandardScalerWrapper object at 0x7f75940b9978\", \"primary_metric\": 0.79960493, \"best_metric\": 0.86662427}, {\"run_id\": \"AutoML_cfdf3dde-5e87-4512-886c-70b176ccd8df_47\", \"run_number\": 108, \"metric\": null, \"status\": \"Completed\", \"run_type\": \"azureml.scriptrun\", \"training_percent\": \"100\", \"start_time\": \"2021-01-13T17:48:28.858162Z\", \"end_time\": \"2021-01-13T17:49:10.702003Z\", \"created_time\": \"2021-01-13T17:48:18.116776Z\", \"created_time_dt\": \"2021-01-13T17:48:18.116776Z\", \"duration\": \"0:00:52\", \"iteration\": \"47\", \"goal\": \"AUC_weighted_max\", \"run_name\": \"SparseNormalizer, XGBoostClassifier\", \"run_properties\": \"<azureml.automl.runtime.shared.model_wrappers.SparseNormalizer object at 0x7f969952a828\", \"primary_metric\": 0.84769464, \"best_metric\": 0.86662427}, {\"run_id\": \"AutoML_cfdf3dde-5e87-4512-886c-70b176ccd8df_48\", \"run_number\": 109, \"metric\": null, \"status\": \"Completed\", \"run_type\": \"azureml.scriptrun\", \"training_percent\": \"100\", \"start_time\": \"2021-01-13T17:48:34.572452Z\", \"end_time\": \"2021-01-13T17:49:13.806154Z\", \"created_time\": \"2021-01-13T17:48:22.554882Z\", \"created_time_dt\": \"2021-01-13T17:48:22.554882Z\", \"duration\": \"0:00:51\", \"iteration\": \"48\", \"goal\": \"AUC_weighted_max\", \"run_name\": \"StandardScalerWrapper, LogisticRegression\", \"run_properties\": \"<azureml.automl.runtime.shared.model_wrappers.StandardScalerWrapper object at 0x7fd1a629ef60\", \"primary_metric\": 0.76515055, \"best_metric\": 0.86662427}, {\"run_id\": \"AutoML_cfdf3dde-5e87-4512-886c-70b176ccd8df_49\", \"run_number\": 110, \"metric\": null, \"status\": \"Completed\", \"run_type\": \"azureml.scriptrun\", \"training_percent\": \"100\", \"start_time\": \"2021-01-13T17:49:14.774892Z\", \"end_time\": \"2021-01-13T17:49:57.842052Z\", \"created_time\": \"2021-01-13T17:49:01.089065Z\", \"created_time_dt\": \"2021-01-13T17:49:01.089065Z\", \"duration\": \"0:00:56\", \"iteration\": \"49\", \"goal\": \"AUC_weighted_max\", \"run_name\": \"StandardScalerWrapper, XGBoostClassifier\", \"run_properties\": \"<azureml.automl.runtime.shared.model_wrappers.StandardScalerWrapper object at 0x7f9c854fda20\", \"primary_metric\": 0.82025466, \"best_metric\": 0.86662427}, {\"run_id\": \"AutoML_cfdf3dde-5e87-4512-886c-70b176ccd8df_50\", \"run_number\": 111, \"metric\": null, \"status\": \"Completed\", \"run_type\": \"azureml.scriptrun\", \"training_percent\": \"100\", \"start_time\": \"2021-01-13T17:49:23.429345Z\", \"end_time\": \"2021-01-13T17:50:05.206498Z\", \"created_time\": \"2021-01-13T17:49:13.410111Z\", \"created_time_dt\": \"2021-01-13T17:49:13.410111Z\", \"duration\": \"0:00:51\", \"iteration\": \"50\", \"goal\": \"AUC_weighted_max\", \"run_name\": \"StandardScalerWrapper, XGBoostClassifier\", \"run_properties\": \"<azureml.automl.runtime.shared.model_wrappers.StandardScalerWrapper object at 0x7f4253ec47b8\", \"primary_metric\": 0.83101577, \"best_metric\": 0.86662427}, {\"run_id\": \"AutoML_cfdf3dde-5e87-4512-886c-70b176ccd8df_52\", \"run_number\": 112, \"metric\": null, \"status\": \"Completed\", \"run_type\": \"azureml.scriptrun\", \"training_percent\": \"100\", \"start_time\": \"2021-01-13T17:49:26.429018Z\", \"end_time\": \"2021-01-13T17:50:05.448762Z\", \"created_time\": \"2021-01-13T17:49:16.397965Z\", \"created_time_dt\": \"2021-01-13T17:49:16.397965Z\", \"duration\": \"0:00:49\", \"iteration\": \"52\", \"goal\": \"AUC_weighted_max\", \"run_name\": \"StandardScalerWrapper, XGBoostClassifier\", \"run_properties\": \"<azureml.automl.runtime.shared.model_wrappers.StandardScalerWrapper object at 0x7f7b1de44f60\", \"primary_metric\": 0.84657599, \"best_metric\": 0.86662427}, {\"run_id\": \"AutoML_cfdf3dde-5e87-4512-886c-70b176ccd8df_51\", \"run_number\": 113, \"metric\": null, \"status\": \"Canceled\", \"run_type\": \"azureml.scriptrun\", \"training_percent\": \"100\", \"start_time\": \"2021-01-13T17:49:29.166591Z\", \"end_time\": \"2021-01-13T17:50:12.635429Z\", \"created_time\": \"2021-01-13T17:49:16.428415Z\", \"created_time_dt\": \"2021-01-13T17:49:16.428415Z\", \"duration\": \"0:00:56\", \"iteration\": \"51\", \"goal\": \"AUC_weighted_max\", \"run_name\": \"StandardScalerWrapper, XGBoostClassifier\", \"run_properties\": \"<azureml.automl.runtime.shared.model_wrappers.StandardScalerWrapper object at 0x7f881622d550\", \"primary_metric\": 0.8557025, \"best_metric\": 0.86662427}, {\"run_id\": \"AutoML_cfdf3dde-5e87-4512-886c-70b176ccd8df_53\", \"run_number\": 114, \"metric\": null, \"status\": \"Canceled\", \"run_type\": \"azureml.scriptrun\", \"training_percent\": \"100\", \"start_time\": \"2021-01-13T17:49:59.591807Z\", \"end_time\": \"2021-01-13T17:50:18.451259Z\", \"created_time\": \"2021-01-13T17:49:59.591807Z\", \"created_time_dt\": \"2021-01-13T17:49:59.591807Z\", \"duration\": \"0:00:18\", \"iteration\": \"53\", \"goal\": null, \"run_name\": \"Canceled\", \"run_properties\": null}, {\"run_id\": \"AutoML_cfdf3dde-5e87-4512-886c-70b176ccd8df_54\", \"run_number\": 115, \"metric\": null, \"status\": \"Completed\", \"run_type\": \"azureml.scriptrun\", \"training_percent\": \"100\", \"start_time\": \"2021-01-13T17:50:34.500953Z\", \"end_time\": \"2021-01-13T17:52:26.388125Z\", \"created_time\": \"2021-01-13T17:50:19.333279Z\", \"created_time_dt\": \"2021-01-13T17:50:19.333279Z\", \"duration\": \"0:02:07\", \"iteration\": \"54\", \"goal\": \"AUC_weighted_max\", \"run_name\": \"VotingEnsemble\", \"run_properties\": \"classification_labels=None,\\n                              estimators=[('35',\\n                                           Pipeline(memory=None,\\n                                                    steps=[('standardscalerwrapper',\\n                                                            <azureml.automl.runtime.shared.model_wrappers.StandardScalerWrapper object at 0x7f70251be5c0>\", \"primary_metric\": 0.87278165, \"best_metric\": 0.87278165}, {\"run_id\": \"AutoML_cfdf3dde-5e87-4512-886c-70b176ccd8df_55\", \"run_number\": 116, \"metric\": null, \"status\": \"Completed\", \"run_type\": \"azureml.scriptrun\", \"training_percent\": \"100\", \"start_time\": \"2021-01-13T17:50:30.705013Z\", \"end_time\": \"2021-01-13T17:52:45.946343Z\", \"created_time\": \"2021-01-13T17:50:19.341905Z\", \"created_time_dt\": \"2021-01-13T17:50:19.341905Z\", \"duration\": \"0:02:26\", \"iteration\": \"55\", \"goal\": \"AUC_weighted_max\", \"run_name\": \"StackEnsemble\", \"run_properties\": \"base_learners=[('35',\\n                                        Pipeline(memory=None,\\n                                                 steps=[('standardscalerwrapper',\\n                                                         <azureml.automl.runtime.shared.model_wrappers.StandardScalerWrapper object at 0x7fa97116af60>\", \"primary_metric\": 0.8694263, \"best_metric\": 0.87278165}], \"children_metrics\": {\"categories\": [0], \"series\": {\"weighted_accuracy\": [{\"categories\": [\"0\", \"1\", \"2\", \"3\", \"4\", \"5\", \"6\", \"7\", \"8\", \"9\", \"10\", \"11\", \"12\", \"13\", \"14\", \"15\", \"16\", \"17\", \"18\", \"19\", \"20\", \"21\", \"22\", \"23\", \"24\", \"25\", \"26\", \"27\", \"28\", \"29\", \"30\", \"31\", \"32\", \"33\", \"34\", \"35\", \"36\", \"37\", \"38\", \"39\", \"40\", \"41\", \"42\", \"43\", \"44\", \"45\", \"46\", \"47\", \"48\", \"49\", \"50\", \"51\", \"52\", \"54\", \"55\"], \"mode\": \"markers\", \"name\": \"weighted_accuracy\", \"stepped\": false, \"type\": \"scatter\", \"data\": [0.9183345307620895, 0.9129678208300476, 0.9273756781167916, 0.9360164956255463, 0.6206884297252285, 0.9310902489768899, 0.9222451324934635, 0.9324071700232307, 0.9360164956255463, 0.9360164956255463, 0.9344169589365494, 0.4202220569344388, 0.9054646775427256, 0.46646726213421874, 0.9360164956255463, 0.4440021429594596, 0.46840796093781356, 0.9289668377708827, 0.9228655791609001, 0.4713666900526781, 0.523201598698576, 0.9095496716091116, 0.9175495300801622, 0.9109082937145772, 0.9236035385170727, 0.9358045135912123, 0.9043963297267678, 0.9291006947795055, 0.9255600023717981, 0.9195906915090312, 0.9360164956255463, 0.9185326954451066, 0.9214382924838432, 0.9215619462720969, 0.9199335509914666, 0.9220267643466218, 0.9185636492986268, 0.9235007940773413, 0.9186832236304104, 0.9209089780080678, 0.9360164956255463, 0.921981355759641, 0.913899620871074, 0.92466656216663, 0.9210344479727784, 0.9190723821523141, 0.9183034794807253, 0.9191307214538494, 0.908928786770745, 0.9130597437746054, 0.9157847769551243, 0.9296127181877001, 0.9190675999676495, 0.9271335571132001, 0.9240858796530261]}, {\"categories\": [\"0\", \"1\", \"2\", \"3\", \"4\", \"5\", \"6\", \"7\", \"8\", \"9\", \"10\", \"11\", \"12\", \"13\", \"14\", \"15\", \"16\", \"17\", \"18\", \"19\", \"20\", \"21\", \"22\", \"23\", \"24\", \"25\", \"26\", \"27\", \"28\", \"29\", \"30\", \"31\", \"32\", \"33\", \"34\", \"35\", \"36\", \"37\", \"38\", \"39\", \"40\", \"41\", \"42\", \"43\", \"44\", \"45\", \"46\", \"47\", \"48\", \"49\", \"50\", \"51\", \"52\", \"54\", \"55\"], \"mode\": \"lines\", \"name\": \"weighted_accuracy_max\", \"stepped\": true, \"type\": \"scatter\", \"data\": [0.9183345307620895, 0.9183345307620895, 0.9273756781167916, 0.9360164956255463, 0.9360164956255463, 0.9360164956255463, 0.9360164956255463, 0.9360164956255463, 0.9360164956255463, 0.9360164956255463, 0.9360164956255463, 0.9360164956255463, 0.9360164956255463, 0.9360164956255463, 0.9360164956255463, 0.9360164956255463, 0.9360164956255463, 0.9360164956255463, 0.9360164956255463, 0.9360164956255463, 0.9360164956255463, 0.9360164956255463, 0.9360164956255463, 0.9360164956255463, 0.9360164956255463, 0.9360164956255463, 0.9360164956255463, 0.9360164956255463, 0.9360164956255463, 0.9360164956255463, 0.9360164956255463, 0.9360164956255463, 0.9360164956255463, 0.9360164956255463, 0.9360164956255463, 0.9360164956255463, 0.9360164956255463, 0.9360164956255463, 0.9360164956255463, 0.9360164956255463, 0.9360164956255463, 0.9360164956255463, 0.9360164956255463, 0.9360164956255463, 0.9360164956255463, 0.9360164956255463, 0.9360164956255463, 0.9360164956255463, 0.9360164956255463, 0.9360164956255463, 0.9360164956255463, 0.9360164956255463, 0.9360164956255463, 0.9360164956255463, 0.9360164956255463]}], \"accuracy\": [{\"categories\": [\"0\", \"1\", \"2\", \"3\", \"4\", \"5\", \"6\", \"7\", \"8\", \"9\", \"10\", \"11\", \"12\", \"13\", \"14\", \"15\", \"16\", \"17\", \"18\", \"19\", \"20\", \"21\", \"22\", \"23\", \"24\", \"25\", \"26\", \"27\", \"28\", \"29\", \"30\", \"31\", \"32\", \"33\", \"34\", \"35\", \"36\", \"37\", \"38\", \"39\", \"40\", \"41\", \"42\", \"43\", \"44\", \"45\", \"46\", \"47\", \"48\", \"49\", \"50\", \"51\", \"52\", \"54\", \"55\"], \"mode\": \"markers\", \"name\": \"accuracy\", \"stepped\": false, \"type\": \"scatter\", \"data\": [0.8353110154565568, 0.8041915238898532, 0.780464537028254, 0.765675041140289, 0.6407360358735912, 0.7781538585560265, 0.796642989458344, 0.7707598583583365, 0.765675041140289, 0.765675041140289, 0.7669073270306154, 0.46710742393853494, 0.7830847112517159, 0.5105501304781673, 0.765675041140289, 0.4808110497816723, 0.5153298672088041, 0.799723775398093, 0.7906341714643492, 0.5100924385331184, 0.5589275352658516, 0.8249901226275433, 0.8063480954118573, 0.8034209179248033, 0.7980287413735002, 0.7672158257867929, 0.8020348099399838, 0.7775385701780548, 0.83392497868567, 0.8200604805687087, 0.765675041140289, 0.8226793017274506, 0.8431685471417718, 0.8456334037781555, 0.8219086957624007, 0.8454790831861341, 0.8165166616389631, 0.8448623705295097, 0.8431681910721087, 0.8394710485453984, 0.765675041140289, 0.8382388338690046, 0.8319210898352365, 0.8416284034206615, 0.8109705205653018, 0.8242200863739546, 0.7923290630610768, 0.8268382666073028, 0.7826225328289107, 0.8057320948945592, 0.8132809853957316, 0.8320752679993927, 0.8268384802491006, 0.847173333857468, 0.8456331901363576]}, {\"categories\": [\"0\", \"1\", \"2\", \"3\", \"4\", \"5\", \"6\", \"7\", \"8\", \"9\", \"10\", \"11\", \"12\", \"13\", \"14\", \"15\", \"16\", \"17\", \"18\", \"19\", \"20\", \"21\", \"22\", \"23\", \"24\", \"25\", \"26\", \"27\", \"28\", \"29\", \"30\", \"31\", \"32\", \"33\", \"34\", \"35\", \"36\", \"37\", \"38\", \"39\", \"40\", \"41\", \"42\", \"43\", \"44\", \"45\", \"46\", \"47\", \"48\", \"49\", \"50\", \"51\", \"52\", \"54\", \"55\"], \"mode\": \"lines\", \"name\": \"accuracy_max\", \"stepped\": true, \"type\": \"scatter\", \"data\": [0.8353110154565568, 0.8353110154565568, 0.8353110154565568, 0.8353110154565568, 0.8353110154565568, 0.8353110154565568, 0.8353110154565568, 0.8353110154565568, 0.8353110154565568, 0.8353110154565568, 0.8353110154565568, 0.8353110154565568, 0.8353110154565568, 0.8353110154565568, 0.8353110154565568, 0.8353110154565568, 0.8353110154565568, 0.8353110154565568, 0.8353110154565568, 0.8353110154565568, 0.8353110154565568, 0.8353110154565568, 0.8353110154565568, 0.8353110154565568, 0.8353110154565568, 0.8353110154565568, 0.8353110154565568, 0.8353110154565568, 0.8353110154565568, 0.8353110154565568, 0.8353110154565568, 0.8353110154565568, 0.8431685471417718, 0.8456334037781555, 0.8456334037781555, 0.8456334037781555, 0.8456334037781555, 0.8456334037781555, 0.8456334037781555, 0.8456334037781555, 0.8456334037781555, 0.8456334037781555, 0.8456334037781555, 0.8456334037781555, 0.8456334037781555, 0.8456334037781555, 0.8456334037781555, 0.8456334037781555, 0.8456334037781555, 0.8456334037781555, 0.8456334037781555, 0.8456334037781555, 0.8456334037781555, 0.847173333857468, 0.847173333857468]}], \"recall_score_weighted\": [{\"categories\": [\"0\", \"1\", \"2\", \"3\", \"4\", \"5\", \"6\", \"7\", \"8\", \"9\", \"10\", \"11\", \"12\", \"13\", \"14\", \"15\", \"16\", \"17\", \"18\", \"19\", \"20\", \"21\", \"22\", \"23\", \"24\", \"25\", \"26\", \"27\", \"28\", \"29\", \"30\", \"31\", \"32\", \"33\", \"34\", \"35\", \"36\", \"37\", \"38\", \"39\", \"40\", \"41\", \"42\", \"43\", \"44\", \"45\", \"46\", \"47\", \"48\", \"49\", \"50\", \"51\", \"52\", \"54\", \"55\"], \"mode\": \"markers\", \"name\": \"recall_score_weighted\", \"stepped\": false, \"type\": \"scatter\", \"data\": [0.8353110154565568, 0.8041915238898532, 0.780464537028254, 0.765675041140289, 0.6407360358735912, 0.7781538585560265, 0.796642989458344, 0.7707598583583365, 0.765675041140289, 0.765675041140289, 0.7669073270306154, 0.46710742393853494, 0.7830847112517159, 0.5105501304781673, 0.765675041140289, 0.4808110497816723, 0.5153298672088041, 0.799723775398093, 0.7906341714643492, 0.5100924385331184, 0.5589275352658516, 0.8249901226275433, 0.8063480954118573, 0.8034209179248033, 0.7980287413735002, 0.7672158257867929, 0.8020348099399838, 0.7775385701780548, 0.83392497868567, 0.8200604805687087, 0.765675041140289, 0.8226793017274506, 0.8431685471417718, 0.8456334037781555, 0.8219086957624007, 0.8454790831861341, 0.8165166616389631, 0.8448623705295097, 0.8431681910721087, 0.8394710485453984, 0.765675041140289, 0.8382388338690046, 0.8319210898352365, 0.8416284034206615, 0.8109705205653018, 0.8242200863739546, 0.7923290630610768, 0.8268382666073028, 0.7826225328289107, 0.8057320948945592, 0.8132809853957316, 0.8320752679993927, 0.8268384802491006, 0.847173333857468, 0.8456331901363576]}, {\"categories\": [\"0\", \"1\", \"2\", \"3\", \"4\", \"5\", \"6\", \"7\", \"8\", \"9\", \"10\", \"11\", \"12\", \"13\", \"14\", \"15\", \"16\", \"17\", \"18\", \"19\", \"20\", \"21\", \"22\", \"23\", \"24\", \"25\", \"26\", \"27\", \"28\", \"29\", \"30\", \"31\", \"32\", \"33\", \"34\", \"35\", \"36\", \"37\", \"38\", \"39\", \"40\", \"41\", \"42\", \"43\", \"44\", \"45\", \"46\", \"47\", \"48\", \"49\", \"50\", \"51\", \"52\", \"54\", \"55\"], \"mode\": \"lines\", \"name\": \"recall_score_weighted_max\", \"stepped\": true, \"type\": \"scatter\", \"data\": [0.8353110154565568, 0.8353110154565568, 0.8353110154565568, 0.8353110154565568, 0.8353110154565568, 0.8353110154565568, 0.8353110154565568, 0.8353110154565568, 0.8353110154565568, 0.8353110154565568, 0.8353110154565568, 0.8353110154565568, 0.8353110154565568, 0.8353110154565568, 0.8353110154565568, 0.8353110154565568, 0.8353110154565568, 0.8353110154565568, 0.8353110154565568, 0.8353110154565568, 0.8353110154565568, 0.8353110154565568, 0.8353110154565568, 0.8353110154565568, 0.8353110154565568, 0.8353110154565568, 0.8353110154565568, 0.8353110154565568, 0.8353110154565568, 0.8353110154565568, 0.8353110154565568, 0.8353110154565568, 0.8431685471417718, 0.8456334037781555, 0.8456334037781555, 0.8456334037781555, 0.8456334037781555, 0.8456334037781555, 0.8456334037781555, 0.8456334037781555, 0.8456334037781555, 0.8456334037781555, 0.8456334037781555, 0.8456334037781555, 0.8456334037781555, 0.8456334037781555, 0.8456334037781555, 0.8456334037781555, 0.8456334037781555, 0.8456334037781555, 0.8456334037781555, 0.8456334037781555, 0.8456334037781555, 0.847173333857468, 0.847173333857468]}], \"average_precision_score_macro\": [{\"categories\": [\"0\", \"1\", \"2\", \"3\", \"4\", \"5\", \"6\", \"7\", \"8\", \"9\", \"10\", \"11\", \"12\", \"13\", \"14\", \"15\", \"16\", \"17\", \"18\", \"19\", \"20\", \"21\", \"22\", \"23\", \"24\", \"25\", \"26\", \"27\", \"28\", \"29\", \"30\", \"31\", \"32\", \"33\", \"34\", \"35\", \"36\", \"37\", \"38\", \"39\", \"40\", \"41\", \"42\", \"43\", \"44\", \"45\", \"46\", \"47\", \"48\", \"49\", \"50\", \"51\", \"52\", \"54\", \"55\"], \"mode\": \"markers\", \"name\": \"average_precision_score_macro\", \"stepped\": false, \"type\": \"scatter\", \"data\": [0.6425410818023468, 0.5851207735818518, 0.5270320361411276, 0.5294816983491021, 0.5627277697365832, 0.4991376582700798, 0.5655765430368959, 0.4906776626949738, 0.526377645128123, 0.5178058715318224, 0.5062930588507079, 0.4748501884145253, 0.5409291060075553, 0.5096845567462509, 0.5191525831933123, 0.4721047805533352, 0.5049648104328185, 0.5596748336022149, 0.544203824651869, 0.4942217711361219, 0.517342548207654, 0.6201655308386137, 0.5777469895750381, 0.5770338414860866, 0.594706941836066, 0.5364279506655493, 0.5846345581491758, 0.5334299552225166, 0.646322643448236, 0.61770600996927, 0.5156667326832151, 0.6270432496687391, 0.6707510689505659, 0.6672427614150304, 0.6213786819418695, 0.6688393754880774, 0.6142763765246086, 0.6654354310684482, 0.6489362093110561, 0.6568081923590108, 0.3333333333333333, 0.6519018933765195, 0.6377354637616762, 0.6536650586839041, 0.5951935999735004, 0.622043459668678, 0.5615428450602651, 0.6324837589065648, 0.5428095082768375, 0.5904560691870864, 0.6051494872233288, 0.6426885766780429, 0.6324448429370034, 0.679396787858131, 0.6735791051920609]}, {\"categories\": [\"0\", \"1\", \"2\", \"3\", \"4\", \"5\", \"6\", \"7\", \"8\", \"9\", \"10\", \"11\", \"12\", \"13\", \"14\", \"15\", \"16\", \"17\", \"18\", \"19\", \"20\", \"21\", \"22\", \"23\", \"24\", \"25\", \"26\", \"27\", \"28\", \"29\", \"30\", \"31\", \"32\", \"33\", \"34\", \"35\", \"36\", \"37\", \"38\", \"39\", \"40\", \"41\", \"42\", \"43\", \"44\", \"45\", \"46\", \"47\", \"48\", \"49\", \"50\", \"51\", \"52\", \"54\", \"55\"], \"mode\": \"lines\", \"name\": \"average_precision_score_macro_max\", \"stepped\": true, \"type\": \"scatter\", \"data\": [0.6425410818023468, 0.6425410818023468, 0.6425410818023468, 0.6425410818023468, 0.6425410818023468, 0.6425410818023468, 0.6425410818023468, 0.6425410818023468, 0.6425410818023468, 0.6425410818023468, 0.6425410818023468, 0.6425410818023468, 0.6425410818023468, 0.6425410818023468, 0.6425410818023468, 0.6425410818023468, 0.6425410818023468, 0.6425410818023468, 0.6425410818023468, 0.6425410818023468, 0.6425410818023468, 0.6425410818023468, 0.6425410818023468, 0.6425410818023468, 0.6425410818023468, 0.6425410818023468, 0.6425410818023468, 0.6425410818023468, 0.646322643448236, 0.646322643448236, 0.646322643448236, 0.646322643448236, 0.6707510689505659, 0.6707510689505659, 0.6707510689505659, 0.6707510689505659, 0.6707510689505659, 0.6707510689505659, 0.6707510689505659, 0.6707510689505659, 0.6707510689505659, 0.6707510689505659, 0.6707510689505659, 0.6707510689505659, 0.6707510689505659, 0.6707510689505659, 0.6707510689505659, 0.6707510689505659, 0.6707510689505659, 0.6707510689505659, 0.6707510689505659, 0.6707510689505659, 0.6707510689505659, 0.679396787858131, 0.679396787858131]}], \"average_precision_score_micro\": [{\"categories\": [\"0\", \"1\", \"2\", \"3\", \"4\", \"5\", \"6\", \"7\", \"8\", \"9\", \"10\", \"11\", \"12\", \"13\", \"14\", \"15\", \"16\", \"17\", \"18\", \"19\", \"20\", \"21\", \"22\", \"23\", \"24\", \"25\", \"26\", \"27\", \"28\", \"29\", \"30\", \"31\", \"32\", \"33\", \"34\", \"35\", \"36\", \"37\", \"38\", \"39\", \"40\", \"41\", \"42\", \"43\", \"44\", \"45\", \"46\", \"47\", \"48\", \"49\", \"50\", \"51\", \"52\", \"54\", \"55\"], \"mode\": \"markers\", \"name\": \"average_precision_score_micro\", \"stepped\": false, \"type\": \"scatter\", \"data\": [0.8952923881292026, 0.8757010703630862, 0.8555481217790563, 0.8445672005588021, 0.6745085977606435, 0.848748190307658, 0.8715577144878438, 0.8404006296582697, 0.8447313942877624, 0.8401227807806255, 0.8420694244240928, 0.4541058173228378, 0.8437606328059509, 0.5097714570656888, 0.8473367407034603, 0.467860102423966, 0.4967779628716082, 0.8653477923722722, 0.8648068247848085, 0.49785838401273425, 0.5373310702877528, 0.8904968559665046, 0.8733640580432883, 0.8744587911598503, 0.877031177116788, 0.8504427685047257, 0.8760504361668869, 0.8549918746802208, 0.9011225232393629, 0.8886954418259517, 0.850441986301841, 0.8938260160765256, 0.9075389403783879, 0.9059077630280222, 0.8900516366622672, 0.9072500357807546, 0.8871876681553542, 0.9055355332927292, 0.9003797075539032, 0.9029469881969145, 0.6934251298931186, 0.9015690259311965, 0.8923924079995723, 0.9027015371569543, 0.8806994726602903, 0.8922334467383514, 0.8655021344580165, 0.8947442800122456, 0.8421568070317703, 0.8783489477559527, 0.8848117347442148, 0.899161510787069, 0.8941286502130311, 0.9106972564532687, 0.8983612581544366]}, {\"categories\": [\"0\", \"1\", \"2\", \"3\", \"4\", \"5\", \"6\", \"7\", \"8\", \"9\", \"10\", \"11\", \"12\", \"13\", \"14\", \"15\", \"16\", \"17\", \"18\", \"19\", \"20\", \"21\", \"22\", \"23\", \"24\", \"25\", \"26\", \"27\", \"28\", \"29\", \"30\", \"31\", \"32\", \"33\", \"34\", \"35\", \"36\", \"37\", \"38\", \"39\", \"40\", \"41\", \"42\", \"43\", \"44\", \"45\", \"46\", \"47\", \"48\", \"49\", \"50\", \"51\", \"52\", \"54\", \"55\"], \"mode\": \"lines\", \"name\": \"average_precision_score_micro_max\", \"stepped\": true, \"type\": \"scatter\", \"data\": [0.8952923881292026, 0.8952923881292026, 0.8952923881292026, 0.8952923881292026, 0.8952923881292026, 0.8952923881292026, 0.8952923881292026, 0.8952923881292026, 0.8952923881292026, 0.8952923881292026, 0.8952923881292026, 0.8952923881292026, 0.8952923881292026, 0.8952923881292026, 0.8952923881292026, 0.8952923881292026, 0.8952923881292026, 0.8952923881292026, 0.8952923881292026, 0.8952923881292026, 0.8952923881292026, 0.8952923881292026, 0.8952923881292026, 0.8952923881292026, 0.8952923881292026, 0.8952923881292026, 0.8952923881292026, 0.8952923881292026, 0.9011225232393629, 0.9011225232393629, 0.9011225232393629, 0.9011225232393629, 0.9075389403783879, 0.9075389403783879, 0.9075389403783879, 0.9075389403783879, 0.9075389403783879, 0.9075389403783879, 0.9075389403783879, 0.9075389403783879, 0.9075389403783879, 0.9075389403783879, 0.9075389403783879, 0.9075389403783879, 0.9075389403783879, 0.9075389403783879, 0.9075389403783879, 0.9075389403783879, 0.9075389403783879, 0.9075389403783879, 0.9075389403783879, 0.9075389403783879, 0.9075389403783879, 0.9106972564532687, 0.9106972564532687]}], \"log_loss\": [{\"categories\": [\"0\", \"1\", \"2\", \"3\", \"4\", \"5\", \"6\", \"7\", \"8\", \"9\", \"10\", \"11\", \"12\", \"13\", \"14\", \"15\", \"16\", \"17\", \"18\", \"19\", \"20\", \"21\", \"22\", \"23\", \"24\", \"25\", \"26\", \"27\", \"28\", \"29\", \"30\", \"31\", \"32\", \"33\", \"34\", \"35\", \"36\", \"37\", \"38\", \"39\", \"40\", \"41\", \"42\", \"43\", \"44\", \"45\", \"46\", \"47\", \"48\", \"49\", \"50\", \"51\", \"52\", \"54\", \"55\"], \"mode\": \"markers\", \"name\": \"log_loss\", \"stepped\": false, \"type\": \"scatter\", \"data\": [0.4447593770038257, 0.4790528690992572, 0.5301527420855237, 0.5728530235220163, 0.7758749427176689, 0.543702325328188, 0.4969428512865681, 0.554254904799146, 0.5761654215579732, 0.5805840099748808, 0.5614800974376637, 0.9817657885646641, 0.5311806518414857, 0.924007232878746, 0.5600153725035838, 1.0737405216263112, 0.9756630179835596, 0.6721845445683643, 0.5096833648549285, 0.9950776592062404, 0.9813396116687931, 0.44603011477136195, 0.48265252462427316, 0.4801196758941408, 0.5206121206568762, 0.5589553802096691, 0.47622870817215074, 0.5316009550717465, 0.4283698425974744, 0.45563735261488864, 0.6029221069225611, 0.44471014408422, 0.4745530024768976, 0.4790364786953874, 0.4508241060784408, 0.4916324372193884, 0.45860898800461775, 0.4255735294319096, 0.4545107473924362, 0.4255526598328912, 0.7593731764667945, 0.42459403819955743, 0.458201642261558, 0.4221430520775695, 0.5082476347070967, 0.4452215762703387, 0.5069424725008546, 0.44524428977351443, 0.5304233097602368, 0.47358381897850127, 0.45986834452614905, 0.4354038725392375, 0.4395155178330205, 0.4098261881128782, 0.43008416497224106]}, {\"categories\": [\"0\", \"1\", \"2\", \"3\", \"4\", \"5\", \"6\", \"7\", \"8\", \"9\", \"10\", \"11\", \"12\", \"13\", \"14\", \"15\", \"16\", \"17\", \"18\", \"19\", \"20\", \"21\", \"22\", \"23\", \"24\", \"25\", \"26\", \"27\", \"28\", \"29\", \"30\", \"31\", \"32\", \"33\", \"34\", \"35\", \"36\", \"37\", \"38\", \"39\", \"40\", \"41\", \"42\", \"43\", \"44\", \"45\", \"46\", \"47\", \"48\", \"49\", \"50\", \"51\", \"52\", \"54\", \"55\"], \"mode\": \"lines\", \"name\": \"log_loss_min\", \"stepped\": true, \"type\": \"scatter\", \"data\": [0.4447593770038257, 0.4447593770038257, 0.4447593770038257, 0.4447593770038257, 0.4447593770038257, 0.4447593770038257, 0.4447593770038257, 0.4447593770038257, 0.4447593770038257, 0.4447593770038257, 0.4447593770038257, 0.4447593770038257, 0.4447593770038257, 0.4447593770038257, 0.4447593770038257, 0.4447593770038257, 0.4447593770038257, 0.4447593770038257, 0.4447593770038257, 0.4447593770038257, 0.4447593770038257, 0.4447593770038257, 0.4447593770038257, 0.4447593770038257, 0.4447593770038257, 0.4447593770038257, 0.4447593770038257, 0.4447593770038257, 0.4283698425974744, 0.4283698425974744, 0.4283698425974744, 0.4283698425974744, 0.4283698425974744, 0.4283698425974744, 0.4283698425974744, 0.4283698425974744, 0.4283698425974744, 0.4255735294319096, 0.4255735294319096, 0.4255526598328912, 0.4255526598328912, 0.42459403819955743, 0.42459403819955743, 0.4221430520775695, 0.4221430520775695, 0.4221430520775695, 0.4221430520775695, 0.4221430520775695, 0.4221430520775695, 0.4221430520775695, 0.4221430520775695, 0.4221430520775695, 0.4221430520775695, 0.4098261881128782, 0.4098261881128782]}], \"average_precision_score_weighted\": [{\"categories\": [\"0\", \"1\", \"2\", \"3\", \"4\", \"5\", \"6\", \"7\", \"8\", \"9\", \"10\", \"11\", \"12\", \"13\", \"14\", \"15\", \"16\", \"17\", \"18\", \"19\", \"20\", \"21\", \"22\", \"23\", \"24\", \"25\", \"26\", \"27\", \"28\", \"29\", \"30\", \"31\", \"32\", \"33\", \"34\", \"35\", \"36\", \"37\", \"38\", \"39\", \"40\", \"41\", \"42\", \"43\", \"44\", \"45\", \"46\", \"47\", \"48\", \"49\", \"50\", \"51\", \"52\", \"54\", \"55\"], \"mode\": \"markers\", \"name\": \"average_precision_score_weighted\", \"stepped\": false, \"type\": \"scatter\", \"data\": [0.8652937617572968, 0.8334950810836678, 0.8046251587312887, 0.7948260706563314, 0.8195632297397136, 0.7945103984054401, 0.8284915580237868, 0.7836280832855048, 0.7929253548048921, 0.789097581842769, 0.7888252959052363, 0.7585055856103325, 0.792160090079176, 0.7784210495614804, 0.7976487354282065, 0.7534373403799773, 0.7819665007307264, 0.8236903748279989, 0.817975008823031, 0.7638193378802104, 0.7914418943274547, 0.8569268921481846, 0.8306935623843316, 0.8320767811470645, 0.8398785063910279, 0.806178798118283, 0.83480701951163, 0.8088720864990694, 0.8723066839224277, 0.8543614446479632, 0.8004304270709034, 0.8613948174504072, 0.8813855599372592, 0.8794013661209797, 0.8559452864018736, 0.8812495180840142, 0.8515832849773329, 0.8789499105223709, 0.8711411654976718, 0.8743303019848693, 0.6263518341386188, 0.8730928312388498, 0.8609803925402996, 0.8741072973970253, 0.844095120180044, 0.8590929661153525, 0.8213109226676689, 0.8635244948389263, 0.7912223752427915, 0.8374624828342241, 0.8474051858364492, 0.8707056326571386, 0.861723155606395, 0.8856530311233096, 0.8816684587986076]}, {\"categories\": [\"0\", \"1\", \"2\", \"3\", \"4\", \"5\", \"6\", \"7\", \"8\", \"9\", \"10\", \"11\", \"12\", \"13\", \"14\", \"15\", \"16\", \"17\", \"18\", \"19\", \"20\", \"21\", \"22\", \"23\", \"24\", \"25\", \"26\", \"27\", \"28\", \"29\", \"30\", \"31\", \"32\", \"33\", \"34\", \"35\", \"36\", \"37\", \"38\", \"39\", \"40\", \"41\", \"42\", \"43\", \"44\", \"45\", \"46\", \"47\", \"48\", \"49\", \"50\", \"51\", \"52\", \"54\", \"55\"], \"mode\": \"lines\", \"name\": \"average_precision_score_weighted_max\", \"stepped\": true, \"type\": \"scatter\", \"data\": [0.8652937617572968, 0.8652937617572968, 0.8652937617572968, 0.8652937617572968, 0.8652937617572968, 0.8652937617572968, 0.8652937617572968, 0.8652937617572968, 0.8652937617572968, 0.8652937617572968, 0.8652937617572968, 0.8652937617572968, 0.8652937617572968, 0.8652937617572968, 0.8652937617572968, 0.8652937617572968, 0.8652937617572968, 0.8652937617572968, 0.8652937617572968, 0.8652937617572968, 0.8652937617572968, 0.8652937617572968, 0.8652937617572968, 0.8652937617572968, 0.8652937617572968, 0.8652937617572968, 0.8652937617572968, 0.8652937617572968, 0.8723066839224277, 0.8723066839224277, 0.8723066839224277, 0.8723066839224277, 0.8813855599372592, 0.8813855599372592, 0.8813855599372592, 0.8813855599372592, 0.8813855599372592, 0.8813855599372592, 0.8813855599372592, 0.8813855599372592, 0.8813855599372592, 0.8813855599372592, 0.8813855599372592, 0.8813855599372592, 0.8813855599372592, 0.8813855599372592, 0.8813855599372592, 0.8813855599372592, 0.8813855599372592, 0.8813855599372592, 0.8813855599372592, 0.8813855599372592, 0.8813855599372592, 0.8856530311233096, 0.8856530311233096]}], \"AUC_weighted\": [{\"categories\": [\"0\", \"1\", \"2\", \"3\", \"4\", \"5\", \"6\", \"7\", \"8\", \"9\", \"10\", \"11\", \"12\", \"13\", \"14\", \"15\", \"16\", \"17\", \"18\", \"19\", \"20\", \"21\", \"22\", \"23\", \"24\", \"25\", \"26\", \"27\", \"28\", \"29\", \"30\", \"31\", \"32\", \"33\", \"34\", \"35\", \"36\", \"37\", \"38\", \"39\", \"40\", \"41\", \"42\", \"43\", \"44\", \"45\", \"46\", \"47\", \"48\", \"49\", \"50\", \"51\", \"52\", \"54\", \"55\"], \"mode\": \"markers\", \"name\": \"AUC_weighted\", \"stepped\": false, \"type\": \"scatter\", \"data\": [0.8509991226746418, 0.815878141228842, 0.7795640848065487, 0.7647462983008954, 0.7936691690771481, 0.7695146189897736, 0.8081677478548676, 0.7571974507383364, 0.7623761023242794, 0.7578613216301305, 0.7579535281258556, 0.7229189578621765, 0.7646109688882053, 0.739046866942207, 0.7685376770133973, 0.7145976285150765, 0.7425957183086508, 0.8008902333820019, 0.7969388988357172, 0.7296130056872584, 0.7556984017314314, 0.8412165194702528, 0.8118876888835281, 0.8132876068761455, 0.8178728797337201, 0.785221247778074, 0.8169665969507354, 0.7889503652584698, 0.8570315053575616, 0.8375752537154962, 0.7765291162904827, 0.8466891391882259, 0.8649088897823748, 0.8647805094792894, 0.8407110116603369, 0.8666242658399574, 0.8367471182944706, 0.8638387607559332, 0.8565718829566413, 0.8606588501533787, 0.5, 0.8587335098877452, 0.8472162305417555, 0.8602980063520064, 0.8227736322098359, 0.8448566389305988, 0.7996049257928052, 0.8476946444767296, 0.7651505547199086, 0.8202546605478552, 0.8310157724013325, 0.8557024955600694, 0.8465759944820733, 0.8727816474268066, 0.8694262997633778]}, {\"categories\": [\"0\", \"1\", \"2\", \"3\", \"4\", \"5\", \"6\", \"7\", \"8\", \"9\", \"10\", \"11\", \"12\", \"13\", \"14\", \"15\", \"16\", \"17\", \"18\", \"19\", \"20\", \"21\", \"22\", \"23\", \"24\", \"25\", \"26\", \"27\", \"28\", \"29\", \"30\", \"31\", \"32\", \"33\", \"34\", \"35\", \"36\", \"37\", \"38\", \"39\", \"40\", \"41\", \"42\", \"43\", \"44\", \"45\", \"46\", \"47\", \"48\", \"49\", \"50\", \"51\", \"52\", \"54\", \"55\"], \"mode\": \"lines\", \"name\": \"AUC_weighted_max\", \"stepped\": true, \"type\": \"scatter\", \"data\": [0.8509991226746418, 0.8509991226746418, 0.8509991226746418, 0.8509991226746418, 0.8509991226746418, 0.8509991226746418, 0.8509991226746418, 0.8509991226746418, 0.8509991226746418, 0.8509991226746418, 0.8509991226746418, 0.8509991226746418, 0.8509991226746418, 0.8509991226746418, 0.8509991226746418, 0.8509991226746418, 0.8509991226746418, 0.8509991226746418, 0.8509991226746418, 0.8509991226746418, 0.8509991226746418, 0.8509991226746418, 0.8509991226746418, 0.8509991226746418, 0.8509991226746418, 0.8509991226746418, 0.8509991226746418, 0.8509991226746418, 0.8570315053575616, 0.8570315053575616, 0.8570315053575616, 0.8570315053575616, 0.8649088897823748, 0.8649088897823748, 0.8649088897823748, 0.8666242658399574, 0.8666242658399574, 0.8666242658399574, 0.8666242658399574, 0.8666242658399574, 0.8666242658399574, 0.8666242658399574, 0.8666242658399574, 0.8666242658399574, 0.8666242658399574, 0.8666242658399574, 0.8666242658399574, 0.8666242658399574, 0.8666242658399574, 0.8666242658399574, 0.8666242658399574, 0.8666242658399574, 0.8666242658399574, 0.8727816474268066, 0.8727816474268066]}], \"recall_score_macro\": [{\"categories\": [\"0\", \"1\", \"2\", \"3\", \"4\", \"5\", \"6\", \"7\", \"8\", \"9\", \"10\", \"11\", \"12\", \"13\", \"14\", \"15\", \"16\", \"17\", \"18\", \"19\", \"20\", \"21\", \"22\", \"23\", \"24\", \"25\", \"26\", \"27\", \"28\", \"29\", \"30\", \"31\", \"32\", \"33\", \"34\", \"35\", \"36\", \"37\", \"38\", \"39\", \"40\", \"41\", \"42\", \"43\", \"44\", \"45\", \"46\", \"47\", \"48\", \"49\", \"50\", \"51\", \"52\", \"54\", \"55\"], \"mode\": \"markers\", \"name\": \"recall_score_macro\", \"stepped\": false, \"type\": \"scatter\", \"data\": [0.536187640352255, 0.4587746183338653, 0.3769589586455362, 0.3333333333333333, 0.6362655805276204, 0.36694214032515515, 0.4186499366557937, 0.34934763732642016, 0.3333333333333333, 0.3333333333333333, 0.33829653137779564, 0.5623596909598664, 0.4139765383607867, 0.5886397098110088, 0.3333333333333333, 0.5461318862872623, 0.6092148981450779, 0.4157733762556426, 0.4050262687605016, 0.5739940086479683, 0.6118930721816059, 0.5239422378894639, 0.4497267532666809, 0.45298621909270875, 0.42864588417498334, 0.3369185509548524, 0.47256443329753783, 0.3682977546341511, 0.50554535478767, 0.47858591433158565, 0.3333333333333333, 0.4904028684669461, 0.5575456006804647, 0.5619996588573354, 0.4880252697954091, 0.5616324133332941, 0.4736930219966937, 0.5513935683708714, 0.5604262783436323, 0.5402553217776255, 0.3333333333333333, 0.5282577661095749, 0.5391459080644948, 0.5286523389466264, 0.4508896534280821, 0.49545461919087036, 0.4168913256426207, 0.5092091064911022, 0.4091859673307046, 0.46532551572463204, 0.47487091872967424, 0.4871209821569391, 0.5039469708415778, 0.5517990969211694, 0.5497616943599901]}, {\"categories\": [\"0\", \"1\", \"2\", \"3\", \"4\", \"5\", \"6\", \"7\", \"8\", \"9\", \"10\", \"11\", \"12\", \"13\", \"14\", \"15\", \"16\", \"17\", \"18\", \"19\", \"20\", \"21\", \"22\", \"23\", \"24\", \"25\", \"26\", \"27\", \"28\", \"29\", \"30\", \"31\", \"32\", \"33\", \"34\", \"35\", \"36\", \"37\", \"38\", \"39\", \"40\", \"41\", \"42\", \"43\", \"44\", \"45\", \"46\", \"47\", \"48\", \"49\", \"50\", \"51\", \"52\", \"54\", \"55\"], \"mode\": \"lines\", \"name\": \"recall_score_macro_max\", \"stepped\": true, \"type\": \"scatter\", \"data\": [0.536187640352255, 0.536187640352255, 0.536187640352255, 0.536187640352255, 0.6362655805276204, 0.6362655805276204, 0.6362655805276204, 0.6362655805276204, 0.6362655805276204, 0.6362655805276204, 0.6362655805276204, 0.6362655805276204, 0.6362655805276204, 0.6362655805276204, 0.6362655805276204, 0.6362655805276204, 0.6362655805276204, 0.6362655805276204, 0.6362655805276204, 0.6362655805276204, 0.6362655805276204, 0.6362655805276204, 0.6362655805276204, 0.6362655805276204, 0.6362655805276204, 0.6362655805276204, 0.6362655805276204, 0.6362655805276204, 0.6362655805276204, 0.6362655805276204, 0.6362655805276204, 0.6362655805276204, 0.6362655805276204, 0.6362655805276204, 0.6362655805276204, 0.6362655805276204, 0.6362655805276204, 0.6362655805276204, 0.6362655805276204, 0.6362655805276204, 0.6362655805276204, 0.6362655805276204, 0.6362655805276204, 0.6362655805276204, 0.6362655805276204, 0.6362655805276204, 0.6362655805276204, 0.6362655805276204, 0.6362655805276204, 0.6362655805276204, 0.6362655805276204, 0.6362655805276204, 0.6362655805276204, 0.6362655805276204, 0.6362655805276204]}], \"AUC_macro\": [{\"categories\": [\"0\", \"1\", \"2\", \"3\", \"4\", \"5\", \"6\", \"7\", \"8\", \"9\", \"10\", \"11\", \"12\", \"13\", \"14\", \"15\", \"16\", \"17\", \"18\", \"19\", \"20\", \"21\", \"22\", \"23\", \"24\", \"25\", \"26\", \"27\", \"28\", \"29\", \"30\", \"31\", \"32\", \"33\", \"34\", \"35\", \"36\", \"37\", \"38\", \"39\", \"40\", \"41\", \"42\", \"43\", \"44\", \"45\", \"46\", \"47\", \"48\", \"49\", \"50\", \"51\", \"52\", \"54\", \"55\"], \"mode\": \"markers\", \"name\": \"AUC_macro\", \"stepped\": false, \"type\": \"scatter\", \"data\": [0.8528276163614606, 0.8270322518723088, 0.7829922257823726, 0.7853354453996926, 0.8182871754995323, 0.7615343302193299, 0.8202382950645616, 0.7551048712355523, 0.7739808097220534, 0.774868425021566, 0.7694630697373785, 0.7400079226378887, 0.7754058349018185, 0.769393270833358, 0.7751282149592004, 0.7147006617617283, 0.7683693683737726, 0.7815918298677195, 0.8047538943958927, 0.7481042013454188, 0.7814550821416072, 0.8478111712044291, 0.820791139678998, 0.8236193278013507, 0.8150746792886849, 0.7823116545820414, 0.8283158151779481, 0.7890419416240751, 0.8593146328455052, 0.8419625542458086, 0.776048036404423, 0.8507145365330014, 0.8653077505790764, 0.8636006834101025, 0.8441561076109334, 0.8641818442405812, 0.8413982775892964, 0.8649885062278111, 0.8586965621824266, 0.8646862011741416, 0.5, 0.8619361216891765, 0.8483978366217748, 0.8644352636459848, 0.8165400280954773, 0.8457132664786524, 0.8099061226847523, 0.8508847479028478, 0.7761037602389663, 0.8326232075269119, 0.8429155049381886, 0.8565510018427197, 0.8540007879482272, 0.8784086843444859, 0.875543747838424]}, {\"categories\": [\"0\", \"1\", \"2\", \"3\", \"4\", \"5\", \"6\", \"7\", \"8\", \"9\", \"10\", \"11\", \"12\", \"13\", \"14\", \"15\", \"16\", \"17\", \"18\", \"19\", \"20\", \"21\", \"22\", \"23\", \"24\", \"25\", \"26\", \"27\", \"28\", \"29\", \"30\", \"31\", \"32\", \"33\", \"34\", \"35\", \"36\", \"37\", \"38\", \"39\", \"40\", \"41\", \"42\", \"43\", \"44\", \"45\", \"46\", \"47\", \"48\", \"49\", \"50\", \"51\", \"52\", \"54\", \"55\"], \"mode\": \"lines\", \"name\": \"AUC_macro_max\", \"stepped\": true, \"type\": \"scatter\", \"data\": [0.8528276163614606, 0.8528276163614606, 0.8528276163614606, 0.8528276163614606, 0.8528276163614606, 0.8528276163614606, 0.8528276163614606, 0.8528276163614606, 0.8528276163614606, 0.8528276163614606, 0.8528276163614606, 0.8528276163614606, 0.8528276163614606, 0.8528276163614606, 0.8528276163614606, 0.8528276163614606, 0.8528276163614606, 0.8528276163614606, 0.8528276163614606, 0.8528276163614606, 0.8528276163614606, 0.8528276163614606, 0.8528276163614606, 0.8528276163614606, 0.8528276163614606, 0.8528276163614606, 0.8528276163614606, 0.8528276163614606, 0.8593146328455052, 0.8593146328455052, 0.8593146328455052, 0.8593146328455052, 0.8653077505790764, 0.8653077505790764, 0.8653077505790764, 0.8653077505790764, 0.8653077505790764, 0.8653077505790764, 0.8653077505790764, 0.8653077505790764, 0.8653077505790764, 0.8653077505790764, 0.8653077505790764, 0.8653077505790764, 0.8653077505790764, 0.8653077505790764, 0.8653077505790764, 0.8653077505790764, 0.8653077505790764, 0.8653077505790764, 0.8653077505790764, 0.8653077505790764, 0.8653077505790764, 0.8784086843444859, 0.8784086843444859]}], \"precision_score_macro\": [{\"categories\": [\"0\", \"1\", \"2\", \"3\", \"4\", \"5\", \"6\", \"7\", \"8\", \"9\", \"10\", \"11\", \"12\", \"13\", \"14\", \"15\", \"16\", \"17\", \"18\", \"19\", \"20\", \"21\", \"22\", \"23\", \"24\", \"25\", \"26\", \"27\", \"28\", \"29\", \"30\", \"31\", \"32\", \"33\", \"34\", \"35\", \"36\", \"37\", \"38\", \"39\", \"40\", \"41\", \"42\", \"43\", \"44\", \"45\", \"46\", \"47\", \"48\", \"49\", \"50\", \"51\", \"52\", \"54\", \"55\"], \"mode\": \"markers\", \"name\": \"precision_score_macro\", \"stepped\": false, \"type\": \"scatter\", \"data\": [0.7433950409467078, 0.6869336929512228, 0.48319698570056335, 0.2552250137134297, 0.4967075086617558, 0.49601744827773314, 0.5001411611039056, 0.40348708931975125, 0.2552250137134297, 0.2552250137134297, 0.32385280280689305, 0.44401296431188403, 0.5756883018673427, 0.45250555401565684, 0.2552250137134297, 0.44394443374543013, 0.46201090710011944, 0.5106135140117903, 0.4939127725181098, 0.4499343561724621, 0.46607689199923935, 0.7036335823718242, 0.5932872693923601, 0.607414706004263, 0.7233813866925, 0.5053600587419346, 0.6547346138955424, 0.4877703432278145, 0.6764795421026131, 0.6857872071293042, 0.2552250137134297, 0.7264809341085915, 0.7595839970656719, 0.7485098100801612, 0.7226647432157792, 0.7333502325814747, 0.6353261153334744, 0.7665577113415578, 0.7208841305134485, 0.7253157750699204, 0.2552250137134297, 0.7344158518801832, 0.7102500452775514, 0.7392053052947358, 0.5124324931190923, 0.6897246945590133, 0.5773205497326123, 0.6943904320748554, 0.5772361733014527, 0.6755244335972258, 0.6383381168449055, 0.6846394969146748, 0.717228715100978, 0.7613337911194766, 0.7557847369183075]}, {\"categories\": [\"0\", \"1\", \"2\", \"3\", \"4\", \"5\", \"6\", \"7\", \"8\", \"9\", \"10\", \"11\", \"12\", \"13\", \"14\", \"15\", \"16\", \"17\", \"18\", \"19\", \"20\", \"21\", \"22\", \"23\", \"24\", \"25\", \"26\", \"27\", \"28\", \"29\", \"30\", \"31\", \"32\", \"33\", \"34\", \"35\", \"36\", \"37\", \"38\", \"39\", \"40\", \"41\", \"42\", \"43\", \"44\", \"45\", \"46\", \"47\", \"48\", \"49\", \"50\", \"51\", \"52\", \"54\", \"55\"], \"mode\": \"lines\", \"name\": \"precision_score_macro_max\", \"stepped\": true, \"type\": \"scatter\", \"data\": [0.7433950409467078, 0.7433950409467078, 0.7433950409467078, 0.7433950409467078, 0.7433950409467078, 0.7433950409467078, 0.7433950409467078, 0.7433950409467078, 0.7433950409467078, 0.7433950409467078, 0.7433950409467078, 0.7433950409467078, 0.7433950409467078, 0.7433950409467078, 0.7433950409467078, 0.7433950409467078, 0.7433950409467078, 0.7433950409467078, 0.7433950409467078, 0.7433950409467078, 0.7433950409467078, 0.7433950409467078, 0.7433950409467078, 0.7433950409467078, 0.7433950409467078, 0.7433950409467078, 0.7433950409467078, 0.7433950409467078, 0.7433950409467078, 0.7433950409467078, 0.7433950409467078, 0.7433950409467078, 0.7595839970656719, 0.7595839970656719, 0.7595839970656719, 0.7595839970656719, 0.7595839970656719, 0.7665577113415578, 0.7665577113415578, 0.7665577113415578, 0.7665577113415578, 0.7665577113415578, 0.7665577113415578, 0.7665577113415578, 0.7665577113415578, 0.7665577113415578, 0.7665577113415578, 0.7665577113415578, 0.7665577113415578, 0.7665577113415578, 0.7665577113415578, 0.7665577113415578, 0.7665577113415578, 0.7665577113415578, 0.7665577113415578]}], \"balanced_accuracy\": [{\"categories\": [\"0\", \"1\", \"2\", \"3\", \"4\", \"5\", \"6\", \"7\", \"8\", \"9\", \"10\", \"11\", \"12\", \"13\", \"14\", \"15\", \"16\", \"17\", \"18\", \"19\", \"20\", \"21\", \"22\", \"23\", \"24\", \"25\", \"26\", \"27\", \"28\", \"29\", \"30\", \"31\", \"32\", \"33\", \"34\", \"35\", \"36\", \"37\", \"38\", \"39\", \"40\", \"41\", \"42\", \"43\", \"44\", \"45\", \"46\", \"47\", \"48\", \"49\", \"50\", \"51\", \"52\", \"54\", \"55\"], \"mode\": \"markers\", \"name\": \"balanced_accuracy\", \"stepped\": false, \"type\": \"scatter\", \"data\": [0.536187640352255, 0.4587746183338653, 0.3769589586455362, 0.3333333333333333, 0.6362655805276204, 0.36694214032515515, 0.4186499366557937, 0.34934763732642016, 0.3333333333333333, 0.3333333333333333, 0.33829653137779564, 0.5623596909598664, 0.4139765383607867, 0.5886397098110088, 0.3333333333333333, 0.5461318862872623, 0.6092148981450779, 0.4157733762556426, 0.4050262687605016, 0.5739940086479683, 0.6118930721816059, 0.5239422378894639, 0.4497267532666809, 0.45298621909270875, 0.42864588417498334, 0.3369185509548524, 0.47256443329753783, 0.3682977546341511, 0.50554535478767, 0.47858591433158565, 0.3333333333333333, 0.4904028684669461, 0.5575456006804647, 0.5619996588573354, 0.4880252697954091, 0.5616324133332941, 0.4736930219966937, 0.5513935683708714, 0.5604262783436323, 0.5402553217776255, 0.3333333333333333, 0.5282577661095749, 0.5391459080644948, 0.5286523389466264, 0.4508896534280821, 0.49545461919087036, 0.4168913256426207, 0.5092091064911022, 0.4091859673307046, 0.46532551572463204, 0.47487091872967424, 0.4871209821569391, 0.5039469708415778, 0.5517990969211694, 0.5497616943599901]}, {\"categories\": [\"0\", \"1\", \"2\", \"3\", \"4\", \"5\", \"6\", \"7\", \"8\", \"9\", \"10\", \"11\", \"12\", \"13\", \"14\", \"15\", \"16\", \"17\", \"18\", \"19\", \"20\", \"21\", \"22\", \"23\", \"24\", \"25\", \"26\", \"27\", \"28\", \"29\", \"30\", \"31\", \"32\", \"33\", \"34\", \"35\", \"36\", \"37\", \"38\", \"39\", \"40\", \"41\", \"42\", \"43\", \"44\", \"45\", \"46\", \"47\", \"48\", \"49\", \"50\", \"51\", \"52\", \"54\", \"55\"], \"mode\": \"lines\", \"name\": \"balanced_accuracy_max\", \"stepped\": true, \"type\": \"scatter\", \"data\": [0.536187640352255, 0.536187640352255, 0.536187640352255, 0.536187640352255, 0.6362655805276204, 0.6362655805276204, 0.6362655805276204, 0.6362655805276204, 0.6362655805276204, 0.6362655805276204, 0.6362655805276204, 0.6362655805276204, 0.6362655805276204, 0.6362655805276204, 0.6362655805276204, 0.6362655805276204, 0.6362655805276204, 0.6362655805276204, 0.6362655805276204, 0.6362655805276204, 0.6362655805276204, 0.6362655805276204, 0.6362655805276204, 0.6362655805276204, 0.6362655805276204, 0.6362655805276204, 0.6362655805276204, 0.6362655805276204, 0.6362655805276204, 0.6362655805276204, 0.6362655805276204, 0.6362655805276204, 0.6362655805276204, 0.6362655805276204, 0.6362655805276204, 0.6362655805276204, 0.6362655805276204, 0.6362655805276204, 0.6362655805276204, 0.6362655805276204, 0.6362655805276204, 0.6362655805276204, 0.6362655805276204, 0.6362655805276204, 0.6362655805276204, 0.6362655805276204, 0.6362655805276204, 0.6362655805276204, 0.6362655805276204, 0.6362655805276204, 0.6362655805276204, 0.6362655805276204, 0.6362655805276204, 0.6362655805276204, 0.6362655805276204]}], \"f1_score_weighted\": [{\"categories\": [\"0\", \"1\", \"2\", \"3\", \"4\", \"5\", \"6\", \"7\", \"8\", \"9\", \"10\", \"11\", \"12\", \"13\", \"14\", \"15\", \"16\", \"17\", \"18\", \"19\", \"20\", \"21\", \"22\", \"23\", \"24\", \"25\", \"26\", \"27\", \"28\", \"29\", \"30\", \"31\", \"32\", \"33\", \"34\", \"35\", \"36\", \"37\", \"38\", \"39\", \"40\", \"41\", \"42\", \"43\", \"44\", \"45\", \"46\", \"47\", \"48\", \"49\", \"50\", \"51\", \"52\", \"54\", \"55\"], \"mode\": \"markers\", \"name\": \"f1_score_weighted\", \"stepped\": false, \"type\": \"scatter\", \"data\": [0.8179750173117911, 0.7735690336400697, 0.7160237535307035, 0.6640791280427096, 0.6750808183886415, 0.7055517033596367, 0.7532244053297067, 0.6845451025016525, 0.6640791280427096, 0.6640791280427096, 0.6705497289004875, 0.523153893972542, 0.7428305975766185, 0.5596053540479436, 0.6640791280427096, 0.5391358431436449, 0.5660708586877293, 0.7532611674836645, 0.7414878287724663, 0.5625914248155918, 0.6037548637662454, 0.8077082336452365, 0.773333988474722, 0.7726837180394425, 0.7554594711941808, 0.669117639482245, 0.776282488450725, 0.7071970940459651, 0.8111372640333259, 0.7933512620020856, 0.6640791280427096, 0.7984080044378343, 0.8280348436086271, 0.8312005466880565, 0.796674566649212, 0.8309375011777963, 0.7889989346270996, 0.8286873701247487, 0.8292987758572626, 0.8225072819168119, 0.6640791280427096, 0.8195816635954228, 0.8157885482962145, 0.8225103439472635, 0.7779331863756341, 0.8007151646711076, 0.7490002084537469, 0.8055260078544642, 0.7392144678826469, 0.7764559637340037, 0.786291736040277, 0.8053146527901255, 0.8046301780961902, 0.8305387395292554, 0.8293922004708402]}, {\"categories\": [\"0\", \"1\", \"2\", \"3\", \"4\", \"5\", \"6\", \"7\", \"8\", \"9\", \"10\", \"11\", \"12\", \"13\", \"14\", \"15\", \"16\", \"17\", \"18\", \"19\", \"20\", \"21\", \"22\", \"23\", \"24\", \"25\", \"26\", \"27\", \"28\", \"29\", \"30\", \"31\", \"32\", \"33\", \"34\", \"35\", \"36\", \"37\", \"38\", \"39\", \"40\", \"41\", \"42\", \"43\", \"44\", \"45\", \"46\", \"47\", \"48\", \"49\", \"50\", \"51\", \"52\", \"54\", \"55\"], \"mode\": \"lines\", \"name\": \"f1_score_weighted_max\", \"stepped\": true, \"type\": \"scatter\", \"data\": [0.8179750173117911, 0.8179750173117911, 0.8179750173117911, 0.8179750173117911, 0.8179750173117911, 0.8179750173117911, 0.8179750173117911, 0.8179750173117911, 0.8179750173117911, 0.8179750173117911, 0.8179750173117911, 0.8179750173117911, 0.8179750173117911, 0.8179750173117911, 0.8179750173117911, 0.8179750173117911, 0.8179750173117911, 0.8179750173117911, 0.8179750173117911, 0.8179750173117911, 0.8179750173117911, 0.8179750173117911, 0.8179750173117911, 0.8179750173117911, 0.8179750173117911, 0.8179750173117911, 0.8179750173117911, 0.8179750173117911, 0.8179750173117911, 0.8179750173117911, 0.8179750173117911, 0.8179750173117911, 0.8280348436086271, 0.8312005466880565, 0.8312005466880565, 0.8312005466880565, 0.8312005466880565, 0.8312005466880565, 0.8312005466880565, 0.8312005466880565, 0.8312005466880565, 0.8312005466880565, 0.8312005466880565, 0.8312005466880565, 0.8312005466880565, 0.8312005466880565, 0.8312005466880565, 0.8312005466880565, 0.8312005466880565, 0.8312005466880565, 0.8312005466880565, 0.8312005466880565, 0.8312005466880565, 0.8312005466880565, 0.8312005466880565]}], \"norm_macro_recall\": [{\"categories\": [\"0\", \"1\", \"2\", \"3\", \"4\", \"5\", \"6\", \"7\", \"8\", \"9\", \"10\", \"11\", \"12\", \"13\", \"14\", \"15\", \"16\", \"17\", \"18\", \"19\", \"20\", \"21\", \"22\", \"23\", \"24\", \"25\", \"26\", \"27\", \"28\", \"29\", \"30\", \"31\", \"32\", \"33\", \"34\", \"35\", \"36\", \"37\", \"38\", \"39\", \"40\", \"41\", \"42\", \"43\", \"44\", \"45\", \"46\", \"47\", \"48\", \"49\", \"50\", \"51\", \"52\", \"54\", \"55\"], \"mode\": \"markers\", \"name\": \"norm_macro_recall\", \"stepped\": false, \"type\": \"scatter\", \"data\": [0.30428146052838245, 0.18816192750079788, 0.06543843796830427, 0.0, 0.45439837079143053, 0.05041321048773272, 0.12797490498369057, 0.024021455989630288, 0.0, 0.0, 0.007444797066693486, 0.3435395364397997, 0.12096480754118004, 0.3829595647165131, 0.0, 0.3191978294308933, 0.4138223472176168, 0.12366006438346393, 0.10753940314075237, 0.3609910129719524, 0.41783960827240896, 0.2859133568341959, 0.17459012990002132, 0.17947932863906313, 0.14296882626247498, 0.005377826432278631, 0.20884664994630675, 0.05244663195122664, 0.25831803218150506, 0.21787887149737847, 0.0, 0.2356043027004191, 0.336318401020697, 0.34299948828600296, 0.23203790469311367, 0.3424486199999411, 0.21053953299504058, 0.3270903525563072, 0.3406394175154485, 0.3103829826664381, 0.0, 0.29238664916436236, 0.3087188620967421, 0.2929785084199397, 0.17633448014212313, 0.2431819287863055, 0.12533698846393104, 0.2638136597366532, 0.11377895099605691, 0.19798827358694795, 0.2123063780945114, 0.23068147323540864, 0.25592045626236665, 0.3276986453817541, 0.3246425415399851]}, {\"categories\": [\"0\", \"1\", \"2\", \"3\", \"4\", \"5\", \"6\", \"7\", \"8\", \"9\", \"10\", \"11\", \"12\", \"13\", \"14\", \"15\", \"16\", \"17\", \"18\", \"19\", \"20\", \"21\", \"22\", \"23\", \"24\", \"25\", \"26\", \"27\", \"28\", \"29\", \"30\", \"31\", \"32\", \"33\", \"34\", \"35\", \"36\", \"37\", \"38\", \"39\", \"40\", \"41\", \"42\", \"43\", \"44\", \"45\", \"46\", \"47\", \"48\", \"49\", \"50\", \"51\", \"52\", \"54\", \"55\"], \"mode\": \"lines\", \"name\": \"norm_macro_recall_max\", \"stepped\": true, \"type\": \"scatter\", \"data\": [0.30428146052838245, 0.30428146052838245, 0.30428146052838245, 0.30428146052838245, 0.45439837079143053, 0.45439837079143053, 0.45439837079143053, 0.45439837079143053, 0.45439837079143053, 0.45439837079143053, 0.45439837079143053, 0.45439837079143053, 0.45439837079143053, 0.45439837079143053, 0.45439837079143053, 0.45439837079143053, 0.45439837079143053, 0.45439837079143053, 0.45439837079143053, 0.45439837079143053, 0.45439837079143053, 0.45439837079143053, 0.45439837079143053, 0.45439837079143053, 0.45439837079143053, 0.45439837079143053, 0.45439837079143053, 0.45439837079143053, 0.45439837079143053, 0.45439837079143053, 0.45439837079143053, 0.45439837079143053, 0.45439837079143053, 0.45439837079143053, 0.45439837079143053, 0.45439837079143053, 0.45439837079143053, 0.45439837079143053, 0.45439837079143053, 0.45439837079143053, 0.45439837079143053, 0.45439837079143053, 0.45439837079143053, 0.45439837079143053, 0.45439837079143053, 0.45439837079143053, 0.45439837079143053, 0.45439837079143053, 0.45439837079143053, 0.45439837079143053, 0.45439837079143053, 0.45439837079143053, 0.45439837079143053, 0.45439837079143053, 0.45439837079143053]}], \"f1_score_macro\": [{\"categories\": [\"0\", \"1\", \"2\", \"3\", \"4\", \"5\", \"6\", \"7\", \"8\", \"9\", \"10\", \"11\", \"12\", \"13\", \"14\", \"15\", \"16\", \"17\", \"18\", \"19\", \"20\", \"21\", \"22\", \"23\", \"24\", \"25\", \"26\", \"27\", \"28\", \"29\", \"30\", \"31\", \"32\", \"33\", \"34\", \"35\", \"36\", \"37\", \"38\", \"39\", \"40\", \"41\", \"42\", \"43\", \"44\", \"45\", \"46\", \"47\", \"48\", \"49\", \"50\", \"51\", \"52\", \"54\", \"55\"], \"mode\": \"markers\", \"name\": \"f1_score_macro\", \"stepped\": false, \"type\": \"scatter\", \"data\": [0.5730574682926842, 0.482635271718578, 0.37196879631647467, 0.28909031807928937, 0.5084551277704241, 0.3550111475174024, 0.42881554219973544, 0.32242707603598714, 0.28909031807928937, 0.28909031807928937, 0.3000310314261186, 0.3942118527135836, 0.4218533600801368, 0.4215056412735729, 0.28909031807928937, 0.3981420306737125, 0.4296316932869286, 0.4261848451881672, 0.41158521433945267, 0.4178624718260355, 0.4526833831625918, 0.5555282543537808, 0.46676051856882156, 0.4685808823879556, 0.4495422730069238, 0.2970168466974688, 0.5000646214548006, 0.35832723231146507, 0.5313976221100383, 0.49873661603747516, 0.28909031807928937, 0.5147094377001754, 0.5991362591006291, 0.6015443871498288, 0.5149077428257328, 0.6010649002714388, 0.4953694828256154, 0.5891745110372001, 0.5977186568401308, 0.5756767794093528, 0.28909031807928937, 0.5590163055198031, 0.5759008709749275, 0.5568283914394905, 0.4642928063263352, 0.522461038092287, 0.42814584277864687, 0.54217957581308, 0.4174224185111775, 0.4926259274903157, 0.49947263908473166, 0.5056332816949161, 0.5329240158453753, 0.591452419220296, 0.5855291814218869]}, {\"categories\": [\"0\", \"1\", \"2\", \"3\", \"4\", \"5\", \"6\", \"7\", \"8\", \"9\", \"10\", \"11\", \"12\", \"13\", \"14\", \"15\", \"16\", \"17\", \"18\", \"19\", \"20\", \"21\", \"22\", \"23\", \"24\", \"25\", \"26\", \"27\", \"28\", \"29\", \"30\", \"31\", \"32\", \"33\", \"34\", \"35\", \"36\", \"37\", \"38\", \"39\", \"40\", \"41\", \"42\", \"43\", \"44\", \"45\", \"46\", \"47\", \"48\", \"49\", \"50\", \"51\", \"52\", \"54\", \"55\"], \"mode\": \"lines\", \"name\": \"f1_score_macro_max\", \"stepped\": true, \"type\": \"scatter\", \"data\": [0.5730574682926842, 0.5730574682926842, 0.5730574682926842, 0.5730574682926842, 0.5730574682926842, 0.5730574682926842, 0.5730574682926842, 0.5730574682926842, 0.5730574682926842, 0.5730574682926842, 0.5730574682926842, 0.5730574682926842, 0.5730574682926842, 0.5730574682926842, 0.5730574682926842, 0.5730574682926842, 0.5730574682926842, 0.5730574682926842, 0.5730574682926842, 0.5730574682926842, 0.5730574682926842, 0.5730574682926842, 0.5730574682926842, 0.5730574682926842, 0.5730574682926842, 0.5730574682926842, 0.5730574682926842, 0.5730574682926842, 0.5730574682926842, 0.5730574682926842, 0.5730574682926842, 0.5730574682926842, 0.5991362591006291, 0.6015443871498288, 0.6015443871498288, 0.6015443871498288, 0.6015443871498288, 0.6015443871498288, 0.6015443871498288, 0.6015443871498288, 0.6015443871498288, 0.6015443871498288, 0.6015443871498288, 0.6015443871498288, 0.6015443871498288, 0.6015443871498288, 0.6015443871498288, 0.6015443871498288, 0.6015443871498288, 0.6015443871498288, 0.6015443871498288, 0.6015443871498288, 0.6015443871498288, 0.6015443871498288, 0.6015443871498288]}], \"AUC_micro\": [{\"categories\": [\"0\", \"1\", \"2\", \"3\", \"4\", \"5\", \"6\", \"7\", \"8\", \"9\", \"10\", \"11\", \"12\", \"13\", \"14\", \"15\", \"16\", \"17\", \"18\", \"19\", \"20\", \"21\", \"22\", \"23\", \"24\", \"25\", \"26\", \"27\", \"28\", \"29\", \"30\", \"31\", \"32\", \"33\", \"34\", \"35\", \"36\", \"37\", \"38\", \"39\", \"40\", \"41\", \"42\", \"43\", \"44\", \"45\", \"46\", \"47\", \"48\", \"49\", \"50\", \"51\", \"52\", \"54\", \"55\"], \"mode\": \"markers\", \"name\": \"AUC_micro\", \"stepped\": false, \"type\": \"scatter\", \"data\": [0.9461803344083554, 0.934968444613657, 0.9221880989649002, 0.9163484799275406, 0.837600803063341, 0.9181230536364667, 0.9319532107809018, 0.9148344438755425, 0.9154093405030755, 0.9148484533873255, 0.9147501908142802, 0.6927893370435191, 0.9212638572679114, 0.7392819819916941, 0.9168415556053932, 0.6926851001856148, 0.7270114138495684, 0.9287451883778778, 0.9277183469204875, 0.7230072488198217, 0.7545572998611467, 0.9434864248974123, 0.9338592157043933, 0.934529073611391, 0.9338725697459647, 0.9194636627106147, 0.9356950346033385, 0.9224118389783054, 0.9481642429264592, 0.9418872564886477, 0.9176480837614194, 0.9446086381759519, 0.9518749060459344, 0.9515136488444792, 0.9425557159889014, 0.9522200056115991, 0.9411299312157423, 0.9510750468688381, 0.9486001644716128, 0.9497786958184706, 0.863888027200304, 0.9492770786975241, 0.9453546535536002, 0.9496231325374126, 0.9365851785571412, 0.9440179492276473, 0.9284440553105847, 0.9448570769226459, 0.9212697385074673, 0.9363856960821941, 0.9399313028077639, 0.9472027438306818, 0.945068295288706, 0.9535617777137045, 0.9493362812637366]}, {\"categories\": [\"0\", \"1\", \"2\", \"3\", \"4\", \"5\", \"6\", \"7\", \"8\", \"9\", \"10\", \"11\", \"12\", \"13\", \"14\", \"15\", \"16\", \"17\", \"18\", \"19\", \"20\", \"21\", \"22\", \"23\", \"24\", \"25\", \"26\", \"27\", \"28\", \"29\", \"30\", \"31\", \"32\", \"33\", \"34\", \"35\", \"36\", \"37\", \"38\", \"39\", \"40\", \"41\", \"42\", \"43\", \"44\", \"45\", \"46\", \"47\", \"48\", \"49\", \"50\", \"51\", \"52\", \"54\", \"55\"], \"mode\": \"lines\", \"name\": \"AUC_micro_max\", \"stepped\": true, \"type\": \"scatter\", \"data\": [0.9461803344083554, 0.9461803344083554, 0.9461803344083554, 0.9461803344083554, 0.9461803344083554, 0.9461803344083554, 0.9461803344083554, 0.9461803344083554, 0.9461803344083554, 0.9461803344083554, 0.9461803344083554, 0.9461803344083554, 0.9461803344083554, 0.9461803344083554, 0.9461803344083554, 0.9461803344083554, 0.9461803344083554, 0.9461803344083554, 0.9461803344083554, 0.9461803344083554, 0.9461803344083554, 0.9461803344083554, 0.9461803344083554, 0.9461803344083554, 0.9461803344083554, 0.9461803344083554, 0.9461803344083554, 0.9461803344083554, 0.9481642429264592, 0.9481642429264592, 0.9481642429264592, 0.9481642429264592, 0.9518749060459344, 0.9518749060459344, 0.9518749060459344, 0.9522200056115991, 0.9522200056115991, 0.9522200056115991, 0.9522200056115991, 0.9522200056115991, 0.9522200056115991, 0.9522200056115991, 0.9522200056115991, 0.9522200056115991, 0.9522200056115991, 0.9522200056115991, 0.9522200056115991, 0.9522200056115991, 0.9522200056115991, 0.9522200056115991, 0.9522200056115991, 0.9522200056115991, 0.9522200056115991, 0.9535617777137045, 0.9535617777137045]}], \"f1_score_micro\": [{\"categories\": [\"0\", \"1\", \"2\", \"3\", \"4\", \"5\", \"6\", \"7\", \"8\", \"9\", \"10\", \"11\", \"12\", \"13\", \"14\", \"15\", \"16\", \"17\", \"18\", \"19\", \"20\", \"21\", \"22\", \"23\", \"24\", \"25\", \"26\", \"27\", \"28\", \"29\", \"30\", \"31\", \"32\", \"33\", \"34\", \"35\", \"36\", \"37\", \"38\", \"39\", \"40\", \"41\", \"42\", \"43\", \"44\", \"45\", \"46\", \"47\", \"48\", \"49\", \"50\", \"51\", \"52\", \"54\", \"55\"], \"mode\": \"markers\", \"name\": \"f1_score_micro\", \"stepped\": false, \"type\": \"scatter\", \"data\": [0.8353110154565567, 0.8041915238898532, 0.780464537028254, 0.765675041140289, 0.6407360358735912, 0.7781538585560265, 0.796642989458344, 0.7707598583583365, 0.765675041140289, 0.765675041140289, 0.7669073270306154, 0.46710742393853494, 0.7830847112517159, 0.5105501304781673, 0.765675041140289, 0.4808110497816723, 0.5153298672088041, 0.799723775398093, 0.7906341714643492, 0.5100924385331184, 0.5589275352658516, 0.8249901226275433, 0.8063480954118573, 0.8034209179248033, 0.7980287413735002, 0.7672158257867929, 0.8020348099399838, 0.7775385701780548, 0.83392497868567, 0.8200604805687087, 0.765675041140289, 0.8226793017274506, 0.8431685471417719, 0.8456334037781555, 0.8219086957624007, 0.8454790831861341, 0.8165166616389631, 0.8448623705295097, 0.8431681910721087, 0.8394710485453984, 0.765675041140289, 0.8382388338690046, 0.8319210898352365, 0.8416284034206615, 0.8109705205653018, 0.8242200863739546, 0.7923290630610768, 0.8268382666073028, 0.7826225328289107, 0.8057320948945592, 0.8132809853957316, 0.8320752679993927, 0.8268384802491006, 0.847173333857468, 0.8456331901363576]}, {\"categories\": [\"0\", \"1\", \"2\", \"3\", \"4\", \"5\", \"6\", \"7\", \"8\", \"9\", \"10\", \"11\", \"12\", \"13\", \"14\", \"15\", \"16\", \"17\", \"18\", \"19\", \"20\", \"21\", \"22\", \"23\", \"24\", \"25\", \"26\", \"27\", \"28\", \"29\", \"30\", \"31\", \"32\", \"33\", \"34\", \"35\", \"36\", \"37\", \"38\", \"39\", \"40\", \"41\", \"42\", \"43\", \"44\", \"45\", \"46\", \"47\", \"48\", \"49\", \"50\", \"51\", \"52\", \"54\", \"55\"], \"mode\": \"lines\", \"name\": \"f1_score_micro_max\", \"stepped\": true, \"type\": \"scatter\", \"data\": [0.8353110154565567, 0.8353110154565567, 0.8353110154565567, 0.8353110154565567, 0.8353110154565567, 0.8353110154565567, 0.8353110154565567, 0.8353110154565567, 0.8353110154565567, 0.8353110154565567, 0.8353110154565567, 0.8353110154565567, 0.8353110154565567, 0.8353110154565567, 0.8353110154565567, 0.8353110154565567, 0.8353110154565567, 0.8353110154565567, 0.8353110154565567, 0.8353110154565567, 0.8353110154565567, 0.8353110154565567, 0.8353110154565567, 0.8353110154565567, 0.8353110154565567, 0.8353110154565567, 0.8353110154565567, 0.8353110154565567, 0.8353110154565567, 0.8353110154565567, 0.8353110154565567, 0.8353110154565567, 0.8431685471417719, 0.8456334037781555, 0.8456334037781555, 0.8456334037781555, 0.8456334037781555, 0.8456334037781555, 0.8456334037781555, 0.8456334037781555, 0.8456334037781555, 0.8456334037781555, 0.8456334037781555, 0.8456334037781555, 0.8456334037781555, 0.8456334037781555, 0.8456334037781555, 0.8456334037781555, 0.8456334037781555, 0.8456334037781555, 0.8456334037781555, 0.8456334037781555, 0.8456334037781555, 0.847173333857468, 0.847173333857468]}], \"recall_score_micro\": [{\"categories\": [\"0\", \"1\", \"2\", \"3\", \"4\", \"5\", \"6\", \"7\", \"8\", \"9\", \"10\", \"11\", \"12\", \"13\", \"14\", \"15\", \"16\", \"17\", \"18\", \"19\", \"20\", \"21\", \"22\", \"23\", \"24\", \"25\", \"26\", \"27\", \"28\", \"29\", \"30\", \"31\", \"32\", \"33\", \"34\", \"35\", \"36\", \"37\", \"38\", \"39\", \"40\", \"41\", \"42\", \"43\", \"44\", \"45\", \"46\", \"47\", \"48\", \"49\", \"50\", \"51\", \"52\", \"54\", \"55\"], \"mode\": \"markers\", \"name\": \"recall_score_micro\", \"stepped\": false, \"type\": \"scatter\", \"data\": [0.8353110154565568, 0.8041915238898532, 0.780464537028254, 0.765675041140289, 0.6407360358735912, 0.7781538585560265, 0.796642989458344, 0.7707598583583365, 0.765675041140289, 0.765675041140289, 0.7669073270306154, 0.46710742393853494, 0.7830847112517159, 0.5105501304781673, 0.765675041140289, 0.4808110497816723, 0.5153298672088041, 0.799723775398093, 0.7906341714643492, 0.5100924385331184, 0.5589275352658516, 0.8249901226275433, 0.8063480954118573, 0.8034209179248033, 0.7980287413735002, 0.7672158257867929, 0.8020348099399838, 0.7775385701780548, 0.83392497868567, 0.8200604805687087, 0.765675041140289, 0.8226793017274506, 0.8431685471417718, 0.8456334037781555, 0.8219086957624007, 0.8454790831861341, 0.8165166616389631, 0.8448623705295097, 0.8431681910721087, 0.8394710485453984, 0.765675041140289, 0.8382388338690046, 0.8319210898352365, 0.8416284034206615, 0.8109705205653018, 0.8242200863739546, 0.7923290630610768, 0.8268382666073028, 0.7826225328289107, 0.8057320948945592, 0.8132809853957316, 0.8320752679993927, 0.8268384802491006, 0.847173333857468, 0.8456331901363576]}, {\"categories\": [\"0\", \"1\", \"2\", \"3\", \"4\", \"5\", \"6\", \"7\", \"8\", \"9\", \"10\", \"11\", \"12\", \"13\", \"14\", \"15\", \"16\", \"17\", \"18\", \"19\", \"20\", \"21\", \"22\", \"23\", \"24\", \"25\", \"26\", \"27\", \"28\", \"29\", \"30\", \"31\", \"32\", \"33\", \"34\", \"35\", \"36\", \"37\", \"38\", \"39\", \"40\", \"41\", \"42\", \"43\", \"44\", \"45\", \"46\", \"47\", \"48\", \"49\", \"50\", \"51\", \"52\", \"54\", \"55\"], \"mode\": \"lines\", \"name\": \"recall_score_micro_max\", \"stepped\": true, \"type\": \"scatter\", \"data\": [0.8353110154565568, 0.8353110154565568, 0.8353110154565568, 0.8353110154565568, 0.8353110154565568, 0.8353110154565568, 0.8353110154565568, 0.8353110154565568, 0.8353110154565568, 0.8353110154565568, 0.8353110154565568, 0.8353110154565568, 0.8353110154565568, 0.8353110154565568, 0.8353110154565568, 0.8353110154565568, 0.8353110154565568, 0.8353110154565568, 0.8353110154565568, 0.8353110154565568, 0.8353110154565568, 0.8353110154565568, 0.8353110154565568, 0.8353110154565568, 0.8353110154565568, 0.8353110154565568, 0.8353110154565568, 0.8353110154565568, 0.8353110154565568, 0.8353110154565568, 0.8353110154565568, 0.8353110154565568, 0.8431685471417718, 0.8456334037781555, 0.8456334037781555, 0.8456334037781555, 0.8456334037781555, 0.8456334037781555, 0.8456334037781555, 0.8456334037781555, 0.8456334037781555, 0.8456334037781555, 0.8456334037781555, 0.8456334037781555, 0.8456334037781555, 0.8456334037781555, 0.8456334037781555, 0.8456334037781555, 0.8456334037781555, 0.8456334037781555, 0.8456334037781555, 0.8456334037781555, 0.8456334037781555, 0.847173333857468, 0.847173333857468]}], \"matthews_correlation\": [{\"categories\": [\"0\", \"1\", \"2\", \"3\", \"4\", \"5\", \"6\", \"7\", \"8\", \"9\", \"10\", \"11\", \"12\", \"13\", \"14\", \"15\", \"16\", \"17\", \"18\", \"19\", \"20\", \"21\", \"22\", \"23\", \"24\", \"25\", \"26\", \"27\", \"28\", \"29\", \"30\", \"31\", \"32\", \"33\", \"34\", \"35\", \"36\", \"37\", \"38\", \"39\", \"40\", \"41\", \"42\", \"43\", \"44\", \"45\", \"46\", \"47\", \"48\", \"49\", \"50\", \"51\", \"52\", \"54\", \"55\"], \"mode\": \"markers\", \"name\": \"matthews_correlation\", \"stepped\": false, \"type\": \"scatter\", \"data\": [0.5069864313382312, 0.3799284866009524, 0.22605384931566155, 0.0, 0.3594846928557949, 0.20325282125469457, 0.33042657673874937, 0.10999968753176563, 0.0, 0.0, 0.04112553709693758, 0.2307552653837973, 0.28463464946567285, 0.2580008112515728, 0.0, 0.2284866645890107, 0.275912033955592, 0.3362448585542022, 0.2969165743966398, 0.25171775421570103, 0.29263229537496066, 0.4752347987643435, 0.3840365491748272, 0.3791138560235006, 0.3360844990949008, 0.0682219242346389, 0.3827316140701477, 0.20271976381779602, 0.49446748224414, 0.44284639171038753, 0.0, 0.45457275960119253, 0.5347245289994743, 0.5442887710676865, 0.44974874365620315, 0.5435457725445983, 0.42822113493695396, 0.539649753910891, 0.5379166111008252, 0.5204819943687662, 0.0, 0.5146205818944899, 0.49807449486294414, 0.5253035296469818, 0.4006584555736313, 0.46155177040565426, 0.31522738068439166, 0.47129288847580125, 0.2759780119900927, 0.38711812272930324, 0.4172394566307522, 0.48282191165800176, 0.4720516806519541, 0.5447860412032173, 0.5429042663887809]}, {\"categories\": [\"0\", \"1\", \"2\", \"3\", \"4\", \"5\", \"6\", \"7\", \"8\", \"9\", \"10\", \"11\", \"12\", \"13\", \"14\", \"15\", \"16\", \"17\", \"18\", \"19\", \"20\", \"21\", \"22\", \"23\", \"24\", \"25\", \"26\", \"27\", \"28\", \"29\", \"30\", \"31\", \"32\", \"33\", \"34\", \"35\", \"36\", \"37\", \"38\", \"39\", \"40\", \"41\", \"42\", \"43\", \"44\", \"45\", \"46\", \"47\", \"48\", \"49\", \"50\", \"51\", \"52\", \"54\", \"55\"], \"mode\": \"lines\", \"name\": \"matthews_correlation_max\", \"stepped\": true, \"type\": \"scatter\", \"data\": [0.5069864313382312, 0.5069864313382312, 0.5069864313382312, 0.5069864313382312, 0.5069864313382312, 0.5069864313382312, 0.5069864313382312, 0.5069864313382312, 0.5069864313382312, 0.5069864313382312, 0.5069864313382312, 0.5069864313382312, 0.5069864313382312, 0.5069864313382312, 0.5069864313382312, 0.5069864313382312, 0.5069864313382312, 0.5069864313382312, 0.5069864313382312, 0.5069864313382312, 0.5069864313382312, 0.5069864313382312, 0.5069864313382312, 0.5069864313382312, 0.5069864313382312, 0.5069864313382312, 0.5069864313382312, 0.5069864313382312, 0.5069864313382312, 0.5069864313382312, 0.5069864313382312, 0.5069864313382312, 0.5347245289994743, 0.5442887710676865, 0.5442887710676865, 0.5442887710676865, 0.5442887710676865, 0.5442887710676865, 0.5442887710676865, 0.5442887710676865, 0.5442887710676865, 0.5442887710676865, 0.5442887710676865, 0.5442887710676865, 0.5442887710676865, 0.5442887710676865, 0.5442887710676865, 0.5442887710676865, 0.5442887710676865, 0.5442887710676865, 0.5442887710676865, 0.5442887710676865, 0.5442887710676865, 0.5447860412032173, 0.5447860412032173]}], \"precision_score_weighted\": [{\"categories\": [\"0\", \"1\", \"2\", \"3\", \"4\", \"5\", \"6\", \"7\", \"8\", \"9\", \"10\", \"11\", \"12\", \"13\", \"14\", \"15\", \"16\", \"17\", \"18\", \"19\", \"20\", \"21\", \"22\", \"23\", \"24\", \"25\", \"26\", \"27\", \"28\", \"29\", \"30\", \"31\", \"32\", \"33\", \"34\", \"35\", \"36\", \"37\", \"38\", \"39\", \"40\", \"41\", \"42\", \"43\", \"44\", \"45\", \"46\", \"47\", \"48\", \"49\", \"50\", \"51\", \"52\", \"54\", \"55\"], \"mode\": \"markers\", \"name\": \"precision_score_weighted\", \"stepped\": false, \"type\": \"scatter\", \"data\": [0.8235961260738399, 0.7832888507161044, 0.7325107162903705, 0.5863073382968215, 0.7802705582351002, 0.7371476406539156, 0.7542147935549739, 0.6771779419311744, 0.5863073382968215, 0.5863073382968215, 0.627062658314713, 0.7429071292313328, 0.7451652867885844, 0.748641413378275, 0.5863073382968215, 0.7424280856566612, 0.7606382838387953, 0.7596207542365274, 0.7466262012428212, 0.7485632948217171, 0.7607842436955519, 0.8103611551705349, 0.7765115481455384, 0.7735591283941363, 0.7824706193637109, 0.7349919895646101, 0.7787091409225445, 0.7324451688745239, 0.8137002855608819, 0.7996549913306715, 0.5863073382968215, 0.807424802965599, 0.8329856541311568, 0.8347986271306511, 0.8063730059069395, 0.8332155425560802, 0.7913175600118146, 0.8351334111496858, 0.8308598397819148, 0.8255658530355307, 0.5863073382968215, 0.8250444333431776, 0.8171236722240242, 0.8284468723692026, 0.771280919593296, 0.8059754294832362, 0.7597055390357736, 0.8098881344267784, 0.7442945390486142, 0.7839684475267551, 0.7890306928941185, 0.8113270148316198, 0.8114609331848915, 0.83639093304775, 0.8357379019037348]}, {\"categories\": [\"0\", \"1\", \"2\", \"3\", \"4\", \"5\", \"6\", \"7\", \"8\", \"9\", \"10\", \"11\", \"12\", \"13\", \"14\", \"15\", \"16\", \"17\", \"18\", \"19\", \"20\", \"21\", \"22\", \"23\", \"24\", \"25\", \"26\", \"27\", \"28\", \"29\", \"30\", \"31\", \"32\", \"33\", \"34\", \"35\", \"36\", \"37\", \"38\", \"39\", \"40\", \"41\", \"42\", \"43\", \"44\", \"45\", \"46\", \"47\", \"48\", \"49\", \"50\", \"51\", \"52\", \"54\", \"55\"], \"mode\": \"lines\", \"name\": \"precision_score_weighted_max\", \"stepped\": true, \"type\": \"scatter\", \"data\": [0.8235961260738399, 0.8235961260738399, 0.8235961260738399, 0.8235961260738399, 0.8235961260738399, 0.8235961260738399, 0.8235961260738399, 0.8235961260738399, 0.8235961260738399, 0.8235961260738399, 0.8235961260738399, 0.8235961260738399, 0.8235961260738399, 0.8235961260738399, 0.8235961260738399, 0.8235961260738399, 0.8235961260738399, 0.8235961260738399, 0.8235961260738399, 0.8235961260738399, 0.8235961260738399, 0.8235961260738399, 0.8235961260738399, 0.8235961260738399, 0.8235961260738399, 0.8235961260738399, 0.8235961260738399, 0.8235961260738399, 0.8235961260738399, 0.8235961260738399, 0.8235961260738399, 0.8235961260738399, 0.8329856541311568, 0.8347986271306511, 0.8347986271306511, 0.8347986271306511, 0.8347986271306511, 0.8351334111496858, 0.8351334111496858, 0.8351334111496858, 0.8351334111496858, 0.8351334111496858, 0.8351334111496858, 0.8351334111496858, 0.8351334111496858, 0.8351334111496858, 0.8351334111496858, 0.8351334111496858, 0.8351334111496858, 0.8351334111496858, 0.8351334111496858, 0.8351334111496858, 0.8351334111496858, 0.83639093304775, 0.83639093304775]}], \"precision_score_micro\": [{\"categories\": [\"0\", \"1\", \"2\", \"3\", \"4\", \"5\", \"6\", \"7\", \"8\", \"9\", \"10\", \"11\", \"12\", \"13\", \"14\", \"15\", \"16\", \"17\", \"18\", \"19\", \"20\", \"21\", \"22\", \"23\", \"24\", \"25\", \"26\", \"27\", \"28\", \"29\", \"30\", \"31\", \"32\", \"33\", \"34\", \"35\", \"36\", \"37\", \"38\", \"39\", \"40\", \"41\", \"42\", \"43\", \"44\", \"45\", \"46\", \"47\", \"48\", \"49\", \"50\", \"51\", \"52\", \"54\", \"55\"], \"mode\": \"markers\", \"name\": \"precision_score_micro\", \"stepped\": false, \"type\": \"scatter\", \"data\": [0.8353110154565568, 0.8041915238898532, 0.780464537028254, 0.765675041140289, 0.6407360358735912, 0.7781538585560265, 0.796642989458344, 0.7707598583583365, 0.765675041140289, 0.765675041140289, 0.7669073270306154, 0.46710742393853494, 0.7830847112517159, 0.5105501304781673, 0.765675041140289, 0.4808110497816723, 0.5153298672088041, 0.799723775398093, 0.7906341714643492, 0.5100924385331184, 0.5589275352658516, 0.8249901226275433, 0.8063480954118573, 0.8034209179248033, 0.7980287413735002, 0.7672158257867929, 0.8020348099399838, 0.7775385701780548, 0.83392497868567, 0.8200604805687087, 0.765675041140289, 0.8226793017274506, 0.8431685471417718, 0.8456334037781555, 0.8219086957624007, 0.8454790831861341, 0.8165166616389631, 0.8448623705295097, 0.8431681910721087, 0.8394710485453984, 0.765675041140289, 0.8382388338690046, 0.8319210898352365, 0.8416284034206615, 0.8109705205653018, 0.8242200863739546, 0.7923290630610768, 0.8268382666073028, 0.7826225328289107, 0.8057320948945592, 0.8132809853957316, 0.8320752679993927, 0.8268384802491006, 0.847173333857468, 0.8456331901363576]}, {\"categories\": [\"0\", \"1\", \"2\", \"3\", \"4\", \"5\", \"6\", \"7\", \"8\", \"9\", \"10\", \"11\", \"12\", \"13\", \"14\", \"15\", \"16\", \"17\", \"18\", \"19\", \"20\", \"21\", \"22\", \"23\", \"24\", \"25\", \"26\", \"27\", \"28\", \"29\", \"30\", \"31\", \"32\", \"33\", \"34\", \"35\", \"36\", \"37\", \"38\", \"39\", \"40\", \"41\", \"42\", \"43\", \"44\", \"45\", \"46\", \"47\", \"48\", \"49\", \"50\", \"51\", \"52\", \"54\", \"55\"], \"mode\": \"lines\", \"name\": \"precision_score_micro_max\", \"stepped\": true, \"type\": \"scatter\", \"data\": [0.8353110154565568, 0.8353110154565568, 0.8353110154565568, 0.8353110154565568, 0.8353110154565568, 0.8353110154565568, 0.8353110154565568, 0.8353110154565568, 0.8353110154565568, 0.8353110154565568, 0.8353110154565568, 0.8353110154565568, 0.8353110154565568, 0.8353110154565568, 0.8353110154565568, 0.8353110154565568, 0.8353110154565568, 0.8353110154565568, 0.8353110154565568, 0.8353110154565568, 0.8353110154565568, 0.8353110154565568, 0.8353110154565568, 0.8353110154565568, 0.8353110154565568, 0.8353110154565568, 0.8353110154565568, 0.8353110154565568, 0.8353110154565568, 0.8353110154565568, 0.8353110154565568, 0.8353110154565568, 0.8431685471417718, 0.8456334037781555, 0.8456334037781555, 0.8456334037781555, 0.8456334037781555, 0.8456334037781555, 0.8456334037781555, 0.8456334037781555, 0.8456334037781555, 0.8456334037781555, 0.8456334037781555, 0.8456334037781555, 0.8456334037781555, 0.8456334037781555, 0.8456334037781555, 0.8456334037781555, 0.8456334037781555, 0.8456334037781555, 0.8456334037781555, 0.8456334037781555, 0.8456334037781555, 0.847173333857468, 0.847173333857468]}]}, \"metricName\": null, \"primaryMetricName\": \"AUC_weighted\", \"showLegend\": false}, \"run_metrics\": [{\"name\": \"experiment_status\", \"run_id\": \"AutoML_cfdf3dde-5e87-4512-886c-70b176ccd8df\", \"categories\": [0, 1, 2, 3, 4, 5, 6, 7, 8, 9, 10, 11, 12, 13, 14], \"series\": [{\"data\": [\"DatasetEvaluation\", \"FeaturesGeneration\", \"DatasetFeaturization\", \"DatasetFeaturizationCompleted\", \"DatasetBalancing\", \"DatasetCrossValidationSplit\", \"ModelSelection\", \"BestRunExplainModel\", \"ModelExplanationDataSetSetup\", \"PickSurrogateModel\", \"EngineeredFeatureExplanations\", \"EngineeredFeatureExplanations\", \"RawFeaturesExplanations\", \"RawFeaturesExplanations\", \"BestRunExplainModel\"]}]}, {\"name\": \"experiment_status_description\", \"run_id\": \"AutoML_cfdf3dde-5e87-4512-886c-70b176ccd8df\", \"categories\": [0, 1, 2, 3, 4, 5, 6, 7, 8, 9, 10, 11, 12, 13, 14], \"series\": [{\"data\": [\"Gathering dataset statistics.\", \"Generating features for the dataset.\", \"Beginning to fit featurizers and featurize the dataset.\", \"Completed fit featurizers and featurizing the dataset.\", \"Performing class balancing sweeping\", \"Generating individually featurized CV splits.\", \"Beginning model selection.\", \"Best run model explanations started\", \"Model explanations data setup completed\", \"Choosing LightGBM as the surrogate model for explanations\", \"Computation of engineered features started\", \"Computation of engineered features completed\", \"Computation of raw features started\", \"Computation of raw features completed\", \"Best run model explanations completed\"]}]}, {\"name\": \"matthews_correlation\", \"run_id\": \"AutoML_cfdf3dde-5e87-4512-886c-70b176ccd8df\", \"categories\": [0], \"series\": [{\"data\": [0.5447860412032173]}]}, {\"name\": \"recall_score_macro\", \"run_id\": \"AutoML_cfdf3dde-5e87-4512-886c-70b176ccd8df\", \"categories\": [0], \"series\": [{\"data\": [0.5517990969211694]}]}, {\"name\": \"average_precision_score_weighted\", \"run_id\": \"AutoML_cfdf3dde-5e87-4512-886c-70b176ccd8df\", \"categories\": [0], \"series\": [{\"data\": [0.8856530311233096]}]}, {\"name\": \"balanced_accuracy\", \"run_id\": \"AutoML_cfdf3dde-5e87-4512-886c-70b176ccd8df\", \"categories\": [0], \"series\": [{\"data\": [0.5517990969211694]}]}, {\"name\": \"f1_score_micro\", \"run_id\": \"AutoML_cfdf3dde-5e87-4512-886c-70b176ccd8df\", \"categories\": [0], \"series\": [{\"data\": [0.847173333857468]}]}, {\"name\": \"precision_score_micro\", \"run_id\": \"AutoML_cfdf3dde-5e87-4512-886c-70b176ccd8df\", \"categories\": [0], \"series\": [{\"data\": [0.847173333857468]}]}, {\"name\": \"f1_score_weighted\", \"run_id\": \"AutoML_cfdf3dde-5e87-4512-886c-70b176ccd8df\", \"categories\": [0], \"series\": [{\"data\": [0.8305387395292554]}]}, {\"name\": \"AUC_micro\", \"run_id\": \"AutoML_cfdf3dde-5e87-4512-886c-70b176ccd8df\", \"categories\": [0], \"series\": [{\"data\": [0.9535617777137045]}]}, {\"name\": \"recall_score_micro\", \"run_id\": \"AutoML_cfdf3dde-5e87-4512-886c-70b176ccd8df\", \"categories\": [0], \"series\": [{\"data\": [0.847173333857468]}]}, {\"name\": \"norm_macro_recall\", \"run_id\": \"AutoML_cfdf3dde-5e87-4512-886c-70b176ccd8df\", \"categories\": [0], \"series\": [{\"data\": [0.3276986453817541]}]}, {\"name\": \"f1_score_macro\", \"run_id\": \"AutoML_cfdf3dde-5e87-4512-886c-70b176ccd8df\", \"categories\": [0], \"series\": [{\"data\": [0.591452419220296]}]}, {\"name\": \"precision_score_weighted\", \"run_id\": \"AutoML_cfdf3dde-5e87-4512-886c-70b176ccd8df\", \"categories\": [0], \"series\": [{\"data\": [0.83639093304775]}]}, {\"name\": \"weighted_accuracy\", \"run_id\": \"AutoML_cfdf3dde-5e87-4512-886c-70b176ccd8df\", \"categories\": [0], \"series\": [{\"data\": [0.9271335571132001]}]}, {\"name\": \"average_precision_score_micro\", \"run_id\": \"AutoML_cfdf3dde-5e87-4512-886c-70b176ccd8df\", \"categories\": [0], \"series\": [{\"data\": [0.9106972564532687]}]}, {\"name\": \"AUC_weighted\", \"run_id\": \"AutoML_cfdf3dde-5e87-4512-886c-70b176ccd8df\", \"categories\": [0], \"series\": [{\"data\": [0.8727816474268066]}]}, {\"name\": \"precision_score_macro\", \"run_id\": \"AutoML_cfdf3dde-5e87-4512-886c-70b176ccd8df\", \"categories\": [0], \"series\": [{\"data\": [0.7613337911194766]}]}, {\"name\": \"average_precision_score_macro\", \"run_id\": \"AutoML_cfdf3dde-5e87-4512-886c-70b176ccd8df\", \"categories\": [0], \"series\": [{\"data\": [0.679396787858131]}]}, {\"name\": \"recall_score_weighted\", \"run_id\": \"AutoML_cfdf3dde-5e87-4512-886c-70b176ccd8df\", \"categories\": [0], \"series\": [{\"data\": [0.847173333857468]}]}, {\"name\": \"AUC_macro\", \"run_id\": \"AutoML_cfdf3dde-5e87-4512-886c-70b176ccd8df\", \"categories\": [0], \"series\": [{\"data\": [0.8784086843444859]}]}, {\"name\": \"log_loss\", \"run_id\": \"AutoML_cfdf3dde-5e87-4512-886c-70b176ccd8df\", \"categories\": [0], \"series\": [{\"data\": [0.4098261881128782]}]}, {\"name\": \"accuracy\", \"run_id\": \"AutoML_cfdf3dde-5e87-4512-886c-70b176ccd8df\", \"categories\": [0], \"series\": [{\"data\": [0.847173333857468]}]}], \"run_logs\": \"\\nRun is completed.\", \"graph\": {}, \"widget_settings\": {\"childWidgetDisplay\": \"popup\", \"send_telemetry\": false, \"log_level\": \"INFO\", \"sdk_version\": \"1.19.0\"}, \"loading\": false}"
     },
     "metadata": {},
     "output_type": "display_data"
    }
   ],
   "source": [
    "RunDetails(automl_run).show()"
   ]
  },
  {
   "cell_type": "markdown",
   "metadata": {},
   "source": [
    "## Best Model\n",
    "\n",
    "TODO: In the cell below, get the best model from the automl experiments and display all the properties of the model.\n",
    "\n"
   ]
  },
  {
   "cell_type": "code",
   "execution_count": 13,
   "metadata": {
    "gather": {
     "logged": 1610560390661
    },
    "jupyter": {
     "outputs_hidden": false,
     "source_hidden": false
    },
    "nteract": {
     "transient": {
      "deleting": false
     }
    }
   },
   "outputs": [
    {
     "name": "stdout",
     "output_type": "stream",
     "text": [
      "datatransformer\n",
      "{'enable_dnn': None,\n",
      " 'enable_feature_sweeping': None,\n",
      " 'feature_sweeping_config': None,\n",
      " 'feature_sweeping_timeout': None,\n",
      " 'featurization_config': None,\n",
      " 'force_text_dnn': None,\n",
      " 'is_cross_validation': None,\n",
      " 'is_onnx_compatible': None,\n",
      " 'logger': None,\n",
      " 'observer': None,\n",
      " 'task': None,\n",
      " 'working_dir': None}\n",
      "\n",
      "prefittedsoftvotingclassifier\n",
      "{'estimators': ['35', '32', '33', '37', '39', '48', '47', '20'],\n",
      " 'weights': [0.4,\n",
      "             0.06666666666666667,\n",
      "             0.06666666666666667,\n",
      "             0.06666666666666667,\n",
      "             0.06666666666666667,\n",
      "             0.06666666666666667,\n",
      "             0.2,\n",
      "             0.06666666666666667]}\n",
      "\n",
      "35 - standardscalerwrapper\n",
      "{'class_name': 'StandardScaler',\n",
      " 'copy': True,\n",
      " 'module_name': 'sklearn.preprocessing._data',\n",
      " 'with_mean': False,\n",
      " 'with_std': False}\n",
      "\n",
      "35 - xgboostclassifier\n",
      "{'base_score': 0.5,\n",
      " 'booster': 'gbtree',\n",
      " 'colsample_bylevel': 1,\n",
      " 'colsample_bynode': 1,\n",
      " 'colsample_bytree': 1,\n",
      " 'eta': 0.5,\n",
      " 'gamma': 0.1,\n",
      " 'learning_rate': 0.1,\n",
      " 'max_delta_step': 0,\n",
      " 'max_depth': 10,\n",
      " 'max_leaves': 255,\n",
      " 'min_child_weight': 1,\n",
      " 'missing': nan,\n",
      " 'n_estimators': 600,\n",
      " 'n_jobs': 1,\n",
      " 'nthread': None,\n",
      " 'objective': 'multi:softprob',\n",
      " 'random_state': 0,\n",
      " 'reg_alpha': 0,\n",
      " 'reg_lambda': 1.4583333333333335,\n",
      " 'scale_pos_weight': 1,\n",
      " 'seed': None,\n",
      " 'silent': None,\n",
      " 'subsample': 0.8,\n",
      " 'tree_method': 'auto',\n",
      " 'verbose': -10,\n",
      " 'verbosity': 0}\n",
      "\n",
      "32 - standardscalerwrapper\n",
      "{'class_name': 'StandardScaler',\n",
      " 'copy': True,\n",
      " 'module_name': 'sklearn.preprocessing._data',\n",
      " 'with_mean': False,\n",
      " 'with_std': False}\n",
      "\n",
      "32 - xgboostclassifier\n",
      "{'base_score': 0.5,\n",
      " 'booster': 'gbtree',\n",
      " 'colsample_bylevel': 1,\n",
      " 'colsample_bynode': 1,\n",
      " 'colsample_bytree': 0.7,\n",
      " 'eta': 0.4,\n",
      " 'gamma': 0.1,\n",
      " 'learning_rate': 0.1,\n",
      " 'max_delta_step': 0,\n",
      " 'max_depth': 10,\n",
      " 'max_leaves': 0,\n",
      " 'min_child_weight': 1,\n",
      " 'missing': nan,\n",
      " 'n_estimators': 600,\n",
      " 'n_jobs': 1,\n",
      " 'nthread': None,\n",
      " 'objective': 'multi:softprob',\n",
      " 'random_state': 0,\n",
      " 'reg_alpha': 0,\n",
      " 'reg_lambda': 2.3958333333333335,\n",
      " 'scale_pos_weight': 1,\n",
      " 'seed': None,\n",
      " 'silent': None,\n",
      " 'subsample': 1,\n",
      " 'tree_method': 'auto',\n",
      " 'verbose': -10,\n",
      " 'verbosity': 0}\n",
      "\n",
      "33 - standardscalerwrapper\n",
      "{'class_name': 'StandardScaler',\n",
      " 'copy': True,\n",
      " 'module_name': 'sklearn.preprocessing._data',\n",
      " 'with_mean': False,\n",
      " 'with_std': False}\n",
      "\n",
      "33 - xgboostclassifier\n",
      "{'base_score': 0.5,\n",
      " 'booster': 'gbtree',\n",
      " 'colsample_bylevel': 1,\n",
      " 'colsample_bynode': 1,\n",
      " 'colsample_bytree': 1,\n",
      " 'eta': 0.2,\n",
      " 'gamma': 0.1,\n",
      " 'learning_rate': 0.1,\n",
      " 'max_delta_step': 0,\n",
      " 'max_depth': 8,\n",
      " 'max_leaves': 3,\n",
      " 'min_child_weight': 1,\n",
      " 'missing': nan,\n",
      " 'n_estimators': 400,\n",
      " 'n_jobs': 1,\n",
      " 'nthread': None,\n",
      " 'objective': 'multi:softprob',\n",
      " 'random_state': 0,\n",
      " 'reg_alpha': 0,\n",
      " 'reg_lambda': 2.291666666666667,\n",
      " 'scale_pos_weight': 1,\n",
      " 'seed': None,\n",
      " 'silent': None,\n",
      " 'subsample': 0.7,\n",
      " 'tree_method': 'auto',\n",
      " 'verbose': -10,\n",
      " 'verbosity': 0}\n",
      "\n",
      "37 - standardscalerwrapper\n",
      "{'class_name': 'StandardScaler',\n",
      " 'copy': True,\n",
      " 'module_name': 'sklearn.preprocessing._data',\n",
      " 'with_mean': False,\n",
      " 'with_std': False}\n",
      "\n",
      "37 - xgboostclassifier\n",
      "{'base_score': 0.5,\n",
      " 'booster': 'gbtree',\n",
      " 'colsample_bylevel': 1,\n",
      " 'colsample_bynode': 1,\n",
      " 'colsample_bytree': 1,\n",
      " 'eta': 0.3,\n",
      " 'gamma': 0.01,\n",
      " 'learning_rate': 0.1,\n",
      " 'max_delta_step': 0,\n",
      " 'max_depth': 10,\n",
      " 'max_leaves': 7,\n",
      " 'min_child_weight': 1,\n",
      " 'missing': nan,\n",
      " 'n_estimators': 100,\n",
      " 'n_jobs': 1,\n",
      " 'nthread': None,\n",
      " 'objective': 'multi:softprob',\n",
      " 'random_state': 0,\n",
      " 'reg_alpha': 0.5208333333333334,\n",
      " 'reg_lambda': 1.5625,\n",
      " 'scale_pos_weight': 1,\n",
      " 'seed': None,\n",
      " 'silent': None,\n",
      " 'subsample': 0.7,\n",
      " 'tree_method': 'auto',\n",
      " 'verbose': -10,\n",
      " 'verbosity': 0}\n",
      "\n",
      "39 - standardscalerwrapper\n",
      "{'class_name': 'StandardScaler',\n",
      " 'copy': True,\n",
      " 'module_name': 'sklearn.preprocessing._data',\n",
      " 'with_mean': False,\n",
      " 'with_std': False}\n",
      "\n",
      "39 - xgboostclassifier\n",
      "{'base_score': 0.5,\n",
      " 'booster': 'gbtree',\n",
      " 'colsample_bylevel': 1,\n",
      " 'colsample_bynode': 1,\n",
      " 'colsample_bytree': 0.9,\n",
      " 'eta': 0.01,\n",
      " 'gamma': 0,\n",
      " 'grow_policy': 'lossguide',\n",
      " 'learning_rate': 0.1,\n",
      " 'max_bin': 255,\n",
      " 'max_delta_step': 0,\n",
      " 'max_depth': 8,\n",
      " 'max_leaves': 0,\n",
      " 'min_child_weight': 1,\n",
      " 'missing': nan,\n",
      " 'n_estimators': 200,\n",
      " 'n_jobs': 1,\n",
      " 'nthread': None,\n",
      " 'objective': 'multi:softprob',\n",
      " 'random_state': 0,\n",
      " 'reg_alpha': 2.0833333333333335,\n",
      " 'reg_lambda': 2.0833333333333335,\n",
      " 'scale_pos_weight': 1,\n",
      " 'seed': None,\n",
      " 'silent': None,\n",
      " 'subsample': 0.6,\n",
      " 'tree_method': 'hist',\n",
      " 'verbose': -10,\n",
      " 'verbosity': 0}\n",
      "\n",
      "48 - standardscalerwrapper\n",
      "{'class_name': 'StandardScaler',\n",
      " 'copy': True,\n",
      " 'module_name': 'sklearn.preprocessing._data',\n",
      " 'with_mean': True,\n",
      " 'with_std': True}\n",
      "\n",
      "48 - logisticregression\n",
      "{'C': 2.559547922699533,\n",
      " 'class_weight': None,\n",
      " 'dual': False,\n",
      " 'fit_intercept': True,\n",
      " 'intercept_scaling': 1,\n",
      " 'l1_ratio': None,\n",
      " 'max_iter': 100,\n",
      " 'multi_class': 'ovr',\n",
      " 'n_jobs': 1,\n",
      " 'penalty': 'l1',\n",
      " 'random_state': None,\n",
      " 'solver': 'saga',\n",
      " 'tol': 0.0001,\n",
      " 'verbose': 0,\n",
      " 'warm_start': False}\n",
      "\n",
      "47 - sparsenormalizer\n",
      "{'copy': True, 'norm': 'l1'}\n",
      "\n",
      "47 - xgboostclassifier\n",
      "{'base_score': 0.5,\n",
      " 'booster': 'gbtree',\n",
      " 'colsample_bylevel': 1,\n",
      " 'colsample_bynode': 1,\n",
      " 'colsample_bytree': 1,\n",
      " 'eta': 0.05,\n",
      " 'gamma': 0,\n",
      " 'grow_policy': 'lossguide',\n",
      " 'learning_rate': 0.1,\n",
      " 'max_bin': 255,\n",
      " 'max_delta_step': 0,\n",
      " 'max_depth': 7,\n",
      " 'max_leaves': 63,\n",
      " 'min_child_weight': 1,\n",
      " 'missing': nan,\n",
      " 'n_estimators': 100,\n",
      " 'n_jobs': 1,\n",
      " 'nthread': None,\n",
      " 'objective': 'multi:softprob',\n",
      " 'random_state': 0,\n",
      " 'reg_alpha': 0.5208333333333334,\n",
      " 'reg_lambda': 0.10416666666666667,\n",
      " 'scale_pos_weight': 1,\n",
      " 'seed': None,\n",
      " 'silent': None,\n",
      " 'subsample': 0.5,\n",
      " 'tree_method': 'hist',\n",
      " 'verbose': -10,\n",
      " 'verbosity': 0}\n",
      "\n",
      "20 - maxabsscaler\n",
      "{'copy': True}\n",
      "\n",
      "20 - extratreesclassifier\n",
      "{'bootstrap': True,\n",
      " 'ccp_alpha': 0.0,\n",
      " 'class_weight': 'balanced',\n",
      " 'criterion': 'gini',\n",
      " 'max_depth': None,\n",
      " 'max_features': 'log2',\n",
      " 'max_leaf_nodes': None,\n",
      " 'max_samples': None,\n",
      " 'min_impurity_decrease': 0.0,\n",
      " 'min_impurity_split': None,\n",
      " 'min_samples_leaf': 0.01,\n",
      " 'min_samples_split': 0.01,\n",
      " 'min_weight_fraction_leaf': 0.0,\n",
      " 'n_estimators': 50,\n",
      " 'n_jobs': 1,\n",
      " 'oob_score': True,\n",
      " 'random_state': None,\n",
      " 'verbose': 0,\n",
      " 'warm_start': False}\n",
      "\n"
     ]
    }
   ],
   "source": [
    "automl_run.wait_for_completion()\n",
    "assert (automl_run.get_status() == \"Completed\")\n",
    "best_ml_run, best_model = automl_run.get_output()\n",
    "\n",
    "\n",
    "def print_model(model, prefix=\"\"):\n",
    "    for step in model.steps:\n",
    "        print(prefix + step[0])\n",
    "        if hasattr(step[1], 'estimators') and hasattr(step[1], 'weights'):\n",
    "            pprint({'estimators':\n",
    "                       list(e[0] for e in step[1].estimators),\n",
    "                   'weights': step[1].weights})\n",
    "            print()\n",
    "            for estimator in step[1].estimators:\n",
    "                print_model(estimator[1], estimator[0] + ' - ')\n",
    "        else:\n",
    "            pprint(step[1].get_params())\n",
    "            print()\n",
    "            \n",
    "print_model(best_model)\n"
   ]
  },
  {
   "cell_type": "code",
   "execution_count": 14,
   "metadata": {
    "gather": {
     "logged": 1610560446700
    },
    "jupyter": {
     "outputs_hidden": false,
     "source_hidden": false
    },
    "nteract": {
     "transient": {
      "deleting": false
     }
    }
   },
   "outputs": [],
   "source": [
    "best_ml_run.download_file(\"./outputs/model.pkl\")"
   ]
  },
  {
   "cell_type": "markdown",
   "metadata": {},
   "source": [
    "## Model Deployment\n",
    "\n",
    "Remember you have to deploy only one of the two models you trained.. Perform the steps in the rest of this notebook only if you wish to deploy this model.\n",
    "\n",
    "TODO: In the cell below, register the model, create an inference config and deploy the model as a web service."
   ]
  },
  {
   "cell_type": "code",
   "execution_count": 48,
   "metadata": {
    "gather": {
     "logged": 1598431435189
    },
    "jupyter": {
     "outputs_hidden": false,
     "source_hidden": false
    },
    "nteract": {
     "transient": {
      "deleting": false
     }
    }
   },
   "outputs": [
    {
     "ename": "WebserviceException",
     "evalue": "WebserviceException:\n\tMessage: Conflict of operation, another operation on same entity is already running in workspace quick-starts-ws-134576.\n\tInnerException None\n\tErrorResponse \n{\n    \"error\": {\n        \"message\": \"Conflict of operation, another operation on same entity is already running in workspace quick-starts-ws-134576.\"\n    }\n}",
     "output_type": "error",
     "traceback": [
      "\u001b[0;31m---------------------------------------------------------------------------\u001b[0m",
      "\u001b[0;31mWebserviceException\u001b[0m                       Traceback (most recent call last)",
      "\u001b[0;32m<ipython-input-48-0e2e024279d3>\u001b[0m in \u001b[0;36m<module>\u001b[0;34m\u001b[0m\n\u001b[1;32m     21\u001b[0m                        \u001b[0minference_config\u001b[0m\u001b[0;34m=\u001b[0m\u001b[0minference_config\u001b[0m\u001b[0;34m,\u001b[0m\u001b[0;34m\u001b[0m\u001b[0;34m\u001b[0m\u001b[0m\n\u001b[1;32m     22\u001b[0m                        \u001b[0mdeployment_config\u001b[0m\u001b[0;34m=\u001b[0m\u001b[0maci_config\u001b[0m\u001b[0;34m,\u001b[0m\u001b[0;34m\u001b[0m\u001b[0;34m\u001b[0m\u001b[0m\n\u001b[0;32m---> 23\u001b[0;31m                        overwrite=True)\n\u001b[0m\u001b[1;32m     24\u001b[0m \u001b[0mservice\u001b[0m\u001b[0;34m.\u001b[0m\u001b[0mwait_for_deployment\u001b[0m\u001b[0;34m(\u001b[0m\u001b[0mshow_output\u001b[0m\u001b[0;34m=\u001b[0m\u001b[0;32mTrue\u001b[0m\u001b[0;34m)\u001b[0m\u001b[0;34m\u001b[0m\u001b[0;34m\u001b[0m\u001b[0m\n\u001b[1;32m     25\u001b[0m \u001b[0mprint\u001b[0m\u001b[0;34m(\u001b[0m\u001b[0mservice\u001b[0m\u001b[0;34m.\u001b[0m\u001b[0mget_logs\u001b[0m\u001b[0;34m)\u001b[0m\u001b[0;34m\u001b[0m\u001b[0;34m\u001b[0m\u001b[0m\n",
      "\u001b[0;32m/anaconda/envs/azureml_py36/lib/python3.6/site-packages/azureml/core/model.py\u001b[0m in \u001b[0;36mdeploy\u001b[0;34m(workspace, name, models, inference_config, deployment_config, deployment_target, overwrite)\u001b[0m\n\u001b[1;32m   1609\u001b[0m         \u001b[0;32mif\u001b[0m \u001b[0muse_env_path\u001b[0m\u001b[0;34m:\u001b[0m\u001b[0;34m\u001b[0m\u001b[0;34m\u001b[0m\u001b[0m\n\u001b[1;32m   1610\u001b[0m             return Model._deploy_with_environment(workspace, name, models, inference_config, deployment_config,\n\u001b[0;32m-> 1611\u001b[0;31m                                                   deployment_target, overwrite)\n\u001b[0m\u001b[1;32m   1612\u001b[0m \u001b[0;34m\u001b[0m\u001b[0m\n\u001b[1;32m   1613\u001b[0m         \u001b[0;31m# ContainerImage-based webservice.\u001b[0m\u001b[0;34m\u001b[0m\u001b[0;34m\u001b[0m\u001b[0;34m\u001b[0m\u001b[0m\n",
      "\u001b[0;32m/anaconda/envs/azureml_py36/lib/python3.6/site-packages/azureml/core/model.py\u001b[0m in \u001b[0;36m_deploy_with_environment\u001b[0;34m(workspace, name, models, inference_config, deployment_config, deployment_target, overwrite)\u001b[0m\n\u001b[1;32m   1809\u001b[0m \u001b[0;34m\u001b[0m\u001b[0m\n\u001b[1;32m   1810\u001b[0m         return Model._deploy_with_environment_image_request(workspace, name, environment_image_request,\n\u001b[0;32m-> 1811\u001b[0;31m                                                             deployment_config, deployment_target, overwrite)\n\u001b[0m\u001b[1;32m   1812\u001b[0m \u001b[0;34m\u001b[0m\u001b[0m\n\u001b[1;32m   1813\u001b[0m     \u001b[0;34m@\u001b[0m\u001b[0mstaticmethod\u001b[0m\u001b[0;34m\u001b[0m\u001b[0;34m\u001b[0m\u001b[0m\n",
      "\u001b[0;32m/anaconda/envs/azureml_py36/lib/python3.6/site-packages/azureml/core/model.py\u001b[0m in \u001b[0;36m_deploy_with_environment_image_request\u001b[0;34m(workspace, name, environment_image_request, deployment_config, deployment_target, overwrite)\u001b[0m\n\u001b[1;32m   1853\u001b[0m             \u001b[0mwebservice_payload\u001b[0m\u001b[0;34m[\u001b[0m\u001b[0;34m'computeName'\u001b[0m\u001b[0;34m]\u001b[0m \u001b[0;34m=\u001b[0m \u001b[0mdeployment_target\u001b[0m\u001b[0;34m.\u001b[0m\u001b[0mname\u001b[0m\u001b[0;34m\u001b[0m\u001b[0;34m\u001b[0m\u001b[0m\n\u001b[1;32m   1854\u001b[0m \u001b[0;34m\u001b[0m\u001b[0m\n\u001b[0;32m-> 1855\u001b[0;31m         \u001b[0;32mreturn\u001b[0m \u001b[0mWebservice\u001b[0m\u001b[0;34m.\u001b[0m\u001b[0m_deploy_webservice\u001b[0m\u001b[0;34m(\u001b[0m\u001b[0mworkspace\u001b[0m\u001b[0;34m,\u001b[0m \u001b[0mname\u001b[0m\u001b[0;34m,\u001b[0m \u001b[0mwebservice_payload\u001b[0m\u001b[0;34m,\u001b[0m \u001b[0moverwrite\u001b[0m\u001b[0;34m,\u001b[0m \u001b[0mwebservice_class\u001b[0m\u001b[0;34m)\u001b[0m\u001b[0;34m\u001b[0m\u001b[0;34m\u001b[0m\u001b[0m\n\u001b[0m\u001b[1;32m   1856\u001b[0m \u001b[0;34m\u001b[0m\u001b[0m\n\u001b[1;32m   1857\u001b[0m     \u001b[0;32mdef\u001b[0m \u001b[0mget_sas_urls\u001b[0m\u001b[0;34m(\u001b[0m\u001b[0mself\u001b[0m\u001b[0;34m)\u001b[0m\u001b[0;34m:\u001b[0m\u001b[0;34m\u001b[0m\u001b[0;34m\u001b[0m\u001b[0m\n",
      "\u001b[0;32m/anaconda/envs/azureml_py36/lib/python3.6/site-packages/azureml/core/webservice/webservice.py\u001b[0m in \u001b[0;36m_deploy_webservice\u001b[0;34m(workspace, name, webservice_payload, overwrite, webservice_class)\u001b[0m\n\u001b[1;32m    824\u001b[0m         \u001b[0mWebservice\u001b[0m\u001b[0;34m.\u001b[0m\u001b[0mcheck_for_existing_webservice\u001b[0m\u001b[0;34m(\u001b[0m\u001b[0mworkspace\u001b[0m\u001b[0;34m,\u001b[0m \u001b[0mname\u001b[0m\u001b[0;34m,\u001b[0m \u001b[0moverwrite\u001b[0m\u001b[0;34m)\u001b[0m\u001b[0;34m\u001b[0m\u001b[0;34m\u001b[0m\u001b[0m\n\u001b[1;32m    825\u001b[0m         Webservice._check_for_webservice(workspace, name, Webservice._get_deploy_compute_type(webservice_payload),\n\u001b[0;32m--> 826\u001b[0;31m                                          webservice_payload, SERVICE_REQUEST_OPERATION_CREATE)\n\u001b[0m\u001b[1;32m    827\u001b[0m         \u001b[0mWebservice\u001b[0m\u001b[0;34m.\u001b[0m\u001b[0m_check_for_compute_resource\u001b[0m\u001b[0;34m(\u001b[0m\u001b[0mworkspace\u001b[0m\u001b[0;34m,\u001b[0m \u001b[0mwebservice_payload\u001b[0m\u001b[0;34m)\u001b[0m\u001b[0;34m\u001b[0m\u001b[0;34m\u001b[0m\u001b[0m\n\u001b[1;32m    828\u001b[0m \u001b[0;34m\u001b[0m\u001b[0m\n",
      "\u001b[0;32m/anaconda/envs/azureml_py36/lib/python3.6/site-packages/azureml/core/webservice/webservice.py\u001b[0m in \u001b[0;36m_check_for_webservice\u001b[0;34m(workspace, name, compute_type, payload, action, request_func, check_func)\u001b[0m\n\u001b[1;32m    742\u001b[0m                 \u001b[0;32mreturn\u001b[0m \u001b[0mWebservice\u001b[0m\u001b[0;34m.\u001b[0m\u001b[0m_check_validate_error\u001b[0m\u001b[0;34m(\u001b[0m\u001b[0mcontent\u001b[0m\u001b[0;34m)\u001b[0m\u001b[0;34m\u001b[0m\u001b[0;34m\u001b[0m\u001b[0m\n\u001b[1;32m    743\u001b[0m \u001b[0;34m\u001b[0m\u001b[0m\n\u001b[0;32m--> 744\u001b[0;31m         \u001b[0mWebservice\u001b[0m\u001b[0;34m.\u001b[0m\u001b[0m_run_validate_framework\u001b[0m\u001b[0;34m(\u001b[0m\u001b[0mrequest_func\u001b[0m\u001b[0;34m,\u001b[0m \u001b[0mcheck_func\u001b[0m\u001b[0;34m)\u001b[0m\u001b[0;34m\u001b[0m\u001b[0;34m\u001b[0m\u001b[0m\n\u001b[0m\u001b[1;32m    745\u001b[0m \u001b[0;34m\u001b[0m\u001b[0m\n\u001b[1;32m    746\u001b[0m     \u001b[0;34m@\u001b[0m\u001b[0mstaticmethod\u001b[0m\u001b[0;34m\u001b[0m\u001b[0;34m\u001b[0m\u001b[0m\n",
      "\u001b[0;32m/anaconda/envs/azureml_py36/lib/python3.6/site-packages/azureml/core/webservice/webservice.py\u001b[0m in \u001b[0;36m_run_validate_framework\u001b[0;34m(request_func, check_func)\u001b[0m\n\u001b[1;32m    636\u001b[0m             \u001b[0;32mreturn\u001b[0m\u001b[0;34m\u001b[0m\u001b[0;34m\u001b[0m\u001b[0m\n\u001b[1;32m    637\u001b[0m \u001b[0;34m\u001b[0m\u001b[0m\n\u001b[0;32m--> 638\u001b[0;31m         \u001b[0;32mraise\u001b[0m \u001b[0mWebserviceException\u001b[0m\u001b[0;34m(\u001b[0m\u001b[0merror\u001b[0m\u001b[0;34m)\u001b[0m\u001b[0;34m\u001b[0m\u001b[0;34m\u001b[0m\u001b[0m\n\u001b[0m\u001b[1;32m    639\u001b[0m \u001b[0;34m\u001b[0m\u001b[0m\n\u001b[1;32m    640\u001b[0m     \u001b[0;34m@\u001b[0m\u001b[0mstaticmethod\u001b[0m\u001b[0;34m\u001b[0m\u001b[0;34m\u001b[0m\u001b[0m\n",
      "\u001b[0;31mWebserviceException\u001b[0m: WebserviceException:\n\tMessage: Conflict of operation, another operation on same entity is already running in workspace quick-starts-ws-134576.\n\tInnerException None\n\tErrorResponse \n{\n    \"error\": {\n        \"message\": \"Conflict of operation, another operation on same entity is already running in workspace quick-starts-ws-134576.\"\n    }\n}"
     ]
    }
   ],
   "source": [
    "from azureml.core.conda_dependencies import CondaDependencies\n",
    "registered_model = best_ml_run.register_model(model_name=\"wine-quality-model\", model_path=\"./outputs/model.pkl\")\n",
    "\n",
    "myenv = CondaDependencies()\n",
    "for conda_pkg in [\"scikit-learn==0.24.0\", \"py-xgboost==0.90\",\"numpy==1.19.5\"]:\n",
    "    myenv.add_conda_package(conda_pkg)\n",
    "\n",
    "for pip_pkg in [\"azureml-defaults==1.20.0\",\"azureml-automl-core==1.20.0\",\"azureml-automl-runtime==1.20.0\",\"packaging==20.8\"]:\n",
    "    myenv.add_pip_package(pip_pkg)\n",
    "\n",
    "\n",
    "with open(\"env.yml\",\"w\") as f:\n",
    "    f.write(myenv.serialize_to_string())\n",
    "\n",
    "service_name = 'wine-quality-classification'\n",
    "inference_config = InferenceConfig(entry_script='score.py', conda_file=\"env.yml\")\n",
    "aci_config = AciWebservice.deploy_configuration(cpu_cores=1, memory_gb=4, auth_enabled=True, enable_app_insights=True)\n",
    "\n",
    "service = Model.deploy(workspace=ws,\n",
    "                       name=service_name,\n",
    "                       models=[registered_model],\n",
    "                       inference_config=inference_config,\n",
    "                       deployment_config=aci_config,\n",
    "                       overwrite=True)\n",
    "service.wait_for_deployment(show_output=True)\n",
    "print(service.get_logs)\n",
    "print(service.scoring_uri)\n",
    "primary_key, _ = service.get_keys()"
   ]
  },
  {
   "cell_type": "markdown",
   "metadata": {
    "collapsed": true,
    "gather": {
     "logged": 1598431657736
    },
    "jupyter": {
     "outputs_hidden": false,
     "source_hidden": false
    },
    "nteract": {
     "transient": {
      "deleting": false
     }
    }
   },
   "source": [
    "TODO: In the cell below, send a request to the web service you deployed to test it."
   ]
  },
  {
   "cell_type": "code",
   "execution_count": null,
   "metadata": {
    "gather": {
     "logged": 1598432707604
    },
    "jupyter": {
     "outputs_hidden": false,
     "source_hidden": false
    },
    "nteract": {
     "transient": {
      "deleting": false
     }
    }
   },
   "outputs": [],
   "source": [
    "data = {\"data\":\n",
    "         [{\n",
    "             \"is_red_wine\": 1,\n",
    "             \"fixed_acidity\":7.90000,\n",
    "             \"volatile acidity\":0.52000,\n",
    "             \"citric acid\":0.26000, \n",
    "             \"residual sugar\":2.2000,\n",
    "             \"chlorides\":0.07900\n",
    "             \"free sulfur dioxide\":14.0000,\n",
    "             \"total sulfur dioxide\":38.0000,\n",
    "             \"density\":0.99675,\n",
    "             \"pH\":3.31000,\n",
    "             \"sulphates\":0.62000,\n",
    "             \"alcohol\":10.20000\n",
    "         },\n",
    "         {\n",
    "             \"is_red_wine\": 0,\n",
    "             \"fixed_acidity\":6.80,\n",
    "             \"volatile acidity\":0.26000,\n",
    "             \"citric acid\":0.32000, \n",
    "             \"residual sugar\":5.2000,\n",
    "             \"chlorides\":0.04300\n",
    "             \"free sulfur dioxide\":34.0000,\n",
    "             \"total sulfur dioxide\":134.00000,\n",
    "             \"density\":0.99374,\n",
    "             \"pH\":3.18000,\n",
    "             \"sulphates\":0.47000,\n",
    "             \"alcohol\":10.40000\n",
    "         }]\n",
    "     }\n",
    "header = {'Content-Type': 'application/json'}\n",
    "header[\"Authorization\"] = f\"Bearer {primary}\"\n",
    "json_data = json.dumps(data)\n",
    "\n",
    "resp = requests.post(service.scoring_uri, json_data, headers=header)\n",
    "print(resp)"
   ]
  },
  {
   "cell_type": "markdown",
   "metadata": {
    "collapsed": true,
    "gather": {
     "logged": 1598432765711
    },
    "jupyter": {
     "outputs_hidden": false,
     "source_hidden": false
    },
    "nteract": {
     "transient": {
      "deleting": false
     }
    }
   },
   "source": [
    "TODO: In the cell below, print the logs of the web service and delete the service"
   ]
  },
  {
   "cell_type": "code",
   "execution_count": 47,
   "metadata": {
    "gather": {
     "logged": 1610567119491
    },
    "jupyter": {
     "outputs_hidden": false,
     "source_hidden": false
    },
    "nteract": {
     "transient": {
      "deleting": false
     }
    }
   },
   "outputs": [
    {
     "name": "stderr",
     "output_type": "stream",
     "text": [
      "ERROR:azureml.core.webservice.webservice:Received bad response from Model Management Service:\n",
      "Response Code: 404\n",
      "Headers: {'Date': 'Wed, 13 Jan 2021 20:20:06 GMT', 'Content-Type': 'application/json', 'Transfer-Encoding': 'chunked', 'Connection': 'keep-alive', 'Vary': 'Accept-Encoding', 'x-ms-client-request-id': 'ebb4bf7adffd4cca8278dd8b53a6f53c', 'x-ms-client-session-id': 'aea6cdf1-e655-44f6-9fe6-026d6f82eca7', 'api-supported-versions': '1.0, 2018-03-01-preview, 2018-11-19', 'X-Content-Type-Options': 'nosniff', 'x-request-time': '0.119', 'Strict-Transport-Security': 'max-age=15724800; includeSubDomains; preload', 'Content-Encoding': 'gzip'}\n",
      "Content: b'{\"code\":\"NotFound\",\"statusCode\":404,\"message\":\"The specified resource was not found.\",\"details\":[{\"code\":\"ResourceNotFound\",\"message\":\"The Resource \\'Microsoft.ContainerInstance/containerGroups/wine-quality-classification-3xj5XPh1wE_xHT7gxkN_dw\\' under resource group \\'aml-quickstarts-134576\\' was not found. For more details please go to https://aka.ms/ARMResourceNotFoundFix\"}],\"correlation\":{\"RequestId\":\"ebb4bf7adffd4cca8278dd8b53a6f53c\"}}'\n",
      "\n"
     ]
    },
    {
     "ename": "WebserviceException",
     "evalue": "WebserviceException:\n\tMessage: Received bad response from Model Management Service:\nResponse Code: 404\nHeaders: {'Date': 'Wed, 13 Jan 2021 20:20:06 GMT', 'Content-Type': 'application/json', 'Transfer-Encoding': 'chunked', 'Connection': 'keep-alive', 'Vary': 'Accept-Encoding', 'x-ms-client-request-id': 'ebb4bf7adffd4cca8278dd8b53a6f53c', 'x-ms-client-session-id': 'aea6cdf1-e655-44f6-9fe6-026d6f82eca7', 'api-supported-versions': '1.0, 2018-03-01-preview, 2018-11-19', 'X-Content-Type-Options': 'nosniff', 'x-request-time': '0.119', 'Strict-Transport-Security': 'max-age=15724800; includeSubDomains; preload', 'Content-Encoding': 'gzip'}\nContent: b'{\"code\":\"NotFound\",\"statusCode\":404,\"message\":\"The specified resource was not found.\",\"details\":[{\"code\":\"ResourceNotFound\",\"message\":\"The Resource \\'Microsoft.ContainerInstance/containerGroups/wine-quality-classification-3xj5XPh1wE_xHT7gxkN_dw\\' under resource group \\'aml-quickstarts-134576\\' was not found. For more details please go to https://aka.ms/ARMResourceNotFoundFix\"}],\"correlation\":{\"RequestId\":\"ebb4bf7adffd4cca8278dd8b53a6f53c\"}}'\n\tInnerException None\n\tErrorResponse \n{\n    \"error\": {\n        \"message\": \"Received bad response from Model Management Service:\\nResponse Code: 404\\nHeaders: {'Date': 'Wed, 13 Jan 2021 20:20:06 GMT', 'Content-Type': 'application/json', 'Transfer-Encoding': 'chunked', 'Connection': 'keep-alive', 'Vary': 'Accept-Encoding', 'x-ms-client-request-id': 'ebb4bf7adffd4cca8278dd8b53a6f53c', 'x-ms-client-session-id': 'aea6cdf1-e655-44f6-9fe6-026d6f82eca7', 'api-supported-versions': '1.0, 2018-03-01-preview, 2018-11-19', 'X-Content-Type-Options': 'nosniff', 'x-request-time': '0.119', 'Strict-Transport-Security': 'max-age=15724800; includeSubDomains; preload', 'Content-Encoding': 'gzip'}\\nContent: b'{\\\"code\\\":\\\"NotFound\\\",\\\"statusCode\\\":404,\\\"message\\\":\\\"The specified resource was not found.\\\",\\\"details\\\":[{\\\"code\\\":\\\"ResourceNotFound\\\",\\\"message\\\":\\\"The Resource \\\\'Microsoft.ContainerInstance/containerGroups/wine-quality-classification-3xj5XPh1wE_xHT7gxkN_dw\\\\' under resource group \\\\'aml-quickstarts-134576\\\\' was not found. For more details please go to https://aka.ms/ARMResourceNotFoundFix\\\"}],\\\"correlation\\\":{\\\"RequestId\\\":\\\"ebb4bf7adffd4cca8278dd8b53a6f53c\\\"}}'\"\n    }\n}",
     "output_type": "error",
     "traceback": [
      "\u001b[0;31m---------------------------------------------------------------------------\u001b[0m",
      "\u001b[0;31mWebserviceException\u001b[0m                       Traceback (most recent call last)",
      "\u001b[0;32m<ipython-input-47-06869bb41422>\u001b[0m in \u001b[0;36m<module>\u001b[0;34m\u001b[0m\n\u001b[0;32m----> 1\u001b[0;31m \u001b[0mprint\u001b[0m\u001b[0;34m(\u001b[0m\u001b[0mservice\u001b[0m\u001b[0;34m.\u001b[0m\u001b[0mget_logs\u001b[0m\u001b[0;34m(\u001b[0m\u001b[0;34m)\u001b[0m\u001b[0;34m)\u001b[0m\u001b[0;34m\u001b[0m\u001b[0;34m\u001b[0m\u001b[0m\n\u001b[0m\u001b[1;32m      2\u001b[0m \u001b[0;31m#service.delete()\u001b[0m\u001b[0;34m\u001b[0m\u001b[0;34m\u001b[0m\u001b[0;34m\u001b[0m\u001b[0m\n",
      "\u001b[0;32m/anaconda/envs/azureml_py36/lib/python3.6/site-packages/azureml/core/webservice/webservice.py\u001b[0m in \u001b[0;36mget_logs\u001b[0;34m(self, num_lines, init)\u001b[0m\n\u001b[1;32m   1194\u001b[0m                                       \u001b[0;34m'Headers: {}\\n'\u001b[0m\u001b[0;34m\u001b[0m\u001b[0;34m\u001b[0m\u001b[0m\n\u001b[1;32m   1195\u001b[0m                                       \u001b[0;34m'Content: {}'\u001b[0m\u001b[0;34m.\u001b[0m\u001b[0mformat\u001b[0m\u001b[0;34m(\u001b[0m\u001b[0mresp\u001b[0m\u001b[0;34m.\u001b[0m\u001b[0mstatus_code\u001b[0m\u001b[0;34m,\u001b[0m \u001b[0mresp\u001b[0m\u001b[0;34m.\u001b[0m\u001b[0mheaders\u001b[0m\u001b[0;34m,\u001b[0m \u001b[0mresp\u001b[0m\u001b[0;34m.\u001b[0m\u001b[0mcontent\u001b[0m\u001b[0;34m)\u001b[0m\u001b[0;34m,\u001b[0m\u001b[0;34m\u001b[0m\u001b[0;34m\u001b[0m\u001b[0m\n\u001b[0;32m-> 1196\u001b[0;31m                                       logger=module_logger)\n\u001b[0m\u001b[1;32m   1197\u001b[0m         \u001b[0;32melse\u001b[0m\u001b[0;34m:\u001b[0m\u001b[0;34m\u001b[0m\u001b[0;34m\u001b[0m\u001b[0m\n\u001b[1;32m   1198\u001b[0m             \u001b[0mcontent\u001b[0m \u001b[0;34m=\u001b[0m \u001b[0mresp\u001b[0m\u001b[0;34m.\u001b[0m\u001b[0mcontent\u001b[0m\u001b[0;34m\u001b[0m\u001b[0;34m\u001b[0m\u001b[0m\n",
      "\u001b[0;31mWebserviceException\u001b[0m: WebserviceException:\n\tMessage: Received bad response from Model Management Service:\nResponse Code: 404\nHeaders: {'Date': 'Wed, 13 Jan 2021 20:20:06 GMT', 'Content-Type': 'application/json', 'Transfer-Encoding': 'chunked', 'Connection': 'keep-alive', 'Vary': 'Accept-Encoding', 'x-ms-client-request-id': 'ebb4bf7adffd4cca8278dd8b53a6f53c', 'x-ms-client-session-id': 'aea6cdf1-e655-44f6-9fe6-026d6f82eca7', 'api-supported-versions': '1.0, 2018-03-01-preview, 2018-11-19', 'X-Content-Type-Options': 'nosniff', 'x-request-time': '0.119', 'Strict-Transport-Security': 'max-age=15724800; includeSubDomains; preload', 'Content-Encoding': 'gzip'}\nContent: b'{\"code\":\"NotFound\",\"statusCode\":404,\"message\":\"The specified resource was not found.\",\"details\":[{\"code\":\"ResourceNotFound\",\"message\":\"The Resource \\'Microsoft.ContainerInstance/containerGroups/wine-quality-classification-3xj5XPh1wE_xHT7gxkN_dw\\' under resource group \\'aml-quickstarts-134576\\' was not found. For more details please go to https://aka.ms/ARMResourceNotFoundFix\"}],\"correlation\":{\"RequestId\":\"ebb4bf7adffd4cca8278dd8b53a6f53c\"}}'\n\tInnerException None\n\tErrorResponse \n{\n    \"error\": {\n        \"message\": \"Received bad response from Model Management Service:\\nResponse Code: 404\\nHeaders: {'Date': 'Wed, 13 Jan 2021 20:20:06 GMT', 'Content-Type': 'application/json', 'Transfer-Encoding': 'chunked', 'Connection': 'keep-alive', 'Vary': 'Accept-Encoding', 'x-ms-client-request-id': 'ebb4bf7adffd4cca8278dd8b53a6f53c', 'x-ms-client-session-id': 'aea6cdf1-e655-44f6-9fe6-026d6f82eca7', 'api-supported-versions': '1.0, 2018-03-01-preview, 2018-11-19', 'X-Content-Type-Options': 'nosniff', 'x-request-time': '0.119', 'Strict-Transport-Security': 'max-age=15724800; includeSubDomains; preload', 'Content-Encoding': 'gzip'}\\nContent: b'{\\\"code\\\":\\\"NotFound\\\",\\\"statusCode\\\":404,\\\"message\\\":\\\"The specified resource was not found.\\\",\\\"details\\\":[{\\\"code\\\":\\\"ResourceNotFound\\\",\\\"message\\\":\\\"The Resource \\\\'Microsoft.ContainerInstance/containerGroups/wine-quality-classification-3xj5XPh1wE_xHT7gxkN_dw\\\\' under resource group \\\\'aml-quickstarts-134576\\\\' was not found. For more details please go to https://aka.ms/ARMResourceNotFoundFix\\\"}],\\\"correlation\\\":{\\\"RequestId\\\":\\\"ebb4bf7adffd4cca8278dd8b53a6f53c\\\"}}'\"\n    }\n}"
     ]
    }
   ],
   "source": [
    "print(service.get_logs())\n",
    "#service.delete()"
   ]
  }
 ],
 "metadata": {
  "kernel_info": {
   "name": "python3"
  },
  "kernelspec": {
   "display_name": "Python 3",
   "language": "python",
   "name": "python3"
  },
  "language_info": {
   "codemirror_mode": {
    "name": "ipython",
    "version": 3
   },
   "file_extension": ".py",
   "mimetype": "text/x-python",
   "name": "python",
   "nbconvert_exporter": "python",
   "pygments_lexer": "ipython3",
   "version": "3.8.3"
  },
  "nteract": {
   "version": "nteract-front-end@1.0.0"
  },
  "varInspector": {
   "cols": {
    "lenName": 16,
    "lenType": 16,
    "lenVar": 40
   },
   "kernels_config": {
    "python": {
     "delete_cmd_postfix": "",
     "delete_cmd_prefix": "del ",
     "library": "var_list.py",
     "varRefreshCmd": "print(var_dic_list())"
    },
    "r": {
     "delete_cmd_postfix": ") ",
     "delete_cmd_prefix": "rm(",
     "library": "var_list.r",
     "varRefreshCmd": "cat(var_dic_list()) "
    }
   },
   "types_to_exclude": [
    "module",
    "function",
    "builtin_function_or_method",
    "instance",
    "_Feature"
   ],
   "window_display": false
  }
 },
 "nbformat": 4,
 "nbformat_minor": 2
}
